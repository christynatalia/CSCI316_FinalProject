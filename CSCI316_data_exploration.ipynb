{
  "cells": [
    {
      "cell_type": "code",
      "execution_count": null,
      "metadata": {
        "colab": {
          "base_uri": "https://localhost:8080/"
        },
        "id": "ihIqf1M4QXBu",
        "outputId": "081a20cc-c5bc-4a05-fe53-16450e253b2d"
      },
      "outputs": [
        {
          "name": "stdout",
          "output_type": "stream",
          "text": [
            "Mounted at /content/drive\n"
          ]
        }
      ],
      "source": [
        "from google.colab import drive\n",
        "drive.mount('/content/drive')"
      ]
    },
    {
      "cell_type": "code",
      "execution_count": null,
      "metadata": {
        "id": "zXh7mpBJT1TC"
      },
      "outputs": [],
      "source": [
        "!apt-get install openjdk-8-jdk-headless -qq > /dev/null"
      ]
    },
    {
      "cell_type": "code",
      "execution_count": null,
      "metadata": {
        "colab": {
          "base_uri": "https://localhost:8080/"
        },
        "id": "B4dNZVwoWSuI",
        "outputId": "c7869ed6-b81f-406a-9fda-cfceabb583f5"
      },
      "outputs": [
        {
          "name": "stdout",
          "output_type": "stream",
          "text": [
            "--2022-10-11 08:10:10--  https://dlcdn.apache.org/spark/spark-3.3.0/spark-3.3.0-bin-hadoop2.tgz\n",
            "Resolving dlcdn.apache.org (dlcdn.apache.org)... 151.101.2.132, 2a04:4e42::644\n",
            "Connecting to dlcdn.apache.org (dlcdn.apache.org)|151.101.2.132|:443... connected.\n",
            "HTTP request sent, awaiting response... 200 OK\n",
            "Length: 274079476 (261M) [application/x-gzip]\n",
            "Saving to: ‘spark-3.3.0-bin-hadoop2.tgz’\n",
            "\n",
            "spark-3.3.0-bin-had 100%[===================>] 261.38M   269MB/s    in 1.0s    \n",
            "\n",
            "2022-10-11 08:10:12 (269 MB/s) - ‘spark-3.3.0-bin-hadoop2.tgz’ saved [274079476/274079476]\n",
            "\n"
          ]
        }
      ],
      "source": [
        "!wget https://dlcdn.apache.org/spark/spark-3.3.0/spark-3.3.0-bin-hadoop2.tgz"
      ]
    },
    {
      "cell_type": "code",
      "execution_count": null,
      "metadata": {
        "id": "ba-PXBD1WoPj"
      },
      "outputs": [],
      "source": [
        "!tar xf spark-3.3.0-bin-hadoop2.tgz"
      ]
    },
    {
      "cell_type": "code",
      "execution_count": null,
      "metadata": {
        "colab": {
          "base_uri": "https://localhost:8080/"
        },
        "id": "3EFt_yM7W0Ld",
        "outputId": "1d191020-3e5e-418a-9f1a-9404b35e4bbd"
      },
      "outputs": [
        {
          "name": "stdout",
          "output_type": "stream",
          "text": [
            "Looking in indexes: https://pypi.org/simple, https://us-python.pkg.dev/colab-wheels/public/simple/\n",
            "Collecting findspark\n",
            "  Downloading findspark-2.0.1-py2.py3-none-any.whl (4.4 kB)\n",
            "Installing collected packages: findspark\n",
            "Successfully installed findspark-2.0.1\n"
          ]
        }
      ],
      "source": [
        "!pip install findspark"
      ]
    },
    {
      "cell_type": "code",
      "execution_count": null,
      "metadata": {
        "id": "CWDzp2EFXDG9"
      },
      "outputs": [],
      "source": [
        "import os\n",
        "os.environ[\"JAVA_HOME\"] = \"/usr/lib/jvm/java-8-openjdk-amd64\"\n",
        "os.environ[\"SPARK_HOME\"] = \"spark-3.3.0-bin-hadoop2\""
      ]
    },
    {
      "cell_type": "code",
      "execution_count": null,
      "metadata": {
        "id": "LRL8RGzWYBJW"
      },
      "outputs": [],
      "source": [
        "import findspark\n",
        "findspark.init()"
      ]
    },
    {
      "cell_type": "code",
      "execution_count": null,
      "metadata": {
        "id": "YHSg43oMCYyJ"
      },
      "outputs": [],
      "source": [
        "from pyspark.sql.types import IntegerType"
      ]
    },
    {
      "cell_type": "code",
      "execution_count": null,
      "metadata": {
        "colab": {
          "base_uri": "https://localhost:8080/",
          "height": 37
        },
        "id": "sD-25iESY0Jw",
        "outputId": "91515bd4-e405-4a43-9159-e1c1034b016e"
      },
      "outputs": [
        {
          "data": {
            "application/vnd.google.colaboratory.intrinsic+json": {
              "type": "string"
            },
            "text/plain": [
              "'spark-3.3.0-bin-hadoop2'"
            ]
          },
          "execution_count": 9,
          "metadata": {},
          "output_type": "execute_result"
        }
      ],
      "source": [
        "findspark.find()"
      ]
    },
    {
      "cell_type": "code",
      "execution_count": null,
      "metadata": {
        "id": "TgNG5vsYYFIG"
      },
      "outputs": [],
      "source": [
        "from pyspark.sql import SparkSession\n",
        "spark = SparkSession.builder.master(\"local\").appName(\"Colab\").config(\"spark.ui.port\",'4050').getOrCreate()"
      ]
    },
    {
      "cell_type": "code",
      "execution_count": null,
      "metadata": {
        "id": "7JRi1ntjZXaf"
      },
      "outputs": [],
      "source": [
        "data = spark.read.csv(\"/content/drive/MyDrive/CSCI316/data.csv\", inferSchema=True, header=True)"
      ]
    },
    {
      "cell_type": "code",
      "execution_count": null,
      "metadata": {
        "colab": {
          "base_uri": "https://localhost:8080/"
        },
        "id": "3_68N1d3-WmJ",
        "outputId": "2db5da12-6c82-4626-fbd9-3bcf20d06637"
      },
      "outputs": [
        {
          "name": "stdout",
          "output_type": "stream",
          "text": [
            "+-------+---------+---------+-----------+---------------+----------+--------+-----------+-----+---------+--------------------+----------+--------------+----------+-------------------+----------+----------+--------------------+------------------+--------------------+--------+----------+-----+-----------+----------------+--------------+----------------------+----------------------+--------+-------+---------+----------+---------+-------------------+---------+-------------+-----------+---------------+---------------+-------------+------------------+----------+-----------------------+------------+---------------+------------+------------------+--------------------------+---------------------------+-----------+----------------+----------------+---------+-------------------------+--------------+------------+-----------+-----------+----------+-----------+-----------+------------------+------------+-------+-----------+-----------+----------+--------+----------------+------+-----------+------------+-----------+\n",
            "|     id|member_id|loan_amnt|funded_amnt|funded_amnt_inv|      term|int_rate|installment|grade|sub_grade|           emp_title|emp_length|home_ownership|annual_inc|verification_status|   issue_d|pymnt_plan|                desc|           purpose|               title|zip_code|addr_state|  dti|delinq_2yrs|earliest_cr_line|inq_last_6mths|mths_since_last_delinq|mths_since_last_record|open_acc|pub_rec|revol_bal|revol_util|total_acc|initial_list_status|out_prncp|out_prncp_inv|total_pymnt|total_pymnt_inv|total_rec_prncp|total_rec_int|total_rec_late_fee|recoveries|collection_recovery_fee|last_pymnt_d|last_pymnt_amnt|next_pymnt_d|last_credit_pull_d|collections_12_mths_ex_med|mths_since_last_major_derog|policy_code|application_type|annual_inc_joint|dti_joint|verification_status_joint|acc_now_delinq|tot_coll_amt|tot_cur_bal|open_acc_6m|open_il_6m|open_il_12m|open_il_24m|mths_since_rcnt_il|total_bal_il|il_util|open_rv_12m|open_rv_24m|max_bal_bc|all_util|total_rev_hi_lim|inq_fi|total_cu_tl|inq_last_12m|default_ind|\n",
            "+-------+---------+---------+-----------+---------------+----------+--------+-----------+-----+---------+--------------------+----------+--------------+----------+-------------------+----------+----------+--------------------+------------------+--------------------+--------+----------+-----+-----------+----------------+--------------+----------------------+----------------------+--------+-------+---------+----------+---------+-------------------+---------+-------------+-----------+---------------+---------------+-------------+------------------+----------+-----------------------+------------+---------------+------------+------------------+--------------------------+---------------------------+-----------+----------------+----------------+---------+-------------------------+--------------+------------+-----------+-----------+----------+-----------+-----------+------------------+------------+-------+-----------+-----------+----------+--------+----------------+------+-----------+------------+-----------+\n",
            "|1077501|  1296599|     5000|       5000|         4975.0| 36 months|   10.65|     162.87|    B|       B2|                null| 10+ years|          RENT|     24000|           Verified|01-12-2011|         n|  Borrower added ...|       credit_card|            Computer|   860xx|        AZ|27.65|          0|      01-01-1985|             1|                  null|                  null|       3|      0|    13648|      83.7|        9|                  f|        0|            0|5861.071414|        5831.78|           5000|       861.07|                 0|         0|                      0|  01-01-2015|         171.62|        null|        01-01-2016|                         0|                       null|          1|      INDIVIDUAL|            null|     null|                     null|             0|        null|       null|       null|      null|       null|       null|              null|        null|   null|       null|       null|      null|    null|            null|  null|       null|        null|          0|\n",
            "|1077430|  1314167|     2500|       2500|         2500.0| 60 months|   15.27|      59.83|    C|       C4|               Ryder|  < 1 year|          RENT|     30000|    Source Verified|01-12-2011|         n|  Borrower added ...|               car|                bike|   309xx|        GA|    1|          0|      01-04-1999|             5|                  null|                  null|       3|      0|     1687|       9.4|        4|                  f|        0|            0|    1008.71|        1008.71|         456.46|       435.17|                 0|    117.08|                   1.11|  01-04-2013|         119.66|        null|        01-09-2013|                         0|                       null|          1|      INDIVIDUAL|            null|     null|                     null|             0|        null|       null|       null|      null|       null|       null|              null|        null|   null|       null|       null|      null|    null|            null|  null|       null|        null|          1|\n",
            "|1077175|  1313524|     2400|       2400|         2400.0| 36 months|   15.96|      84.33|    C|       C5|                null| 10+ years|          RENT|     12252|       Not Verified|01-12-2011|         n|                null|    small_business|real estate business|   606xx|        IL| 8.72|          0|      01-11-2001|             2|                  null|                  null|       2|      0|     2956|      98.5|       10|                  f|        0|            0|3003.653644|        3003.65|           2400|       603.65|                 0|         0|                      0|  01-06-2014|         649.91|        null|        01-01-2016|                         0|                       null|          1|      INDIVIDUAL|            null|     null|                     null|             0|        null|       null|       null|      null|       null|       null|              null|        null|   null|       null|       null|      null|    null|            null|  null|       null|        null|          0|\n",
            "|1076863|  1277178|    10000|      10000|        10000.0| 36 months|   13.49|     339.31|    C|       C1| AIR RESOURCES BOARD| 10+ years|          RENT|     49200|    Source Verified|01-12-2011|         n|  Borrower added ...|             other|            personel|   917xx|        CA|   20|          0|      01-02-1996|             1|                    35|                  null|      10|      0|     5598|        21|       37|                  f|        0|            0|12226.30221|        12226.3|          10000|      2209.33|             16.97|         0|                      0|  01-01-2015|         357.48|        null|        01-01-2015|                         0|                       null|          1|      INDIVIDUAL|            null|     null|                     null|             0|        null|       null|       null|      null|       null|       null|              null|        null|   null|       null|       null|      null|    null|            null|  null|       null|        null|          0|\n",
            "|1075358|  1311748|     3000|       3000|         3000.0| 60 months|   12.69|      67.79|    B|       B5|University Medica...|    1 year|          RENT|     80000|    Source Verified|01-12-2011|         n|  Borrower added ...|             other|            Personal|   972xx|        OR|17.94|          0|      01-01-1996|             0|                    38|                  null|      15|      0|    27783|      53.9|       38|                  f|    766.9|        766.9|    3242.17|        3242.17|         2233.1|      1009.07|                 0|         0|                      0|  01-01-2016|          67.79|  01-02-2016|        01-01-2016|                         0|                       null|          1|      INDIVIDUAL|            null|     null|                     null|             0|        null|       null|       null|      null|       null|       null|              null|        null|   null|       null|       null|      null|    null|            null|  null|       null|        null|          0|\n",
            "|1075269|  1311441|     5000|       5000|         5000.0| 36 months|     7.9|     156.46|    A|       A4|Veolia Transportaton|   3 years|          RENT|     36000|    Source Verified|01-12-2011|         n|                null|           wedding|My wedding loan I...|   852xx|        AZ| 11.2|          0|      01-11-2004|             3|                  null|                  null|       9|      0|     7963|      28.3|       12|                  f|        0|            0|5631.377753|        5631.38|           5000|       631.38|                 0|         0|                      0|  01-01-2015|         161.03|        null|        01-09-2015|                         0|                       null|          1|      INDIVIDUAL|            null|     null|                     null|             0|        null|       null|       null|      null|       null|       null|              null|        null|   null|       null|       null|      null|    null|            null|  null|       null|        null|          0|\n",
            "|1069639|  1304742|     7000|       7000|         7000.0| 60 months|   15.96|     170.08|    C|       C5|Southern Star Pho...|   8 years|          RENT|     47004|       Not Verified|01-12-2011|         n|  Borrower added ...|debt_consolidation|                Loan|   280xx|        NC|23.51|          0|      01-07-2005|             1|                  null|                  null|       7|      0|    17726|      85.6|       11|                  f|  1889.15|      1889.15|    8136.84|        8136.84|        5110.85|      3025.99|                 0|         0|                      0|  01-01-2016|         170.08|  01-02-2016|        01-01-2016|                         0|                       null|          1|      INDIVIDUAL|            null|     null|                     null|             0|        null|       null|       null|      null|       null|       null|              null|        null|   null|       null|       null|      null|    null|            null|  null|       null|        null|          0|\n",
            "|1072053|  1288686|     3000|       3000|         3000.0| 36 months|   18.64|     109.43|    E|       E1|     MKC Accounting |   9 years|          RENT|     48000|    Source Verified|01-12-2011|         n|  Borrower added ...|               car|     Car Downpayment|   900xx|        CA| 5.35|          0|      01-01-2007|             2|                  null|                  null|       4|      0|     8221|      87.5|        4|                  f|        0|            0|3938.144334|        3938.14|           3000|       938.14|                 0|         0|                      0|  01-01-2015|         111.34|        null|        01-12-2014|                         0|                       null|          1|      INDIVIDUAL|            null|     null|                     null|             0|        null|       null|       null|      null|       null|       null|              null|        null|   null|       null|       null|      null|    null|            null|  null|       null|        null|          0|\n",
            "|1071795|  1306957|     5600|       5600|         5600.0| 60 months|   21.28|     152.39|    F|       F2|                null|   4 years|           OWN|     40000|    Source Verified|01-12-2011|         n|  Borrower added ...|    small_business|Expand Business &...|   958xx|        CA| 5.55|          0|      01-04-2004|             2|                  null|                  null|      11|      0|     5210|      32.6|       13|                  f|        0|            0|     646.02|         646.02|         162.02|       294.94|                 0|    189.06|                   2.09|  01-04-2012|         152.39|        null|        01-08-2012|                         0|                       null|          1|      INDIVIDUAL|            null|     null|                     null|             0|        null|       null|       null|      null|       null|       null|              null|        null|   null|       null|       null|      null|    null|            null|  null|       null|        null|          1|\n",
            "|1071570|  1306721|     5375|       5375|         5350.0| 60 months|   12.69|     121.45|    B|       B5|           Starbucks|  < 1 year|          RENT|     15000|           Verified|01-12-2011|         n|  Borrower added ...|             other|Building my credi...|   774xx|        TX|18.08|          0|      01-09-2004|             0|                  null|                  null|       2|      0|     9279|      36.5|        3|                  f|        0|            0|    1476.19|        1469.34|         673.48|       533.42|                 0|    269.29|                   2.52|  01-11-2012|         121.45|        null|        01-03-2013|                         0|                       null|          1|      INDIVIDUAL|            null|     null|                     null|             0|        null|       null|       null|      null|       null|       null|              null|        null|   null|       null|       null|      null|    null|            null|  null|       null|        null|          1|\n",
            "+-------+---------+---------+-----------+---------------+----------+--------+-----------+-----+---------+--------------------+----------+--------------+----------+-------------------+----------+----------+--------------------+------------------+--------------------+--------+----------+-----+-----------+----------------+--------------+----------------------+----------------------+--------+-------+---------+----------+---------+-------------------+---------+-------------+-----------+---------------+---------------+-------------+------------------+----------+-----------------------+------------+---------------+------------+------------------+--------------------------+---------------------------+-----------+----------------+----------------+---------+-------------------------+--------------+------------+-----------+-----------+----------+-----------+-----------+------------------+------------+-------+-----------+-----------+----------+--------+----------------+------+-----------+------------+-----------+\n",
            "only showing top 10 rows\n",
            "\n"
          ]
        }
      ],
      "source": [
        "data.show(10)"
      ]
    },
    {
      "cell_type": "code",
      "execution_count": null,
      "metadata": {
        "id": "rX_mKyGTAuvc"
      },
      "outputs": [],
      "source": [
        "hi = data.take(1)"
      ]
    },
    {
      "cell_type": "code",
      "execution_count": null,
      "metadata": {
        "colab": {
          "base_uri": "https://localhost:8080/"
        },
        "id": "rZ-C3YqI22R7",
        "outputId": "22e5d7dc-1be7-424b-d4a2-a91e3b837677"
      },
      "outputs": [
        {
          "data": {
            "text/plain": [
              "pyspark.sql.dataframe.DataFrame"
            ]
          },
          "execution_count": 14,
          "metadata": {},
          "output_type": "execute_result"
        }
      ],
      "source": [
        "type(data)"
      ]
    },
    {
      "cell_type": "code",
      "execution_count": null,
      "metadata": {
        "colab": {
          "base_uri": "https://localhost:8080/"
        },
        "id": "yIby0t60EQ4-",
        "outputId": "23eec651-6b46-4cc5-eb74-c72bf01bfb96"
      },
      "outputs": [
        {
          "name": "stdout",
          "output_type": "stream",
          "text": [
            "+---+---------+---------+-----------+---------------+----+--------+-----------+-----+---------+---------+----------+--------------+----------+-------------------+-------+----------+------+-------+-----+--------+----------+---+-----------+----------------+--------------+----------------------+----------------------+--------+-------+---------+----------+---------+-------------------+---------+-------------+-----------+---------------+---------------+-------------+------------------+----------+-----------------------+------------+---------------+------------+------------------+--------------------------+---------------------------+-----------+----------------+----------------+---------+-------------------------+--------------+------------+-----------+-----------+----------+-----------+-----------+------------------+------------+-------+-----------+-----------+----------+--------+----------------+------+-----------+------------+-----------+\n",
            "| id|member_id|loan_amnt|funded_amnt|funded_amnt_inv|term|int_rate|installment|grade|sub_grade|emp_title|emp_length|home_ownership|annual_inc|verification_status|issue_d|pymnt_plan|  desc|purpose|title|zip_code|addr_state|dti|delinq_2yrs|earliest_cr_line|inq_last_6mths|mths_since_last_delinq|mths_since_last_record|open_acc|pub_rec|revol_bal|revol_util|total_acc|initial_list_status|out_prncp|out_prncp_inv|total_pymnt|total_pymnt_inv|total_rec_prncp|total_rec_int|total_rec_late_fee|recoveries|collection_recovery_fee|last_pymnt_d|last_pymnt_amnt|next_pymnt_d|last_credit_pull_d|collections_12_mths_ex_med|mths_since_last_major_derog|policy_code|application_type|annual_inc_joint|dti_joint|verification_status_joint|acc_now_delinq|tot_coll_amt|tot_cur_bal|open_acc_6m|open_il_6m|open_il_12m|open_il_24m|mths_since_rcnt_il|total_bal_il|il_util|open_rv_12m|open_rv_24m|max_bal_bc|all_util|total_rev_hi_lim|inq_fi|total_cu_tl|inq_last_12m|default_ind|\n",
            "+---+---------+---------+-----------+---------------+----+--------+-----------+-----+---------+---------+----------+--------------+----------+-------------------+-------+----------+------+-------+-----+--------+----------+---+-----------+----------------+--------------+----------------------+----------------------+--------+-------+---------+----------+---------+-------------------+---------+-------------+-----------+---------------+---------------+-------------+------------------+----------+-----------------------+------------+---------------+------------+------------------+--------------------------+---------------------------+-----------+----------------+----------------+---------+-------------------------+--------------+------------+-----------+-----------+----------+-----------+-----------+------------------+------------+-------+-----------+-----------+----------+--------+----------------+------+-----------+------------+-----------+\n",
            "|  0|        0|        0|          0|              0|   0|       0|          0|    0|        0|    49439|         0|             0|         0|                  0|      0|         0|734155|      1|   33|       1|         1|  1|          1|               1|             1|                439669|                724613|      72|     57|       47|       475|       17|                 14|       15|           21|         12|             10|              9|            3|                 3|         2|                      5|        8869|              3|      252751|               102|                        99|                     642637|         72|              57|          855343|   855382|                   855418|           143|       67198|      67224|     842600|    842616|     842638|     842647|            843010|      842655| 844337|     842670|     842664|    842668|  842675|           67311|842676|     842672|      842680|        223|\n",
            "+---+---------+---------+-----------+---------------+----+--------+-----------+-----+---------+---------+----------+--------------+----------+-------------------+-------+----------+------+-------+-----+--------+----------+---+-----------+----------------+--------------+----------------------+----------------------+--------+-------+---------+----------+---------+-------------------+---------+-------------+-----------+---------------+---------------+-------------+------------------+----------+-----------------------+------------+---------------+------------+------------------+--------------------------+---------------------------+-----------+----------------+----------------+---------+-------------------------+--------------+------------+-----------+-----------+----------+-----------+-----------+------------------+------------+-------+-----------+-----------+----------+--------+----------------+------+-----------+------------+-----------+\n",
            "\n"
          ]
        }
      ],
      "source": [
        "#check for the missing values\n",
        "from pyspark.sql.functions import isnan, when, count, col\n",
        "data.select([count(when(col(c).isNull(), c)).alias(c) for c in data.columns]).show()"
      ]
    },
    {
      "cell_type": "code",
      "execution_count": null,
      "metadata": {
        "colab": {
          "base_uri": "https://localhost:8080/"
        },
        "id": "586amnKfb0ms",
        "outputId": "9ad30a21-051d-4a76-d35b-245ebe7b31d5"
      },
      "outputs": [
        {
          "name": "stdout",
          "output_type": "stream",
          "text": [
            "+---+---------+---------+-----------+---------------+----+--------+-----------+-----+---------+------------------+----------+--------------+----------+-------------------+-------+----------+-----------------+--------------------+--------------------+--------------------+--------------------+--------------------+--------------------+--------------------+--------------------+----------------------+----------------------+--------------------+--------------------+--------------------+--------------------+--------------------+--------------------+--------------------+--------------------+--------------------+--------------------+--------------------+--------------------+--------------------+--------------------+-----------------------+------------------+--------------------+-----------------+--------------------+--------------------------+---------------------------+--------------------+--------------------+----------------+-----------------+-------------------------+--------------------+-----------------+-----------------+-----------------+-----------------+-----------------+-----------------+------------------+-----------------+----------------+-----------------+----------------+----------------+-----------------+-----------------+-----------------+-----------------+-----------------+-------------------+\n",
            "| id|member_id|loan_amnt|funded_amnt|funded_amnt_inv|term|int_rate|installment|grade|sub_grade|         emp_title|emp_length|home_ownership|annual_inc|verification_status|issue_d|pymnt_plan|             desc|             purpose|               title|            zip_code|          addr_state|                 dti|         delinq_2yrs|    earliest_cr_line|      inq_last_6mths|mths_since_last_delinq|mths_since_last_record|            open_acc|             pub_rec|           revol_bal|          revol_util|           total_acc| initial_list_status|           out_prncp|       out_prncp_inv|         total_pymnt|     total_pymnt_inv|     total_rec_prncp|       total_rec_int|  total_rec_late_fee|          recoveries|collection_recovery_fee|      last_pymnt_d|     last_pymnt_amnt|     next_pymnt_d|  last_credit_pull_d|collections_12_mths_ex_med|mths_since_last_major_derog|         policy_code|    application_type|annual_inc_joint|        dti_joint|verification_status_joint|      acc_now_delinq|     tot_coll_amt|      tot_cur_bal|      open_acc_6m|       open_il_6m|      open_il_12m|      open_il_24m|mths_since_rcnt_il|     total_bal_il|         il_util|      open_rv_12m|     open_rv_24m|      max_bal_bc|         all_util| total_rev_hi_lim|           inq_fi|      total_cu_tl|     inq_last_12m|        default_ind|\n",
            "+---+---------+---------+-----------+---------------+----+--------+-----------+-----+---------+------------------+----------+--------------+----------+-------------------+-------+----------+-----------------+--------------------+--------------------+--------------------+--------------------+--------------------+--------------------+--------------------+--------------------+----------------------+----------------------+--------------------+--------------------+--------------------+--------------------+--------------------+--------------------+--------------------+--------------------+--------------------+--------------------+--------------------+--------------------+--------------------+--------------------+-----------------------+------------------+--------------------+-----------------+--------------------+--------------------------+---------------------------+--------------------+--------------------+----------------+-----------------+-------------------------+--------------------+-----------------+-----------------+-----------------+-----------------+-----------------+-----------------+------------------+-----------------+----------------+-----------------+----------------+----------------+-----------------+-----------------+-----------------+-----------------+-----------------+-------------------+\n",
            "|0.0|      0.0|      0.0|        0.0|            0.0| 0.0|     0.0|        0.0|  0.0|      0.0|5.7757932822333515|       0.0|           0.0|       0.0|                0.0|    0.0|       0.0|85.76887714391526|1.168266607786029...|0.003855279805693898|1.168266607786029...|1.168266607786029...|1.168266607786029...|1.168266607786029...|1.168266607786029...|1.168266607786029...|     51.36506111786758|     84.65411714676583|0.008411519576059415|0.006659119664380368|0.005490853056594339|0.055492663869836416|0.001986053233236...|0.001635573250900...|0.001752399911679...|0.002453359876350662|0.001401919929343...|0.001168266607786...|0.001051439947007...|3.504799823358089E-4|3.504799823358089E-4|2.336533215572059...|   5.841333038930148E-4|1.0361356544454297|3.504799823358089E-4|29.52805533845268|0.011916319399417502|      0.011565839417081693|          75.07713480277907|0.008411519576059415|0.006659119664380368|99.9268665103526|99.93142275012296|        99.93562850991098|0.016706212491340224|7.850517951000562|7.853555444180806|98.43814437205086|98.44001359862331|98.44258378516044|98.44363522510746| 98.48604330297009|98.44456983839368|98.6410722818233|98.44632223830536|98.4456212783407|98.4460885849838|98.44690637160926|7.863719363668544|98.44702319827003|98.44655589162691|98.44749050491315|0.02605234535362846|\n",
            "+---+---------+---------+-----------+---------------+----+--------+-----------+-----+---------+------------------+----------+--------------+----------+-------------------+-------+----------+-----------------+--------------------+--------------------+--------------------+--------------------+--------------------+--------------------+--------------------+--------------------+----------------------+----------------------+--------------------+--------------------+--------------------+--------------------+--------------------+--------------------+--------------------+--------------------+--------------------+--------------------+--------------------+--------------------+--------------------+--------------------+-----------------------+------------------+--------------------+-----------------+--------------------+--------------------------+---------------------------+--------------------+--------------------+----------------+-----------------+-------------------------+--------------------+-----------------+-----------------+-----------------+-----------------+-----------------+-----------------+------------------+-----------------+----------------+-----------------+----------------+----------------+-----------------+-----------------+-----------------+-----------------+-----------------+-------------------+\n",
            "\n"
          ]
        }
      ],
      "source": [
        "#get the percentage of null values \n",
        "amount_missing_df = data.select([((count(when(col(c).isNull(), c))/data.count())*100).alias(c) for c in data.columns])\n",
        "amount_missing_df.show()\n",
        "#from the table below, i think we can drop the columns that consist of 40% or higher null values.\n",
        "#things that need to be dropped: desc, annual_inc_joint, dti_joint, verification_status_joint,\n",
        "# maybe do research: mths_since_last_delinq, mths_since_last_record, mths_since_last_major_derog, open_acc_6m, open_il_6m"
      ]
    },
    {
      "cell_type": "code",
      "execution_count": null,
      "metadata": {
        "colab": {
          "base_uri": "https://localhost:8080/"
        },
        "id": "l0Gs_0F0FHRN",
        "outputId": "c0067757-671c-4ae3-f94c-633fe275f282"
      },
      "outputs": [
        {
          "data": {
            "text/plain": [
              "[('id', 'int'),\n",
              " ('member_id', 'int'),\n",
              " ('loan_amnt', 'int'),\n",
              " ('funded_amnt', 'int'),\n",
              " ('funded_amnt_inv', 'double'),\n",
              " ('term', 'string'),\n",
              " ('int_rate', 'double'),\n",
              " ('installment', 'double'),\n",
              " ('grade', 'string'),\n",
              " ('sub_grade', 'string'),\n",
              " ('emp_title', 'string'),\n",
              " ('emp_length', 'string'),\n",
              " ('home_ownership', 'string'),\n",
              " ('annual_inc', 'string'),\n",
              " ('verification_status', 'string'),\n",
              " ('issue_d', 'string'),\n",
              " ('pymnt_plan', 'string'),\n",
              " ('desc', 'string'),\n",
              " ('purpose', 'string'),\n",
              " ('title', 'string'),\n",
              " ('zip_code', 'string'),\n",
              " ('addr_state', 'string'),\n",
              " ('dti', 'string'),\n",
              " ('delinq_2yrs', 'string'),\n",
              " ('earliest_cr_line', 'string'),\n",
              " ('inq_last_6mths', 'string'),\n",
              " ('mths_since_last_delinq', 'string'),\n",
              " ('mths_since_last_record', 'string'),\n",
              " ('open_acc', 'string'),\n",
              " ('pub_rec', 'string'),\n",
              " ('revol_bal', 'string'),\n",
              " ('revol_util', 'string'),\n",
              " ('total_acc', 'string'),\n",
              " ('initial_list_status', 'string'),\n",
              " ('out_prncp', 'string'),\n",
              " ('out_prncp_inv', 'string'),\n",
              " ('total_pymnt', 'string'),\n",
              " ('total_pymnt_inv', 'string'),\n",
              " ('total_rec_prncp', 'string'),\n",
              " ('total_rec_int', 'string'),\n",
              " ('total_rec_late_fee', 'string'),\n",
              " ('recoveries', 'string'),\n",
              " ('collection_recovery_fee', 'string'),\n",
              " ('last_pymnt_d', 'string'),\n",
              " ('last_pymnt_amnt', 'string'),\n",
              " ('next_pymnt_d', 'string'),\n",
              " ('last_credit_pull_d', 'string'),\n",
              " ('collections_12_mths_ex_med', 'string'),\n",
              " ('mths_since_last_major_derog', 'string'),\n",
              " ('policy_code', 'string'),\n",
              " ('application_type', 'string'),\n",
              " ('annual_inc_joint', 'string'),\n",
              " ('dti_joint', 'string'),\n",
              " ('verification_status_joint', 'string'),\n",
              " ('acc_now_delinq', 'string'),\n",
              " ('tot_coll_amt', 'string'),\n",
              " ('tot_cur_bal', 'string'),\n",
              " ('open_acc_6m', 'string'),\n",
              " ('open_il_6m', 'string'),\n",
              " ('open_il_12m', 'string'),\n",
              " ('open_il_24m', 'string'),\n",
              " ('mths_since_rcnt_il', 'string'),\n",
              " ('total_bal_il', 'string'),\n",
              " ('il_util', 'string'),\n",
              " ('open_rv_12m', 'string'),\n",
              " ('open_rv_24m', 'string'),\n",
              " ('max_bal_bc', 'string'),\n",
              " ('all_util', 'string'),\n",
              " ('total_rev_hi_lim', 'string'),\n",
              " ('inq_fi', 'string'),\n",
              " ('total_cu_tl', 'string'),\n",
              " ('inq_last_12m', 'int'),\n",
              " ('default_ind', 'int')]"
            ]
          },
          "execution_count": 17,
          "metadata": {},
          "output_type": "execute_result"
        }
      ],
      "source": [
        "#Show the types\n",
        "data.dtypes"
      ]
    },
    {
      "cell_type": "code",
      "execution_count": null,
      "metadata": {
        "colab": {
          "background_save": true
        },
        "id": "8Rc___4cGqCv",
        "outputId": "0bcf3fe9-a9e0-44d2-cdd9-729f359783c5"
      },
      "outputs": [
        {
          "name": "stdout",
          "output_type": "stream",
          "text": [
            "+--------------------+-----+\n",
            "|           emp_title|count|\n",
            "+--------------------+-----+\n",
            "|      John Wiley Jr.|    1|\n",
            "|baylor college of...|    2|\n",
            "|         Houston ISD|   14|\n",
            "|      Real Mex Foods|    2|\n",
            "| City of Tulsa, Okla|    1|\n",
            "|SOUTHERN WINE & S...|    1|\n",
            "|Medversant Techno...|    2|\n",
            "|   Porter Scott, APC|    2|\n",
            "|         PCM Studios|    1|\n",
            "|Smith Ironworks, Inc|    1|\n",
            "|           sams club|    9|\n",
            "|morgan stanley sm...|    4|\n",
            "|G4S Secure Soluti...|    1|\n",
            "|           Blue Nile|    1|\n",
            "|  General Motors LLC|    3|\n",
            "|        DoD Civilian|    2|\n",
            "|SLAC National Acc...|    1|\n",
            "|atlantic tomorrow...|    1|\n",
            "|       DemandTec Inc|    1|\n",
            "|       Famous Daves |    1|\n",
            "+--------------------+-----+\n",
            "only showing top 20 rows\n",
            "\n"
          ]
        }
      ],
      "source": [
        "data.groupby('emp_title').count().show()"
      ]
    },
    {
      "cell_type": "code",
      "execution_count": null,
      "metadata": {
        "colab": {
          "background_save": true
        },
        "id": "wZWNE6TiTJaB",
        "outputId": "8f16ec8b-7bb6-4603-86ae-c5b017d9f51e"
      },
      "outputs": [
        {
          "name": "stdout",
          "output_type": "stream",
          "text": [
            "+-------+-----+\n",
            "|     id|count|\n",
            "+-------+-----+\n",
            "|1068322|    1|\n",
            "|1060895|    1|\n",
            "|1058372|    1|\n",
            "|1057878|    1|\n",
            "|1045554|    1|\n",
            "|1030666|    1|\n",
            "|1024037|    1|\n",
            "|1023029|    1|\n",
            "|1020097|    1|\n",
            "|1016416|    1|\n",
            "|1011733|    1|\n",
            "|1003031|    1|\n",
            "| 998884|    1|\n",
            "| 999834|    1|\n",
            "| 974413|    1|\n",
            "| 994355|    1|\n",
            "| 994660|    1|\n",
            "| 995357|    1|\n",
            "| 991309|    1|\n",
            "| 987080|    1|\n",
            "+-------+-----+\n",
            "only showing top 20 rows\n",
            "\n"
          ]
        }
      ],
      "source": [
        "data.groupby('id').count().show()"
      ]
    },
    {
      "cell_type": "code",
      "execution_count": null,
      "metadata": {
        "colab": {
          "background_save": true
        },
        "id": "WWLf72lUPNnJ",
        "outputId": "95dc5c2e-96af-4487-f8ef-28258e378739"
      },
      "outputs": [
        {
          "name": "stdout",
          "output_type": "stream",
          "text": [
            "+----------+------+\n",
            "|      term| count|\n",
            "+----------+------+\n",
            "| 36 months|600221|\n",
            "| 60 months|255748|\n",
            "+----------+------+\n",
            "\n"
          ]
        }
      ],
      "source": [
        "#Check distinct value\n",
        "data.groupby(\"term\").count().show()"
      ]
    },
    {
      "cell_type": "code",
      "execution_count": null,
      "metadata": {
        "colab": {
          "background_save": true
        },
        "id": "htUu_FlzTGp7",
        "outputId": "9024bea0-9f28-4201-ea55-faa999fed9a9"
      },
      "outputs": [
        {
          "name": "stdout",
          "output_type": "stream",
          "text": [
            "+-----+------+\n",
            "|grade| count|\n",
            "+-----+------+\n",
            "|    F| 21328|\n",
            "|    E| 66448|\n",
            "|    B|247998|\n",
            "|    D|132802|\n",
            "|    C|236855|\n",
            "|    A|145665|\n",
            "|    G|  4873|\n",
            "+-----+------+\n",
            "\n"
          ]
        }
      ],
      "source": [
        "data.groupby(\"grade\").count().show()"
      ]
    },
    {
      "cell_type": "code",
      "execution_count": null,
      "metadata": {
        "colab": {
          "background_save": true
        },
        "id": "YrLSSpYaTMvx",
        "outputId": "c7b4f61d-f0d1-48a1-b1ed-51a55aa9c66f"
      },
      "outputs": [
        {
          "name": "stdout",
          "output_type": "stream",
          "text": [
            "+---------+-----+\n",
            "|sub_grade|count|\n",
            "+---------+-----+\n",
            "|       D5|20208|\n",
            "|       F2| 4979|\n",
            "|       B4|54116|\n",
            "|       A2|22106|\n",
            "|       E4|11011|\n",
            "|       B2|47589|\n",
            "|       C3|48337|\n",
            "|       D1|34667|\n",
            "|       C4|46941|\n",
            "|       F1| 6702|\n",
            "|       D3|25289|\n",
            "|       F5| 2380|\n",
            "|       G2| 1259|\n",
            "|       B1|44002|\n",
            "|       B3|54958|\n",
            "|       E5| 8919|\n",
            "|       C5|39532|\n",
            "|       G3|  877|\n",
            "|       A4|33991|\n",
            "|       F4| 3168|\n",
            "+---------+-----+\n",
            "only showing top 20 rows\n",
            "\n"
          ]
        }
      ],
      "source": [
        "data.groupby(\"sub_grade\").count().show()"
      ]
    },
    {
      "cell_type": "code",
      "execution_count": null,
      "metadata": {
        "colab": {
          "background_save": true
        },
        "id": "Ou4OqxUeTQ0v",
        "outputId": "3a7bfd4b-5b41-4884-b9c4-e0ced8838ac0"
      },
      "outputs": [
        {
          "name": "stdout",
          "output_type": "stream",
          "text": [
            "+----------+------+\n",
            "|emp_length| count|\n",
            "+----------+------+\n",
            "|   9 years| 33462|\n",
            "|   5 years| 53812|\n",
            "|    1 year| 54855|\n",
            "|       n/a| 43061|\n",
            "|   2 years| 75985|\n",
            "|   7 years| 43204|\n",
            "|   8 years| 42421|\n",
            "|   4 years| 50643|\n",
            "|   6 years| 41446|\n",
            "|   3 years| 67392|\n",
            "| 10+ years|282090|\n",
            "|  < 1 year| 67597|\n",
            "| reactors\"|     1|\n",
            "+----------+------+\n",
            "\n"
          ]
        }
      ],
      "source": [
        "data.groupby(\"emp_length\").count().show()"
      ]
    },
    {
      "cell_type": "code",
      "execution_count": null,
      "metadata": {
        "colab": {
          "background_save": true
        },
        "id": "BQsJrMecTW7k",
        "outputId": "25881134-bf47-466e-a363-5a3b01fb52a5"
      },
      "outputs": [
        {
          "name": "stdout",
          "output_type": "stream",
          "text": [
            "+--------------+------+\n",
            "|home_ownership| count|\n",
            "+--------------+------+\n",
            "|           OWN| 84136|\n",
            "|          RENT|342535|\n",
            "|      MORTGAGE|429105|\n",
            "|           ANY|     3|\n",
            "|         OTHER|   144|\n",
            "|          NONE|    45|\n",
            "|       2 years|     1|\n",
            "+--------------+------+\n",
            "\n"
          ]
        }
      ],
      "source": [
        "data.groupby(\"home_ownership\").count().show()"
      ]
    },
    {
      "cell_type": "code",
      "execution_count": null,
      "metadata": {
        "colab": {
          "background_save": true
        },
        "id": "zqdaCWukTc3l",
        "outputId": "e43f066e-ad3b-4b44-d34b-dc664fe9650f"
      },
      "outputs": [
        {
          "name": "stdout",
          "output_type": "stream",
          "text": [
            "+-------------------+------+\n",
            "|verification_status| count|\n",
            "+-------------------+------+\n",
            "|           Verified|280049|\n",
            "|    Source Verified|318177|\n",
            "|       Not Verified|257742|\n",
            "|              38000|     1|\n",
            "+-------------------+------+\n",
            "\n"
          ]
        }
      ],
      "source": [
        "data.groupby(\"verification_status\").count().show()"
      ]
    },
    {
      "cell_type": "code",
      "execution_count": null,
      "metadata": {
        "colab": {
          "background_save": true
        },
        "id": "tjNNdf1LTkeT",
        "outputId": "34d54560-9860-4c6f-f420-2732fd2862e5"
      },
      "outputs": [
        {
          "name": "stdout",
          "output_type": "stream",
          "text": [
            "+----------+-----+\n",
            "|   issue_d|count|\n",
            "+----------+-----+\n",
            "|01-12-2010| 1266|\n",
            "|01-06-2011| 1826|\n",
            "|01-06-2012| 3790|\n",
            "|01-11-2007|   37|\n",
            "|01-07-2010| 1119|\n",
            "|01-04-2009|  290|\n",
            "|01-10-2014|37442|\n",
            "|01-06-2007|    1|\n",
            "|01-06-2013|10663|\n",
            "|01-12-2009|  598|\n",
            "|01-11-2009|  602|\n",
            "|01-03-2010|  737|\n",
            "|01-10-2009|  545|\n",
            "|01-07-2013|11632|\n",
            "|01-08-2011| 1925|\n",
            "|01-09-2011| 2062|\n",
            "|01-01-2011| 1368|\n",
            "|01-03-2009|  276|\n",
            "|01-05-2011| 1701|\n",
            "|01-02-2010|  627|\n",
            "+----------+-----+\n",
            "only showing top 20 rows\n",
            "\n"
          ]
        }
      ],
      "source": [
        "data.groupby(\"issue_d\").count().show()"
      ]
    },
    {
      "cell_type": "code",
      "execution_count": null,
      "metadata": {
        "colab": {
          "background_save": true
        },
        "id": "SdHwX_HeTotd",
        "outputId": "70a3415e-c4fc-4600-d550-50ab1d8a3a36"
      },
      "outputs": [
        {
          "name": "stdout",
          "output_type": "stream",
          "text": [
            "+--------------------+-----+\n",
            "|                desc|count|\n",
            "+--------------------+-----+\n",
            "|  Borrower added ...|    1|\n",
            "|  Borrower added ...|    1|\n",
            "|  Borrower added ...|    1|\n",
            "|  Borrower added ...|    1|\n",
            "|  Borrower added ...|    1|\n",
            "|  Borrower added ...|    1|\n",
            "|  Borrower added ...|    1|\n",
            "| Requesting a loa...|    1|\n",
            "|  Borrower added ...|    1|\n",
            "|  Borrower added ...|    1|\n",
            "|  Borrower added ...|    1|\n",
            "|  Borrower added ...|    1|\n",
            "|  Borrower added ...|    1|\n",
            "|  Borrower added ...|    1|\n",
            "|  Borrower added ...|    1|\n",
            "|  Borrower added ...|    1|\n",
            "|  Borrower added ...|    1|\n",
            "|  Borrower added ...|    1|\n",
            "|  Borrower added ...|    1|\n",
            "|  Borrower added ...|    1|\n",
            "+--------------------+-----+\n",
            "only showing top 20 rows\n",
            "\n"
          ]
        }
      ],
      "source": [
        "data.groupby(\"desc\").count().show()"
      ]
    },
    {
      "cell_type": "code",
      "execution_count": null,
      "metadata": {
        "colab": {
          "background_save": true
        },
        "id": "v_wN2oF5Tuaq",
        "outputId": "d8b66add-73d2-437d-a17c-efc2db5cc7f6"
      },
      "outputs": [
        {
          "name": "stdout",
          "output_type": "stream",
          "text": [
            "+--------------------+-----+\n",
            "|             purpose|count|\n",
            "+--------------------+-----+\n",
            "| I have eliminate...|    1|\n",
            "| I am not comfort...|    1|\n",
            "| my cell is on a ...|    1|\n",
            "| MD\"\"... approx. ...|    1|\n",
            "| and have never h...|    1|\n",
            "|<br/><br/>Lending...|    1|\n",
            "| which was a swin...|    1|\n",
            "| usually doubling...|    1|\n",
            "| as long as we pa...|    1|\n",
            "| and have a solid...|    1|\n",
            "| but want to make...|    1|\n",
            "| the grass is in ...|    1|\n",
            "|        increasingly|    1|\n",
            "| which is $250 a ...|    1|\n",
            "| I have the means...|    1|\n",
            "| I will receive t...|    1|\n",
            "| I will be able t...|    1|\n",
            "| at which point I...|    1|\n",
            "| i wasn't even bo...|    1|\n",
            "| it is a historic...|    1|\n",
            "+--------------------+-----+\n",
            "only showing top 20 rows\n",
            "\n"
          ]
        }
      ],
      "source": [
        "data.groupby(\"purpose\").count().show()"
      ]
    },
    {
      "cell_type": "code",
      "execution_count": null,
      "metadata": {
        "colab": {
          "background_save": true
        },
        "id": "lKYXd1aTTxmZ",
        "outputId": "b5d70157-0a71-4e10-e159-d432571edc4d"
      },
      "outputs": [
        {
          "name": "stdout",
          "output_type": "stream",
          "text": [
            "+--------------------+-----+\n",
            "|               title|count|\n",
            "+--------------------+-----+\n",
            "|          Debit Free|   12|\n",
            "|        Debt reducer|    4|\n",
            "|        HOME REMODEL|    6|\n",
            "|My debt consolida...|   20|\n",
            "|Loan - Home Impro...|    1|\n",
            "|Debt Consolidatio...|   17|\n",
            "|         Better rate|    3|\n",
            "|                TC's|    1|\n",
            "|2011 GulfStream S...|    1|\n",
            "|              travel|    9|\n",
            "|   Debit Colsidation|    1|\n",
            "|          Car Payoff|   11|\n",
            "|             MY LOAN|   39|\n",
            "|        sears payoff|    3|\n",
            "|Increase my cash ...|    1|\n",
            "|        Debt Removal|    8|\n",
            "|Home improvement ...|    1|\n",
            "|Credit Card Free ...|    1|\n",
            "|Credit Card Reduc...|   30|\n",
            "|   Credit Card Combo|    2|\n",
            "+--------------------+-----+\n",
            "only showing top 20 rows\n",
            "\n"
          ]
        }
      ],
      "source": [
        "data.groupby(\"title\").count().show()"
      ]
    },
    {
      "cell_type": "code",
      "execution_count": null,
      "metadata": {
        "colab": {
          "background_save": true
        },
        "id": "QRyCyNuOT2LS",
        "outputId": "4a474f84-5ecc-4fab-baa7-85ceb9518cf3"
      },
      "outputs": [
        {
          "name": "stdout",
          "output_type": "stream",
          "text": [
            "+--------------------+-----+\n",
            "|          addr_state|count|\n",
            "+--------------------+-----+\n",
            "|Helping Kenya's D...|    1|\n",
            "|               223xx|    1|\n",
            "|175 (total projec...|    1|\n",
            "| financially I ma...|    1|\n",
            "|     and businessman|    1|\n",
            "| not paid for by ...|    1|\n",
            "|         etc.  First|    1|\n",
            "|                  AZ|19685|\n",
            "|                  SC|10301|\n",
            "| we both stand to...|    1|\n",
            "| I will let this ...|    1|\n",
            "| Individual Schoo...|    1|\n",
            "|                  LA|10185|\n",
            "|                  MN|15420|\n",
            "|               499xx|    1|\n",
            "|               850xx|    1|\n",
            "|Advocate business...|    1|\n",
            "|               951xx|    1|\n",
            "|               662xx|    1|\n",
            "| I ALWAYS pay my ...|    1|\n",
            "+--------------------+-----+\n",
            "only showing top 20 rows\n",
            "\n"
          ]
        }
      ],
      "source": [
        "data.groupby(\"addr_state\").count().show()"
      ]
    },
    {
      "cell_type": "code",
      "execution_count": null,
      "metadata": {
        "colab": {
          "background_save": true
        },
        "id": "ym3fpCN0T6hJ",
        "outputId": "758961c4-3064-49f0-b6a7-c9966c6bb361"
      },
      "outputs": [
        {
          "name": "stdout",
          "output_type": "stream",
          "text": [
            "+--------------------+-----+\n",
            "|    earliest_cr_line|count|\n",
            "+--------------------+-----+\n",
            "|          01-08-2004| 4447|\n",
            "|          01-11-2005| 2955|\n",
            "|          01-10-2001| 5922|\n",
            "|          01-06-1975|  151|\n",
            "|          01-12-1989| 1446|\n",
            "|          01-12-1977|  275|\n",
            "|               223xx|    1|\n",
            "|          01-12-2010|  567|\n",
            "|          01-01-2002| 4281|\n",
            "| and pay off the ...|    1|\n",
            "|          01-06-2011|  534|\n",
            "|          01-11-2007| 1651|\n",
            "|          01-03-1995| 2805|\n",
            "|          01-02-1999| 3786|\n",
            "|          01-02-1993| 1697|\n",
            "|          01-02-1998| 3005|\n",
            "|          01-10-1978|  331|\n",
            "|               895xx|    1|\n",
            "|                2010|    1|\n",
            "|          01-07-2010|  623|\n",
            "+--------------------+-----+\n",
            "only showing top 20 rows\n",
            "\n"
          ]
        }
      ],
      "source": [
        "data.groupby(\"earliest_cr_line\").count().show()"
      ]
    },
    {
      "cell_type": "code",
      "execution_count": null,
      "metadata": {
        "colab": {
          "background_save": true
        },
        "id": "UHgto_oAUHBe",
        "outputId": "63b47a91-c92a-46ed-a6ad-f1cac88524c5"
      },
      "outputs": [
        {
          "name": "stdout",
          "output_type": "stream",
          "text": [
            "+--------------------+-----+\n",
            "| initial_list_status|count|\n",
            "+--------------------+-----+\n",
            "|                8433|    1|\n",
            "|               17.42|    1|\n",
            "|                   7|    5|\n",
            "|                7013|    1|\n",
            "|                  AZ|    1|\n",
            "|          01-06-2006|    1|\n",
            "|                  15|    4|\n",
            "|               11534|    1|\n",
            "|                5656|    1|\n",
            "|                5076|    1|\n",
            "|                6.18|    1|\n",
            "|                  29|    1|\n",
            "|                68.1|    1|\n",
            "|          01-09-1984|    1|\n",
            "|                8828|    1|\n",
            "|               26050|    1|\n",
            "|000 is a motorcyc...|    1|\n",
            "|                  30|    1|\n",
            "|                94.6|    1|\n",
            "|                   8|    1|\n",
            "+--------------------+-----+\n",
            "only showing top 20 rows\n",
            "\n"
          ]
        }
      ],
      "source": [
        "data.groupby(\"initial_list_status\").count().show()"
      ]
    },
    {
      "cell_type": "code",
      "execution_count": null,
      "metadata": {
        "colab": {
          "background_save": true
        },
        "id": "8KMNfbO3UMZl",
        "outputId": "059a71a6-4e9b-43fc-b83b-c6944d5b7293"
      },
      "outputs": [
        {
          "name": "stdout",
          "output_type": "stream",
          "text": [
            "+------------+-----+\n",
            "|last_pymnt_d|count|\n",
            "+------------+-----+\n",
            "|  01-11-2015|10692|\n",
            "|  01-12-2010|  248|\n",
            "|      600.07|    1|\n",
            "|  01-06-2012|  816|\n",
            "|  01-06-2011|  373|\n",
            "|     4330.08|    1|\n",
            "|  01-07-2010|  181|\n",
            "|  01-04-2009|   43|\n",
            "|  01-10-2014| 7671|\n",
            "|    16332.89|    1|\n",
            "|  01-06-2013| 1971|\n",
            "|     3569.48|    1|\n",
            "|    14484.55|    1|\n",
            "|  01-12-2009|   93|\n",
            "|     1788.95|    1|\n",
            "|  01-11-2009|   58|\n",
            "|  01-04-2015|11101|\n",
            "|  01-03-2010|  134|\n",
            "|    14006.82|    1|\n",
            "|  01-10-2009|   61|\n",
            "+------------+-----+\n",
            "only showing top 20 rows\n",
            "\n"
          ]
        }
      ],
      "source": [
        "data.groupby(\"last_pymnt_d\").count().show()"
      ]
    },
    {
      "cell_type": "code",
      "execution_count": null,
      "metadata": {
        "colab": {
          "background_save": true
        },
        "id": "gxMVXN3KUTbm",
        "outputId": "e6a3c2a7-0f76-43c8-ec81-9e20731efb5f"
      },
      "outputs": [
        {
          "name": "stdout",
          "output_type": "stream",
          "text": [
            "+------------+-----+\n",
            "|next_pymnt_d|count|\n",
            "+------------+-----+\n",
            "|     2509.98|    1|\n",
            "|  01-12-2010|    2|\n",
            "|       14000|    1|\n",
            "|    13352.45|    1|\n",
            "|  01-06-2012|    1|\n",
            "|      854.08|    1|\n",
            "|     8905.29|    1|\n",
            "|  01-07-2010|    1|\n",
            "|        0.59|    1|\n",
            "|     4234.33|    1|\n",
            "|    20198.65|    1|\n",
            "|      414.65|    1|\n",
            "|           3|    1|\n",
            "|      282.98|    1|\n",
            "|      246.35|    1|\n",
            "|       94.06|    1|\n",
            "|      751.86|    1|\n",
            "|           8|    1|\n",
            "|      368.79|    1|\n",
            "|       22.12|    1|\n",
            "+------------+-----+\n",
            "only showing top 20 rows\n",
            "\n"
          ]
        }
      ],
      "source": [
        "data.groupby(\"next_pymnt_d\").count().show()"
      ]
    },
    {
      "cell_type": "code",
      "execution_count": null,
      "metadata": {
        "colab": {
          "background_save": true
        },
        "id": "qc2Izy1rUXvF",
        "outputId": "b1bf4447-66c0-408e-a0fc-e9803de11b58"
      },
      "outputs": [
        {
          "name": "stdout",
          "output_type": "stream",
          "text": [
            "+------------------+-----+\n",
            "|last_credit_pull_d|count|\n",
            "+------------------+-----+\n",
            "|        01-11-2015|11386|\n",
            "|        01-12-2010|  113|\n",
            "|          28195.63|    1|\n",
            "|        01-06-2012|  352|\n",
            "|        01-06-2011|  168|\n",
            "|             14000|    1|\n",
            "|        01-07-2010|  107|\n",
            "|           6016.66|    1|\n",
            "|        01-04-2009|   16|\n",
            "|        01-10-2014| 3343|\n",
            "|           5181.62|    1|\n",
            "|           6315.45|    1|\n",
            "|        01-06-2007|   12|\n",
            "|             30.42|    1|\n",
            "|             68.69|    1|\n",
            "|          23473.88|    1|\n",
            "|          19465.96|    1|\n",
            "|             11500|    1|\n",
            "|            369.52|    1|\n",
            "|           1499.99|    1|\n",
            "+------------------+-----+\n",
            "only showing top 20 rows\n",
            "\n"
          ]
        }
      ],
      "source": [
        "data.groupby(\"last_credit_pull_d\").count().show()"
      ]
    },
    {
      "cell_type": "code",
      "execution_count": null,
      "metadata": {
        "colab": {
          "background_save": true
        },
        "id": "EGs3vPl9Ud6I",
        "outputId": "0c8e99ed-359e-4e2a-bf68-0a513d1367dd"
      },
      "outputs": [
        {
          "name": "stdout",
          "output_type": "stream",
          "text": [
            "+----------------+-----+\n",
            "|application_type|count|\n",
            "+----------------+-----+\n",
            "|         5802.38|    1|\n",
            "|      01-06-2011|    1|\n",
            "|      01-06-2012|    1|\n",
            "|      01-07-2010|    2|\n",
            "|         1011.14|    1|\n",
            "|           18131|    1|\n",
            "|      01-01-2011|    1|\n",
            "|      01-05-2011|    2|\n",
            "|      01-03-2015|    1|\n",
            "|               0|   63|\n",
            "|            null|   57|\n",
            "|          594.78|    1|\n",
            "|               f|    1|\n",
            "|      01-07-2012|    1|\n",
            "|      01-12-2012|    2|\n",
            "|           21.38|    1|\n",
            "|      01-01-2012|    1|\n",
            "|          1466.3|    1|\n",
            "|      01-02-2012|    2|\n",
            "|      01-09-2010|    1|\n",
            "+----------------+-----+\n",
            "only showing top 20 rows\n",
            "\n"
          ]
        }
      ],
      "source": [
        "data.groupby(\"application_type\").count().show()"
      ]
    },
    {
      "cell_type": "code",
      "execution_count": null,
      "metadata": {
        "colab": {
          "background_save": true
        },
        "id": "1CAYlCIZVZFH",
        "outputId": "8923dc6e-78f2-461d-dcda-95f112068541"
      },
      "outputs": [
        {
          "name": "stdout",
          "output_type": "stream",
          "text": [
            "+-------+---------+---------+-----------+---------------+----------+--------+-----------+-----+---------+--------------------+----------+--------------+----------+-------------------+----------+----------+--------------------+------------------+--------------------+--------+----------+-----+-----------+----------------+--------------+----------------------+----------------------+--------+-------+---------+----------+---------+-------------------+---------+-------------+-----------+---------------+---------------+-------------+------------------+----------+-----------------------+------------+---------------+------------+------------------+--------------------------+---------------------------+-----------+----------------+----------------+---------+-------------------------+--------------+------------+-----------+-----------+----------+-----------+-----------+------------------+------------+-------+-----------+-----------+----------+--------+----------------+------+-----------+------------+-----------+------------+\n",
            "|     id|member_id|loan_amnt|funded_amnt|funded_amnt_inv|      term|int_rate|installment|grade|sub_grade|           emp_title|emp_length|home_ownership|annual_inc|verification_status|   issue_d|pymnt_plan|                desc|           purpose|               title|zip_code|addr_state|  dti|delinq_2yrs|earliest_cr_line|inq_last_6mths|mths_since_last_delinq|mths_since_last_record|open_acc|pub_rec|revol_bal|revol_util|total_acc|initial_list_status|out_prncp|out_prncp_inv|total_pymnt|total_pymnt_inv|total_rec_prncp|total_rec_int|total_rec_late_fee|recoveries|collection_recovery_fee|last_pymnt_d|last_pymnt_amnt|next_pymnt_d|last_credit_pull_d|collections_12_mths_ex_med|mths_since_last_major_derog|policy_code|application_type|annual_inc_joint|dti_joint|verification_status_joint|acc_now_delinq|tot_coll_amt|tot_cur_bal|open_acc_6m|open_il_6m|open_il_12m|open_il_24m|mths_since_rcnt_il|total_bal_il|il_util|open_rv_12m|open_rv_24m|max_bal_bc|all_util|total_rev_hi_lim|inq_fi|total_cu_tl|inq_last_12m|default_ind|term_numeric|\n",
            "+-------+---------+---------+-----------+---------------+----------+--------+-----------+-----+---------+--------------------+----------+--------------+----------+-------------------+----------+----------+--------------------+------------------+--------------------+--------+----------+-----+-----------+----------------+--------------+----------------------+----------------------+--------+-------+---------+----------+---------+-------------------+---------+-------------+-----------+---------------+---------------+-------------+------------------+----------+-----------------------+------------+---------------+------------+------------------+--------------------------+---------------------------+-----------+----------------+----------------+---------+-------------------------+--------------+------------+-----------+-----------+----------+-----------+-----------+------------------+------------+-------+-----------+-----------+----------+--------+----------------+------+-----------+------------+-----------+------------+\n",
            "|1077501|  1296599|     5000|       5000|         4975.0| 36 months|   10.65|     162.87|    B|       B2|                null| 10+ years|          RENT|     24000|           Verified|01-12-2011|         n|  Borrower added ...|       credit_card|            Computer|   860xx|        AZ|27.65|          0|      01-01-1985|             1|                  null|                  null|       3|      0|    13648|      83.7|        9|                  f|        0|            0|5861.071414|        5831.78|           5000|       861.07|                 0|         0|                      0|  01-01-2015|         171.62|        null|        01-01-2016|                         0|                       null|          1|      INDIVIDUAL|            null|     null|                     null|             0|        null|       null|       null|      null|       null|       null|              null|        null|   null|       null|       null|      null|    null|            null|  null|       null|        null|          0|         0.0|\n",
            "|1077430|  1314167|     2500|       2500|         2500.0| 60 months|   15.27|      59.83|    C|       C4|               Ryder|  < 1 year|          RENT|     30000|    Source Verified|01-12-2011|         n|  Borrower added ...|               car|                bike|   309xx|        GA|    1|          0|      01-04-1999|             5|                  null|                  null|       3|      0|     1687|       9.4|        4|                  f|        0|            0|    1008.71|        1008.71|         456.46|       435.17|                 0|    117.08|                   1.11|  01-04-2013|         119.66|        null|        01-09-2013|                         0|                       null|          1|      INDIVIDUAL|            null|     null|                     null|             0|        null|       null|       null|      null|       null|       null|              null|        null|   null|       null|       null|      null|    null|            null|  null|       null|        null|          1|         1.0|\n",
            "|1077175|  1313524|     2400|       2400|         2400.0| 36 months|   15.96|      84.33|    C|       C5|                null| 10+ years|          RENT|     12252|       Not Verified|01-12-2011|         n|                null|    small_business|real estate business|   606xx|        IL| 8.72|          0|      01-11-2001|             2|                  null|                  null|       2|      0|     2956|      98.5|       10|                  f|        0|            0|3003.653644|        3003.65|           2400|       603.65|                 0|         0|                      0|  01-06-2014|         649.91|        null|        01-01-2016|                         0|                       null|          1|      INDIVIDUAL|            null|     null|                     null|             0|        null|       null|       null|      null|       null|       null|              null|        null|   null|       null|       null|      null|    null|            null|  null|       null|        null|          0|         0.0|\n",
            "|1076863|  1277178|    10000|      10000|        10000.0| 36 months|   13.49|     339.31|    C|       C1| AIR RESOURCES BOARD| 10+ years|          RENT|     49200|    Source Verified|01-12-2011|         n|  Borrower added ...|             other|            personel|   917xx|        CA|   20|          0|      01-02-1996|             1|                    35|                  null|      10|      0|     5598|        21|       37|                  f|        0|            0|12226.30221|        12226.3|          10000|      2209.33|             16.97|         0|                      0|  01-01-2015|         357.48|        null|        01-01-2015|                         0|                       null|          1|      INDIVIDUAL|            null|     null|                     null|             0|        null|       null|       null|      null|       null|       null|              null|        null|   null|       null|       null|      null|    null|            null|  null|       null|        null|          0|         0.0|\n",
            "|1075358|  1311748|     3000|       3000|         3000.0| 60 months|   12.69|      67.79|    B|       B5|University Medica...|    1 year|          RENT|     80000|    Source Verified|01-12-2011|         n|  Borrower added ...|             other|            Personal|   972xx|        OR|17.94|          0|      01-01-1996|             0|                    38|                  null|      15|      0|    27783|      53.9|       38|                  f|    766.9|        766.9|    3242.17|        3242.17|         2233.1|      1009.07|                 0|         0|                      0|  01-01-2016|          67.79|  01-02-2016|        01-01-2016|                         0|                       null|          1|      INDIVIDUAL|            null|     null|                     null|             0|        null|       null|       null|      null|       null|       null|              null|        null|   null|       null|       null|      null|    null|            null|  null|       null|        null|          0|         1.0|\n",
            "|1075269|  1311441|     5000|       5000|         5000.0| 36 months|     7.9|     156.46|    A|       A4|Veolia Transportaton|   3 years|          RENT|     36000|    Source Verified|01-12-2011|         n|                null|           wedding|My wedding loan I...|   852xx|        AZ| 11.2|          0|      01-11-2004|             3|                  null|                  null|       9|      0|     7963|      28.3|       12|                  f|        0|            0|5631.377753|        5631.38|           5000|       631.38|                 0|         0|                      0|  01-01-2015|         161.03|        null|        01-09-2015|                         0|                       null|          1|      INDIVIDUAL|            null|     null|                     null|             0|        null|       null|       null|      null|       null|       null|              null|        null|   null|       null|       null|      null|    null|            null|  null|       null|        null|          0|         0.0|\n",
            "|1069639|  1304742|     7000|       7000|         7000.0| 60 months|   15.96|     170.08|    C|       C5|Southern Star Pho...|   8 years|          RENT|     47004|       Not Verified|01-12-2011|         n|  Borrower added ...|debt_consolidation|                Loan|   280xx|        NC|23.51|          0|      01-07-2005|             1|                  null|                  null|       7|      0|    17726|      85.6|       11|                  f|  1889.15|      1889.15|    8136.84|        8136.84|        5110.85|      3025.99|                 0|         0|                      0|  01-01-2016|         170.08|  01-02-2016|        01-01-2016|                         0|                       null|          1|      INDIVIDUAL|            null|     null|                     null|             0|        null|       null|       null|      null|       null|       null|              null|        null|   null|       null|       null|      null|    null|            null|  null|       null|        null|          0|         1.0|\n",
            "|1072053|  1288686|     3000|       3000|         3000.0| 36 months|   18.64|     109.43|    E|       E1|     MKC Accounting |   9 years|          RENT|     48000|    Source Verified|01-12-2011|         n|  Borrower added ...|               car|     Car Downpayment|   900xx|        CA| 5.35|          0|      01-01-2007|             2|                  null|                  null|       4|      0|     8221|      87.5|        4|                  f|        0|            0|3938.144334|        3938.14|           3000|       938.14|                 0|         0|                      0|  01-01-2015|         111.34|        null|        01-12-2014|                         0|                       null|          1|      INDIVIDUAL|            null|     null|                     null|             0|        null|       null|       null|      null|       null|       null|              null|        null|   null|       null|       null|      null|    null|            null|  null|       null|        null|          0|         0.0|\n",
            "|1071795|  1306957|     5600|       5600|         5600.0| 60 months|   21.28|     152.39|    F|       F2|                null|   4 years|           OWN|     40000|    Source Verified|01-12-2011|         n|  Borrower added ...|    small_business|Expand Business &...|   958xx|        CA| 5.55|          0|      01-04-2004|             2|                  null|                  null|      11|      0|     5210|      32.6|       13|                  f|        0|            0|     646.02|         646.02|         162.02|       294.94|                 0|    189.06|                   2.09|  01-04-2012|         152.39|        null|        01-08-2012|                         0|                       null|          1|      INDIVIDUAL|            null|     null|                     null|             0|        null|       null|       null|      null|       null|       null|              null|        null|   null|       null|       null|      null|    null|            null|  null|       null|        null|          1|         1.0|\n",
            "|1071570|  1306721|     5375|       5375|         5350.0| 60 months|   12.69|     121.45|    B|       B5|           Starbucks|  < 1 year|          RENT|     15000|           Verified|01-12-2011|         n|  Borrower added ...|             other|Building my credi...|   774xx|        TX|18.08|          0|      01-09-2004|             0|                  null|                  null|       2|      0|     9279|      36.5|        3|                  f|        0|            0|    1476.19|        1469.34|         673.48|       533.42|                 0|    269.29|                   2.52|  01-11-2012|         121.45|        null|        01-03-2013|                         0|                       null|          1|      INDIVIDUAL|            null|     null|                     null|             0|        null|       null|       null|      null|       null|       null|              null|        null|   null|       null|       null|      null|    null|            null|  null|       null|        null|          1|         1.0|\n",
            "|1070078|  1305201|     6500|       6500|         6500.0| 60 months|   14.65|     153.45|    C|       C3|Southwest Rural m...|   5 years|           OWN|     72000|       Not Verified|01-12-2011|         n|  Borrower added ...|debt_consolidation|High intrest Cons...|   853xx|        AZ|16.12|          0|      01-01-1998|             2|                  null|                  null|      14|      0|     4032|      20.6|       23|                  f|        0|            0|    7677.52|        7677.52|           6500|      1177.52|                 0|         0|                      0|  01-06-2013|        1655.54|        null|        01-12-2015|                         0|                       null|          1|      INDIVIDUAL|            null|     null|                     null|             0|        null|       null|       null|      null|       null|       null|              null|        null|   null|       null|       null|      null|    null|            null|  null|       null|        null|          0|         1.0|\n",
            "|1069908|  1305008|    12000|      12000|        12000.0| 36 months|   12.69|     402.54|    B|       B5|                UCLA| 10+ years|           OWN|     75000|    Source Verified|01-12-2011|         n|                null|debt_consolidation|       Consolidation|   913xx|        CA|10.78|          0|      01-10-1989|             0|                  null|                  null|      12|      0|    23336|      67.1|       34|                  f|        0|            0|   13943.08|       13943.08|          12000|      1943.08|                 0|         0|                      0|  01-09-2013|         6315.3|        null|        01-08-2013|                         0|                       null|          1|      INDIVIDUAL|            null|     null|                     null|             0|        null|       null|       null|      null|       null|       null|              null|        null|   null|       null|       null|      null|    null|            null|  null|       null|        null|          0|         0.0|\n",
            "|1064687|  1298717|     9000|       9000|         9000.0| 36 months|   13.49|     305.38|    C|       C1|Va. Dept of Conse...|  < 1 year|          RENT|     30000|    Source Verified|01-12-2011|         n|  Borrower added ...|debt_consolidation|             freedom|   245xx|        VA|10.08|          0|      01-04-2004|             1|                  null|                  null|       4|      0|    10452|      91.7|        9|                  f|        0|            0|     2270.7|         2270.7|        1256.14|       570.26|                 0|     444.3|                   4.16|  01-07-2012|         305.38|        null|        01-11-2012|                         0|                       null|          1|      INDIVIDUAL|            null|     null|                     null|             0|        null|       null|       null|      null|       null|       null|              null|        null|   null|       null|       null|      null|    null|            null|  null|       null|        null|          1|         0.0|\n",
            "|1069866|  1304956|     3000|       3000|         3000.0| 36 months|    9.91|      96.68|    B|       B1|              Target|   3 years|          RENT|     15000|    Source Verified|01-12-2011|         n|  Borrower added ...|       credit_card|       citicard fund|   606xx|        IL|12.56|          0|      01-07-2003|             2|                  null|                  null|      11|      0|     7323|      43.1|       11|                  f|        0|            0|3478.981915|        3478.98|           3000|       478.98|                 0|         0|                      0|  01-01-2015|         102.43|        null|        01-01-2016|                         0|                       null|          1|      INDIVIDUAL|            null|     null|                     null|             0|        null|       null|       null|      null|       null|       null|              null|        null|   null|       null|       null|      null|    null|            null|  null|       null|        null|          0|         0.0|\n",
            "|1069057|  1303503|    10000|      10000|        10000.0| 36 months|   10.65|     325.74|    B|       B2|               SFMTA|   3 years|          RENT|    100000|    Source Verified|01-12-2011|         n|                null|             other|          Other Loan|   951xx|        CA| 7.06|          0|      01-05-1991|             2|                  null|                  null|      14|      0|    11997|      55.5|       29|                  f|        0|            0|    7471.99|        7471.99|        5433.47|      1393.42|                 0|     645.1|                 6.3145|  01-10-2013|         325.74|        null|        01-03-2014|                         0|                       null|          1|      INDIVIDUAL|            null|     null|                     null|             0|        null|       null|       null|      null|       null|       null|              null|        null|   null|       null|       null|      null|    null|            null|  null|       null|        null|          1|         0.0|\n",
            "|1069759|  1304871|     1000|       1000|         1000.0| 36 months|   16.29|      35.31|    D|       D1|Internal revenue ...|  < 1 year|          RENT|     28000|       Not Verified|01-12-2011|         n|                null|debt_consolidation|Debt Consolidatio...|   641xx|        MO|20.31|          0|      01-09-2007|             1|                  null|                  null|      11|      0|     6524|      81.5|       23|                  f|        0|            0|1270.171106|        1270.17|           1000|       270.17|                 0|         0|                      0|  01-01-2015|          36.32|        null|        01-01-2016|                         0|                       null|          1|      INDIVIDUAL|            null|     null|                     null|             0|        null|       null|       null|      null|       null|       null|              null|        null|   null|       null|       null|      null|    null|            null|  null|       null|        null|          0|         0.0|\n",
            "|1065775|  1299699|    10000|      10000|        10000.0| 36 months|   15.27|     347.98|    C|       C4|   Chin's Restaurant|   4 years|          RENT|     42000|       Not Verified|01-12-2011|         n|                null|  home_improvement|                Home|   921xx|        CA| 18.6|          0|      01-10-1998|             2|                    61|                  null|      14|      0|    24043|      70.2|       28|                  f|        0|            0|12519.26045|       12519.26|          10000|      2519.26|                 0|         0|                      0|  01-01-2015|         370.46|        null|        01-04-2015|                         0|                       null|          1|      INDIVIDUAL|            null|     null|                     null|             0|        null|       null|       null|      null|       null|       null|              null|        null|   null|       null|       null|      null|    null|            null|  null|       null|        null|          0|         0.0|\n",
            "|1069971|  1304884|     3600|       3600|         3600.0| 36 months|    6.03|     109.57|    A|       A1|            Duracell| 10+ years|      MORTGAGE|    110000|       Not Verified|01-12-2011|         n|  Borrower added ...|    major_purchase|             Holiday|   067xx|        CT|10.52|          0|      01-08-1993|             0|                  null|                  null|      20|      0|    22836|        16|       42|                  f|        0|            0|    3785.02|        3785.02|           3600|       185.02|                 0|         0|                      0|  01-05-2013|         583.45|        null|        01-05-2014|                         0|                       null|          1|      INDIVIDUAL|            null|     null|                     null|             0|        null|       null|       null|      null|       null|       null|              null|        null|   null|       null|       null|      null|    null|            null|  null|       null|        null|          0|         0.0|\n",
            "|1062474|  1294539|     6000|       6000|         6000.0| 36 months|   11.71|     198.46|    B|       B3|Connection Inspec...|    1 year|      MORTGAGE|     84000|           Verified|01-12-2011|         n|  Borrower added ...|           medical|             Medical|   890xx|        UT|18.44|          2|      01-10-2003|             0|                     8|                  null|       4|      0|        0|     37.73|       14|                  f|        0|            0|7164.499852|         7164.5|           6000|       1149.5|                15|         0|                      0|  01-02-2015|          16.98|        null|        01-07-2015|                         0|                       null|          1|      INDIVIDUAL|            null|     null|                     null|             0|        null|       null|       null|      null|       null|       null|              null|        null|   null|       null|       null|      null|    null|            null|  null|       null|        null|          0|         0.0|\n",
            "|1069742|  1304855|     9200|       9200|         9200.0| 36 months|    6.03|     280.01|    A|       A1|Network Interpret...|   6 years|          RENT|  77385.19|       Not Verified|01-12-2011|         n|                null|debt_consolidation|lowerratemeanseas...|   921xx|        CA| 9.86|          0|      01-01-2001|             0|                  null|                  null|       8|      0|     7314|      23.1|       28|                  f|        0|            0|    9459.96|        9459.96|           9200|       259.96|                 0|         0|                      0|  01-07-2012|         8061.1|        null|        01-07-2012|                         0|                       null|          1|      INDIVIDUAL|            null|     null|                     null|             0|        null|       null|       null|      null|       null|       null|              null|        null|   null|       null|       null|      null|    null|            null|  null|       null|        null|          0|         0.0|\n",
            "+-------+---------+---------+-----------+---------------+----------+--------+-----------+-----+---------+--------------------+----------+--------------+----------+-------------------+----------+----------+--------------------+------------------+--------------------+--------+----------+-----+-----------+----------------+--------------+----------------------+----------------------+--------+-------+---------+----------+---------+-------------------+---------+-------------+-----------+---------------+---------------+-------------+------------------+----------+-----------------------+------------+---------------+------------+------------------+--------------------------+---------------------------+-----------+----------------+----------------+---------+-------------------------+--------------+------------+-----------+-----------+----------+-----------+-----------+------------------+------------+-------+-----------+-----------+----------+--------+----------------+------+-----------+------------+-----------+------------+\n",
            "only showing top 20 rows\n",
            "\n"
          ]
        }
      ],
      "source": [
        "#if it is allowed: \n",
        "from pyspark.ml.feature import StringIndexer\n",
        "indexer = StringIndexer(inputCol='term', outputCol='term_numeric')\n",
        "indexer_fitted = indexer.fit(data)\n",
        "df_indexed = indexer_fitted.transform(data)\n",
        "df_indexed.show()"
      ]
    },
    {
      "cell_type": "code",
      "execution_count": null,
      "metadata": {
        "colab": {
          "background_save": true
        },
        "id": "nwebcHM63xnz"
      },
      "outputs": [],
      "source": [
        "#to replace null with n/a\n",
        "from pyspark.sql.functions import col,lit\n",
        "columns_string_replace = [\"emp_title\",\"desc\",\"zip_code\",\"addr_state\",\"dti\",\"delinq_2yrs\",\"earliest_cr_line\",\"purpose\",\"title\",\"initial_list_status\",\"application_type\",\"inq_last_6mths\",\"mths_since_last_delinq\",\n",
        "                          \"mths_since_last_record\",\"open_acc\",\"pub_rec\",\"revol_bal\",\"revol_util\",\"total_acc\",\"initial_list_status\",\"out_prncp\",\"out_prncp_inv\",\"total_pymnt\",\"total_pymnt_inv\",\"total_rec_prncp\", \n",
        "                          \"total_rec_prncp\",\"total_rec_int\",\"total_rec_late_fee\",\"recoveries\",\"collection_recovery_fee\",\"last_pymnt_d\",\"last_pymnt_amnt\",\"next_pymnt_d\",\"last_credit_pull_d\",\"collections_12_mths_ex_med\",\n",
        "                          'mths_since_last_major_derog', 'policy_code', 'application_type', 'annual_inc_joint', 'dti_joint', 'verification_status_joint', 'acc_now_delinq', 'tot_coll_amt' , 'tot_cur_bal', 'open_acc_6m', 'open_il_6m', \n",
        "                          'open_il_12m', 'open_il_24m', 'mths_since_rcnt_il', 'total_bal_il', 'il_util', 'open_rv_12m', 'open_rv_24m', 'max_bal_bc', 'all_util', 'total_rev_hi_lim', 'inq_fi', 'total_cu_tl' ]\n",
        "\n",
        "for i in columns_string_replace:\n",
        "  data = data.withColumn(i, when(data[i].isNull(), lit(\"n/a\")).otherwise(data[i]))\n",
        "\n",
        "data = data.withColumn(\"inq_last_12m\", when(data[\"inq_last_12m\"].isNull(), lit(0)).otherwise(data[\"inq_last_12m\"]))"
      ]
    },
    {
      "cell_type": "code",
      "execution_count": null,
      "metadata": {
        "colab": {
          "background_save": true
        },
        "id": "JdtzTUoI9S3h",
        "outputId": "f9d558cb-7816-4b93-c98d-9844d1be0c2d"
      },
      "outputs": [
        {
          "name": "stdout",
          "output_type": "stream",
          "text": [
            "+-------+---------+---------+-----------+---------------+----------+--------+-----------+-----+---------+--------------------+----------+--------------+----------+-------------------+----------+----------+--------------------+------------------+--------------------+--------+----------+-----+-----------+----------------+--------------+----------------------+----------------------+--------+-------+---------+----------+---------+-------------------+---------+-------------+-----------+---------------+---------------+-------------+------------------+----------+-----------------------+------------+---------------+------------+------------------+--------------------------+---------------------------+-----------+----------------+----------------+---------+-------------------------+--------------+------------+-----------+-----------+----------+-----------+-----------+------------------+------------+-------+-----------+-----------+----------+--------+----------------+------+-----------+------------+-----------+\n",
            "|     id|member_id|loan_amnt|funded_amnt|funded_amnt_inv|      term|int_rate|installment|grade|sub_grade|           emp_title|emp_length|home_ownership|annual_inc|verification_status|   issue_d|pymnt_plan|                desc|           purpose|               title|zip_code|addr_state|  dti|delinq_2yrs|earliest_cr_line|inq_last_6mths|mths_since_last_delinq|mths_since_last_record|open_acc|pub_rec|revol_bal|revol_util|total_acc|initial_list_status|out_prncp|out_prncp_inv|total_pymnt|total_pymnt_inv|total_rec_prncp|total_rec_int|total_rec_late_fee|recoveries|collection_recovery_fee|last_pymnt_d|last_pymnt_amnt|next_pymnt_d|last_credit_pull_d|collections_12_mths_ex_med|mths_since_last_major_derog|policy_code|application_type|annual_inc_joint|dti_joint|verification_status_joint|acc_now_delinq|tot_coll_amt|tot_cur_bal|open_acc_6m|open_il_6m|open_il_12m|open_il_24m|mths_since_rcnt_il|total_bal_il|il_util|open_rv_12m|open_rv_24m|max_bal_bc|all_util|total_rev_hi_lim|inq_fi|total_cu_tl|inq_last_12m|default_ind|\n",
            "+-------+---------+---------+-----------+---------------+----------+--------+-----------+-----+---------+--------------------+----------+--------------+----------+-------------------+----------+----------+--------------------+------------------+--------------------+--------+----------+-----+-----------+----------------+--------------+----------------------+----------------------+--------+-------+---------+----------+---------+-------------------+---------+-------------+-----------+---------------+---------------+-------------+------------------+----------+-----------------------+------------+---------------+------------+------------------+--------------------------+---------------------------+-----------+----------------+----------------+---------+-------------------------+--------------+------------+-----------+-----------+----------+-----------+-----------+------------------+------------+-------+-----------+-----------+----------+--------+----------------+------+-----------+------------+-----------+\n",
            "|1077501|  1296599|     5000|       5000|         4975.0| 36 months|   10.65|     162.87|    B|       B2|                 n/a| 10+ years|          RENT|     24000|           Verified|01-12-2011|         n|  Borrower added ...|       credit_card|            Computer|   860xx|        AZ|27.65|          0|      01-01-1985|             1|                   n/a|                   n/a|       3|      0|    13648|      83.7|        9|                  f|        0|            0|5861.071414|        5831.78|           5000|       861.07|                 0|         0|                      0|  01-01-2015|         171.62|         n/a|        01-01-2016|                         0|                        n/a|          1|      INDIVIDUAL|             n/a|      n/a|                      n/a|             0|         n/a|        n/a|        n/a|       n/a|        n/a|        n/a|               n/a|         n/a|    n/a|        n/a|        n/a|       n/a|     n/a|             n/a|   n/a|        n/a|           0|          0|\n",
            "|1077430|  1314167|     2500|       2500|         2500.0| 60 months|   15.27|      59.83|    C|       C4|               Ryder|  < 1 year|          RENT|     30000|    Source Verified|01-12-2011|         n|  Borrower added ...|               car|                bike|   309xx|        GA|    1|          0|      01-04-1999|             5|                   n/a|                   n/a|       3|      0|     1687|       9.4|        4|                  f|        0|            0|    1008.71|        1008.71|         456.46|       435.17|                 0|    117.08|                   1.11|  01-04-2013|         119.66|         n/a|        01-09-2013|                         0|                        n/a|          1|      INDIVIDUAL|             n/a|      n/a|                      n/a|             0|         n/a|        n/a|        n/a|       n/a|        n/a|        n/a|               n/a|         n/a|    n/a|        n/a|        n/a|       n/a|     n/a|             n/a|   n/a|        n/a|           0|          1|\n",
            "|1077175|  1313524|     2400|       2400|         2400.0| 36 months|   15.96|      84.33|    C|       C5|                 n/a| 10+ years|          RENT|     12252|       Not Verified|01-12-2011|         n|                 n/a|    small_business|real estate business|   606xx|        IL| 8.72|          0|      01-11-2001|             2|                   n/a|                   n/a|       2|      0|     2956|      98.5|       10|                  f|        0|            0|3003.653644|        3003.65|           2400|       603.65|                 0|         0|                      0|  01-06-2014|         649.91|         n/a|        01-01-2016|                         0|                        n/a|          1|      INDIVIDUAL|             n/a|      n/a|                      n/a|             0|         n/a|        n/a|        n/a|       n/a|        n/a|        n/a|               n/a|         n/a|    n/a|        n/a|        n/a|       n/a|     n/a|             n/a|   n/a|        n/a|           0|          0|\n",
            "|1076863|  1277178|    10000|      10000|        10000.0| 36 months|   13.49|     339.31|    C|       C1| AIR RESOURCES BOARD| 10+ years|          RENT|     49200|    Source Verified|01-12-2011|         n|  Borrower added ...|             other|            personel|   917xx|        CA|   20|          0|      01-02-1996|             1|                    35|                   n/a|      10|      0|     5598|        21|       37|                  f|        0|            0|12226.30221|        12226.3|          10000|      2209.33|             16.97|         0|                      0|  01-01-2015|         357.48|         n/a|        01-01-2015|                         0|                        n/a|          1|      INDIVIDUAL|             n/a|      n/a|                      n/a|             0|         n/a|        n/a|        n/a|       n/a|        n/a|        n/a|               n/a|         n/a|    n/a|        n/a|        n/a|       n/a|     n/a|             n/a|   n/a|        n/a|           0|          0|\n",
            "|1075358|  1311748|     3000|       3000|         3000.0| 60 months|   12.69|      67.79|    B|       B5|University Medica...|    1 year|          RENT|     80000|    Source Verified|01-12-2011|         n|  Borrower added ...|             other|            Personal|   972xx|        OR|17.94|          0|      01-01-1996|             0|                    38|                   n/a|      15|      0|    27783|      53.9|       38|                  f|    766.9|        766.9|    3242.17|        3242.17|         2233.1|      1009.07|                 0|         0|                      0|  01-01-2016|          67.79|  01-02-2016|        01-01-2016|                         0|                        n/a|          1|      INDIVIDUAL|             n/a|      n/a|                      n/a|             0|         n/a|        n/a|        n/a|       n/a|        n/a|        n/a|               n/a|         n/a|    n/a|        n/a|        n/a|       n/a|     n/a|             n/a|   n/a|        n/a|           0|          0|\n",
            "|1075269|  1311441|     5000|       5000|         5000.0| 36 months|     7.9|     156.46|    A|       A4|Veolia Transportaton|   3 years|          RENT|     36000|    Source Verified|01-12-2011|         n|                 n/a|           wedding|My wedding loan I...|   852xx|        AZ| 11.2|          0|      01-11-2004|             3|                   n/a|                   n/a|       9|      0|     7963|      28.3|       12|                  f|        0|            0|5631.377753|        5631.38|           5000|       631.38|                 0|         0|                      0|  01-01-2015|         161.03|         n/a|        01-09-2015|                         0|                        n/a|          1|      INDIVIDUAL|             n/a|      n/a|                      n/a|             0|         n/a|        n/a|        n/a|       n/a|        n/a|        n/a|               n/a|         n/a|    n/a|        n/a|        n/a|       n/a|     n/a|             n/a|   n/a|        n/a|           0|          0|\n",
            "|1069639|  1304742|     7000|       7000|         7000.0| 60 months|   15.96|     170.08|    C|       C5|Southern Star Pho...|   8 years|          RENT|     47004|       Not Verified|01-12-2011|         n|  Borrower added ...|debt_consolidation|                Loan|   280xx|        NC|23.51|          0|      01-07-2005|             1|                   n/a|                   n/a|       7|      0|    17726|      85.6|       11|                  f|  1889.15|      1889.15|    8136.84|        8136.84|        5110.85|      3025.99|                 0|         0|                      0|  01-01-2016|         170.08|  01-02-2016|        01-01-2016|                         0|                        n/a|          1|      INDIVIDUAL|             n/a|      n/a|                      n/a|             0|         n/a|        n/a|        n/a|       n/a|        n/a|        n/a|               n/a|         n/a|    n/a|        n/a|        n/a|       n/a|     n/a|             n/a|   n/a|        n/a|           0|          0|\n",
            "|1072053|  1288686|     3000|       3000|         3000.0| 36 months|   18.64|     109.43|    E|       E1|     MKC Accounting |   9 years|          RENT|     48000|    Source Verified|01-12-2011|         n|  Borrower added ...|               car|     Car Downpayment|   900xx|        CA| 5.35|          0|      01-01-2007|             2|                   n/a|                   n/a|       4|      0|     8221|      87.5|        4|                  f|        0|            0|3938.144334|        3938.14|           3000|       938.14|                 0|         0|                      0|  01-01-2015|         111.34|         n/a|        01-12-2014|                         0|                        n/a|          1|      INDIVIDUAL|             n/a|      n/a|                      n/a|             0|         n/a|        n/a|        n/a|       n/a|        n/a|        n/a|               n/a|         n/a|    n/a|        n/a|        n/a|       n/a|     n/a|             n/a|   n/a|        n/a|           0|          0|\n",
            "|1071795|  1306957|     5600|       5600|         5600.0| 60 months|   21.28|     152.39|    F|       F2|                 n/a|   4 years|           OWN|     40000|    Source Verified|01-12-2011|         n|  Borrower added ...|    small_business|Expand Business &...|   958xx|        CA| 5.55|          0|      01-04-2004|             2|                   n/a|                   n/a|      11|      0|     5210|      32.6|       13|                  f|        0|            0|     646.02|         646.02|         162.02|       294.94|                 0|    189.06|                   2.09|  01-04-2012|         152.39|         n/a|        01-08-2012|                         0|                        n/a|          1|      INDIVIDUAL|             n/a|      n/a|                      n/a|             0|         n/a|        n/a|        n/a|       n/a|        n/a|        n/a|               n/a|         n/a|    n/a|        n/a|        n/a|       n/a|     n/a|             n/a|   n/a|        n/a|           0|          1|\n",
            "|1071570|  1306721|     5375|       5375|         5350.0| 60 months|   12.69|     121.45|    B|       B5|           Starbucks|  < 1 year|          RENT|     15000|           Verified|01-12-2011|         n|  Borrower added ...|             other|Building my credi...|   774xx|        TX|18.08|          0|      01-09-2004|             0|                   n/a|                   n/a|       2|      0|     9279|      36.5|        3|                  f|        0|            0|    1476.19|        1469.34|         673.48|       533.42|                 0|    269.29|                   2.52|  01-11-2012|         121.45|         n/a|        01-03-2013|                         0|                        n/a|          1|      INDIVIDUAL|             n/a|      n/a|                      n/a|             0|         n/a|        n/a|        n/a|       n/a|        n/a|        n/a|               n/a|         n/a|    n/a|        n/a|        n/a|       n/a|     n/a|             n/a|   n/a|        n/a|           0|          1|\n",
            "|1070078|  1305201|     6500|       6500|         6500.0| 60 months|   14.65|     153.45|    C|       C3|Southwest Rural m...|   5 years|           OWN|     72000|       Not Verified|01-12-2011|         n|  Borrower added ...|debt_consolidation|High intrest Cons...|   853xx|        AZ|16.12|          0|      01-01-1998|             2|                   n/a|                   n/a|      14|      0|     4032|      20.6|       23|                  f|        0|            0|    7677.52|        7677.52|           6500|      1177.52|                 0|         0|                      0|  01-06-2013|        1655.54|         n/a|        01-12-2015|                         0|                        n/a|          1|      INDIVIDUAL|             n/a|      n/a|                      n/a|             0|         n/a|        n/a|        n/a|       n/a|        n/a|        n/a|               n/a|         n/a|    n/a|        n/a|        n/a|       n/a|     n/a|             n/a|   n/a|        n/a|           0|          0|\n",
            "|1069908|  1305008|    12000|      12000|        12000.0| 36 months|   12.69|     402.54|    B|       B5|                UCLA| 10+ years|           OWN|     75000|    Source Verified|01-12-2011|         n|                 n/a|debt_consolidation|       Consolidation|   913xx|        CA|10.78|          0|      01-10-1989|             0|                   n/a|                   n/a|      12|      0|    23336|      67.1|       34|                  f|        0|            0|   13943.08|       13943.08|          12000|      1943.08|                 0|         0|                      0|  01-09-2013|         6315.3|         n/a|        01-08-2013|                         0|                        n/a|          1|      INDIVIDUAL|             n/a|      n/a|                      n/a|             0|         n/a|        n/a|        n/a|       n/a|        n/a|        n/a|               n/a|         n/a|    n/a|        n/a|        n/a|       n/a|     n/a|             n/a|   n/a|        n/a|           0|          0|\n",
            "|1064687|  1298717|     9000|       9000|         9000.0| 36 months|   13.49|     305.38|    C|       C1|Va. Dept of Conse...|  < 1 year|          RENT|     30000|    Source Verified|01-12-2011|         n|  Borrower added ...|debt_consolidation|             freedom|   245xx|        VA|10.08|          0|      01-04-2004|             1|                   n/a|                   n/a|       4|      0|    10452|      91.7|        9|                  f|        0|            0|     2270.7|         2270.7|        1256.14|       570.26|                 0|     444.3|                   4.16|  01-07-2012|         305.38|         n/a|        01-11-2012|                         0|                        n/a|          1|      INDIVIDUAL|             n/a|      n/a|                      n/a|             0|         n/a|        n/a|        n/a|       n/a|        n/a|        n/a|               n/a|         n/a|    n/a|        n/a|        n/a|       n/a|     n/a|             n/a|   n/a|        n/a|           0|          1|\n",
            "|1069866|  1304956|     3000|       3000|         3000.0| 36 months|    9.91|      96.68|    B|       B1|              Target|   3 years|          RENT|     15000|    Source Verified|01-12-2011|         n|  Borrower added ...|       credit_card|       citicard fund|   606xx|        IL|12.56|          0|      01-07-2003|             2|                   n/a|                   n/a|      11|      0|     7323|      43.1|       11|                  f|        0|            0|3478.981915|        3478.98|           3000|       478.98|                 0|         0|                      0|  01-01-2015|         102.43|         n/a|        01-01-2016|                         0|                        n/a|          1|      INDIVIDUAL|             n/a|      n/a|                      n/a|             0|         n/a|        n/a|        n/a|       n/a|        n/a|        n/a|               n/a|         n/a|    n/a|        n/a|        n/a|       n/a|     n/a|             n/a|   n/a|        n/a|           0|          0|\n",
            "|1069057|  1303503|    10000|      10000|        10000.0| 36 months|   10.65|     325.74|    B|       B2|               SFMTA|   3 years|          RENT|    100000|    Source Verified|01-12-2011|         n|                 n/a|             other|          Other Loan|   951xx|        CA| 7.06|          0|      01-05-1991|             2|                   n/a|                   n/a|      14|      0|    11997|      55.5|       29|                  f|        0|            0|    7471.99|        7471.99|        5433.47|      1393.42|                 0|     645.1|                 6.3145|  01-10-2013|         325.74|         n/a|        01-03-2014|                         0|                        n/a|          1|      INDIVIDUAL|             n/a|      n/a|                      n/a|             0|         n/a|        n/a|        n/a|       n/a|        n/a|        n/a|               n/a|         n/a|    n/a|        n/a|        n/a|       n/a|     n/a|             n/a|   n/a|        n/a|           0|          1|\n",
            "|1069759|  1304871|     1000|       1000|         1000.0| 36 months|   16.29|      35.31|    D|       D1|Internal revenue ...|  < 1 year|          RENT|     28000|       Not Verified|01-12-2011|         n|                 n/a|debt_consolidation|Debt Consolidatio...|   641xx|        MO|20.31|          0|      01-09-2007|             1|                   n/a|                   n/a|      11|      0|     6524|      81.5|       23|                  f|        0|            0|1270.171106|        1270.17|           1000|       270.17|                 0|         0|                      0|  01-01-2015|          36.32|         n/a|        01-01-2016|                         0|                        n/a|          1|      INDIVIDUAL|             n/a|      n/a|                      n/a|             0|         n/a|        n/a|        n/a|       n/a|        n/a|        n/a|               n/a|         n/a|    n/a|        n/a|        n/a|       n/a|     n/a|             n/a|   n/a|        n/a|           0|          0|\n",
            "|1065775|  1299699|    10000|      10000|        10000.0| 36 months|   15.27|     347.98|    C|       C4|   Chin's Restaurant|   4 years|          RENT|     42000|       Not Verified|01-12-2011|         n|                 n/a|  home_improvement|                Home|   921xx|        CA| 18.6|          0|      01-10-1998|             2|                    61|                   n/a|      14|      0|    24043|      70.2|       28|                  f|        0|            0|12519.26045|       12519.26|          10000|      2519.26|                 0|         0|                      0|  01-01-2015|         370.46|         n/a|        01-04-2015|                         0|                        n/a|          1|      INDIVIDUAL|             n/a|      n/a|                      n/a|             0|         n/a|        n/a|        n/a|       n/a|        n/a|        n/a|               n/a|         n/a|    n/a|        n/a|        n/a|       n/a|     n/a|             n/a|   n/a|        n/a|           0|          0|\n",
            "|1069971|  1304884|     3600|       3600|         3600.0| 36 months|    6.03|     109.57|    A|       A1|            Duracell| 10+ years|      MORTGAGE|    110000|       Not Verified|01-12-2011|         n|  Borrower added ...|    major_purchase|             Holiday|   067xx|        CT|10.52|          0|      01-08-1993|             0|                   n/a|                   n/a|      20|      0|    22836|        16|       42|                  f|        0|            0|    3785.02|        3785.02|           3600|       185.02|                 0|         0|                      0|  01-05-2013|         583.45|         n/a|        01-05-2014|                         0|                        n/a|          1|      INDIVIDUAL|             n/a|      n/a|                      n/a|             0|         n/a|        n/a|        n/a|       n/a|        n/a|        n/a|               n/a|         n/a|    n/a|        n/a|        n/a|       n/a|     n/a|             n/a|   n/a|        n/a|           0|          0|\n",
            "|1062474|  1294539|     6000|       6000|         6000.0| 36 months|   11.71|     198.46|    B|       B3|Connection Inspec...|    1 year|      MORTGAGE|     84000|           Verified|01-12-2011|         n|  Borrower added ...|           medical|             Medical|   890xx|        UT|18.44|          2|      01-10-2003|             0|                     8|                   n/a|       4|      0|        0|     37.73|       14|                  f|        0|            0|7164.499852|         7164.5|           6000|       1149.5|                15|         0|                      0|  01-02-2015|          16.98|         n/a|        01-07-2015|                         0|                        n/a|          1|      INDIVIDUAL|             n/a|      n/a|                      n/a|             0|         n/a|        n/a|        n/a|       n/a|        n/a|        n/a|               n/a|         n/a|    n/a|        n/a|        n/a|       n/a|     n/a|             n/a|   n/a|        n/a|           0|          0|\n",
            "|1069742|  1304855|     9200|       9200|         9200.0| 36 months|    6.03|     280.01|    A|       A1|Network Interpret...|   6 years|          RENT|  77385.19|       Not Verified|01-12-2011|         n|                 n/a|debt_consolidation|lowerratemeanseas...|   921xx|        CA| 9.86|          0|      01-01-2001|             0|                   n/a|                   n/a|       8|      0|     7314|      23.1|       28|                  f|        0|            0|    9459.96|        9459.96|           9200|       259.96|                 0|         0|                      0|  01-07-2012|         8061.1|         n/a|        01-07-2012|                         0|                        n/a|          1|      INDIVIDUAL|             n/a|      n/a|                      n/a|             0|         n/a|        n/a|        n/a|       n/a|        n/a|        n/a|               n/a|         n/a|    n/a|        n/a|        n/a|       n/a|     n/a|             n/a|   n/a|        n/a|           0|          0|\n",
            "+-------+---------+---------+-----------+---------------+----------+--------+-----------+-----+---------+--------------------+----------+--------------+----------+-------------------+----------+----------+--------------------+------------------+--------------------+--------+----------+-----+-----------+----------------+--------------+----------------------+----------------------+--------+-------+---------+----------+---------+-------------------+---------+-------------+-----------+---------------+---------------+-------------+------------------+----------+-----------------------+------------+---------------+------------+------------------+--------------------------+---------------------------+-----------+----------------+----------------+---------+-------------------------+--------------+------------+-----------+-----------+----------+-----------+-----------+------------------+------------+-------+-----------+-----------+----------+--------+----------------+------+-----------+------------+-----------+\n",
            "only showing top 20 rows\n",
            "\n"
          ]
        }
      ],
      "source": [
        "data.show()"
      ]
    },
    {
      "cell_type": "code",
      "execution_count": null,
      "metadata": {
        "colab": {
          "background_save": true
        },
        "id": "08RkKY2I5GSs"
      },
      "outputs": [],
      "source": [
        "def find_outliers(df):\n",
        "\n",
        "    # Identifying the numerical columns in a spark dataframe\n",
        "    numeric_columns = [column[0] for column in df.dtypes if column[1]=='int']\n",
        "\n",
        "    # Using the `for` loop to create new columns by identifying the outliers for each feature\n",
        "    for column in numeric_columns:\n",
        "\n",
        "        less_Q1 = 'less_Q1_{}'.format(column)\n",
        "        more_Q3 = 'more_Q3_{}'.format(column)\n",
        "        Q1 = 'Q1_{}'.format(column)\n",
        "        Q3 = 'Q3_{}'.format(column)\n",
        "\n",
        "        # Q1 : First Quartile ., Q3 : Third Quartile\n",
        "        Q1 = df.approxQuantile(column,[0.25],relativeError=0)\n",
        "        Q3 = df.approxQuantile(column,[0.75],relativeError=0)\n",
        "        \n",
        "        # IQR : Inter Quantile Range\n",
        "        # We need to define the index [0], as Q1 & Q3 are a set of lists., to perform a mathematical operation\n",
        "        # Q1 & Q3 are defined seperately so as to have a clear indication on First Quantile & 3rd Quantile\n",
        "        IQR = Q3[0] - Q1[0]\n",
        "        \n",
        "        #selecting the data, with -1.5*IQR to + 1.5*IQR., where param = 1.5 default value\n",
        "        less_Q1 =  Q1[0] - 1.5*IQR\n",
        "        more_Q3 =  Q3[0] + 1.5*IQR\n",
        "        \n",
        "        isOutlierCol = 'is_outlier_{}'.format(column)\n",
        "        \n",
        "        df = df.withColumn(isOutlierCol, when((df[column] > more_Q3) | (df[column] < less_Q1), 1).otherwise(0))\n",
        "    \n",
        "\n",
        "    # Selecting the specific columns which we have added above, to check if there are any outliers\n",
        "    selected_columns = [column for column in df.columns if column.startswith(\"is_outlier\")]\n",
        "\n",
        "    # Adding all the outlier columns into a new colum \"total_outliers\", to see the total number of outliers\n",
        "    df = df.withColumn('total_outliers',sum(df[column] for column in selected_columns))\n",
        "\n",
        "    # Dropping the extra columns created above, just to create nice dataframe., without extra columns\n",
        "    df = df.drop(*[column for column in df.columns if column.startswith(\"is_outlier\")])\n",
        "\n",
        "    return df"
      ]
    },
    {
      "cell_type": "code",
      "execution_count": null,
      "metadata": {
        "colab": {
          "background_save": true
        },
        "id": "DsDOtzkc5SHz",
        "outputId": "959c5961-a550-4ef3-de68-7c24e42bf70a"
      },
      "outputs": [
        {
          "name": "stdout",
          "output_type": "stream",
          "text": [
            "+-------+---------+---------+-----------+---------------+----------+--------+-----------+-----+---------+--------------------+----------+--------------+----------+-------------------+----------+----------+--------------------+------------------+--------------------+--------+----------+-----+-----------+----------------+--------------+----------------------+----------------------+--------+-------+---------+----------+---------+-------------------+---------+-------------+-----------+---------------+---------------+-------------+------------------+----------+-----------------------+------------+---------------+------------+------------------+--------------------------+---------------------------+-----------+----------------+----------------+---------+-------------------------+--------------+------------+-----------+-----------+----------+-----------+-----------+------------------+------------+-------+-----------+-----------+----------+--------+----------------+------+-----------+------------+-----------+\n",
            "|     id|member_id|loan_amnt|funded_amnt|funded_amnt_inv|      term|int_rate|installment|grade|sub_grade|           emp_title|emp_length|home_ownership|annual_inc|verification_status|   issue_d|pymnt_plan|                desc|           purpose|               title|zip_code|addr_state|  dti|delinq_2yrs|earliest_cr_line|inq_last_6mths|mths_since_last_delinq|mths_since_last_record|open_acc|pub_rec|revol_bal|revol_util|total_acc|initial_list_status|out_prncp|out_prncp_inv|total_pymnt|total_pymnt_inv|total_rec_prncp|total_rec_int|total_rec_late_fee|recoveries|collection_recovery_fee|last_pymnt_d|last_pymnt_amnt|next_pymnt_d|last_credit_pull_d|collections_12_mths_ex_med|mths_since_last_major_derog|policy_code|application_type|annual_inc_joint|dti_joint|verification_status_joint|acc_now_delinq|tot_coll_amt|tot_cur_bal|open_acc_6m|open_il_6m|open_il_12m|open_il_24m|mths_since_rcnt_il|total_bal_il|il_util|open_rv_12m|open_rv_24m|max_bal_bc|all_util|total_rev_hi_lim|inq_fi|total_cu_tl|inq_last_12m|default_ind|\n",
            "+-------+---------+---------+-----------+---------------+----------+--------+-----------+-----+---------+--------------------+----------+--------------+----------+-------------------+----------+----------+--------------------+------------------+--------------------+--------+----------+-----+-----------+----------------+--------------+----------------------+----------------------+--------+-------+---------+----------+---------+-------------------+---------+-------------+-----------+---------------+---------------+-------------+------------------+----------+-----------------------+------------+---------------+------------+------------------+--------------------------+---------------------------+-----------+----------------+----------------+---------+-------------------------+--------------+------------+-----------+-----------+----------+-----------+-----------+------------------+------------+-------+-----------+-----------+----------+--------+----------------+------+-----------+------------+-----------+\n",
            "|1077501|  1296599|     5000|       5000|         4975.0| 36 months|   10.65|     162.87|    B|       B2|                 n/a| 10+ years|          RENT|     24000|           Verified|01-12-2011|         n|  Borrower added ...|       credit_card|            Computer|   860xx|        AZ|27.65|          0|      01-01-1985|             1|                   n/a|                   n/a|       3|      0|    13648|      83.7|        9|                  f|        0|            0|5861.071414|        5831.78|           5000|       861.07|                 0|         0|                      0|  01-01-2015|         171.62|         n/a|        01-01-2016|                         0|                        n/a|          1|      INDIVIDUAL|             n/a|      n/a|                      n/a|             0|         n/a|        n/a|        n/a|       n/a|        n/a|        n/a|               n/a|         n/a|    n/a|        n/a|        n/a|       n/a|     n/a|             n/a|   n/a|        n/a|           0|          0|\n",
            "|1077430|  1314167|     2500|       2500|         2500.0| 60 months|   15.27|      59.83|    C|       C4|               Ryder|  < 1 year|          RENT|     30000|    Source Verified|01-12-2011|         n|  Borrower added ...|               car|                bike|   309xx|        GA|    1|          0|      01-04-1999|             5|                   n/a|                   n/a|       3|      0|     1687|       9.4|        4|                  f|        0|            0|    1008.71|        1008.71|         456.46|       435.17|                 0|    117.08|                   1.11|  01-04-2013|         119.66|         n/a|        01-09-2013|                         0|                        n/a|          1|      INDIVIDUAL|             n/a|      n/a|                      n/a|             0|         n/a|        n/a|        n/a|       n/a|        n/a|        n/a|               n/a|         n/a|    n/a|        n/a|        n/a|       n/a|     n/a|             n/a|   n/a|        n/a|           0|          1|\n",
            "|1077175|  1313524|     2400|       2400|         2400.0| 36 months|   15.96|      84.33|    C|       C5|                 n/a| 10+ years|          RENT|     12252|       Not Verified|01-12-2011|         n|                 n/a|    small_business|real estate business|   606xx|        IL| 8.72|          0|      01-11-2001|             2|                   n/a|                   n/a|       2|      0|     2956|      98.5|       10|                  f|        0|            0|3003.653644|        3003.65|           2400|       603.65|                 0|         0|                      0|  01-06-2014|         649.91|         n/a|        01-01-2016|                         0|                        n/a|          1|      INDIVIDUAL|             n/a|      n/a|                      n/a|             0|         n/a|        n/a|        n/a|       n/a|        n/a|        n/a|               n/a|         n/a|    n/a|        n/a|        n/a|       n/a|     n/a|             n/a|   n/a|        n/a|           0|          0|\n",
            "|1076863|  1277178|    10000|      10000|        10000.0| 36 months|   13.49|     339.31|    C|       C1| AIR RESOURCES BOARD| 10+ years|          RENT|     49200|    Source Verified|01-12-2011|         n|  Borrower added ...|             other|            personel|   917xx|        CA|   20|          0|      01-02-1996|             1|                    35|                   n/a|      10|      0|     5598|        21|       37|                  f|        0|            0|12226.30221|        12226.3|          10000|      2209.33|             16.97|         0|                      0|  01-01-2015|         357.48|         n/a|        01-01-2015|                         0|                        n/a|          1|      INDIVIDUAL|             n/a|      n/a|                      n/a|             0|         n/a|        n/a|        n/a|       n/a|        n/a|        n/a|               n/a|         n/a|    n/a|        n/a|        n/a|       n/a|     n/a|             n/a|   n/a|        n/a|           0|          0|\n",
            "|1075358|  1311748|     3000|       3000|         3000.0| 60 months|   12.69|      67.79|    B|       B5|University Medica...|    1 year|          RENT|     80000|    Source Verified|01-12-2011|         n|  Borrower added ...|             other|            Personal|   972xx|        OR|17.94|          0|      01-01-1996|             0|                    38|                   n/a|      15|      0|    27783|      53.9|       38|                  f|    766.9|        766.9|    3242.17|        3242.17|         2233.1|      1009.07|                 0|         0|                      0|  01-01-2016|          67.79|  01-02-2016|        01-01-2016|                         0|                        n/a|          1|      INDIVIDUAL|             n/a|      n/a|                      n/a|             0|         n/a|        n/a|        n/a|       n/a|        n/a|        n/a|               n/a|         n/a|    n/a|        n/a|        n/a|       n/a|     n/a|             n/a|   n/a|        n/a|           0|          0|\n",
            "|1075269|  1311441|     5000|       5000|         5000.0| 36 months|     7.9|     156.46|    A|       A4|Veolia Transportaton|   3 years|          RENT|     36000|    Source Verified|01-12-2011|         n|                 n/a|           wedding|My wedding loan I...|   852xx|        AZ| 11.2|          0|      01-11-2004|             3|                   n/a|                   n/a|       9|      0|     7963|      28.3|       12|                  f|        0|            0|5631.377753|        5631.38|           5000|       631.38|                 0|         0|                      0|  01-01-2015|         161.03|         n/a|        01-09-2015|                         0|                        n/a|          1|      INDIVIDUAL|             n/a|      n/a|                      n/a|             0|         n/a|        n/a|        n/a|       n/a|        n/a|        n/a|               n/a|         n/a|    n/a|        n/a|        n/a|       n/a|     n/a|             n/a|   n/a|        n/a|           0|          0|\n",
            "|1069639|  1304742|     7000|       7000|         7000.0| 60 months|   15.96|     170.08|    C|       C5|Southern Star Pho...|   8 years|          RENT|     47004|       Not Verified|01-12-2011|         n|  Borrower added ...|debt_consolidation|                Loan|   280xx|        NC|23.51|          0|      01-07-2005|             1|                   n/a|                   n/a|       7|      0|    17726|      85.6|       11|                  f|  1889.15|      1889.15|    8136.84|        8136.84|        5110.85|      3025.99|                 0|         0|                      0|  01-01-2016|         170.08|  01-02-2016|        01-01-2016|                         0|                        n/a|          1|      INDIVIDUAL|             n/a|      n/a|                      n/a|             0|         n/a|        n/a|        n/a|       n/a|        n/a|        n/a|               n/a|         n/a|    n/a|        n/a|        n/a|       n/a|     n/a|             n/a|   n/a|        n/a|           0|          0|\n",
            "|1072053|  1288686|     3000|       3000|         3000.0| 36 months|   18.64|     109.43|    E|       E1|     MKC Accounting |   9 years|          RENT|     48000|    Source Verified|01-12-2011|         n|  Borrower added ...|               car|     Car Downpayment|   900xx|        CA| 5.35|          0|      01-01-2007|             2|                   n/a|                   n/a|       4|      0|     8221|      87.5|        4|                  f|        0|            0|3938.144334|        3938.14|           3000|       938.14|                 0|         0|                      0|  01-01-2015|         111.34|         n/a|        01-12-2014|                         0|                        n/a|          1|      INDIVIDUAL|             n/a|      n/a|                      n/a|             0|         n/a|        n/a|        n/a|       n/a|        n/a|        n/a|               n/a|         n/a|    n/a|        n/a|        n/a|       n/a|     n/a|             n/a|   n/a|        n/a|           0|          0|\n",
            "|1071795|  1306957|     5600|       5600|         5600.0| 60 months|   21.28|     152.39|    F|       F2|                 n/a|   4 years|           OWN|     40000|    Source Verified|01-12-2011|         n|  Borrower added ...|    small_business|Expand Business &...|   958xx|        CA| 5.55|          0|      01-04-2004|             2|                   n/a|                   n/a|      11|      0|     5210|      32.6|       13|                  f|        0|            0|     646.02|         646.02|         162.02|       294.94|                 0|    189.06|                   2.09|  01-04-2012|         152.39|         n/a|        01-08-2012|                         0|                        n/a|          1|      INDIVIDUAL|             n/a|      n/a|                      n/a|             0|         n/a|        n/a|        n/a|       n/a|        n/a|        n/a|               n/a|         n/a|    n/a|        n/a|        n/a|       n/a|     n/a|             n/a|   n/a|        n/a|           0|          1|\n",
            "|1071570|  1306721|     5375|       5375|         5350.0| 60 months|   12.69|     121.45|    B|       B5|           Starbucks|  < 1 year|          RENT|     15000|           Verified|01-12-2011|         n|  Borrower added ...|             other|Building my credi...|   774xx|        TX|18.08|          0|      01-09-2004|             0|                   n/a|                   n/a|       2|      0|     9279|      36.5|        3|                  f|        0|            0|    1476.19|        1469.34|         673.48|       533.42|                 0|    269.29|                   2.52|  01-11-2012|         121.45|         n/a|        01-03-2013|                         0|                        n/a|          1|      INDIVIDUAL|             n/a|      n/a|                      n/a|             0|         n/a|        n/a|        n/a|       n/a|        n/a|        n/a|               n/a|         n/a|    n/a|        n/a|        n/a|       n/a|     n/a|             n/a|   n/a|        n/a|           0|          1|\n",
            "|1070078|  1305201|     6500|       6500|         6500.0| 60 months|   14.65|     153.45|    C|       C3|Southwest Rural m...|   5 years|           OWN|     72000|       Not Verified|01-12-2011|         n|  Borrower added ...|debt_consolidation|High intrest Cons...|   853xx|        AZ|16.12|          0|      01-01-1998|             2|                   n/a|                   n/a|      14|      0|     4032|      20.6|       23|                  f|        0|            0|    7677.52|        7677.52|           6500|      1177.52|                 0|         0|                      0|  01-06-2013|        1655.54|         n/a|        01-12-2015|                         0|                        n/a|          1|      INDIVIDUAL|             n/a|      n/a|                      n/a|             0|         n/a|        n/a|        n/a|       n/a|        n/a|        n/a|               n/a|         n/a|    n/a|        n/a|        n/a|       n/a|     n/a|             n/a|   n/a|        n/a|           0|          0|\n",
            "|1069908|  1305008|    12000|      12000|        12000.0| 36 months|   12.69|     402.54|    B|       B5|                UCLA| 10+ years|           OWN|     75000|    Source Verified|01-12-2011|         n|                 n/a|debt_consolidation|       Consolidation|   913xx|        CA|10.78|          0|      01-10-1989|             0|                   n/a|                   n/a|      12|      0|    23336|      67.1|       34|                  f|        0|            0|   13943.08|       13943.08|          12000|      1943.08|                 0|         0|                      0|  01-09-2013|         6315.3|         n/a|        01-08-2013|                         0|                        n/a|          1|      INDIVIDUAL|             n/a|      n/a|                      n/a|             0|         n/a|        n/a|        n/a|       n/a|        n/a|        n/a|               n/a|         n/a|    n/a|        n/a|        n/a|       n/a|     n/a|             n/a|   n/a|        n/a|           0|          0|\n",
            "|1064687|  1298717|     9000|       9000|         9000.0| 36 months|   13.49|     305.38|    C|       C1|Va. Dept of Conse...|  < 1 year|          RENT|     30000|    Source Verified|01-12-2011|         n|  Borrower added ...|debt_consolidation|             freedom|   245xx|        VA|10.08|          0|      01-04-2004|             1|                   n/a|                   n/a|       4|      0|    10452|      91.7|        9|                  f|        0|            0|     2270.7|         2270.7|        1256.14|       570.26|                 0|     444.3|                   4.16|  01-07-2012|         305.38|         n/a|        01-11-2012|                         0|                        n/a|          1|      INDIVIDUAL|             n/a|      n/a|                      n/a|             0|         n/a|        n/a|        n/a|       n/a|        n/a|        n/a|               n/a|         n/a|    n/a|        n/a|        n/a|       n/a|     n/a|             n/a|   n/a|        n/a|           0|          1|\n",
            "|1069866|  1304956|     3000|       3000|         3000.0| 36 months|    9.91|      96.68|    B|       B1|              Target|   3 years|          RENT|     15000|    Source Verified|01-12-2011|         n|  Borrower added ...|       credit_card|       citicard fund|   606xx|        IL|12.56|          0|      01-07-2003|             2|                   n/a|                   n/a|      11|      0|     7323|      43.1|       11|                  f|        0|            0|3478.981915|        3478.98|           3000|       478.98|                 0|         0|                      0|  01-01-2015|         102.43|         n/a|        01-01-2016|                         0|                        n/a|          1|      INDIVIDUAL|             n/a|      n/a|                      n/a|             0|         n/a|        n/a|        n/a|       n/a|        n/a|        n/a|               n/a|         n/a|    n/a|        n/a|        n/a|       n/a|     n/a|             n/a|   n/a|        n/a|           0|          0|\n",
            "|1069057|  1303503|    10000|      10000|        10000.0| 36 months|   10.65|     325.74|    B|       B2|               SFMTA|   3 years|          RENT|    100000|    Source Verified|01-12-2011|         n|                 n/a|             other|          Other Loan|   951xx|        CA| 7.06|          0|      01-05-1991|             2|                   n/a|                   n/a|      14|      0|    11997|      55.5|       29|                  f|        0|            0|    7471.99|        7471.99|        5433.47|      1393.42|                 0|     645.1|                 6.3145|  01-10-2013|         325.74|         n/a|        01-03-2014|                         0|                        n/a|          1|      INDIVIDUAL|             n/a|      n/a|                      n/a|             0|         n/a|        n/a|        n/a|       n/a|        n/a|        n/a|               n/a|         n/a|    n/a|        n/a|        n/a|       n/a|     n/a|             n/a|   n/a|        n/a|           0|          1|\n",
            "|1069759|  1304871|     1000|       1000|         1000.0| 36 months|   16.29|      35.31|    D|       D1|Internal revenue ...|  < 1 year|          RENT|     28000|       Not Verified|01-12-2011|         n|                 n/a|debt_consolidation|Debt Consolidatio...|   641xx|        MO|20.31|          0|      01-09-2007|             1|                   n/a|                   n/a|      11|      0|     6524|      81.5|       23|                  f|        0|            0|1270.171106|        1270.17|           1000|       270.17|                 0|         0|                      0|  01-01-2015|          36.32|         n/a|        01-01-2016|                         0|                        n/a|          1|      INDIVIDUAL|             n/a|      n/a|                      n/a|             0|         n/a|        n/a|        n/a|       n/a|        n/a|        n/a|               n/a|         n/a|    n/a|        n/a|        n/a|       n/a|     n/a|             n/a|   n/a|        n/a|           0|          0|\n",
            "|1065775|  1299699|    10000|      10000|        10000.0| 36 months|   15.27|     347.98|    C|       C4|   Chin's Restaurant|   4 years|          RENT|     42000|       Not Verified|01-12-2011|         n|                 n/a|  home_improvement|                Home|   921xx|        CA| 18.6|          0|      01-10-1998|             2|                    61|                   n/a|      14|      0|    24043|      70.2|       28|                  f|        0|            0|12519.26045|       12519.26|          10000|      2519.26|                 0|         0|                      0|  01-01-2015|         370.46|         n/a|        01-04-2015|                         0|                        n/a|          1|      INDIVIDUAL|             n/a|      n/a|                      n/a|             0|         n/a|        n/a|        n/a|       n/a|        n/a|        n/a|               n/a|         n/a|    n/a|        n/a|        n/a|       n/a|     n/a|             n/a|   n/a|        n/a|           0|          0|\n",
            "|1069971|  1304884|     3600|       3600|         3600.0| 36 months|    6.03|     109.57|    A|       A1|            Duracell| 10+ years|      MORTGAGE|    110000|       Not Verified|01-12-2011|         n|  Borrower added ...|    major_purchase|             Holiday|   067xx|        CT|10.52|          0|      01-08-1993|             0|                   n/a|                   n/a|      20|      0|    22836|        16|       42|                  f|        0|            0|    3785.02|        3785.02|           3600|       185.02|                 0|         0|                      0|  01-05-2013|         583.45|         n/a|        01-05-2014|                         0|                        n/a|          1|      INDIVIDUAL|             n/a|      n/a|                      n/a|             0|         n/a|        n/a|        n/a|       n/a|        n/a|        n/a|               n/a|         n/a|    n/a|        n/a|        n/a|       n/a|     n/a|             n/a|   n/a|        n/a|           0|          0|\n",
            "|1062474|  1294539|     6000|       6000|         6000.0| 36 months|   11.71|     198.46|    B|       B3|Connection Inspec...|    1 year|      MORTGAGE|     84000|           Verified|01-12-2011|         n|  Borrower added ...|           medical|             Medical|   890xx|        UT|18.44|          2|      01-10-2003|             0|                     8|                   n/a|       4|      0|        0|     37.73|       14|                  f|        0|            0|7164.499852|         7164.5|           6000|       1149.5|                15|         0|                      0|  01-02-2015|          16.98|         n/a|        01-07-2015|                         0|                        n/a|          1|      INDIVIDUAL|             n/a|      n/a|                      n/a|             0|         n/a|        n/a|        n/a|       n/a|        n/a|        n/a|               n/a|         n/a|    n/a|        n/a|        n/a|       n/a|     n/a|             n/a|   n/a|        n/a|           0|          0|\n",
            "|1069742|  1304855|     9200|       9200|         9200.0| 36 months|    6.03|     280.01|    A|       A1|Network Interpret...|   6 years|          RENT|  77385.19|       Not Verified|01-12-2011|         n|                 n/a|debt_consolidation|lowerratemeanseas...|   921xx|        CA| 9.86|          0|      01-01-2001|             0|                   n/a|                   n/a|       8|      0|     7314|      23.1|       28|                  f|        0|            0|    9459.96|        9459.96|           9200|       259.96|                 0|         0|                      0|  01-07-2012|         8061.1|         n/a|        01-07-2012|                         0|                        n/a|          1|      INDIVIDUAL|             n/a|      n/a|                      n/a|             0|         n/a|        n/a|        n/a|       n/a|        n/a|        n/a|               n/a|         n/a|    n/a|        n/a|        n/a|       n/a|     n/a|             n/a|   n/a|        n/a|           0|          0|\n",
            "+-------+---------+---------+-----------+---------------+----------+--------+-----------+-----+---------+--------------------+----------+--------------+----------+-------------------+----------+----------+--------------------+------------------+--------------------+--------+----------+-----+-----------+----------------+--------------+----------------------+----------------------+--------+-------+---------+----------+---------+-------------------+---------+-------------+-----------+---------------+---------------+-------------+------------------+----------+-----------------------+------------+---------------+------------+------------------+--------------------------+---------------------------+-----------+----------------+----------------+---------+-------------------------+--------------+------------+-----------+-----------+----------+-----------+-----------+------------------+------------+-------+-----------+-----------+----------+--------+----------------+------+-----------+------------+-----------+\n",
            "only showing top 20 rows\n",
            "\n"
          ]
        }
      ],
      "source": [
        "new_data = find_outliers(data)\n",
        "#new_data.show()\n",
        "\n",
        "new_data_with_no_outliers = new_data.filter(new_data['total_Outliers']<=1)\n",
        "new_data_with_no_outliers = new_data_with_no_outliers.select(*data.columns)\n",
        "\n",
        "new_data_with_no_outliers.show()"
      ]
    },
    {
      "cell_type": "markdown",
      "metadata": {
        "id": "aAtsDIKZF1L8"
      },
      "source": [
        "Drop the missing values in the default_ind"
      ]
    },
    {
      "cell_type": "code",
      "execution_count": null,
      "metadata": {
        "colab": {
          "background_save": true
        },
        "id": "rBFnu1ckJT3U"
      },
      "outputs": [],
      "source": [
        "delete_null_predict = new_data_with_no_outliers.filter(new_data_with_no_outliers.default_ind.isNotNull())"
      ]
    },
    {
      "cell_type": "code",
      "execution_count": null,
      "metadata": {
        "colab": {
          "background_save": true
        },
        "id": "0_Fd9lX2GYi6",
        "outputId": "2c592da1-5d49-4b2e-b3af-c6afa36c2889"
      },
      "outputs": [
        {
          "name": "stdout",
          "output_type": "stream",
          "text": [
            "+---+---------+---------+-----------+---------------+----+--------+-----------+-----+---------+---------+----------+--------------+----------+-------------------+-------+----------+----+-------+-----+--------+----------+---+-----------+----------------+--------------+----------------------+----------------------+--------+-------+---------+----------+---------+-------------------+---------+-------------+-----------+---------------+---------------+-------------+------------------+----------+-----------------------+------------+---------------+------------+------------------+--------------------------+---------------------------+-----------+----------------+----------------+---------+-------------------------+--------------+------------+-----------+-----------+----------+-----------+-----------+------------------+------------+-------+-----------+-----------+----------+--------+----------------+------+-----------+------------+-----------+\n",
            "| id|member_id|loan_amnt|funded_amnt|funded_amnt_inv|term|int_rate|installment|grade|sub_grade|emp_title|emp_length|home_ownership|annual_inc|verification_status|issue_d|pymnt_plan|desc|purpose|title|zip_code|addr_state|dti|delinq_2yrs|earliest_cr_line|inq_last_6mths|mths_since_last_delinq|mths_since_last_record|open_acc|pub_rec|revol_bal|revol_util|total_acc|initial_list_status|out_prncp|out_prncp_inv|total_pymnt|total_pymnt_inv|total_rec_prncp|total_rec_int|total_rec_late_fee|recoveries|collection_recovery_fee|last_pymnt_d|last_pymnt_amnt|next_pymnt_d|last_credit_pull_d|collections_12_mths_ex_med|mths_since_last_major_derog|policy_code|application_type|annual_inc_joint|dti_joint|verification_status_joint|acc_now_delinq|tot_coll_amt|tot_cur_bal|open_acc_6m|open_il_6m|open_il_12m|open_il_24m|mths_since_rcnt_il|total_bal_il|il_util|open_rv_12m|open_rv_24m|max_bal_bc|all_util|total_rev_hi_lim|inq_fi|total_cu_tl|inq_last_12m|default_ind|\n",
            "+---+---------+---------+-----------+---------------+----+--------+-----------+-----+---------+---------+----------+--------------+----------+-------------------+-------+----------+----+-------+-----+--------+----------+---+-----------+----------------+--------------+----------------------+----------------------+--------+-------+---------+----------+---------+-------------------+---------+-------------+-----------+---------------+---------------+-------------+------------------+----------+-----------------------+------------+---------------+------------+------------------+--------------------------+---------------------------+-----------+----------------+----------------+---------+-------------------------+--------------+------------+-----------+-----------+----------+-----------+-----------+------------------+------------+-------+-----------+-----------+----------+--------+----------------+------+-----------+------------+-----------+\n",
            "|  0|        0|        0|          0|              0|   0|       0|          0|    0|        0|        0|         0|             0|         0|                  0|      0|         0|   0|      0|    0|       0|         0|  0|          0|               0|             0|                     0|                     0|       0|      0|        0|         0|        0|                  0|        0|            0|          0|              0|              0|            0|                 0|         0|                      0|           0|              0|           0|                 0|                         0|                          0|          0|               0|               0|        0|                        0|             0|           0|          0|          0|         0|          0|          0|                 0|           0|      0|          0|          0|         0|       0|               0|     0|          0|           0|          0|\n",
            "+---+---------+---------+-----------+---------------+----+--------+-----------+-----+---------+---------+----------+--------------+----------+-------------------+-------+----------+----+-------+-----+--------+----------+---+-----------+----------------+--------------+----------------------+----------------------+--------+-------+---------+----------+---------+-------------------+---------+-------------+-----------+---------------+---------------+-------------+------------------+----------+-----------------------+------------+---------------+------------+------------------+--------------------------+---------------------------+-----------+----------------+----------------+---------+-------------------------+--------------+------------+-----------+-----------+----------+-----------+-----------+------------------+------------+-------+-----------+-----------+----------+--------+----------------+------+-----------+------------+-----------+\n",
            "\n"
          ]
        }
      ],
      "source": [
        "delete_null_predict.select([count(when(col(c).isNull(), c)).alias(c) for c in delete_null_predict.columns]).show()"
      ]
    },
    {
      "cell_type": "code",
      "execution_count": null,
      "metadata": {
        "colab": {
          "background_save": true
        },
        "id": "5Nk6pOavLjbb",
        "outputId": "282caa23-756a-4f7b-b555-d04aa3c437a4"
      },
      "outputs": [
        {
          "name": "stdout",
          "output_type": "stream",
          "text": [
            "+-------+---------+---------+-----------+---------------+----------+--------+-----------+-----+---------+--------------------+----------+--------------+----------+-------------------+----------+----------+--------------------+------------------+--------------------+--------+----------+-----+-----------+----------------+--------------+----------------------+----------------------+--------+-------+---------+----------+---------+-------------------+---------+-------------+-----------+---------------+---------------+-------------+------------------+----------+-----------------------+------------+---------------+------------+------------------+--------------------------+---------------------------+-----------+----------------+----------------+---------+-------------------------+--------------+------------+-----------+-----------+----------+-----------+-----------+------------------+------------+-------+-----------+-----------+----------+--------+----------------+------+-----------+------------+-----------+\n",
            "|     id|member_id|loan_amnt|funded_amnt|funded_amnt_inv|      term|int_rate|installment|grade|sub_grade|           emp_title|emp_length|home_ownership|annual_inc|verification_status|   issue_d|pymnt_plan|                desc|           purpose|               title|zip_code|addr_state|  dti|delinq_2yrs|earliest_cr_line|inq_last_6mths|mths_since_last_delinq|mths_since_last_record|open_acc|pub_rec|revol_bal|revol_util|total_acc|initial_list_status|out_prncp|out_prncp_inv|total_pymnt|total_pymnt_inv|total_rec_prncp|total_rec_int|total_rec_late_fee|recoveries|collection_recovery_fee|last_pymnt_d|last_pymnt_amnt|next_pymnt_d|last_credit_pull_d|collections_12_mths_ex_med|mths_since_last_major_derog|policy_code|application_type|annual_inc_joint|dti_joint|verification_status_joint|acc_now_delinq|tot_coll_amt|tot_cur_bal|open_acc_6m|open_il_6m|open_il_12m|open_il_24m|mths_since_rcnt_il|total_bal_il|il_util|open_rv_12m|open_rv_24m|max_bal_bc|all_util|total_rev_hi_lim|inq_fi|total_cu_tl|inq_last_12m|default_ind|\n",
            "+-------+---------+---------+-----------+---------------+----------+--------+-----------+-----+---------+--------------------+----------+--------------+----------+-------------------+----------+----------+--------------------+------------------+--------------------+--------+----------+-----+-----------+----------------+--------------+----------------------+----------------------+--------+-------+---------+----------+---------+-------------------+---------+-------------+-----------+---------------+---------------+-------------+------------------+----------+-----------------------+------------+---------------+------------+------------------+--------------------------+---------------------------+-----------+----------------+----------------+---------+-------------------------+--------------+------------+-----------+-----------+----------+-----------+-----------+------------------+------------+-------+-----------+-----------+----------+--------+----------------+------+-----------+------------+-----------+\n",
            "|1077501|  1296599|     5000|       5000|         4975.0| 36 months|   10.65|     162.87|    B|       B2|                 n/a| 10+ years|          RENT|     24000|           Verified|01-12-2011|         n|  Borrower added ...|       credit_card|            Computer|   860xx|        AZ|27.65|          0|      01-01-1985|             1|                   n/a|                   n/a|       3|      0|    13648|      83.7|        9|                  f|        0|            0|5861.071414|        5831.78|           5000|       861.07|                 0|         0|                      0|  01-01-2015|         171.62|         n/a|        01-01-2016|                         0|                        n/a|          1|      INDIVIDUAL|             n/a|      n/a|                      n/a|             0|         n/a|        n/a|        n/a|       n/a|        n/a|        n/a|               n/a|         n/a|    n/a|        n/a|        n/a|       n/a|     n/a|             n/a|   n/a|        n/a|           0|          0|\n",
            "|1077430|  1314167|     2500|       2500|         2500.0| 60 months|   15.27|      59.83|    C|       C4|               Ryder|  < 1 year|          RENT|     30000|    Source Verified|01-12-2011|         n|  Borrower added ...|               car|                bike|   309xx|        GA|    1|          0|      01-04-1999|             5|                   n/a|                   n/a|       3|      0|     1687|       9.4|        4|                  f|        0|            0|    1008.71|        1008.71|         456.46|       435.17|                 0|    117.08|                   1.11|  01-04-2013|         119.66|         n/a|        01-09-2013|                         0|                        n/a|          1|      INDIVIDUAL|             n/a|      n/a|                      n/a|             0|         n/a|        n/a|        n/a|       n/a|        n/a|        n/a|               n/a|         n/a|    n/a|        n/a|        n/a|       n/a|     n/a|             n/a|   n/a|        n/a|           0|          1|\n",
            "|1077175|  1313524|     2400|       2400|         2400.0| 36 months|   15.96|      84.33|    C|       C5|                 n/a| 10+ years|          RENT|     12252|       Not Verified|01-12-2011|         n|                 n/a|    small_business|real estate business|   606xx|        IL| 8.72|          0|      01-11-2001|             2|                   n/a|                   n/a|       2|      0|     2956|      98.5|       10|                  f|        0|            0|3003.653644|        3003.65|           2400|       603.65|                 0|         0|                      0|  01-06-2014|         649.91|         n/a|        01-01-2016|                         0|                        n/a|          1|      INDIVIDUAL|             n/a|      n/a|                      n/a|             0|         n/a|        n/a|        n/a|       n/a|        n/a|        n/a|               n/a|         n/a|    n/a|        n/a|        n/a|       n/a|     n/a|             n/a|   n/a|        n/a|           0|          0|\n",
            "|1076863|  1277178|    10000|      10000|        10000.0| 36 months|   13.49|     339.31|    C|       C1| AIR RESOURCES BOARD| 10+ years|          RENT|     49200|    Source Verified|01-12-2011|         n|  Borrower added ...|             other|            personel|   917xx|        CA|   20|          0|      01-02-1996|             1|                    35|                   n/a|      10|      0|     5598|        21|       37|                  f|        0|            0|12226.30221|        12226.3|          10000|      2209.33|             16.97|         0|                      0|  01-01-2015|         357.48|         n/a|        01-01-2015|                         0|                        n/a|          1|      INDIVIDUAL|             n/a|      n/a|                      n/a|             0|         n/a|        n/a|        n/a|       n/a|        n/a|        n/a|               n/a|         n/a|    n/a|        n/a|        n/a|       n/a|     n/a|             n/a|   n/a|        n/a|           0|          0|\n",
            "|1075358|  1311748|     3000|       3000|         3000.0| 60 months|   12.69|      67.79|    B|       B5|University Medica...|    1 year|          RENT|     80000|    Source Verified|01-12-2011|         n|  Borrower added ...|             other|            Personal|   972xx|        OR|17.94|          0|      01-01-1996|             0|                    38|                   n/a|      15|      0|    27783|      53.9|       38|                  f|    766.9|        766.9|    3242.17|        3242.17|         2233.1|      1009.07|                 0|         0|                      0|  01-01-2016|          67.79|  01-02-2016|        01-01-2016|                         0|                        n/a|          1|      INDIVIDUAL|             n/a|      n/a|                      n/a|             0|         n/a|        n/a|        n/a|       n/a|        n/a|        n/a|               n/a|         n/a|    n/a|        n/a|        n/a|       n/a|     n/a|             n/a|   n/a|        n/a|           0|          0|\n",
            "|1075269|  1311441|     5000|       5000|         5000.0| 36 months|     7.9|     156.46|    A|       A4|Veolia Transportaton|   3 years|          RENT|     36000|    Source Verified|01-12-2011|         n|                 n/a|           wedding|My wedding loan I...|   852xx|        AZ| 11.2|          0|      01-11-2004|             3|                   n/a|                   n/a|       9|      0|     7963|      28.3|       12|                  f|        0|            0|5631.377753|        5631.38|           5000|       631.38|                 0|         0|                      0|  01-01-2015|         161.03|         n/a|        01-09-2015|                         0|                        n/a|          1|      INDIVIDUAL|             n/a|      n/a|                      n/a|             0|         n/a|        n/a|        n/a|       n/a|        n/a|        n/a|               n/a|         n/a|    n/a|        n/a|        n/a|       n/a|     n/a|             n/a|   n/a|        n/a|           0|          0|\n",
            "|1069639|  1304742|     7000|       7000|         7000.0| 60 months|   15.96|     170.08|    C|       C5|Southern Star Pho...|   8 years|          RENT|     47004|       Not Verified|01-12-2011|         n|  Borrower added ...|debt_consolidation|                Loan|   280xx|        NC|23.51|          0|      01-07-2005|             1|                   n/a|                   n/a|       7|      0|    17726|      85.6|       11|                  f|  1889.15|      1889.15|    8136.84|        8136.84|        5110.85|      3025.99|                 0|         0|                      0|  01-01-2016|         170.08|  01-02-2016|        01-01-2016|                         0|                        n/a|          1|      INDIVIDUAL|             n/a|      n/a|                      n/a|             0|         n/a|        n/a|        n/a|       n/a|        n/a|        n/a|               n/a|         n/a|    n/a|        n/a|        n/a|       n/a|     n/a|             n/a|   n/a|        n/a|           0|          0|\n",
            "|1072053|  1288686|     3000|       3000|         3000.0| 36 months|   18.64|     109.43|    E|       E1|     MKC Accounting |   9 years|          RENT|     48000|    Source Verified|01-12-2011|         n|  Borrower added ...|               car|     Car Downpayment|   900xx|        CA| 5.35|          0|      01-01-2007|             2|                   n/a|                   n/a|       4|      0|     8221|      87.5|        4|                  f|        0|            0|3938.144334|        3938.14|           3000|       938.14|                 0|         0|                      0|  01-01-2015|         111.34|         n/a|        01-12-2014|                         0|                        n/a|          1|      INDIVIDUAL|             n/a|      n/a|                      n/a|             0|         n/a|        n/a|        n/a|       n/a|        n/a|        n/a|               n/a|         n/a|    n/a|        n/a|        n/a|       n/a|     n/a|             n/a|   n/a|        n/a|           0|          0|\n",
            "|1071795|  1306957|     5600|       5600|         5600.0| 60 months|   21.28|     152.39|    F|       F2|                 n/a|   4 years|           OWN|     40000|    Source Verified|01-12-2011|         n|  Borrower added ...|    small_business|Expand Business &...|   958xx|        CA| 5.55|          0|      01-04-2004|             2|                   n/a|                   n/a|      11|      0|     5210|      32.6|       13|                  f|        0|            0|     646.02|         646.02|         162.02|       294.94|                 0|    189.06|                   2.09|  01-04-2012|         152.39|         n/a|        01-08-2012|                         0|                        n/a|          1|      INDIVIDUAL|             n/a|      n/a|                      n/a|             0|         n/a|        n/a|        n/a|       n/a|        n/a|        n/a|               n/a|         n/a|    n/a|        n/a|        n/a|       n/a|     n/a|             n/a|   n/a|        n/a|           0|          1|\n",
            "|1071570|  1306721|     5375|       5375|         5350.0| 60 months|   12.69|     121.45|    B|       B5|           Starbucks|  < 1 year|          RENT|     15000|           Verified|01-12-2011|         n|  Borrower added ...|             other|Building my credi...|   774xx|        TX|18.08|          0|      01-09-2004|             0|                   n/a|                   n/a|       2|      0|     9279|      36.5|        3|                  f|        0|            0|    1476.19|        1469.34|         673.48|       533.42|                 0|    269.29|                   2.52|  01-11-2012|         121.45|         n/a|        01-03-2013|                         0|                        n/a|          1|      INDIVIDUAL|             n/a|      n/a|                      n/a|             0|         n/a|        n/a|        n/a|       n/a|        n/a|        n/a|               n/a|         n/a|    n/a|        n/a|        n/a|       n/a|     n/a|             n/a|   n/a|        n/a|           0|          1|\n",
            "|1070078|  1305201|     6500|       6500|         6500.0| 60 months|   14.65|     153.45|    C|       C3|Southwest Rural m...|   5 years|           OWN|     72000|       Not Verified|01-12-2011|         n|  Borrower added ...|debt_consolidation|High intrest Cons...|   853xx|        AZ|16.12|          0|      01-01-1998|             2|                   n/a|                   n/a|      14|      0|     4032|      20.6|       23|                  f|        0|            0|    7677.52|        7677.52|           6500|      1177.52|                 0|         0|                      0|  01-06-2013|        1655.54|         n/a|        01-12-2015|                         0|                        n/a|          1|      INDIVIDUAL|             n/a|      n/a|                      n/a|             0|         n/a|        n/a|        n/a|       n/a|        n/a|        n/a|               n/a|         n/a|    n/a|        n/a|        n/a|       n/a|     n/a|             n/a|   n/a|        n/a|           0|          0|\n",
            "|1069908|  1305008|    12000|      12000|        12000.0| 36 months|   12.69|     402.54|    B|       B5|                UCLA| 10+ years|           OWN|     75000|    Source Verified|01-12-2011|         n|                 n/a|debt_consolidation|       Consolidation|   913xx|        CA|10.78|          0|      01-10-1989|             0|                   n/a|                   n/a|      12|      0|    23336|      67.1|       34|                  f|        0|            0|   13943.08|       13943.08|          12000|      1943.08|                 0|         0|                      0|  01-09-2013|         6315.3|         n/a|        01-08-2013|                         0|                        n/a|          1|      INDIVIDUAL|             n/a|      n/a|                      n/a|             0|         n/a|        n/a|        n/a|       n/a|        n/a|        n/a|               n/a|         n/a|    n/a|        n/a|        n/a|       n/a|     n/a|             n/a|   n/a|        n/a|           0|          0|\n",
            "|1064687|  1298717|     9000|       9000|         9000.0| 36 months|   13.49|     305.38|    C|       C1|Va. Dept of Conse...|  < 1 year|          RENT|     30000|    Source Verified|01-12-2011|         n|  Borrower added ...|debt_consolidation|             freedom|   245xx|        VA|10.08|          0|      01-04-2004|             1|                   n/a|                   n/a|       4|      0|    10452|      91.7|        9|                  f|        0|            0|     2270.7|         2270.7|        1256.14|       570.26|                 0|     444.3|                   4.16|  01-07-2012|         305.38|         n/a|        01-11-2012|                         0|                        n/a|          1|      INDIVIDUAL|             n/a|      n/a|                      n/a|             0|         n/a|        n/a|        n/a|       n/a|        n/a|        n/a|               n/a|         n/a|    n/a|        n/a|        n/a|       n/a|     n/a|             n/a|   n/a|        n/a|           0|          1|\n",
            "|1069866|  1304956|     3000|       3000|         3000.0| 36 months|    9.91|      96.68|    B|       B1|              Target|   3 years|          RENT|     15000|    Source Verified|01-12-2011|         n|  Borrower added ...|       credit_card|       citicard fund|   606xx|        IL|12.56|          0|      01-07-2003|             2|                   n/a|                   n/a|      11|      0|     7323|      43.1|       11|                  f|        0|            0|3478.981915|        3478.98|           3000|       478.98|                 0|         0|                      0|  01-01-2015|         102.43|         n/a|        01-01-2016|                         0|                        n/a|          1|      INDIVIDUAL|             n/a|      n/a|                      n/a|             0|         n/a|        n/a|        n/a|       n/a|        n/a|        n/a|               n/a|         n/a|    n/a|        n/a|        n/a|       n/a|     n/a|             n/a|   n/a|        n/a|           0|          0|\n",
            "|1069057|  1303503|    10000|      10000|        10000.0| 36 months|   10.65|     325.74|    B|       B2|               SFMTA|   3 years|          RENT|    100000|    Source Verified|01-12-2011|         n|                 n/a|             other|          Other Loan|   951xx|        CA| 7.06|          0|      01-05-1991|             2|                   n/a|                   n/a|      14|      0|    11997|      55.5|       29|                  f|        0|            0|    7471.99|        7471.99|        5433.47|      1393.42|                 0|     645.1|                 6.3145|  01-10-2013|         325.74|         n/a|        01-03-2014|                         0|                        n/a|          1|      INDIVIDUAL|             n/a|      n/a|                      n/a|             0|         n/a|        n/a|        n/a|       n/a|        n/a|        n/a|               n/a|         n/a|    n/a|        n/a|        n/a|       n/a|     n/a|             n/a|   n/a|        n/a|           0|          1|\n",
            "|1069759|  1304871|     1000|       1000|         1000.0| 36 months|   16.29|      35.31|    D|       D1|Internal revenue ...|  < 1 year|          RENT|     28000|       Not Verified|01-12-2011|         n|                 n/a|debt_consolidation|Debt Consolidatio...|   641xx|        MO|20.31|          0|      01-09-2007|             1|                   n/a|                   n/a|      11|      0|     6524|      81.5|       23|                  f|        0|            0|1270.171106|        1270.17|           1000|       270.17|                 0|         0|                      0|  01-01-2015|          36.32|         n/a|        01-01-2016|                         0|                        n/a|          1|      INDIVIDUAL|             n/a|      n/a|                      n/a|             0|         n/a|        n/a|        n/a|       n/a|        n/a|        n/a|               n/a|         n/a|    n/a|        n/a|        n/a|       n/a|     n/a|             n/a|   n/a|        n/a|           0|          0|\n",
            "|1065775|  1299699|    10000|      10000|        10000.0| 36 months|   15.27|     347.98|    C|       C4|   Chin's Restaurant|   4 years|          RENT|     42000|       Not Verified|01-12-2011|         n|                 n/a|  home_improvement|                Home|   921xx|        CA| 18.6|          0|      01-10-1998|             2|                    61|                   n/a|      14|      0|    24043|      70.2|       28|                  f|        0|            0|12519.26045|       12519.26|          10000|      2519.26|                 0|         0|                      0|  01-01-2015|         370.46|         n/a|        01-04-2015|                         0|                        n/a|          1|      INDIVIDUAL|             n/a|      n/a|                      n/a|             0|         n/a|        n/a|        n/a|       n/a|        n/a|        n/a|               n/a|         n/a|    n/a|        n/a|        n/a|       n/a|     n/a|             n/a|   n/a|        n/a|           0|          0|\n",
            "|1069971|  1304884|     3600|       3600|         3600.0| 36 months|    6.03|     109.57|    A|       A1|            Duracell| 10+ years|      MORTGAGE|    110000|       Not Verified|01-12-2011|         n|  Borrower added ...|    major_purchase|             Holiday|   067xx|        CT|10.52|          0|      01-08-1993|             0|                   n/a|                   n/a|      20|      0|    22836|        16|       42|                  f|        0|            0|    3785.02|        3785.02|           3600|       185.02|                 0|         0|                      0|  01-05-2013|         583.45|         n/a|        01-05-2014|                         0|                        n/a|          1|      INDIVIDUAL|             n/a|      n/a|                      n/a|             0|         n/a|        n/a|        n/a|       n/a|        n/a|        n/a|               n/a|         n/a|    n/a|        n/a|        n/a|       n/a|     n/a|             n/a|   n/a|        n/a|           0|          0|\n",
            "|1062474|  1294539|     6000|       6000|         6000.0| 36 months|   11.71|     198.46|    B|       B3|Connection Inspec...|    1 year|      MORTGAGE|     84000|           Verified|01-12-2011|         n|  Borrower added ...|           medical|             Medical|   890xx|        UT|18.44|          2|      01-10-2003|             0|                     8|                   n/a|       4|      0|        0|     37.73|       14|                  f|        0|            0|7164.499852|         7164.5|           6000|       1149.5|                15|         0|                      0|  01-02-2015|          16.98|         n/a|        01-07-2015|                         0|                        n/a|          1|      INDIVIDUAL|             n/a|      n/a|                      n/a|             0|         n/a|        n/a|        n/a|       n/a|        n/a|        n/a|               n/a|         n/a|    n/a|        n/a|        n/a|       n/a|     n/a|             n/a|   n/a|        n/a|           0|          0|\n",
            "|1069742|  1304855|     9200|       9200|         9200.0| 36 months|    6.03|     280.01|    A|       A1|Network Interpret...|   6 years|          RENT|  77385.19|       Not Verified|01-12-2011|         n|                 n/a|debt_consolidation|lowerratemeanseas...|   921xx|        CA| 9.86|          0|      01-01-2001|             0|                   n/a|                   n/a|       8|      0|     7314|      23.1|       28|                  f|        0|            0|    9459.96|        9459.96|           9200|       259.96|                 0|         0|                      0|  01-07-2012|         8061.1|         n/a|        01-07-2012|                         0|                        n/a|          1|      INDIVIDUAL|             n/a|      n/a|                      n/a|             0|         n/a|        n/a|        n/a|       n/a|        n/a|        n/a|               n/a|         n/a|    n/a|        n/a|        n/a|       n/a|     n/a|             n/a|   n/a|        n/a|           0|          0|\n",
            "+-------+---------+---------+-----------+---------------+----------+--------+-----------+-----+---------+--------------------+----------+--------------+----------+-------------------+----------+----------+--------------------+------------------+--------------------+--------+----------+-----+-----------+----------------+--------------+----------------------+----------------------+--------+-------+---------+----------+---------+-------------------+---------+-------------+-----------+---------------+---------------+-------------+------------------+----------+-----------------------+------------+---------------+------------+------------------+--------------------------+---------------------------+-----------+----------------+----------------+---------+-------------------------+--------------+------------+-----------+-----------+----------+-----------+-----------+------------------+------------+-------+-----------+-----------+----------+--------+----------------+------+-----------+------------+-----------+\n",
            "only showing top 20 rows\n",
            "\n"
          ]
        }
      ],
      "source": [
        "delete_null_predict.show()"
      ]
    },
    {
      "cell_type": "markdown",
      "metadata": {
        "id": "jML7GRIZMMwP"
      },
      "source": [
        "# Dealing with n/a in int column"
      ]
    },
    {
      "cell_type": "code",
      "execution_count": null,
      "metadata": {
        "colab": {
          "background_save": true
        },
        "id": "fP_AzjOwMMRO"
      },
      "outputs": [],
      "source": [
        "filter_mths_since_last_delinq = delete_null_predict.filter(delete_null_predict.mths_since_last_delinq != \"n/a\")"
      ]
    },
    {
      "cell_type": "code",
      "execution_count": null,
      "metadata": {
        "colab": {
          "background_save": true
        },
        "id": "l39G3xjvM3OS"
      },
      "outputs": [],
      "source": [
        "from pyspark.sql.types import IntegerType\n",
        "#convert it first to int\n",
        "filter_mths_since_last_delinq = filter_mths_since_last_delinq.withColumn(\"mths_since_last_delinq\", filter_mths_since_last_delinq[\"mths_since_last_delinq\"].cast(IntegerType()))"
      ]
    },
    {
      "cell_type": "code",
      "execution_count": null,
      "metadata": {
        "colab": {
          "background_save": true
        },
        "id": "R-juGTb1NQSy",
        "outputId": "dde01323-8438-450c-ec61-d7aa2619a219"
      },
      "outputs": [
        {
          "data": {
            "text/plain": [
              "34"
            ]
          },
          "execution_count": 49,
          "metadata": {},
          "output_type": "execute_result"
        }
      ],
      "source": [
        "from pyspark.sql.functions import mean as _mean\n",
        "\n",
        "#find the mean\n",
        "df_stats = filter_mths_since_last_delinq.select(\n",
        "    _mean(col('mths_since_last_delinq')).alias('mean')\n",
        ").collect()\n",
        "\n",
        "mean = df_stats[0]['mean']\n",
        "round(mean)\n"
      ]
    },
    {
      "cell_type": "code",
      "execution_count": null,
      "metadata": {
        "colab": {
          "background_save": true
        },
        "id": "ZeQ5xPkOYYkr"
      },
      "outputs": [],
      "source": [
        "#when the value is \"n/a\" then replace it with the mean\n",
        "#just testing, will not use this column bcs the null percentage is higher than 50%\n",
        "targetDf = delete_null_predict.withColumn(\"mths_since_last_delinq\", when(delete_null_predict[\"mths_since_last_delinq\"] ==\"n/a\", round(mean)).otherwise(delete_null_predict[\"mths_since_last_delinq\"]))"
      ]
    },
    {
      "cell_type": "code",
      "execution_count": null,
      "metadata": {
        "colab": {
          "background_save": true
        },
        "id": "9OUgewbraQ9N",
        "outputId": "81828d73-b757-4be1-93a3-6305743de70d"
      },
      "outputs": [
        {
          "name": "stdout",
          "output_type": "stream",
          "text": [
            "+-------+---------+---------+-----------+---------------+----------+--------+-----------+-----+---------+--------------------+----------+--------------+----------+-------------------+----------+----------+--------------------+------------------+--------------------+--------+----------+-----+-----------+----------------+--------------+----------------------+----------------------+--------+-------+---------+----------+---------+-------------------+---------+-------------+-----------+---------------+---------------+-------------+------------------+----------+-----------------------+------------+---------------+------------+------------------+--------------------------+---------------------------+-----------+----------------+----------------+---------+-------------------------+--------------+------------+-----------+-----------+----------+-----------+-----------+------------------+------------+-------+-----------+-----------+----------+--------+----------------+------+-----------+------------+-----------+\n",
            "|     id|member_id|loan_amnt|funded_amnt|funded_amnt_inv|      term|int_rate|installment|grade|sub_grade|           emp_title|emp_length|home_ownership|annual_inc|verification_status|   issue_d|pymnt_plan|                desc|           purpose|               title|zip_code|addr_state|  dti|delinq_2yrs|earliest_cr_line|inq_last_6mths|mths_since_last_delinq|mths_since_last_record|open_acc|pub_rec|revol_bal|revol_util|total_acc|initial_list_status|out_prncp|out_prncp_inv|total_pymnt|total_pymnt_inv|total_rec_prncp|total_rec_int|total_rec_late_fee|recoveries|collection_recovery_fee|last_pymnt_d|last_pymnt_amnt|next_pymnt_d|last_credit_pull_d|collections_12_mths_ex_med|mths_since_last_major_derog|policy_code|application_type|annual_inc_joint|dti_joint|verification_status_joint|acc_now_delinq|tot_coll_amt|tot_cur_bal|open_acc_6m|open_il_6m|open_il_12m|open_il_24m|mths_since_rcnt_il|total_bal_il|il_util|open_rv_12m|open_rv_24m|max_bal_bc|all_util|total_rev_hi_lim|inq_fi|total_cu_tl|inq_last_12m|default_ind|\n",
            "+-------+---------+---------+-----------+---------------+----------+--------+-----------+-----+---------+--------------------+----------+--------------+----------+-------------------+----------+----------+--------------------+------------------+--------------------+--------+----------+-----+-----------+----------------+--------------+----------------------+----------------------+--------+-------+---------+----------+---------+-------------------+---------+-------------+-----------+---------------+---------------+-------------+------------------+----------+-----------------------+------------+---------------+------------+------------------+--------------------------+---------------------------+-----------+----------------+----------------+---------+-------------------------+--------------+------------+-----------+-----------+----------+-----------+-----------+------------------+------------+-------+-----------+-----------+----------+--------+----------------+------+-----------+------------+-----------+\n",
            "|1077501|  1296599|     5000|       5000|         4975.0| 36 months|   10.65|     162.87|    B|       B2|                 n/a| 10+ years|          RENT|     24000|           Verified|01-12-2011|         n|  Borrower added ...|       credit_card|            Computer|   860xx|        AZ|27.65|          0|      01-01-1985|             1|                    34|                   n/a|       3|      0|    13648|      83.7|        9|                  f|        0|            0|5861.071414|        5831.78|           5000|       861.07|                 0|         0|                      0|  01-01-2015|         171.62|         n/a|        01-01-2016|                         0|                        n/a|          1|      INDIVIDUAL|             n/a|      n/a|                      n/a|             0|         n/a|        n/a|        n/a|       n/a|        n/a|        n/a|               n/a|         n/a|    n/a|        n/a|        n/a|       n/a|     n/a|             n/a|   n/a|        n/a|           0|          0|\n",
            "|1077430|  1314167|     2500|       2500|         2500.0| 60 months|   15.27|      59.83|    C|       C4|               Ryder|  < 1 year|          RENT|     30000|    Source Verified|01-12-2011|         n|  Borrower added ...|               car|                bike|   309xx|        GA|    1|          0|      01-04-1999|             5|                    34|                   n/a|       3|      0|     1687|       9.4|        4|                  f|        0|            0|    1008.71|        1008.71|         456.46|       435.17|                 0|    117.08|                   1.11|  01-04-2013|         119.66|         n/a|        01-09-2013|                         0|                        n/a|          1|      INDIVIDUAL|             n/a|      n/a|                      n/a|             0|         n/a|        n/a|        n/a|       n/a|        n/a|        n/a|               n/a|         n/a|    n/a|        n/a|        n/a|       n/a|     n/a|             n/a|   n/a|        n/a|           0|          1|\n",
            "|1077175|  1313524|     2400|       2400|         2400.0| 36 months|   15.96|      84.33|    C|       C5|                 n/a| 10+ years|          RENT|     12252|       Not Verified|01-12-2011|         n|                 n/a|    small_business|real estate business|   606xx|        IL| 8.72|          0|      01-11-2001|             2|                    34|                   n/a|       2|      0|     2956|      98.5|       10|                  f|        0|            0|3003.653644|        3003.65|           2400|       603.65|                 0|         0|                      0|  01-06-2014|         649.91|         n/a|        01-01-2016|                         0|                        n/a|          1|      INDIVIDUAL|             n/a|      n/a|                      n/a|             0|         n/a|        n/a|        n/a|       n/a|        n/a|        n/a|               n/a|         n/a|    n/a|        n/a|        n/a|       n/a|     n/a|             n/a|   n/a|        n/a|           0|          0|\n",
            "|1076863|  1277178|    10000|      10000|        10000.0| 36 months|   13.49|     339.31|    C|       C1| AIR RESOURCES BOARD| 10+ years|          RENT|     49200|    Source Verified|01-12-2011|         n|  Borrower added ...|             other|            personel|   917xx|        CA|   20|          0|      01-02-1996|             1|                    35|                   n/a|      10|      0|     5598|        21|       37|                  f|        0|            0|12226.30221|        12226.3|          10000|      2209.33|             16.97|         0|                      0|  01-01-2015|         357.48|         n/a|        01-01-2015|                         0|                        n/a|          1|      INDIVIDUAL|             n/a|      n/a|                      n/a|             0|         n/a|        n/a|        n/a|       n/a|        n/a|        n/a|               n/a|         n/a|    n/a|        n/a|        n/a|       n/a|     n/a|             n/a|   n/a|        n/a|           0|          0|\n",
            "|1075358|  1311748|     3000|       3000|         3000.0| 60 months|   12.69|      67.79|    B|       B5|University Medica...|    1 year|          RENT|     80000|    Source Verified|01-12-2011|         n|  Borrower added ...|             other|            Personal|   972xx|        OR|17.94|          0|      01-01-1996|             0|                    38|                   n/a|      15|      0|    27783|      53.9|       38|                  f|    766.9|        766.9|    3242.17|        3242.17|         2233.1|      1009.07|                 0|         0|                      0|  01-01-2016|          67.79|  01-02-2016|        01-01-2016|                         0|                        n/a|          1|      INDIVIDUAL|             n/a|      n/a|                      n/a|             0|         n/a|        n/a|        n/a|       n/a|        n/a|        n/a|               n/a|         n/a|    n/a|        n/a|        n/a|       n/a|     n/a|             n/a|   n/a|        n/a|           0|          0|\n",
            "|1075269|  1311441|     5000|       5000|         5000.0| 36 months|     7.9|     156.46|    A|       A4|Veolia Transportaton|   3 years|          RENT|     36000|    Source Verified|01-12-2011|         n|                 n/a|           wedding|My wedding loan I...|   852xx|        AZ| 11.2|          0|      01-11-2004|             3|                    34|                   n/a|       9|      0|     7963|      28.3|       12|                  f|        0|            0|5631.377753|        5631.38|           5000|       631.38|                 0|         0|                      0|  01-01-2015|         161.03|         n/a|        01-09-2015|                         0|                        n/a|          1|      INDIVIDUAL|             n/a|      n/a|                      n/a|             0|         n/a|        n/a|        n/a|       n/a|        n/a|        n/a|               n/a|         n/a|    n/a|        n/a|        n/a|       n/a|     n/a|             n/a|   n/a|        n/a|           0|          0|\n",
            "|1069639|  1304742|     7000|       7000|         7000.0| 60 months|   15.96|     170.08|    C|       C5|Southern Star Pho...|   8 years|          RENT|     47004|       Not Verified|01-12-2011|         n|  Borrower added ...|debt_consolidation|                Loan|   280xx|        NC|23.51|          0|      01-07-2005|             1|                    34|                   n/a|       7|      0|    17726|      85.6|       11|                  f|  1889.15|      1889.15|    8136.84|        8136.84|        5110.85|      3025.99|                 0|         0|                      0|  01-01-2016|         170.08|  01-02-2016|        01-01-2016|                         0|                        n/a|          1|      INDIVIDUAL|             n/a|      n/a|                      n/a|             0|         n/a|        n/a|        n/a|       n/a|        n/a|        n/a|               n/a|         n/a|    n/a|        n/a|        n/a|       n/a|     n/a|             n/a|   n/a|        n/a|           0|          0|\n",
            "|1072053|  1288686|     3000|       3000|         3000.0| 36 months|   18.64|     109.43|    E|       E1|     MKC Accounting |   9 years|          RENT|     48000|    Source Verified|01-12-2011|         n|  Borrower added ...|               car|     Car Downpayment|   900xx|        CA| 5.35|          0|      01-01-2007|             2|                    34|                   n/a|       4|      0|     8221|      87.5|        4|                  f|        0|            0|3938.144334|        3938.14|           3000|       938.14|                 0|         0|                      0|  01-01-2015|         111.34|         n/a|        01-12-2014|                         0|                        n/a|          1|      INDIVIDUAL|             n/a|      n/a|                      n/a|             0|         n/a|        n/a|        n/a|       n/a|        n/a|        n/a|               n/a|         n/a|    n/a|        n/a|        n/a|       n/a|     n/a|             n/a|   n/a|        n/a|           0|          0|\n",
            "|1071795|  1306957|     5600|       5600|         5600.0| 60 months|   21.28|     152.39|    F|       F2|                 n/a|   4 years|           OWN|     40000|    Source Verified|01-12-2011|         n|  Borrower added ...|    small_business|Expand Business &...|   958xx|        CA| 5.55|          0|      01-04-2004|             2|                    34|                   n/a|      11|      0|     5210|      32.6|       13|                  f|        0|            0|     646.02|         646.02|         162.02|       294.94|                 0|    189.06|                   2.09|  01-04-2012|         152.39|         n/a|        01-08-2012|                         0|                        n/a|          1|      INDIVIDUAL|             n/a|      n/a|                      n/a|             0|         n/a|        n/a|        n/a|       n/a|        n/a|        n/a|               n/a|         n/a|    n/a|        n/a|        n/a|       n/a|     n/a|             n/a|   n/a|        n/a|           0|          1|\n",
            "|1071570|  1306721|     5375|       5375|         5350.0| 60 months|   12.69|     121.45|    B|       B5|           Starbucks|  < 1 year|          RENT|     15000|           Verified|01-12-2011|         n|  Borrower added ...|             other|Building my credi...|   774xx|        TX|18.08|          0|      01-09-2004|             0|                    34|                   n/a|       2|      0|     9279|      36.5|        3|                  f|        0|            0|    1476.19|        1469.34|         673.48|       533.42|                 0|    269.29|                   2.52|  01-11-2012|         121.45|         n/a|        01-03-2013|                         0|                        n/a|          1|      INDIVIDUAL|             n/a|      n/a|                      n/a|             0|         n/a|        n/a|        n/a|       n/a|        n/a|        n/a|               n/a|         n/a|    n/a|        n/a|        n/a|       n/a|     n/a|             n/a|   n/a|        n/a|           0|          1|\n",
            "|1070078|  1305201|     6500|       6500|         6500.0| 60 months|   14.65|     153.45|    C|       C3|Southwest Rural m...|   5 years|           OWN|     72000|       Not Verified|01-12-2011|         n|  Borrower added ...|debt_consolidation|High intrest Cons...|   853xx|        AZ|16.12|          0|      01-01-1998|             2|                    34|                   n/a|      14|      0|     4032|      20.6|       23|                  f|        0|            0|    7677.52|        7677.52|           6500|      1177.52|                 0|         0|                      0|  01-06-2013|        1655.54|         n/a|        01-12-2015|                         0|                        n/a|          1|      INDIVIDUAL|             n/a|      n/a|                      n/a|             0|         n/a|        n/a|        n/a|       n/a|        n/a|        n/a|               n/a|         n/a|    n/a|        n/a|        n/a|       n/a|     n/a|             n/a|   n/a|        n/a|           0|          0|\n",
            "|1069908|  1305008|    12000|      12000|        12000.0| 36 months|   12.69|     402.54|    B|       B5|                UCLA| 10+ years|           OWN|     75000|    Source Verified|01-12-2011|         n|                 n/a|debt_consolidation|       Consolidation|   913xx|        CA|10.78|          0|      01-10-1989|             0|                    34|                   n/a|      12|      0|    23336|      67.1|       34|                  f|        0|            0|   13943.08|       13943.08|          12000|      1943.08|                 0|         0|                      0|  01-09-2013|         6315.3|         n/a|        01-08-2013|                         0|                        n/a|          1|      INDIVIDUAL|             n/a|      n/a|                      n/a|             0|         n/a|        n/a|        n/a|       n/a|        n/a|        n/a|               n/a|         n/a|    n/a|        n/a|        n/a|       n/a|     n/a|             n/a|   n/a|        n/a|           0|          0|\n",
            "|1064687|  1298717|     9000|       9000|         9000.0| 36 months|   13.49|     305.38|    C|       C1|Va. Dept of Conse...|  < 1 year|          RENT|     30000|    Source Verified|01-12-2011|         n|  Borrower added ...|debt_consolidation|             freedom|   245xx|        VA|10.08|          0|      01-04-2004|             1|                    34|                   n/a|       4|      0|    10452|      91.7|        9|                  f|        0|            0|     2270.7|         2270.7|        1256.14|       570.26|                 0|     444.3|                   4.16|  01-07-2012|         305.38|         n/a|        01-11-2012|                         0|                        n/a|          1|      INDIVIDUAL|             n/a|      n/a|                      n/a|             0|         n/a|        n/a|        n/a|       n/a|        n/a|        n/a|               n/a|         n/a|    n/a|        n/a|        n/a|       n/a|     n/a|             n/a|   n/a|        n/a|           0|          1|\n",
            "|1069866|  1304956|     3000|       3000|         3000.0| 36 months|    9.91|      96.68|    B|       B1|              Target|   3 years|          RENT|     15000|    Source Verified|01-12-2011|         n|  Borrower added ...|       credit_card|       citicard fund|   606xx|        IL|12.56|          0|      01-07-2003|             2|                    34|                   n/a|      11|      0|     7323|      43.1|       11|                  f|        0|            0|3478.981915|        3478.98|           3000|       478.98|                 0|         0|                      0|  01-01-2015|         102.43|         n/a|        01-01-2016|                         0|                        n/a|          1|      INDIVIDUAL|             n/a|      n/a|                      n/a|             0|         n/a|        n/a|        n/a|       n/a|        n/a|        n/a|               n/a|         n/a|    n/a|        n/a|        n/a|       n/a|     n/a|             n/a|   n/a|        n/a|           0|          0|\n",
            "|1069057|  1303503|    10000|      10000|        10000.0| 36 months|   10.65|     325.74|    B|       B2|               SFMTA|   3 years|          RENT|    100000|    Source Verified|01-12-2011|         n|                 n/a|             other|          Other Loan|   951xx|        CA| 7.06|          0|      01-05-1991|             2|                    34|                   n/a|      14|      0|    11997|      55.5|       29|                  f|        0|            0|    7471.99|        7471.99|        5433.47|      1393.42|                 0|     645.1|                 6.3145|  01-10-2013|         325.74|         n/a|        01-03-2014|                         0|                        n/a|          1|      INDIVIDUAL|             n/a|      n/a|                      n/a|             0|         n/a|        n/a|        n/a|       n/a|        n/a|        n/a|               n/a|         n/a|    n/a|        n/a|        n/a|       n/a|     n/a|             n/a|   n/a|        n/a|           0|          1|\n",
            "|1069759|  1304871|     1000|       1000|         1000.0| 36 months|   16.29|      35.31|    D|       D1|Internal revenue ...|  < 1 year|          RENT|     28000|       Not Verified|01-12-2011|         n|                 n/a|debt_consolidation|Debt Consolidatio...|   641xx|        MO|20.31|          0|      01-09-2007|             1|                    34|                   n/a|      11|      0|     6524|      81.5|       23|                  f|        0|            0|1270.171106|        1270.17|           1000|       270.17|                 0|         0|                      0|  01-01-2015|          36.32|         n/a|        01-01-2016|                         0|                        n/a|          1|      INDIVIDUAL|             n/a|      n/a|                      n/a|             0|         n/a|        n/a|        n/a|       n/a|        n/a|        n/a|               n/a|         n/a|    n/a|        n/a|        n/a|       n/a|     n/a|             n/a|   n/a|        n/a|           0|          0|\n",
            "|1065775|  1299699|    10000|      10000|        10000.0| 36 months|   15.27|     347.98|    C|       C4|   Chin's Restaurant|   4 years|          RENT|     42000|       Not Verified|01-12-2011|         n|                 n/a|  home_improvement|                Home|   921xx|        CA| 18.6|          0|      01-10-1998|             2|                    61|                   n/a|      14|      0|    24043|      70.2|       28|                  f|        0|            0|12519.26045|       12519.26|          10000|      2519.26|                 0|         0|                      0|  01-01-2015|         370.46|         n/a|        01-04-2015|                         0|                        n/a|          1|      INDIVIDUAL|             n/a|      n/a|                      n/a|             0|         n/a|        n/a|        n/a|       n/a|        n/a|        n/a|               n/a|         n/a|    n/a|        n/a|        n/a|       n/a|     n/a|             n/a|   n/a|        n/a|           0|          0|\n",
            "|1069971|  1304884|     3600|       3600|         3600.0| 36 months|    6.03|     109.57|    A|       A1|            Duracell| 10+ years|      MORTGAGE|    110000|       Not Verified|01-12-2011|         n|  Borrower added ...|    major_purchase|             Holiday|   067xx|        CT|10.52|          0|      01-08-1993|             0|                    34|                   n/a|      20|      0|    22836|        16|       42|                  f|        0|            0|    3785.02|        3785.02|           3600|       185.02|                 0|         0|                      0|  01-05-2013|         583.45|         n/a|        01-05-2014|                         0|                        n/a|          1|      INDIVIDUAL|             n/a|      n/a|                      n/a|             0|         n/a|        n/a|        n/a|       n/a|        n/a|        n/a|               n/a|         n/a|    n/a|        n/a|        n/a|       n/a|     n/a|             n/a|   n/a|        n/a|           0|          0|\n",
            "|1062474|  1294539|     6000|       6000|         6000.0| 36 months|   11.71|     198.46|    B|       B3|Connection Inspec...|    1 year|      MORTGAGE|     84000|           Verified|01-12-2011|         n|  Borrower added ...|           medical|             Medical|   890xx|        UT|18.44|          2|      01-10-2003|             0|                     8|                   n/a|       4|      0|        0|     37.73|       14|                  f|        0|            0|7164.499852|         7164.5|           6000|       1149.5|                15|         0|                      0|  01-02-2015|          16.98|         n/a|        01-07-2015|                         0|                        n/a|          1|      INDIVIDUAL|             n/a|      n/a|                      n/a|             0|         n/a|        n/a|        n/a|       n/a|        n/a|        n/a|               n/a|         n/a|    n/a|        n/a|        n/a|       n/a|     n/a|             n/a|   n/a|        n/a|           0|          0|\n",
            "|1069742|  1304855|     9200|       9200|         9200.0| 36 months|    6.03|     280.01|    A|       A1|Network Interpret...|   6 years|          RENT|  77385.19|       Not Verified|01-12-2011|         n|                 n/a|debt_consolidation|lowerratemeanseas...|   921xx|        CA| 9.86|          0|      01-01-2001|             0|                    34|                   n/a|       8|      0|     7314|      23.1|       28|                  f|        0|            0|    9459.96|        9459.96|           9200|       259.96|                 0|         0|                      0|  01-07-2012|         8061.1|         n/a|        01-07-2012|                         0|                        n/a|          1|      INDIVIDUAL|             n/a|      n/a|                      n/a|             0|         n/a|        n/a|        n/a|       n/a|        n/a|        n/a|               n/a|         n/a|    n/a|        n/a|        n/a|       n/a|     n/a|             n/a|   n/a|        n/a|           0|          0|\n",
            "+-------+---------+---------+-----------+---------------+----------+--------+-----------+-----+---------+--------------------+----------+--------------+----------+-------------------+----------+----------+--------------------+------------------+--------------------+--------+----------+-----+-----------+----------------+--------------+----------------------+----------------------+--------+-------+---------+----------+---------+-------------------+---------+-------------+-----------+---------------+---------------+-------------+------------------+----------+-----------------------+------------+---------------+------------+------------------+--------------------------+---------------------------+-----------+----------------+----------------+---------+-------------------------+--------------+------------+-----------+-----------+----------+-----------+-----------+------------------+------------+-------+-----------+-----------+----------+--------+----------------+------+-----------+------------+-----------+\n",
            "only showing top 20 rows\n",
            "\n"
          ]
        }
      ],
      "source": [
        "targetDf.show()"
      ]
    },
    {
      "cell_type": "code",
      "execution_count": null,
      "metadata": {
        "colab": {
          "background_save": true
        },
        "id": "6DfGEa4wbUKs"
      },
      "outputs": [],
      "source": [
        "data_df = targetDf.withColumn(\"mths_since_last_delinq\", targetDf[\"mths_since_last_delinq\"].cast(IntegerType()))"
      ]
    },
    {
      "cell_type": "code",
      "execution_count": null,
      "metadata": {
        "colab": {
          "background_save": true
        },
        "id": "XwNJks4xbk86",
        "outputId": "fe9208a5-f595-4392-c758-116f063d9e46"
      },
      "outputs": [
        {
          "data": {
            "text/plain": [
              "[('id', 'int'),\n",
              " ('member_id', 'int'),\n",
              " ('loan_amnt', 'int'),\n",
              " ('funded_amnt', 'int'),\n",
              " ('funded_amnt_inv', 'double'),\n",
              " ('term', 'string'),\n",
              " ('int_rate', 'double'),\n",
              " ('installment', 'double'),\n",
              " ('grade', 'string'),\n",
              " ('sub_grade', 'string'),\n",
              " ('emp_title', 'string'),\n",
              " ('emp_length', 'string'),\n",
              " ('home_ownership', 'string'),\n",
              " ('annual_inc', 'string'),\n",
              " ('verification_status', 'string'),\n",
              " ('issue_d', 'string'),\n",
              " ('pymnt_plan', 'string'),\n",
              " ('desc', 'string'),\n",
              " ('purpose', 'string'),\n",
              " ('title', 'string'),\n",
              " ('zip_code', 'string'),\n",
              " ('addr_state', 'string'),\n",
              " ('dti', 'string'),\n",
              " ('delinq_2yrs', 'string'),\n",
              " ('earliest_cr_line', 'string'),\n",
              " ('inq_last_6mths', 'string'),\n",
              " ('mths_since_last_delinq', 'int'),\n",
              " ('mths_since_last_record', 'string'),\n",
              " ('open_acc', 'string'),\n",
              " ('pub_rec', 'string'),\n",
              " ('revol_bal', 'string'),\n",
              " ('revol_util', 'string'),\n",
              " ('total_acc', 'string'),\n",
              " ('initial_list_status', 'string'),\n",
              " ('out_prncp', 'string'),\n",
              " ('out_prncp_inv', 'string'),\n",
              " ('total_pymnt', 'string'),\n",
              " ('total_pymnt_inv', 'string'),\n",
              " ('total_rec_prncp', 'string'),\n",
              " ('total_rec_int', 'string'),\n",
              " ('total_rec_late_fee', 'string'),\n",
              " ('recoveries', 'string'),\n",
              " ('collection_recovery_fee', 'string'),\n",
              " ('last_pymnt_d', 'string'),\n",
              " ('last_pymnt_amnt', 'string'),\n",
              " ('next_pymnt_d', 'string'),\n",
              " ('last_credit_pull_d', 'string'),\n",
              " ('collections_12_mths_ex_med', 'string'),\n",
              " ('mths_since_last_major_derog', 'string'),\n",
              " ('policy_code', 'string'),\n",
              " ('application_type', 'string'),\n",
              " ('annual_inc_joint', 'string'),\n",
              " ('dti_joint', 'string'),\n",
              " ('verification_status_joint', 'string'),\n",
              " ('acc_now_delinq', 'string'),\n",
              " ('tot_coll_amt', 'string'),\n",
              " ('tot_cur_bal', 'string'),\n",
              " ('open_acc_6m', 'string'),\n",
              " ('open_il_6m', 'string'),\n",
              " ('open_il_12m', 'string'),\n",
              " ('open_il_24m', 'string'),\n",
              " ('mths_since_rcnt_il', 'string'),\n",
              " ('total_bal_il', 'string'),\n",
              " ('il_util', 'string'),\n",
              " ('open_rv_12m', 'string'),\n",
              " ('open_rv_24m', 'string'),\n",
              " ('max_bal_bc', 'string'),\n",
              " ('all_util', 'string'),\n",
              " ('total_rev_hi_lim', 'string'),\n",
              " ('inq_fi', 'string'),\n",
              " ('total_cu_tl', 'string'),\n",
              " ('inq_last_12m', 'int'),\n",
              " ('default_ind', 'int')]"
            ]
          },
          "execution_count": 53,
          "metadata": {},
          "output_type": "execute_result"
        }
      ],
      "source": [
        "data_df.dtypes"
      ]
    },
    {
      "cell_type": "code",
      "execution_count": null,
      "metadata": {
        "colab": {
          "background_save": true
        },
        "id": "2DNCidT68C4N"
      },
      "outputs": [],
      "source": [
        "selectedColumns = data.select(\"id\",\"member_id\",\"loan_amnt\",\"term\",\"int_rate\",\"installment\",\"grade\",\"emp_title\",\"emp_length\",\"home_ownership\",\"annual_inc\",\"verification_status\",\"purpose\")"
      ]
    },
    {
      "cell_type": "code",
      "execution_count": null,
      "metadata": {
        "colab": {
          "background_save": true
        },
        "id": "6v8Z-xul8Ppz",
        "outputId": "d461e8f6-8ef5-4470-d841-0dc6ab230fc3"
      },
      "outputs": [
        {
          "name": "stdout",
          "output_type": "stream",
          "text": [
            "+-------+---------+---------+----------+--------+-----------+-----+--------------------+----------+--------------+----------+-------------------+------------------+\n",
            "|     id|member_id|loan_amnt|      term|int_rate|installment|grade|           emp_title|emp_length|home_ownership|annual_inc|verification_status|           purpose|\n",
            "+-------+---------+---------+----------+--------+-----------+-----+--------------------+----------+--------------+----------+-------------------+------------------+\n",
            "|1077501|  1296599|     5000| 36 months|   10.65|     162.87|    B|                 n/a| 10+ years|          RENT|     24000|           Verified|       credit_card|\n",
            "|1077430|  1314167|     2500| 60 months|   15.27|      59.83|    C|               Ryder|  < 1 year|          RENT|     30000|    Source Verified|               car|\n",
            "|1077175|  1313524|     2400| 36 months|   15.96|      84.33|    C|                 n/a| 10+ years|          RENT|     12252|       Not Verified|    small_business|\n",
            "|1076863|  1277178|    10000| 36 months|   13.49|     339.31|    C| AIR RESOURCES BOARD| 10+ years|          RENT|     49200|    Source Verified|             other|\n",
            "|1075358|  1311748|     3000| 60 months|   12.69|      67.79|    B|University Medica...|    1 year|          RENT|     80000|    Source Verified|             other|\n",
            "|1075269|  1311441|     5000| 36 months|     7.9|     156.46|    A|Veolia Transportaton|   3 years|          RENT|     36000|    Source Verified|           wedding|\n",
            "|1069639|  1304742|     7000| 60 months|   15.96|     170.08|    C|Southern Star Pho...|   8 years|          RENT|     47004|       Not Verified|debt_consolidation|\n",
            "|1072053|  1288686|     3000| 36 months|   18.64|     109.43|    E|     MKC Accounting |   9 years|          RENT|     48000|    Source Verified|               car|\n",
            "|1071795|  1306957|     5600| 60 months|   21.28|     152.39|    F|                 n/a|   4 years|           OWN|     40000|    Source Verified|    small_business|\n",
            "|1071570|  1306721|     5375| 60 months|   12.69|     121.45|    B|           Starbucks|  < 1 year|          RENT|     15000|           Verified|             other|\n",
            "|1070078|  1305201|     6500| 60 months|   14.65|     153.45|    C|Southwest Rural m...|   5 years|           OWN|     72000|       Not Verified|debt_consolidation|\n",
            "|1069908|  1305008|    12000| 36 months|   12.69|     402.54|    B|                UCLA| 10+ years|           OWN|     75000|    Source Verified|debt_consolidation|\n",
            "|1064687|  1298717|     9000| 36 months|   13.49|     305.38|    C|Va. Dept of Conse...|  < 1 year|          RENT|     30000|    Source Verified|debt_consolidation|\n",
            "|1069866|  1304956|     3000| 36 months|    9.91|      96.68|    B|              Target|   3 years|          RENT|     15000|    Source Verified|       credit_card|\n",
            "|1069057|  1303503|    10000| 36 months|   10.65|     325.74|    B|               SFMTA|   3 years|          RENT|    100000|    Source Verified|             other|\n",
            "|1069759|  1304871|     1000| 36 months|   16.29|      35.31|    D|Internal revenue ...|  < 1 year|          RENT|     28000|       Not Verified|debt_consolidation|\n",
            "|1065775|  1299699|    10000| 36 months|   15.27|     347.98|    C|   Chin's Restaurant|   4 years|          RENT|     42000|       Not Verified|  home_improvement|\n",
            "|1069971|  1304884|     3600| 36 months|    6.03|     109.57|    A|            Duracell| 10+ years|      MORTGAGE|    110000|       Not Verified|    major_purchase|\n",
            "|1062474|  1294539|     6000| 36 months|   11.71|     198.46|    B|Connection Inspec...|    1 year|      MORTGAGE|     84000|           Verified|           medical|\n",
            "|1069742|  1304855|     9200| 36 months|    6.03|     280.01|    A|Network Interpret...|   6 years|          RENT|  77385.19|       Not Verified|debt_consolidation|\n",
            "+-------+---------+---------+----------+--------+-----------+-----+--------------------+----------+--------------+----------+-------------------+------------------+\n",
            "only showing top 20 rows\n",
            "\n"
          ]
        }
      ],
      "source": [
        "selectedColumns.show()"
      ]
    },
    {
      "cell_type": "code",
      "execution_count": null,
      "metadata": {
        "colab": {
          "background_save": true
        },
        "id": "L6iTKxOh_x6n",
        "outputId": "036e80fc-6a98-4f56-ce73-8e15d653af78"
      },
      "outputs": [
        {
          "data": {
            "text/plain": [
              "[('id', 'int'),\n",
              " ('member_id', 'int'),\n",
              " ('loan_amnt', 'int'),\n",
              " ('term', 'string'),\n",
              " ('int_rate', 'double'),\n",
              " ('installment', 'double'),\n",
              " ('grade', 'string'),\n",
              " ('emp_title', 'string'),\n",
              " ('emp_length', 'string'),\n",
              " ('home_ownership', 'string'),\n",
              " ('annual_inc', 'string'),\n",
              " ('verification_status', 'string'),\n",
              " ('purpose', 'string')]"
            ]
          },
          "execution_count": 56,
          "metadata": {},
          "output_type": "execute_result"
        }
      ],
      "source": [
        "selectedColumns.dtypes"
      ]
    },
    {
      "cell_type": "code",
      "execution_count": null,
      "metadata": {
        "colab": {
          "background_save": true
        },
        "id": "dJfaRkFfAWpr",
        "outputId": "60b54af7-4eb4-4ac2-d49e-e832ba94d21b"
      },
      "outputs": [
        {
          "name": "stdout",
          "output_type": "stream",
          "text": [
            "+---+---------+---------+----+--------+-----------+-----+-----------------+-----------------+--------------+----------+-------------------+--------------------+\n",
            "| id|member_id|loan_amnt|term|int_rate|installment|grade|        emp_title|       emp_length|home_ownership|annual_inc|verification_status|             purpose|\n",
            "+---+---------+---------+----+--------+-----------+-----+-----------------+-----------------+--------------+----------+-------------------+--------------------+\n",
            "|0.0|      0.0|      0.0| 0.0|     0.0|        0.0|  0.0|5.776260588876466|5.030672839787422|           0.0|       0.0|                0.0|1.168266607786029...|\n",
            "+---+---------+---------+----+--------+-----------+-----+-----------------+-----------------+--------------+----------+-------------------+--------------------+\n",
            "\n"
          ]
        }
      ],
      "source": [
        "amount_missing_df = selectedColumns.select([((count(when(col(c) == \"n/a\", c))/selectedColumns.count())*100).alias(c) for c in selectedColumns.columns])\n",
        "amount_missing_df.show()"
      ]
    },
    {
      "cell_type": "code",
      "execution_count": null,
      "metadata": {
        "colab": {
          "background_save": true
        },
        "id": "5UKo32W6D-DJ"
      },
      "outputs": [],
      "source": [
        "fixEmpTitle = selectedColumns.withColumn(\"emp_title\", when((selectedColumns[\"emp_title\"] == \"n/a\") & (selectedColumns[\"emp_length\"] == \"n/a\"), lit(\"unemployed\")).otherwise(selectedColumns[\"emp_title\"]))"
      ]
    },
    {
      "cell_type": "code",
      "execution_count": null,
      "metadata": {
        "colab": {
          "background_save": true
        },
        "id": "gtEc_K8dEizd",
        "outputId": "e38720a6-70e2-4b5c-b2eb-eaf48b0dc062"
      },
      "outputs": [
        {
          "name": "stdout",
          "output_type": "stream",
          "text": [
            "+-------+---------+---------+----------+--------+-----------+-----+--------------------+----------+--------------+----------+-------------------+------------------+\n",
            "|     id|member_id|loan_amnt|      term|int_rate|installment|grade|           emp_title|emp_length|home_ownership|annual_inc|verification_status|           purpose|\n",
            "+-------+---------+---------+----------+--------+-----------+-----+--------------------+----------+--------------+----------+-------------------+------------------+\n",
            "|1077501|  1296599|     5000| 36 months|   10.65|     162.87|    B|                 n/a| 10+ years|          RENT|     24000|           Verified|       credit_card|\n",
            "|1077430|  1314167|     2500| 60 months|   15.27|      59.83|    C|               Ryder|  < 1 year|          RENT|     30000|    Source Verified|               car|\n",
            "|1077175|  1313524|     2400| 36 months|   15.96|      84.33|    C|                 n/a| 10+ years|          RENT|     12252|       Not Verified|    small_business|\n",
            "|1076863|  1277178|    10000| 36 months|   13.49|     339.31|    C| AIR RESOURCES BOARD| 10+ years|          RENT|     49200|    Source Verified|             other|\n",
            "|1075358|  1311748|     3000| 60 months|   12.69|      67.79|    B|University Medica...|    1 year|          RENT|     80000|    Source Verified|             other|\n",
            "|1075269|  1311441|     5000| 36 months|     7.9|     156.46|    A|Veolia Transportaton|   3 years|          RENT|     36000|    Source Verified|           wedding|\n",
            "|1069639|  1304742|     7000| 60 months|   15.96|     170.08|    C|Southern Star Pho...|   8 years|          RENT|     47004|       Not Verified|debt_consolidation|\n",
            "|1072053|  1288686|     3000| 36 months|   18.64|     109.43|    E|     MKC Accounting |   9 years|          RENT|     48000|    Source Verified|               car|\n",
            "|1071795|  1306957|     5600| 60 months|   21.28|     152.39|    F|                 n/a|   4 years|           OWN|     40000|    Source Verified|    small_business|\n",
            "|1071570|  1306721|     5375| 60 months|   12.69|     121.45|    B|           Starbucks|  < 1 year|          RENT|     15000|           Verified|             other|\n",
            "|1070078|  1305201|     6500| 60 months|   14.65|     153.45|    C|Southwest Rural m...|   5 years|           OWN|     72000|       Not Verified|debt_consolidation|\n",
            "|1069908|  1305008|    12000| 36 months|   12.69|     402.54|    B|                UCLA| 10+ years|           OWN|     75000|    Source Verified|debt_consolidation|\n",
            "|1064687|  1298717|     9000| 36 months|   13.49|     305.38|    C|Va. Dept of Conse...|  < 1 year|          RENT|     30000|    Source Verified|debt_consolidation|\n",
            "|1069866|  1304956|     3000| 36 months|    9.91|      96.68|    B|              Target|   3 years|          RENT|     15000|    Source Verified|       credit_card|\n",
            "|1069057|  1303503|    10000| 36 months|   10.65|     325.74|    B|               SFMTA|   3 years|          RENT|    100000|    Source Verified|             other|\n",
            "|1069759|  1304871|     1000| 36 months|   16.29|      35.31|    D|Internal revenue ...|  < 1 year|          RENT|     28000|       Not Verified|debt_consolidation|\n",
            "|1065775|  1299699|    10000| 36 months|   15.27|     347.98|    C|   Chin's Restaurant|   4 years|          RENT|     42000|       Not Verified|  home_improvement|\n",
            "|1069971|  1304884|     3600| 36 months|    6.03|     109.57|    A|            Duracell| 10+ years|      MORTGAGE|    110000|       Not Verified|    major_purchase|\n",
            "|1062474|  1294539|     6000| 36 months|   11.71|     198.46|    B|Connection Inspec...|    1 year|      MORTGAGE|     84000|           Verified|           medical|\n",
            "|1069742|  1304855|     9200| 36 months|    6.03|     280.01|    A|Network Interpret...|   6 years|          RENT|  77385.19|       Not Verified|debt_consolidation|\n",
            "+-------+---------+---------+----------+--------+-----------+-----+--------------------+----------+--------------+----------+-------------------+------------------+\n",
            "only showing top 20 rows\n",
            "\n"
          ]
        }
      ],
      "source": [
        "fixEmpTitle.show()"
      ]
    }
  ],
  "metadata": {
    "colab": {
      "collapsed_sections": [],
      "provenance": []
    },
    "kernelspec": {
      "display_name": "Python 3",
      "name": "python3"
    },
    "language_info": {
      "name": "python"
    }
  },
  "nbformat": 4,
  "nbformat_minor": 0
}