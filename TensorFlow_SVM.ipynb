{
  "cells": [
    {
      "cell_type": "markdown",
      "metadata": {
        "id": "JmwXoicCR-Fd"
      },
      "source": [
        "#Importing Packages"
      ]
    },
    {
      "cell_type": "code",
      "execution_count": 1,
      "metadata": {
        "colab": {
          "base_uri": "https://localhost:8080/"
        },
        "id": "P0g10f6S3OBq",
        "outputId": "6aa475a1-14d9-46d3-c58f-26b5ad4b8d03"
      },
      "outputs": [
        {
          "output_type": "stream",
          "name": "stdout",
          "text": [
            "Looking in indexes: https://pypi.org/simple, https://us-python.pkg.dev/colab-wheels/public/simple/\n",
            "Requirement already satisfied: pyspark in /usr/local/lib/python3.7/dist-packages (3.3.0)\n",
            "Requirement already satisfied: py4j==0.10.9.5 in /usr/local/lib/python3.7/dist-packages (from pyspark) (0.10.9.5)\n"
          ]
        }
      ],
      "source": [
        "!pip install pyspark"
      ]
    },
    {
      "cell_type": "code",
      "execution_count": 2,
      "metadata": {
        "id": "yfHwHoFz3Psk"
      },
      "outputs": [],
      "source": [
        "!apt-get install openjdk-8-jdk-headless -qq > /dev/null"
      ]
    },
    {
      "cell_type": "code",
      "execution_count": 3,
      "metadata": {
        "colab": {
          "base_uri": "https://localhost:8080/"
        },
        "id": "pExgfG4D3PvE",
        "outputId": "afefd85a-0806-474d-a3fa-752c7f64008f"
      },
      "outputs": [
        {
          "output_type": "stream",
          "name": "stdout",
          "text": [
            "--2022-10-20 05:00:43--  https://dlcdn.apache.org/spark/spark-3.3.0/spark-3.3.0-bin-hadoop2.tgz\n",
            "Resolving dlcdn.apache.org (dlcdn.apache.org)... 151.101.2.132, 2a04:4e42::644\n",
            "Connecting to dlcdn.apache.org (dlcdn.apache.org)|151.101.2.132|:443... connected.\n",
            "HTTP request sent, awaiting response... 200 OK\n",
            "Length: 274079476 (261M) [application/x-gzip]\n",
            "Saving to: ‘spark-3.3.0-bin-hadoop2.tgz.7’\n",
            "\n",
            "spark-3.3.0-bin-had 100%[===================>] 261.38M   178MB/s    in 1.5s    \n",
            "\n",
            "2022-10-20 05:00:44 (178 MB/s) - ‘spark-3.3.0-bin-hadoop2.tgz.7’ saved [274079476/274079476]\n",
            "\n"
          ]
        }
      ],
      "source": [
        "!wget https://dlcdn.apache.org/spark/spark-3.3.0/spark-3.3.0-bin-hadoop2.tgz"
      ]
    },
    {
      "cell_type": "code",
      "execution_count": 4,
      "metadata": {
        "id": "yJX3evKh3P0F"
      },
      "outputs": [],
      "source": [
        "!tar xf spark-3.3.0-bin-hadoop2.tgz"
      ]
    },
    {
      "cell_type": "code",
      "execution_count": 5,
      "metadata": {
        "id": "aCIHs-Dh3P25"
      },
      "outputs": [],
      "source": [
        "import os\n",
        "os.environ[\"JAVA_HOME\"] = \"/usr/lib/jvm/java-8-openjdk-amd64\"\n",
        "os.environ[\"SPARK_HOME\"] = \"spark-3.3.0-bin-hadoop2\""
      ]
    },
    {
      "cell_type": "code",
      "execution_count": 6,
      "metadata": {
        "colab": {
          "base_uri": "https://localhost:8080/"
        },
        "id": "-4WxdT4t3QAJ",
        "outputId": "9a77df48-0c42-457b-c3f0-d99a685abeb8"
      },
      "outputs": [
        {
          "output_type": "stream",
          "name": "stdout",
          "text": [
            "Looking in indexes: https://pypi.org/simple, https://us-python.pkg.dev/colab-wheels/public/simple/\n",
            "Requirement already satisfied: petastorm in /usr/local/lib/python3.7/dist-packages (0.12.0)\n",
            "Requirement already satisfied: pyzmq>=14.0.0 in /usr/local/lib/python3.7/dist-packages (from petastorm) (23.2.1)\n",
            "Requirement already satisfied: six>=1.5.0 in /usr/local/lib/python3.7/dist-packages (from petastorm) (1.15.0)\n",
            "Requirement already satisfied: future>=0.10.2 in /usr/local/lib/python3.7/dist-packages (from petastorm) (0.16.0)\n",
            "Requirement already satisfied: pandas>=0.19.0 in /usr/local/lib/python3.7/dist-packages (from petastorm) (1.3.5)\n",
            "Requirement already satisfied: pyspark>=2.1.0 in /usr/local/lib/python3.7/dist-packages (from petastorm) (3.3.0)\n",
            "Requirement already satisfied: fsspec in /usr/local/lib/python3.7/dist-packages (from petastorm) (2022.8.2)\n",
            "Requirement already satisfied: dill>=0.2.1 in /usr/local/lib/python3.7/dist-packages (from petastorm) (0.3.5.1)\n",
            "Requirement already satisfied: pyarrow>=0.17.1 in /usr/local/lib/python3.7/dist-packages (from petastorm) (6.0.1)\n",
            "Requirement already satisfied: psutil>=4.0.0 in /usr/local/lib/python3.7/dist-packages (from petastorm) (5.4.8)\n",
            "Requirement already satisfied: numpy>=1.13.3 in /usr/local/lib/python3.7/dist-packages (from petastorm) (1.21.6)\n",
            "Requirement already satisfied: diskcache>=3.0.0 in /usr/local/lib/python3.7/dist-packages (from petastorm) (5.4.0)\n",
            "Requirement already satisfied: packaging>=15.0 in /usr/local/lib/python3.7/dist-packages (from petastorm) (21.3)\n",
            "Requirement already satisfied: pyparsing!=3.0.5,>=2.0.2 in /usr/local/lib/python3.7/dist-packages (from packaging>=15.0->petastorm) (3.0.9)\n",
            "Requirement already satisfied: python-dateutil>=2.7.3 in /usr/local/lib/python3.7/dist-packages (from pandas>=0.19.0->petastorm) (2.8.2)\n",
            "Requirement already satisfied: pytz>=2017.3 in /usr/local/lib/python3.7/dist-packages (from pandas>=0.19.0->petastorm) (2022.4)\n",
            "Requirement already satisfied: py4j==0.10.9.5 in /usr/local/lib/python3.7/dist-packages (from pyspark>=2.1.0->petastorm) (0.10.9.5)\n"
          ]
        }
      ],
      "source": [
        "!pip install petastorm"
      ]
    },
    {
      "cell_type": "code",
      "execution_count": 7,
      "metadata": {
        "colab": {
          "base_uri": "https://localhost:8080/"
        },
        "id": "I1BfeUcW5RMY",
        "outputId": "3760c575-8894-41a5-8618-8ba36efa51b9"
      },
      "outputs": [
        {
          "output_type": "stream",
          "name": "stdout",
          "text": [
            "Looking in indexes: https://pypi.org/simple, https://us-python.pkg.dev/colab-wheels/public/simple/\n",
            "Requirement already satisfied: findspark in /usr/local/lib/python3.7/dist-packages (2.0.1)\n"
          ]
        }
      ],
      "source": [
        "!pip install findspark"
      ]
    },
    {
      "cell_type": "code",
      "execution_count": 8,
      "metadata": {
        "id": "UEsQ3qkH3rRy"
      },
      "outputs": [],
      "source": [
        "import findspark\n",
        "findspark.init()"
      ]
    },
    {
      "cell_type": "code",
      "execution_count": 9,
      "metadata": {
        "colab": {
          "base_uri": "https://localhost:8080/"
        },
        "id": "9XHNUvKS5X1d",
        "outputId": "431641c3-0d2c-4b4d-8590-3f7647ccf3d2"
      },
      "outputs": [
        {
          "output_type": "stream",
          "name": "stdout",
          "text": [
            "Drive already mounted at /content/drive; to attempt to forcibly remount, call drive.mount(\"/content/drive\", force_remount=True).\n"
          ]
        }
      ],
      "source": [
        "from google.colab import drive\n",
        "drive.mount('/content/drive')"
      ]
    },
    {
      "cell_type": "code",
      "execution_count": 10,
      "metadata": {
        "colab": {
          "base_uri": "https://localhost:8080/",
          "height": 220
        },
        "id": "2AMbz3F06W7B",
        "outputId": "45c59bf6-fb56-47dc-fd3b-a18fcac407f8"
      },
      "outputs": [
        {
          "output_type": "execute_result",
          "data": {
            "text/plain": [
              "<pyspark.sql.session.SparkSession at 0x7f4a01c81890>"
            ],
            "text/html": [
              "\n",
              "            <div>\n",
              "                <p><b>SparkSession - in-memory</b></p>\n",
              "                \n",
              "        <div>\n",
              "            <p><b>SparkContext</b></p>\n",
              "\n",
              "            <p><a href=\"http://a8aa4f3bdd63:4040\">Spark UI</a></p>\n",
              "\n",
              "            <dl>\n",
              "              <dt>Version</dt>\n",
              "                <dd><code>v3.3.0</code></dd>\n",
              "              <dt>Master</dt>\n",
              "                <dd><code>local[*]</code></dd>\n",
              "              <dt>AppName</dt>\n",
              "                <dd><code>pyspark-shell</code></dd>\n",
              "            </dl>\n",
              "        </div>\n",
              "        \n",
              "            </div>\n",
              "        "
            ]
          },
          "metadata": {},
          "execution_count": 10
        }
      ],
      "source": [
        "from pyspark.sql import SparkSession\n",
        "spark = SparkSession \\\n",
        "    .builder \\\n",
        "    .config(\"spark.csci316.pandas.SVM\", \"false\") \\\n",
        "    .getOrCreate()\n",
        "spark"
      ]
    },
    {
      "cell_type": "markdown",
      "metadata": {
        "id": "c2sBFdpfSNAg"
      },
      "source": [
        "#Load the dataset and start the graph session"
      ]
    },
    {
      "cell_type": "code",
      "execution_count": 11,
      "metadata": {
        "id": "zyETRaxQ5uC5"
      },
      "outputs": [],
      "source": [
        "#Read the csv file\n",
        "data = spark.read.csv(\"/content/drive/MyDrive/cleanWithHeader.csv\", inferSchema=True, header=True)"
      ]
    },
    {
      "cell_type": "code",
      "execution_count": 12,
      "metadata": {
        "colab": {
          "base_uri": "https://localhost:8080/"
        },
        "id": "4pJC8EIA5uHC",
        "outputId": "be347c9b-cab1-4840-fe3a-44ea1e397a32"
      },
      "outputs": [
        {
          "output_type": "stream",
          "name": "stderr",
          "text": [
            "/usr/local/lib/python3.7/dist-packages/petastorm/spark/spark_dataset_converter.py:28: FutureWarning: pyarrow.LocalFileSystem is deprecated as of 2.0.0, please use pyarrow.fs.LocalFileSystem instead.\n",
            "  from pyarrow import LocalFileSystem\n",
            "WARNING:tensorflow:From /usr/local/lib/python3.7/dist-packages/tensorflow/python/compat/v2_compat.py:107: disable_resource_variables (from tensorflow.python.ops.variable_scope) is deprecated and will be removed in a future version.\n",
            "Instructions for updating:\n",
            "non-resource variables are not supported in the long term\n"
          ]
        }
      ],
      "source": [
        "from petastorm.spark import SparkDatasetConverter, make_spark_converter\n",
        "import os\n",
        "import numpy as np\n",
        "import pandas as pd\n",
        "from sklearn.metrics import confusion_matrix, classification_report\n",
        "import math\n",
        "import matplotlib.pyplot as plt\n",
        "\n",
        "import tensorflow.compat.v1 as tf\n",
        "tf.disable_v2_behavior()"
      ]
    },
    {
      "cell_type": "code",
      "execution_count": 13,
      "metadata": {
        "id": "7lkOuH6rNPQQ"
      },
      "outputs": [],
      "source": [
        "sess = tf.Session()"
      ]
    },
    {
      "cell_type": "code",
      "execution_count": 14,
      "metadata": {
        "colab": {
          "base_uri": "https://localhost:8080/"
        },
        "id": "22B7XlJq5uK0",
        "outputId": "94a825da-eaf7-422c-d328-ca2d725664fa"
      },
      "outputs": [
        {
          "output_type": "stream",
          "name": "stdout",
          "text": [
            "+-------+---------+---------+-----------+---------------+--------+-----------+----------+-----+-----------+--------------+--------+-------+---------+---------+---------+-------------+-----------+---------------+---------------+-------------+------------------+----------+-----------------------+-----------+------------------+-----------------------+----------------------------------+-------------------+--------------------+-------------------+------------------------+----------------+----------------------+--------------------+-----------+-------------+--------------------+----------------+-------------------------+---------------+----------+-------------------------+\n",
            "|     id|member_id|loan_amnt|funded_amnt|funded_amnt_inv|int_rate|installment|annual_inc|  dti|delinq_2yrs|inq_last_6mths|open_acc|pub_rec|revol_bal|total_acc|out_prncp|out_prncp_inv|total_pymnt|total_pymnt_inv|total_rec_prncp|total_rec_int|total_rec_late_fee|recoveries|collection_recovery_fee|default_ind|revol_util_imputed|last_pymnt_amnt_imputed|collections_12_mths_ex_med_imputed|policy_code_imputed|tot_coll_amt_imputed|tot_cur_bal_imputed|total_rev_hi_lim_imputed|pymnt_plan_index|application_type_index|acc_now_delinq_index|grade_index|purpose_index|home_ownership_index|emp_length_index|verification_status_index|sub_grade_index|term_index|initial_list_status_index|\n",
            "+-------+---------+---------+-----------+---------------+--------+-----------+----------+-----+-----------+--------------+--------+-------+---------+---------+---------+-------------+-----------+---------------+---------------+-------------+------------------+----------+-----------------------+-----------+------------------+-----------------------+----------------------------------+-------------------+--------------------+-------------------+------------------------+----------------+----------------------+--------------------+-----------+-------------+--------------------+----------------+-------------------------+---------------+----------+-------------------------+\n",
            "|1077501|  1296599|     5000|       5000|         4975.0|   10.65|     162.87|     24000|27.65|          0|             1|       3|      0|    13648|        9|      0.0|          0.0|5861.071414|        5831.78|         5000.0|       861.07|               0.0|       0.0|                    0.0|          0|              83.7|                 171.62|                                 0|                  1|                   0|              80935|                   23800|             0.0|                   0.0|                 0.0|        0.0|          1.0|                 1.0|             0.0|                      1.0|            5.0|       0.0|                      0.0|\n",
            "|1077430|  1314167|     2500|       2500|         2500.0|   15.27|      59.83|     30000|  1.0|          0|             5|       3|      0|     1687|        4|      0.0|          0.0|    1008.71|        1008.71|         456.46|       435.17|               0.0|    117.08|                   1.11|          1|               9.4|                 119.66|                                 0|                  1|                   0|              80935|                   23800|             0.0|                   0.0|                 0.0|        1.0|          6.0|                 1.0|             2.0|                      0.0|            7.0|       1.0|                      0.0|\n",
            "|1077175|  1313524|     2400|       2400|         2400.0|   15.96|      84.33|     12252| 8.72|          0|             2|       2|      0|     2956|       10|      0.0|          0.0|3003.653644|        3003.65|         2400.0|       603.65|               0.0|       0.0|                    0.0|          0|              98.5|                 649.91|                                 0|                  1|                   0|              80935|                   23800|             0.0|                   0.0|                 0.0|        1.0|          5.0|                 1.0|             0.0|                      2.0|           10.0|       0.0|                      0.0|\n",
            "|1076863|  1277178|    10000|      10000|        10000.0|   13.49|     339.31|     49200| 20.0|          0|             1|      10|      0|     5598|       37|      0.0|          0.0|12226.30221|        12226.3|        10000.0|      2209.33|             16.97|       0.0|                    0.0|          0|              21.0|                 357.48|                                 0|                  1|                   0|              80935|                   23800|             0.0|                   0.0|                 0.0|        1.0|          3.0|                 1.0|             0.0|                      0.0|            2.0|       0.0|                      0.0|\n",
            "|1075358|  1311748|     3000|       3000|         3000.0|   12.69|      67.79|     80000|17.94|          0|             0|      15|      0|    27783|       38|    766.9|        766.9|    3242.17|        3242.17|         2233.1|      1009.07|               0.0|       0.0|                    0.0|          0|              53.9|                  67.79|                                 0|                  1|                   0|              80935|                   23800|             0.0|                   0.0|                 0.0|        0.0|          3.0|                 1.0|             4.0|                      0.0|            6.0|       1.0|                      0.0|\n",
            "|1075269|  1311441|     5000|       5000|         5000.0|     7.9|     156.46|     36000| 11.2|          0|             3|       9|      0|     7963|       12|      0.0|          0.0|5631.377753|        5631.38|         5000.0|       631.38|               0.0|       0.0|                    0.0|          0|              28.3|                 161.03|                                 0|                  1|                   0|              80935|                   23800|             0.0|                   0.0|                 0.0|        2.0|         11.0|                 1.0|             3.0|                      0.0|           12.0|       0.0|                      0.0|\n",
            "|1069639|  1304742|     7000|       7000|         7000.0|   15.96|     170.08|     47004|23.51|          0|             1|       7|      0|    17726|       11|  1889.15|      1889.15|    8136.84|        8136.84|        5110.85|      3025.99|               0.0|       0.0|                    0.0|          0|              85.6|                 170.08|                                 0|                  1|                   0|              80935|                   23800|             0.0|                   0.0|                 0.0|        1.0|          0.0|                 1.0|             9.0|                      2.0|           10.0|       1.0|                      0.0|\n",
            "|1072053|  1288686|     3000|       3000|         3000.0|   18.64|     109.43|     48000| 5.35|          0|             2|       4|      0|     8221|        4|      0.0|          0.0|3938.144334|        3938.14|         3000.0|       938.14|               0.0|       0.0|                    0.0|          0|              87.5|                 111.34|                                 0|                  1|                   0|              80935|                   23800|             0.0|                   0.0|                 0.0|        4.0|          6.0|                 1.0|            11.0|                      0.0|           20.0|       0.0|                      0.0|\n",
            "|1071795|  1306957|     5600|       5600|         5600.0|   21.28|     152.39|     40000| 5.55|          0|             2|      11|      0|     5210|       13|      0.0|          0.0|     646.02|         646.02|         162.02|       294.94|               0.0|    189.06|                   2.09|          1|              32.6|                 152.39|                                 0|                  1|                   0|              80935|                   23800|             0.0|                   0.0|                 0.0|        5.0|          5.0|                 2.0|             6.0|                      0.0|           26.0|       1.0|                      0.0|\n",
            "|1071570|  1306721|     5375|       5375|         5350.0|   12.69|     121.45|     15000|18.08|          0|             0|       2|      0|     9279|        3|      0.0|          0.0|    1476.19|        1469.34|         673.48|       533.42|               0.0|    269.29|                   2.52|          1|              36.5|                 121.45|                                 0|                  1|                   0|              80935|                   23800|             0.0|                   0.0|                 0.0|        0.0|          3.0|                 1.0|             2.0|                      1.0|            6.0|       1.0|                      0.0|\n",
            "+-------+---------+---------+-----------+---------------+--------+-----------+----------+-----+-----------+--------------+--------+-------+---------+---------+---------+-------------+-----------+---------------+---------------+-------------+------------------+----------+-----------------------+-----------+------------------+-----------------------+----------------------------------+-------------------+--------------------+-------------------+------------------------+----------------+----------------------+--------------------+-----------+-------------+--------------------+----------------+-------------------------+---------------+----------+-------------------------+\n",
            "only showing top 10 rows\n",
            "\n"
          ]
        }
      ],
      "source": [
        "data.show(10)"
      ]
    },
    {
      "cell_type": "code",
      "execution_count": 15,
      "metadata": {
        "id": "9oYX_q6r5uOA"
      },
      "outputs": [],
      "source": [
        "#Re-arrange the dataset\n",
        "data_reordered = data.select(\"id\",\"member_id\",\"loan_amnt\",\"funded_amnt\",\"funded_amnt_inv\",\"int_rate\",\"installment\",\"annual_inc\",\n",
        "                             \"dti\",\"delinq_2yrs\",\"inq_last_6mths\",\"open_acc\",\"pub_rec\",\"revol_bal\",\"total_acc\",\"out_prncp\",\"out_prncp_inv\",\n",
        "                             \"total_pymnt\",\"total_pymnt_inv\",\"total_rec_prncp\",\"total_rec_int\",\"total_rec_late_fee\",\"recoveries\",\n",
        "                             \"collection_recovery_fee\",\"revol_util_imputed\",\"last_pymnt_amnt_imputed\",\"collections_12_mths_ex_med_imputed\",\n",
        "                             \"policy_code_imputed\",\"tot_coll_amt_imputed\",\"tot_cur_bal_imputed\",\"total_rev_hi_lim_imputed\",\"pymnt_plan_index\",\n",
        "                             \"application_type_index\",\"acc_now_delinq_index\",\"grade_index\",\"purpose_index\",\"home_ownership_index\",\n",
        "                             \"emp_length_index\",\"verification_status_index\",\"sub_grade_index\",\"term_index\",\"initial_list_status_index\", \"default_ind\")"
      ]
    },
    {
      "cell_type": "markdown",
      "metadata": {
        "id": "HDahwAMpSY0c"
      },
      "source": [
        "#Split data into train set and test set"
      ]
    },
    {
      "cell_type": "code",
      "execution_count": 16,
      "metadata": {
        "id": "AagaC69U5uQ-"
      },
      "outputs": [],
      "source": [
        "df_train, df_val = data_reordered.randomSplit([0.7, 0.3], seed=135)\n",
        "\n",
        "df_train = df_train.repartition(2)\n",
        "df_val = df_val.repartition(2)"
      ]
    },
    {
      "cell_type": "code",
      "execution_count": 17,
      "metadata": {
        "colab": {
          "base_uri": "https://localhost:8080/"
        },
        "id": "_pXvGTzL5uTi",
        "outputId": "23f8504c-30d1-48db-88e0-af0db5d64737"
      },
      "outputs": [
        {
          "output_type": "stream",
          "name": "stdout",
          "text": [
            "+--------+---------+---------+-----------+---------------+--------+-----------+----------+-----+-----------+--------------+--------+-------+---------+---------+---------+-------------+-----------+---------------+---------------+-------------+------------------+----------+-----------------------+------------------+-----------------------+----------------------------------+-------------------+--------------------+-------------------+------------------------+----------------+----------------------+--------------------+-----------+-------------+--------------------+----------------+-------------------------+---------------+----------+-------------------------+-----------+\n",
            "|      id|member_id|loan_amnt|funded_amnt|funded_amnt_inv|int_rate|installment|annual_inc|  dti|delinq_2yrs|inq_last_6mths|open_acc|pub_rec|revol_bal|total_acc|out_prncp|out_prncp_inv|total_pymnt|total_pymnt_inv|total_rec_prncp|total_rec_int|total_rec_late_fee|recoveries|collection_recovery_fee|revol_util_imputed|last_pymnt_amnt_imputed|collections_12_mths_ex_med_imputed|policy_code_imputed|tot_coll_amt_imputed|tot_cur_bal_imputed|total_rev_hi_lim_imputed|pymnt_plan_index|application_type_index|acc_now_delinq_index|grade_index|purpose_index|home_ownership_index|emp_length_index|verification_status_index|sub_grade_index|term_index|initial_list_status_index|default_ind|\n",
            "+--------+---------+---------+-----------+---------------+--------+-----------+----------+-----+-----------+--------------+--------+-------+---------+---------+---------+-------------+-----------+---------------+---------------+-------------+------------------+----------+-----------------------+------------------+-----------------------+----------------------------------+-------------------+--------------------+-------------------+------------------------+----------------+----------------------+--------------------+-----------+-------------+--------------------+----------------+-------------------------+---------------+----------+-------------------------+-----------+\n",
            "|36178144| 38879659|    29400|      29400|        29400.0|    8.19|     598.81|     65000| 9.29|          0|             0|      10|      0|    27133|       18| 24006.63|     24006.63|    7771.15|        7771.15|        5393.37|      2377.78|               0.0|       0.0|                    0.0|              54.3|                 598.81|                                 0|                  1|                   0|             316156|                   50000|             0.0|                   0.0|                 0.0|        2.0|          1.0|                 0.0|            10.0|                      0.0|            9.0|       1.0|                      1.0|          0|\n",
            "| 7345138|  9007271|    16000|      16000|        16000.0|    19.2|     588.12|     85000|13.17|          0|             2|       9|      2|     6320|       20|      0.0|          0.0|   20832.41|       20832.41|        16000.0|      4832.41|               0.0|       0.0|                    0.0|              33.1|                5541.29|                                 0|                  1|                   0|              37141|                   19100|             0.0|                   0.0|                 0.0|        3.0|          1.0|                 2.0|             0.0|                      1.0|           14.0|       0.0|                      0.0|          0|\n",
            "| 2375049|  2837232|    35000|      35000|        35000.0|   14.33|    1201.84|    200000|15.51|          0|             0|      12|      0|    18701|       30|      0.0|          0.0|40744.88349|       40744.88|        35000.0|      5744.88|               0.0|       0.0|                    0.0|             100.3|               21542.74|                                 0|                  1|                   0|             121889|                   18700|             0.0|                   0.0|                 0.0|        1.0|          1.0|                 1.0|             1.0|                      1.0|            2.0|       0.0|                      0.0|          0|\n",
            "|32119501| 34722789|    15000|      15000|        15000.0|   11.67|     331.18|     55000| 9.73|          0|             0|       7|      0|    16545|       20| 12235.19|     12235.19|    4617.07|        4617.07|        2764.81|      1852.26|               0.0|       0.0|                    0.0|              69.8|                 331.18|                                 0|                  1|                   0|              16545|                   23700|             0.0|                   0.0|                 0.0|        0.0|          0.0|                 1.0|             0.0|                      1.0|            1.0|       1.0|                      0.0|          0|\n",
            "|16742417| 18854944|    18000|      18000|        18000.0|   13.35|     412.79|     80000|13.85|          0|             0|      12|      0|    26331|       21| 13530.75|     13530.75|    7843.01|        7843.01|        4469.25|      3373.76|               0.0|       0.0|                    0.0|              86.3|                 412.79|                                 0|                  1|                   0|              37812|                   30500|             0.0|                   0.0|                 0.0|        1.0|          1.0|                 1.0|             9.0|                      0.0|            3.0|       1.0|                      1.0|          0|\n",
            "|28784095| 31307297|     5000|       5000|         5000.0|   15.61|     174.83|     45000|13.28|          0|             1|       6|      1|     3276|       11|      0.0|          0.0|    5512.36|        5512.36|         5000.0|       512.36|               0.0|       0.0|                    0.0|              52.0|                4288.55|                                 0|                  1|                   0|              22883|                    6300|             0.0|                   0.0|                 0.0|        3.0|          0.0|                 1.0|             0.0|                      0.0|           11.0|       0.0|                      0.0|          0|\n",
            "| 3810854|  4854843|    16000|      16000|        16000.0|   15.31|     383.25|     75000| 7.12|          0|             1|       9|      0|    15073|       23|  8718.64|      8718.64|   12623.85|       12623.85|        7281.36|      5342.49|               0.0|       0.0|                    0.0|              65.6|                 383.25|                                 0|                  1|                   0|             159971|                   22981|             0.0|                   0.0|                 0.0|        1.0|          1.0|                 0.0|             9.0|                      1.0|            3.0|       1.0|                      0.0|          0|\n",
            "| 7055759|  8717898|    20000|      20000|        20000.0|   18.85|     517.17|     45000| 30.4|          0|             0|      12|      0|    29388|       23|      0.0|          0.0|25510.30177|        25510.3|        20000.0|       5510.3|               0.0|       0.0|                    0.0|              63.6|                 138.51|                                 0|                  1|                   0|              32164|                   46200|             0.0|                   0.0|                 0.0|        3.0|          0.0|                 2.0|             0.0|                      1.0|           14.0|       1.0|                      0.0|          0|\n",
            "| 5176601|  6498926|    10000|      10000|        10000.0|   11.14|     328.06|     50000|19.08|          0|             0|      11|      1|    12414|       25|  1595.38|      1595.38|   10169.62|       10169.62|        8404.62|       1765.0|               0.0|       0.0|                    0.0|              54.9|                 328.06|                                 0|                  1|                   0|             103956|                   22600|             0.0|                   0.0|                 0.0|        0.0|          1.0|                 0.0|             1.0|                      2.0|            5.0|       0.0|                      0.0|          0|\n",
            "|13437734| 15490021|     4000|       4000|         4000.0|   14.16|     137.03|     18000| 18.6|          0|             0|       3|      0|      883|       29|   1987.0|       1987.0|     2740.6|         2740.6|         2013.0|        727.6|               0.0|       0.0|                    0.0|              29.4|                 137.03|                                 0|                  1|                   0|                883|                    3000|             0.0|                   0.0|                 0.0|        1.0|          5.0|                 1.0|             2.0|                      1.0|            3.0|       0.0|                      1.0|          0|\n",
            "| 6927926|  8569879|     6000|       6000|         6000.0|   12.35|      200.3|     32000|21.21|          0|             0|       9|      1|     6436|       33|      0.0|          0.0|6885.980975|        6885.98|         6000.0|       885.98|               0.0|       0.0|                    0.0|              51.5|                3482.68|                                 0|                  1|                   0|              21333|                   12500|             0.0|                   0.0|                 0.0|        0.0|          1.0|                 1.0|             7.0|                      1.0|            1.0|       0.0|                      0.0|          0|\n",
            "|34273263| 36936616|     3600|       3600|         3600.0|   12.39|     120.25|     28000|25.42|          0|             0|      14|      1|     7309|       34|      0.0|          0.0|    3881.91|        3881.91|         3600.0|       281.91|               0.0|       0.0|                    0.0|              58.5|                3045.12|                                 0|                  1|                   0|             121641|                   12500|             0.0|                   0.0|                 0.0|        1.0|          0.0|                 0.0|             0.0|                      2.0|            2.0|       0.0|                      0.0|          0|\n",
            "| 2225254|  2637451|    15000|      15000|        15000.0|    7.62|     467.43|     55400|23.98|          0|             0|      16|      0|    20588|       40|      0.0|          0.0|   15277.68|       15277.68|        15000.0|       277.68|               0.0|       0.0|                    0.0|              40.0|               14352.79|                                 0|                  1|                   0|              85456|                   51500|             0.0|                   0.0|                 0.0|        2.0|          0.0|                 0.0|             9.0|                      2.0|           16.0|       0.0|                      0.0|          0|\n",
            "|27370505| 29863589|    35000|      35000|        35000.0|   15.61|    1223.77|    120000| 8.52|          0|             0|       4|      0|     9029|       26| 20965.53|     20965.53|    20000.0|        20000.0|       14034.47|      5965.53|               0.0|       0.0|                    0.0|              53.7|                 1250.0|                                 0|                  1|                   0|              25770|                   16800|             0.0|                   0.0|                 0.0|        3.0|          0.0|                 1.0|             0.0|                      1.0|           11.0|       0.0|                      0.0|          0|\n",
            "|14649057| 16711378|    13500|      13500|        13500.0|   17.57|     339.67|     30000|19.07|          1|             0|      12|      0|    15415|       15| 10037.91|     10037.91|    7133.07|        7133.07|        3462.09|      3670.98|               0.0|       0.0|                    0.0|              19.1|                 339.67|                                 0|                  1|                   0|              28025|                   80700|             0.0|                   0.0|                 0.0|        3.0|          0.0|                 1.0|             4.0|                      0.0|           13.0|       1.0|                      1.0|          0|\n",
            "|19085535| 21288279|     7000|       7000|         7000.0|   10.99|     229.14|     50000| 4.84|          0|             0|       9|      1|     5025|       32|      0.0|          0.0|    7856.75|        7856.75|         7000.0|       856.75|               0.0|       0.0|                    0.0|              56.5|                4419.65|                                 0|                  1|                  31|               5025|                    8900|             0.0|                   0.0|                 0.0|        0.0|          0.0|                 1.0|             0.0|                      0.0|            0.0|       0.0|                      1.0|          0|\n",
            "| 5715369|  7127521|    12000|      12000|        11925.0|   10.16|     388.11|    110792|14.33|          0|             0|      13|      0|     7810|       21|      0.0|          0.0|13899.96999|        13813.1|        12000.0|      1899.97|               0.0|       0.0|                    0.0|              11.7|                3032.89|                                 0|                  1|                   0|             636493|                   66700|             0.0|                   0.0|                 0.0|        0.0|          3.0|                 0.0|             0.0|                      1.0|            8.0|       0.0|                      0.0|          0|\n",
            "| 1278879|  1521933|    12000|      12000|        12000.0|   18.25|     435.34|     85000| 8.26|          0|             0|       5|      1|     9182|       15|      0.0|          0.0|   13498.48|       13498.48|        12000.0|      1498.48|               0.0|       0.0|                    0.0|              90.9|               10018.46|                                 0|                  1|                   0|              80935|                   23800|             0.0|                   0.0|                 0.0|        3.0|          2.0|                 0.0|             9.0|                      2.0|           14.0|       0.0|                      0.0|          0|\n",
            "|35094304| 37777643|    27500|      27500|        27500.0|    9.49|     577.42|    302000|12.41|          2|             0|      11|      0|    51198|       23| 22592.17|     22592.17|    7477.46|        7477.46|        4907.83|      2569.63|               0.0|       0.0|                    0.0|              96.2|                 577.42|                                 0|                  1|                   0|             458460|                   93200|             0.0|                   0.0|                 0.0|        0.0|          1.0|                 0.0|             0.0|                      0.0|            5.0|       1.0|                      1.0|          0|\n",
            "|19137418| 21340066|    20950|      20950|        20950.0|    24.5|     608.79|     85000| 7.66|          2|             1|       9|      0|    10362|       21|      0.0|          0.0|   26877.94|       26877.94|        20950.0|      5927.94|               0.0|       0.0|                    0.0|              62.8|                 2137.3|                                 0|                  1|                   0|              15510|                   16500|             0.0|                   0.0|                 0.0|        5.0|          1.0|                 1.0|             1.0|                      1.0|           27.0|       1.0|                      0.0|          0|\n",
            "+--------+---------+---------+-----------+---------------+--------+-----------+----------+-----+-----------+--------------+--------+-------+---------+---------+---------+-------------+-----------+---------------+---------------+-------------+------------------+----------+-----------------------+------------------+-----------------------+----------------------------------+-------------------+--------------------+-------------------+------------------------+----------------+----------------------+--------------------+-----------+-------------+--------------------+----------------+-------------------------+---------------+----------+-------------------------+-----------+\n",
            "only showing top 20 rows\n",
            "\n"
          ]
        }
      ],
      "source": [
        "df_train.show()"
      ]
    },
    {
      "cell_type": "code",
      "execution_count": 18,
      "metadata": {
        "colab": {
          "base_uri": "https://localhost:8080/"
        },
        "id": "hIHmUaPJ5uWR",
        "outputId": "a6c0d2de-4fe3-4240-a67c-4459c44da62e"
      },
      "outputs": [
        {
          "output_type": "stream",
          "name": "stdout",
          "text": [
            "train: 598745, val: 256998\n"
          ]
        }
      ],
      "source": [
        "print(f\"train: {df_train.count()}, val: {df_val.count()}\")"
      ]
    },
    {
      "cell_type": "code",
      "execution_count": 19,
      "metadata": {
        "id": "Q_13fA1E7JMe"
      },
      "outputs": [],
      "source": [
        "train_dataset = df_train.toPandas()"
      ]
    },
    {
      "cell_type": "code",
      "execution_count": 20,
      "metadata": {
        "id": "jEsO67EK7JQh"
      },
      "outputs": [],
      "source": [
        "test_dataset = df_val.toPandas()"
      ]
    },
    {
      "cell_type": "code",
      "execution_count": 21,
      "metadata": {
        "id": "fNUAvFHj7JVL"
      },
      "outputs": [],
      "source": [
        "x_train = train_dataset.iloc[:,0:42].values \n",
        "y_train = train_dataset.iloc[:,-1].values "
      ]
    },
    {
      "cell_type": "code",
      "execution_count": 22,
      "metadata": {
        "id": "ifLNOaeu7JdS"
      },
      "outputs": [],
      "source": [
        "x_test = test_dataset.iloc[:,0:42].values \n",
        "y_test = test_dataset.iloc[:,-1].values "
      ]
    },
    {
      "cell_type": "markdown",
      "metadata": {
        "id": "VabDpB5lSggo"
      },
      "source": [
        "#Set batch size, placeholders and model variables"
      ]
    },
    {
      "cell_type": "code",
      "execution_count": 23,
      "metadata": {
        "id": "3Qy5ePK5KK2g"
      },
      "outputs": [],
      "source": [
        "batch_size = 100\n",
        "\n",
        "#There are 42 features (columns) that are utilized for the model\n",
        "#these placeholders serves to contain fed data that will be use for computational purpose\n",
        "x_data = tf.placeholder(shape=[None, 42], dtype=tf.float32)\n",
        "y_target = tf.placeholder(shape=[None, 1], dtype=tf.float32)\n",
        "\n",
        "#Create model variables which are slope and constant of the linear equation\n",
        "#that are initialized when session starts and the values get adjusted to find the best fit line \n",
        "#or hyperplane by maximizing the margin which classifies the prediction\n",
        "A = tf.Variable(tf.random_normal(shape=[42,1]))\n",
        "b = tf.Variable(tf.random_normal(shape=[1,1]))"
      ]
    },
    {
      "cell_type": "code",
      "execution_count": 24,
      "metadata": {
        "id": "FWrSMpQPKK5q"
      },
      "outputs": [],
      "source": [
        "#model output declaration\n",
        "model_output = tf.subtract(tf.matmul(x_data, A), b)\n",
        "#the feature data is multiplied with the intercept variable and the result is subtracted with the constant variable for the output"
      ]
    },
    {
      "cell_type": "code",
      "execution_count": 25,
      "metadata": {
        "id": "P6f6t_5BKK8x"
      },
      "outputs": [],
      "source": [
        "#maximum margin loss\n",
        "l2_norm = tf.reduce_sum (tf.square(A))\n",
        "\n",
        "#alpha determine whether the margin crossing the margin line will be a soft of hard allowance\n",
        "#the larger the value the more emphasis on widening the margin \n",
        "#the smaller  the values result in the model having a hard margin while allowing data points to cross the margin \n",
        "alpha = tf.constant([0.1])\n",
        "classification_term = tf.reduce_mean(tf.maximum(0.,tf.subtract(1.,tf.multiply(model_output, y_target))))\n",
        "\n",
        "#loss function\n",
        "loss = tf.add(tf.multiply(alpha, l2_norm), classification_term)"
      ]
    },
    {
      "cell_type": "code",
      "execution_count": 26,
      "metadata": {
        "id": "C2H1kNTjVMEy"
      },
      "outputs": [],
      "source": [
        "#prediction and accuracy\n",
        "prediction = tf.sign(model_output)\n",
        "accuracy = tf.reduce_mean(tf.cast(tf.equal(prediction, y_target), tf.float32))"
      ]
    },
    {
      "cell_type": "code",
      "execution_count": 27,
      "metadata": {
        "id": "q0x8bf-LVMLE"
      },
      "outputs": [],
      "source": [
        "#declare optimizer and initialize model variables\n",
        "my_opt = tf.train.GradientDescentOptimizer(0.01)\n",
        "train_step = my_opt.minimize(loss)\n",
        "\n",
        "#initialize variables\n",
        "init = tf.global_variables_initializer()\n",
        "sess.run(init)"
      ]
    },
    {
      "cell_type": "markdown",
      "metadata": {
        "id": "1RKcq_5fYN7G"
      },
      "source": [
        "#Training"
      ]
    },
    {
      "cell_type": "code",
      "execution_count": 28,
      "metadata": {
        "colab": {
          "base_uri": "https://localhost:8080/"
        },
        "id": "64L_c3xWVjcO",
        "outputId": "5369dc1d-95d0-4944-adaf-737c1e3d9f4f"
      },
      "outputs": [
        {
          "output_type": "stream",
          "name": "stdout",
          "text": [
            "Accuracy = 0.054415487\n",
            "Loss = [15880118.]\n",
            "Accuracy = 0.054415487\n",
            "Loss = [10640497.]\n",
            "Accuracy = 0.054415487\n",
            "Loss = [7129684.5]\n",
            "Accuracy = 0.054415487\n",
            "Loss = [4777255.5]\n",
            "Accuracy = 0.054415487\n",
            "Loss = [3201008.2]\n",
            "Accuracy = 0.054415487\n",
            "Loss = [2144840.2]\n",
            "Accuracy = 0.054415487\n",
            "Loss = [1437153.4]\n",
            "Accuracy = 0.054415487\n",
            "Loss = [962967.44]\n",
            "Accuracy = 0.054415487\n",
            "Loss = [645238.2]\n",
            "Accuracy = 0.054415487\n",
            "Loss = [432343.22]\n"
          ]
        }
      ],
      "source": [
        "#training loop \n",
        "\n",
        "#Storing values for data visualization later on\n",
        "loss_vec = []\n",
        "train_acc = []\n",
        "test_acc = []\n",
        "\n",
        "for i in range(1000):\n",
        "  rand_index = np.random.choice(len(x_train), size=batch_size)\n",
        "  rand_x = x_train[rand_index]\n",
        "  rand_y = np.transpose([y_train[rand_index]])\n",
        "  sess.run(train_step, feed_dict = {x_data: rand_x, y_target:rand_y})\n",
        "\n",
        "  temp_loss = sess.run(loss, feed_dict = {x_data: rand_x, y_target:rand_y})\n",
        "  loss_vec.append(temp_loss)\n",
        "\n",
        "  train_acc_temp = sess.run(accuracy, feed_dict = {x_data: x_train, y_target: np.transpose([y_train])})\n",
        "  train_acc.append(train_acc_temp)\n",
        "\n",
        "  test_acc_temp = sess.run(accuracy, feed_dict={\n",
        "      x_data:x_test,\n",
        "      y_target: np.transpose([y_test])})\n",
        "  test_acc.append(test_acc_temp)\n",
        "\n",
        "  if (i+1) % 100 == 0:\n",
        "    # print('Step #{} A = {}, b = {}'.format(\n",
        "    #     str(i+1),\n",
        "    #     str(sess.run(A)),\n",
        "    #     str(sess.run(b))\n",
        "    # ))\n",
        "    print('Accuracy = ' + str(train_acc_temp))\n",
        "    print('Loss = ' + str(temp_loss))"
      ]
    },
    {
      "cell_type": "code",
      "execution_count": 29,
      "metadata": {
        "id": "hBeHrvfuVjgv"
      },
      "outputs": [],
      "source": [
        "[[a1],[a2],[a3],[a4],[a5],[a6],[a7],[a8],[a9],[a10],[a11],[a12],[a13],[a14],[a15],[a16],[a17],[a18],[a19],[a20],[a21],[a22],[a23],[a24],[a25]\n",
        " ,[a26],[a27],[a28],[a29],[a30],[a31],[a32],[a33],[a34],[a35],[a36],[a37],[a38],[a39],[a40],[a41],[a42]]= sess.run(A)\n",
        "slope = -a2/a1\n",
        "y_intercept = b/a1\n",
        "x1_test = [d[1] for d in x_test]\n",
        "best_fit = []\n",
        "for i in x1_test:\n",
        "  best_fit.append(slope*i+y_intercept)\n",
        "yes_loan_x = [d[1] for i, d in enumerate(x_test) if y_test[i] == 1]\n",
        "yes_loan_y = [d[0] for i, d in enumerate(x_test) if y_test[i] == 1]\n",
        "no_loan_x = [d[1] for i, d in enumerate(x_test) if y_test[i] == -1]\n",
        "no_loan_y = [d[0] for i, d in enumerate(x_test) if y_test[i] == -1]\n",
        "\n",
        "#best_fit"
      ]
    },
    {
      "cell_type": "code",
      "execution_count": 30,
      "metadata": {
        "id": "JnnvTgMpVjlx"
      },
      "outputs": [],
      "source": [
        "%matplotlib inline"
      ]
    },
    {
      "cell_type": "code",
      "execution_count": 31,
      "metadata": {
        "id": "Z2YWnc9OMAjX",
        "colab": {
          "base_uri": "https://localhost:8080/",
          "height": 295
        },
        "outputId": "7748cdff-6ada-4742-f997-d7e38107e49f"
      },
      "outputs": [
        {
          "output_type": "display_data",
          "data": {
            "text/plain": [
              "<Figure size 432x288 with 1 Axes>"
            ],
            "image/png": "[encoded data removed]"
          },
          "metadata": {
            "needs_background": "light"
          }
        }
      ],
      "source": [
        "plt.plot(train_acc, 'k-', label= 'Training Accuracy')\n",
        "plt.plot(test_acc, 'r--', label='Test Accuracy')\n",
        "plt.title('Train and Test Set Accuracies')\n",
        "plt.xlabel('Generation')\n",
        "plt.ylabel('Accuracy')\n",
        "plt.legend(loc='lower right')\n",
        "plt.show()"
      ]
    },
    {
      "cell_type": "code",
      "execution_count": 32,
      "metadata": {
        "id": "wKbZzocS2op6",
        "colab": {
          "base_uri": "https://localhost:8080/",
          "height": 295
        },
        "outputId": "7310a1ba-1d51-42a5-b267-ca99bb5b8885"
      },
      "outputs": [
        {
          "output_type": "display_data",
          "data": {
            "text/plain": [
              "<Figure size 432x288 with 1 Axes>"
            ],
            "image/png": "[encoded data removed]"
          },
          "metadata": {
            "needs_background": "light"
          }
        }
      ],
      "source": [
        "plt.plot(loss_vec, 'k-')\n",
        "plt.title('Loss per Generation')\n",
        "plt.xlabel('Generation')\n",
        "plt.ylabel('Loss')\n",
        "plt.show()"
      ]
    }
  ],
  "metadata": {
    "colab": {
      "collapsed_sections": [],
      "provenance": []
    },
    "kernelspec": {
      "display_name": "Python 3",
      "name": "python3"
    },
    "language_info": {
      "name": "python"
    }
  },
  "nbformat": 4,
  "nbformat_minor": 0
}