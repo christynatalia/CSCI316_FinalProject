{
  "nbformat": 4,
  "nbformat_minor": 0,
  "metadata": {
    "colab": {
      "provenance": [],
      "collapsed_sections": []
    },
    "kernelspec": {
      "name": "python3",
      "display_name": "Python 3"
    },
    "language_info": {
      "name": "python"
    }
  },
  "cells": [
    {
      "cell_type": "code",
      "execution_count": 1,
      "metadata": {
        "colab": {
          "base_uri": "https://localhost:8080/"
        },
        "id": "P0g10f6S3OBq",
        "outputId": "369218c9-6918-4da1-eb01-a3d5104f53c3"
      },
      "outputs": [
        {
          "output_type": "stream",
          "name": "stdout",
          "text": [
            "Looking in indexes: https://pypi.org/simple, https://us-python.pkg.dev/colab-wheels/public/simple/\n",
            "Collecting pyspark\n",
            "  Downloading pyspark-3.3.0.tar.gz (281.3 MB)\n",
            "\u001b[K     |████████████████████████████████| 281.3 MB 51 kB/s \n",
            "\u001b[?25hCollecting py4j==0.10.9.5\n",
            "  Downloading py4j-0.10.9.5-py2.py3-none-any.whl (199 kB)\n",
            "\u001b[K     |████████████████████████████████| 199 kB 51.0 MB/s \n",
            "\u001b[?25hBuilding wheels for collected packages: pyspark\n",
            "  Building wheel for pyspark (setup.py) ... \u001b[?25l\u001b[?25hdone\n",
            "  Created wheel for pyspark: filename=pyspark-3.3.0-py2.py3-none-any.whl size=281764026 sha256=43cbd7640bca567c3d7e26f76a5ae281abaf9446262b64ce915a4047ac3333cd\n",
            "  Stored in directory: /root/.cache/pip/wheels/7a/8e/1b/f73a52650d2e5f337708d9f6a1750d451a7349a867f928b885\n",
            "Successfully built pyspark\n",
            "Installing collected packages: py4j, pyspark\n",
            "Successfully installed py4j-0.10.9.5 pyspark-3.3.0\n"
          ]
        }
      ],
      "source": [
        "!pip install pyspark"
      ]
    },
    {
      "cell_type": "code",
      "source": [
        "!apt-get install openjdk-8-jdk-headless -qq > /dev/null"
      ],
      "metadata": {
        "id": "yfHwHoFz3Psk"
      },
      "execution_count": 2,
      "outputs": []
    },
    {
      "cell_type": "code",
      "source": [
        "!wget https://dlcdn.apache.org/spark/spark-3.3.0/spark-3.3.0-bin-hadoop2.tgz"
      ],
      "metadata": {
        "colab": {
          "base_uri": "https://localhost:8080/"
        },
        "id": "pExgfG4D3PvE",
        "outputId": "0f0ee8f7-304b-4217-d78b-cfc9e9eac53d"
      },
      "execution_count": 3,
      "outputs": [
        {
          "output_type": "stream",
          "name": "stdout",
          "text": [
            "--2022-10-19 01:10:50--  https://dlcdn.apache.org/spark/spark-3.3.0/spark-3.3.0-bin-hadoop2.tgz\n",
            "Resolving dlcdn.apache.org (dlcdn.apache.org)... 151.101.2.132, 2a04:4e42::644\n",
            "Connecting to dlcdn.apache.org (dlcdn.apache.org)|151.101.2.132|:443... connected.\n",
            "HTTP request sent, awaiting response... 200 OK\n",
            "Length: 274079476 (261M) [application/x-gzip]\n",
            "Saving to: ‘spark-3.3.0-bin-hadoop2.tgz’\n",
            "\n",
            "spark-3.3.0-bin-had 100%[===================>] 261.38M   170MB/s    in 1.5s    \n",
            "\n",
            "2022-10-19 01:10:59 (170 MB/s) - ‘spark-3.3.0-bin-hadoop2.tgz’ saved [274079476/274079476]\n",
            "\n"
          ]
        }
      ]
    },
    {
      "cell_type": "code",
      "source": [
        "!tar xf spark-3.3.0-bin-hadoop2.tgz"
      ],
      "metadata": {
        "id": "yJX3evKh3P0F"
      },
      "execution_count": 4,
      "outputs": []
    },
    {
      "cell_type": "code",
      "source": [
        "import os\n",
        "os.environ[\"JAVA_HOME\"] = \"/usr/lib/jvm/java-8-openjdk-amd64\"\n",
        "os.environ[\"SPARK_HOME\"] = \"spark-3.3.0-bin-hadoop2\""
      ],
      "metadata": {
        "id": "aCIHs-Dh3P25"
      },
      "execution_count": 5,
      "outputs": []
    },
    {
      "cell_type": "code",
      "source": [
        "!pip install petastorm"
      ],
      "metadata": {
        "colab": {
          "base_uri": "https://localhost:8080/"
        },
        "id": "-4WxdT4t3QAJ",
        "outputId": "af81eea9-b45f-4fde-9b99-576ea1d9d947"
      },
      "execution_count": 6,
      "outputs": [
        {
          "output_type": "stream",
          "name": "stdout",
          "text": [
            "Looking in indexes: https://pypi.org/simple, https://us-python.pkg.dev/colab-wheels/public/simple/\n",
            "Collecting petastorm\n",
            "  Downloading petastorm-0.12.0-py2.py3-none-any.whl (285 kB)\n",
            "\u001b[K     |████████████████████████████████| 285 kB 11.5 MB/s \n",
            "\u001b[?25hRequirement already satisfied: dill>=0.2.1 in /usr/local/lib/python3.7/dist-packages (from petastorm) (0.3.5.1)\n",
            "Requirement already satisfied: pyarrow>=0.17.1 in /usr/local/lib/python3.7/dist-packages (from petastorm) (6.0.1)\n",
            "Collecting diskcache>=3.0.0\n",
            "  Downloading diskcache-5.4.0-py3-none-any.whl (44 kB)\n",
            "\u001b[K     |████████████████████████████████| 44 kB 2.0 MB/s \n",
            "\u001b[?25hRequirement already satisfied: fsspec in /usr/local/lib/python3.7/dist-packages (from petastorm) (2022.8.2)\n",
            "Requirement already satisfied: pandas>=0.19.0 in /usr/local/lib/python3.7/dist-packages (from petastorm) (1.3.5)\n",
            "Requirement already satisfied: psutil>=4.0.0 in /usr/local/lib/python3.7/dist-packages (from petastorm) (5.4.8)\n",
            "Requirement already satisfied: pyzmq>=14.0.0 in /usr/local/lib/python3.7/dist-packages (from petastorm) (23.2.1)\n",
            "Requirement already satisfied: pyspark>=2.1.0 in /usr/local/lib/python3.7/dist-packages (from petastorm) (3.3.0)\n",
            "Requirement already satisfied: packaging>=15.0 in /usr/local/lib/python3.7/dist-packages (from petastorm) (21.3)\n",
            "Requirement already satisfied: numpy>=1.13.3 in /usr/local/lib/python3.7/dist-packages (from petastorm) (1.21.6)\n",
            "Requirement already satisfied: future>=0.10.2 in /usr/local/lib/python3.7/dist-packages (from petastorm) (0.16.0)\n",
            "Requirement already satisfied: six>=1.5.0 in /usr/local/lib/python3.7/dist-packages (from petastorm) (1.15.0)\n",
            "Requirement already satisfied: pyparsing!=3.0.5,>=2.0.2 in /usr/local/lib/python3.7/dist-packages (from packaging>=15.0->petastorm) (3.0.9)\n",
            "Requirement already satisfied: pytz>=2017.3 in /usr/local/lib/python3.7/dist-packages (from pandas>=0.19.0->petastorm) (2022.4)\n",
            "Requirement already satisfied: python-dateutil>=2.7.3 in /usr/local/lib/python3.7/dist-packages (from pandas>=0.19.0->petastorm) (2.8.2)\n",
            "Requirement already satisfied: py4j==0.10.9.5 in /usr/local/lib/python3.7/dist-packages (from pyspark>=2.1.0->petastorm) (0.10.9.5)\n",
            "Installing collected packages: diskcache, petastorm\n",
            "Successfully installed diskcache-5.4.0 petastorm-0.12.0\n"
          ]
        }
      ]
    },
    {
      "cell_type": "code",
      "source": [
        "!pip install findspark"
      ],
      "metadata": {
        "colab": {
          "base_uri": "https://localhost:8080/"
        },
        "id": "I1BfeUcW5RMY",
        "outputId": "4d780595-a85f-438e-e28c-df7a808c283e"
      },
      "execution_count": 7,
      "outputs": [
        {
          "output_type": "stream",
          "name": "stdout",
          "text": [
            "Looking in indexes: https://pypi.org/simple, https://us-python.pkg.dev/colab-wheels/public/simple/\n",
            "Collecting findspark\n",
            "  Downloading findspark-2.0.1-py2.py3-none-any.whl (4.4 kB)\n",
            "Installing collected packages: findspark\n",
            "Successfully installed findspark-2.0.1\n"
          ]
        }
      ]
    },
    {
      "cell_type": "code",
      "source": [
        "import findspark\n",
        "findspark.init()"
      ],
      "metadata": {
        "id": "UEsQ3qkH3rRy"
      },
      "execution_count": 8,
      "outputs": []
    },
    {
      "cell_type": "code",
      "source": [
        "from google.colab import drive\n",
        "drive.mount('/content/drive')"
      ],
      "metadata": {
        "colab": {
          "base_uri": "https://localhost:8080/"
        },
        "id": "9XHNUvKS5X1d",
        "outputId": "427bc160-4a90-4545-86a9-1e4a3797edd2"
      },
      "execution_count": 9,
      "outputs": [
        {
          "output_type": "stream",
          "name": "stdout",
          "text": [
            "Mounted at /content/drive\n"
          ]
        }
      ]
    },
    {
      "cell_type": "code",
      "source": [
        "from pyspark.sql import SparkSession\n",
        "spark = SparkSession \\\n",
        "    .builder \\\n",
        "    .config(\"spark.csci316.pandas.SVM\", \"false\") \\\n",
        "    .getOrCreate()\n",
        "spark"
      ],
      "metadata": {
        "colab": {
          "base_uri": "https://localhost:8080/",
          "height": 220
        },
        "id": "2AMbz3F06W7B",
        "outputId": "452b480e-4353-4b10-df2b-2a5eb8230fa9"
      },
      "execution_count": 10,
      "outputs": [
        {
          "output_type": "execute_result",
          "data": {
            "text/plain": [
              "<pyspark.sql.session.SparkSession at 0x7f6005794190>"
            ],
            "text/html": [
              "\n",
              "            <div>\n",
              "                <p><b>SparkSession - in-memory</b></p>\n",
              "                \n",
              "        <div>\n",
              "            <p><b>SparkContext</b></p>\n",
              "\n",
              "            <p><a href=\"http://3a5aa66cb2f1:4040\">Spark UI</a></p>\n",
              "\n",
              "            <dl>\n",
              "              <dt>Version</dt>\n",
              "                <dd><code>v3.3.0</code></dd>\n",
              "              <dt>Master</dt>\n",
              "                <dd><code>local[*]</code></dd>\n",
              "              <dt>AppName</dt>\n",
              "                <dd><code>pyspark-shell</code></dd>\n",
              "            </dl>\n",
              "        </div>\n",
              "        \n",
              "            </div>\n",
              "        "
            ]
          },
          "metadata": {},
          "execution_count": 10
        }
      ]
    },
    {
      "cell_type": "code",
      "source": [
        "#Read the csv file\n",
        "data = spark.read.csv(\"/content/drive/MyDrive/cleanWithHeader.csv\", inferSchema=True, header=True)"
      ],
      "metadata": {
        "id": "zyETRaxQ5uC5"
      },
      "execution_count": 11,
      "outputs": []
    },
    {
      "cell_type": "code",
      "source": [
        "from petastorm.spark import SparkDatasetConverter, make_spark_converter\n",
        "import os\n",
        "import numpy as np\n",
        "import pandas as pd\n",
        "import tensorflow as tf\n",
        "from sklearn.metrics import confusion_matrix, classification_report\n",
        "import math\n",
        "\n",
        "from IPython import embed\n",
        "from matplotlib import colors\n",
        "from matplotlib import pyplot as plt\n",
        "from sklearn import datasets\n",
        "import numpy as np\n",
        "from scipy.special import logsumexp\n",
        "from sklearn import feature_extraction, linear_model, model_selection, preprocessing\n",
        "\n",
        "# tensorflow hub\n",
        "import tensorflow_hub as hub\n",
        "# tensor flow module\n",
        "import tensorflow as tf\n",
        "import tensorflow_probability as tfp\n",
        "\n",
        "# matplotlib\n",
        "from matplotlib import colors\n",
        "from matplotlib import pyplot as plt\n",
        "\n",
        "# word vectorizor\n",
        "# first converts the text into a matrix of word counts\n",
        "# then transforms these counts by normalizing them based on the term frequency\n",
        "from sklearn.feature_extraction.text import TfidfVectorizer\n",
        "\n",
        "# used to create word encoders\n",
        "from sklearn import preprocessing"
      ],
      "metadata": {
        "colab": {
          "base_uri": "https://localhost:8080/"
        },
        "id": "4pJC8EIA5uHC",
        "outputId": "0d83a54e-9af0-497b-9e30-5ae7ea65c703"
      },
      "execution_count": 12,
      "outputs": [
        {
          "output_type": "stream",
          "name": "stderr",
          "text": [
            "/usr/local/lib/python3.7/dist-packages/petastorm/spark/spark_dataset_converter.py:28: FutureWarning: pyarrow.LocalFileSystem is deprecated as of 2.0.0, please use pyarrow.fs.LocalFileSystem instead.\n",
            "  from pyarrow import LocalFileSystem\n"
          ]
        }
      ]
    },
    {
      "cell_type": "code",
      "source": [
        "data.show(10)"
      ],
      "metadata": {
        "colab": {
          "base_uri": "https://localhost:8080/"
        },
        "id": "22B7XlJq5uK0",
        "outputId": "5bc95af5-f5b5-499d-9659-2843a3351d06"
      },
      "execution_count": 13,
      "outputs": [
        {
          "output_type": "stream",
          "name": "stdout",
          "text": [
            "+-------+---------+---------+-----------+---------------+--------+-----------+----------+-----+-----------+--------------+--------+-------+---------+---------+---------+-------------+-----------+---------------+---------------+-------------+------------------+----------+-----------------------+-----------+------------------+-----------------------+----------------------------------+-------------------+--------------------+-------------------+------------------------+----------------+----------------------+--------------------+-----------+-------------+--------------------+----------------+-------------------------+---------------+----------+-------------------------+\n",
            "|     id|member_id|loan_amnt|funded_amnt|funded_amnt_inv|int_rate|installment|annual_inc|  dti|delinq_2yrs|inq_last_6mths|open_acc|pub_rec|revol_bal|total_acc|out_prncp|out_prncp_inv|total_pymnt|total_pymnt_inv|total_rec_prncp|total_rec_int|total_rec_late_fee|recoveries|collection_recovery_fee|default_ind|revol_util_imputed|last_pymnt_amnt_imputed|collections_12_mths_ex_med_imputed|policy_code_imputed|tot_coll_amt_imputed|tot_cur_bal_imputed|total_rev_hi_lim_imputed|pymnt_plan_index|application_type_index|acc_now_delinq_index|grade_index|purpose_index|home_ownership_index|emp_length_index|verification_status_index|sub_grade_index|term_index|initial_list_status_index|\n",
            "+-------+---------+---------+-----------+---------------+--------+-----------+----------+-----+-----------+--------------+--------+-------+---------+---------+---------+-------------+-----------+---------------+---------------+-------------+------------------+----------+-----------------------+-----------+------------------+-----------------------+----------------------------------+-------------------+--------------------+-------------------+------------------------+----------------+----------------------+--------------------+-----------+-------------+--------------------+----------------+-------------------------+---------------+----------+-------------------------+\n",
            "|1077501|  1296599|     5000|       5000|         4975.0|   10.65|     162.87|     24000|27.65|          0|             1|       3|      0|    13648|        9|      0.0|          0.0|5861.071414|        5831.78|         5000.0|       861.07|               0.0|       0.0|                    0.0|          0|              83.7|                 171.62|                                 0|                  1|                   0|              80935|                   23800|             0.0|                   0.0|                 0.0|        0.0|          1.0|                 1.0|             0.0|                      1.0|            5.0|       0.0|                      0.0|\n",
            "|1077430|  1314167|     2500|       2500|         2500.0|   15.27|      59.83|     30000|  1.0|          0|             5|       3|      0|     1687|        4|      0.0|          0.0|    1008.71|        1008.71|         456.46|       435.17|               0.0|    117.08|                   1.11|          1|               9.4|                 119.66|                                 0|                  1|                   0|              80935|                   23800|             0.0|                   0.0|                 0.0|        1.0|          6.0|                 1.0|             2.0|                      0.0|            7.0|       1.0|                      0.0|\n",
            "|1077175|  1313524|     2400|       2400|         2400.0|   15.96|      84.33|     12252| 8.72|          0|             2|       2|      0|     2956|       10|      0.0|          0.0|3003.653644|        3003.65|         2400.0|       603.65|               0.0|       0.0|                    0.0|          0|              98.5|                 649.91|                                 0|                  1|                   0|              80935|                   23800|             0.0|                   0.0|                 0.0|        1.0|          5.0|                 1.0|             0.0|                      2.0|           10.0|       0.0|                      0.0|\n",
            "|1076863|  1277178|    10000|      10000|        10000.0|   13.49|     339.31|     49200| 20.0|          0|             1|      10|      0|     5598|       37|      0.0|          0.0|12226.30221|        12226.3|        10000.0|      2209.33|             16.97|       0.0|                    0.0|          0|              21.0|                 357.48|                                 0|                  1|                   0|              80935|                   23800|             0.0|                   0.0|                 0.0|        1.0|          3.0|                 1.0|             0.0|                      0.0|            2.0|       0.0|                      0.0|\n",
            "|1075358|  1311748|     3000|       3000|         3000.0|   12.69|      67.79|     80000|17.94|          0|             0|      15|      0|    27783|       38|    766.9|        766.9|    3242.17|        3242.17|         2233.1|      1009.07|               0.0|       0.0|                    0.0|          0|              53.9|                  67.79|                                 0|                  1|                   0|              80935|                   23800|             0.0|                   0.0|                 0.0|        0.0|          3.0|                 1.0|             4.0|                      0.0|            6.0|       1.0|                      0.0|\n",
            "|1075269|  1311441|     5000|       5000|         5000.0|     7.9|     156.46|     36000| 11.2|          0|             3|       9|      0|     7963|       12|      0.0|          0.0|5631.377753|        5631.38|         5000.0|       631.38|               0.0|       0.0|                    0.0|          0|              28.3|                 161.03|                                 0|                  1|                   0|              80935|                   23800|             0.0|                   0.0|                 0.0|        2.0|         11.0|                 1.0|             3.0|                      0.0|           12.0|       0.0|                      0.0|\n",
            "|1069639|  1304742|     7000|       7000|         7000.0|   15.96|     170.08|     47004|23.51|          0|             1|       7|      0|    17726|       11|  1889.15|      1889.15|    8136.84|        8136.84|        5110.85|      3025.99|               0.0|       0.0|                    0.0|          0|              85.6|                 170.08|                                 0|                  1|                   0|              80935|                   23800|             0.0|                   0.0|                 0.0|        1.0|          0.0|                 1.0|             9.0|                      2.0|           10.0|       1.0|                      0.0|\n",
            "|1072053|  1288686|     3000|       3000|         3000.0|   18.64|     109.43|     48000| 5.35|          0|             2|       4|      0|     8221|        4|      0.0|          0.0|3938.144334|        3938.14|         3000.0|       938.14|               0.0|       0.0|                    0.0|          0|              87.5|                 111.34|                                 0|                  1|                   0|              80935|                   23800|             0.0|                   0.0|                 0.0|        4.0|          6.0|                 1.0|            11.0|                      0.0|           20.0|       0.0|                      0.0|\n",
            "|1071795|  1306957|     5600|       5600|         5600.0|   21.28|     152.39|     40000| 5.55|          0|             2|      11|      0|     5210|       13|      0.0|          0.0|     646.02|         646.02|         162.02|       294.94|               0.0|    189.06|                   2.09|          1|              32.6|                 152.39|                                 0|                  1|                   0|              80935|                   23800|             0.0|                   0.0|                 0.0|        5.0|          5.0|                 2.0|             6.0|                      0.0|           26.0|       1.0|                      0.0|\n",
            "|1071570|  1306721|     5375|       5375|         5350.0|   12.69|     121.45|     15000|18.08|          0|             0|       2|      0|     9279|        3|      0.0|          0.0|    1476.19|        1469.34|         673.48|       533.42|               0.0|    269.29|                   2.52|          1|              36.5|                 121.45|                                 0|                  1|                   0|              80935|                   23800|             0.0|                   0.0|                 0.0|        0.0|          3.0|                 1.0|             2.0|                      1.0|            6.0|       1.0|                      0.0|\n",
            "+-------+---------+---------+-----------+---------------+--------+-----------+----------+-----+-----------+--------------+--------+-------+---------+---------+---------+-------------+-----------+---------------+---------------+-------------+------------------+----------+-----------------------+-----------+------------------+-----------------------+----------------------------------+-------------------+--------------------+-------------------+------------------------+----------------+----------------------+--------------------+-----------+-------------+--------------------+----------------+-------------------------+---------------+----------+-------------------------+\n",
            "only showing top 10 rows\n",
            "\n"
          ]
        }
      ]
    },
    {
      "cell_type": "code",
      "source": [
        "#Re-arrange the dataset\n",
        "data_reordered = data.select(\"id\",\"member_id\",\"loan_amnt\",\"funded_amnt\",\"funded_amnt_inv\",\"int_rate\",\"installment\",\"annual_inc\",\n",
        "                             \"dti\",\"delinq_2yrs\",\"inq_last_6mths\",\"open_acc\",\"pub_rec\",\"revol_bal\",\"total_acc\",\"out_prncp\",\"out_prncp_inv\",\n",
        "                             \"total_pymnt\",\"total_pymnt_inv\",\"total_rec_prncp\",\"total_rec_int\",\"total_rec_late_fee\",\"recoveries\",\n",
        "                             \"collection_recovery_fee\",\"revol_util_imputed\",\"last_pymnt_amnt_imputed\",\"collections_12_mths_ex_med_imputed\",\n",
        "                             \"policy_code_imputed\",\"tot_coll_amt_imputed\",\"tot_cur_bal_imputed\",\"total_rev_hi_lim_imputed\",\"pymnt_plan_index\",\n",
        "                             \"application_type_index\",\"acc_now_delinq_index\",\"grade_index\",\"purpose_index\",\"home_ownership_index\",\n",
        "                             \"emp_length_index\",\"verification_status_index\",\"sub_grade_index\",\"term_index\",\"initial_list_status_index\", \"default_ind\")"
      ],
      "metadata": {
        "id": "9oYX_q6r5uOA"
      },
      "execution_count": 14,
      "outputs": []
    },
    {
      "cell_type": "code",
      "source": [
        "df_train, df_val = data_reordered.randomSplit([0.7, 0.3], seed=135)\n",
        "\n",
        "df_train = df_train.repartition(2)\n",
        "df_val = df_val.repartition(2)"
      ],
      "metadata": {
        "id": "AagaC69U5uQ-"
      },
      "execution_count": 15,
      "outputs": []
    },
    {
      "cell_type": "code",
      "source": [
        "df_train.show()"
      ],
      "metadata": {
        "colab": {
          "base_uri": "https://localhost:8080/"
        },
        "id": "_pXvGTzL5uTi",
        "outputId": "97012216-57eb-4b5b-fdf2-39791915a3d7"
      },
      "execution_count": 16,
      "outputs": [
        {
          "output_type": "stream",
          "name": "stdout",
          "text": [
            "+--------+---------+---------+-----------+---------------+--------+-----------+----------+-----+-----------+--------------+--------+-------+---------+---------+---------+-------------+-----------+---------------+---------------+-------------+------------------+----------+-----------------------+------------------+-----------------------+----------------------------------+-------------------+--------------------+-------------------+------------------------+----------------+----------------------+--------------------+-----------+-------------+--------------------+----------------+-------------------------+---------------+----------+-------------------------+-----------+\n",
            "|      id|member_id|loan_amnt|funded_amnt|funded_amnt_inv|int_rate|installment|annual_inc|  dti|delinq_2yrs|inq_last_6mths|open_acc|pub_rec|revol_bal|total_acc|out_prncp|out_prncp_inv|total_pymnt|total_pymnt_inv|total_rec_prncp|total_rec_int|total_rec_late_fee|recoveries|collection_recovery_fee|revol_util_imputed|last_pymnt_amnt_imputed|collections_12_mths_ex_med_imputed|policy_code_imputed|tot_coll_amt_imputed|tot_cur_bal_imputed|total_rev_hi_lim_imputed|pymnt_plan_index|application_type_index|acc_now_delinq_index|grade_index|purpose_index|home_ownership_index|emp_length_index|verification_status_index|sub_grade_index|term_index|initial_list_status_index|default_ind|\n",
            "+--------+---------+---------+-----------+---------------+--------+-----------+----------+-----+-----------+--------------+--------+-------+---------+---------+---------+-------------+-----------+---------------+---------------+-------------+------------------+----------+-----------------------+------------------+-----------------------+----------------------------------+-------------------+--------------------+-------------------+------------------------+----------------+----------------------+--------------------+-----------+-------------+--------------------+----------------+-------------------------+---------------+----------+-------------------------+-----------+\n",
            "|36178144| 38879659|    29400|      29400|        29400.0|    8.19|     598.81|     65000| 9.29|          0|             0|      10|      0|    27133|       18| 24006.63|     24006.63|    7771.15|        7771.15|        5393.37|      2377.78|               0.0|       0.0|                    0.0|              54.3|                 598.81|                                 0|                  1|                   0|             316156|                   50000|             0.0|                   0.0|                 0.0|        2.0|          1.0|                 0.0|            10.0|                      0.0|            9.0|       1.0|                      1.0|          0|\n",
            "| 7345138|  9007271|    16000|      16000|        16000.0|    19.2|     588.12|     85000|13.17|          0|             2|       9|      2|     6320|       20|      0.0|          0.0|   20832.41|       20832.41|        16000.0|      4832.41|               0.0|       0.0|                    0.0|              33.1|                5541.29|                                 0|                  1|                   0|              37141|                   19100|             0.0|                   0.0|                 0.0|        3.0|          1.0|                 2.0|             0.0|                      1.0|           14.0|       0.0|                      0.0|          0|\n",
            "| 2375049|  2837232|    35000|      35000|        35000.0|   14.33|    1201.84|    200000|15.51|          0|             0|      12|      0|    18701|       30|      0.0|          0.0|40744.88349|       40744.88|        35000.0|      5744.88|               0.0|       0.0|                    0.0|             100.3|               21542.74|                                 0|                  1|                   0|             121889|                   18700|             0.0|                   0.0|                 0.0|        1.0|          1.0|                 1.0|             1.0|                      1.0|            2.0|       0.0|                      0.0|          0|\n",
            "|32119501| 34722789|    15000|      15000|        15000.0|   11.67|     331.18|     55000| 9.73|          0|             0|       7|      0|    16545|       20| 12235.19|     12235.19|    4617.07|        4617.07|        2764.81|      1852.26|               0.0|       0.0|                    0.0|              69.8|                 331.18|                                 0|                  1|                   0|              16545|                   23700|             0.0|                   0.0|                 0.0|        0.0|          0.0|                 1.0|             0.0|                      1.0|            1.0|       1.0|                      0.0|          0|\n",
            "|16742417| 18854944|    18000|      18000|        18000.0|   13.35|     412.79|     80000|13.85|          0|             0|      12|      0|    26331|       21| 13530.75|     13530.75|    7843.01|        7843.01|        4469.25|      3373.76|               0.0|       0.0|                    0.0|              86.3|                 412.79|                                 0|                  1|                   0|              37812|                   30500|             0.0|                   0.0|                 0.0|        1.0|          1.0|                 1.0|             9.0|                      0.0|            3.0|       1.0|                      1.0|          0|\n",
            "|28784095| 31307297|     5000|       5000|         5000.0|   15.61|     174.83|     45000|13.28|          0|             1|       6|      1|     3276|       11|      0.0|          0.0|    5512.36|        5512.36|         5000.0|       512.36|               0.0|       0.0|                    0.0|              52.0|                4288.55|                                 0|                  1|                   0|              22883|                    6300|             0.0|                   0.0|                 0.0|        3.0|          0.0|                 1.0|             0.0|                      0.0|           11.0|       0.0|                      0.0|          0|\n",
            "| 3810854|  4854843|    16000|      16000|        16000.0|   15.31|     383.25|     75000| 7.12|          0|             1|       9|      0|    15073|       23|  8718.64|      8718.64|   12623.85|       12623.85|        7281.36|      5342.49|               0.0|       0.0|                    0.0|              65.6|                 383.25|                                 0|                  1|                   0|             159971|                   22981|             0.0|                   0.0|                 0.0|        1.0|          1.0|                 0.0|             9.0|                      1.0|            3.0|       1.0|                      0.0|          0|\n",
            "| 7055759|  8717898|    20000|      20000|        20000.0|   18.85|     517.17|     45000| 30.4|          0|             0|      12|      0|    29388|       23|      0.0|          0.0|25510.30177|        25510.3|        20000.0|       5510.3|               0.0|       0.0|                    0.0|              63.6|                 138.51|                                 0|                  1|                   0|              32164|                   46200|             0.0|                   0.0|                 0.0|        3.0|          0.0|                 2.0|             0.0|                      1.0|           14.0|       1.0|                      0.0|          0|\n",
            "| 5176601|  6498926|    10000|      10000|        10000.0|   11.14|     328.06|     50000|19.08|          0|             0|      11|      1|    12414|       25|  1595.38|      1595.38|   10169.62|       10169.62|        8404.62|       1765.0|               0.0|       0.0|                    0.0|              54.9|                 328.06|                                 0|                  1|                   0|             103956|                   22600|             0.0|                   0.0|                 0.0|        0.0|          1.0|                 0.0|             1.0|                      2.0|            5.0|       0.0|                      0.0|          0|\n",
            "|13437734| 15490021|     4000|       4000|         4000.0|   14.16|     137.03|     18000| 18.6|          0|             0|       3|      0|      883|       29|   1987.0|       1987.0|     2740.6|         2740.6|         2013.0|        727.6|               0.0|       0.0|                    0.0|              29.4|                 137.03|                                 0|                  1|                   0|                883|                    3000|             0.0|                   0.0|                 0.0|        1.0|          5.0|                 1.0|             2.0|                      1.0|            3.0|       0.0|                      1.0|          0|\n",
            "| 6927926|  8569879|     6000|       6000|         6000.0|   12.35|      200.3|     32000|21.21|          0|             0|       9|      1|     6436|       33|      0.0|          0.0|6885.980975|        6885.98|         6000.0|       885.98|               0.0|       0.0|                    0.0|              51.5|                3482.68|                                 0|                  1|                   0|              21333|                   12500|             0.0|                   0.0|                 0.0|        0.0|          1.0|                 1.0|             7.0|                      1.0|            1.0|       0.0|                      0.0|          0|\n",
            "|34273263| 36936616|     3600|       3600|         3600.0|   12.39|     120.25|     28000|25.42|          0|             0|      14|      1|     7309|       34|      0.0|          0.0|    3881.91|        3881.91|         3600.0|       281.91|               0.0|       0.0|                    0.0|              58.5|                3045.12|                                 0|                  1|                   0|             121641|                   12500|             0.0|                   0.0|                 0.0|        1.0|          0.0|                 0.0|             0.0|                      2.0|            2.0|       0.0|                      0.0|          0|\n",
            "| 2225254|  2637451|    15000|      15000|        15000.0|    7.62|     467.43|     55400|23.98|          0|             0|      16|      0|    20588|       40|      0.0|          0.0|   15277.68|       15277.68|        15000.0|       277.68|               0.0|       0.0|                    0.0|              40.0|               14352.79|                                 0|                  1|                   0|              85456|                   51500|             0.0|                   0.0|                 0.0|        2.0|          0.0|                 0.0|             9.0|                      2.0|           16.0|       0.0|                      0.0|          0|\n",
            "|27370505| 29863589|    35000|      35000|        35000.0|   15.61|    1223.77|    120000| 8.52|          0|             0|       4|      0|     9029|       26| 20965.53|     20965.53|    20000.0|        20000.0|       14034.47|      5965.53|               0.0|       0.0|                    0.0|              53.7|                 1250.0|                                 0|                  1|                   0|              25770|                   16800|             0.0|                   0.0|                 0.0|        3.0|          0.0|                 1.0|             0.0|                      1.0|           11.0|       0.0|                      0.0|          0|\n",
            "|14649057| 16711378|    13500|      13500|        13500.0|   17.57|     339.67|     30000|19.07|          1|             0|      12|      0|    15415|       15| 10037.91|     10037.91|    7133.07|        7133.07|        3462.09|      3670.98|               0.0|       0.0|                    0.0|              19.1|                 339.67|                                 0|                  1|                   0|              28025|                   80700|             0.0|                   0.0|                 0.0|        3.0|          0.0|                 1.0|             4.0|                      0.0|           13.0|       1.0|                      1.0|          0|\n",
            "|19085535| 21288279|     7000|       7000|         7000.0|   10.99|     229.14|     50000| 4.84|          0|             0|       9|      1|     5025|       32|      0.0|          0.0|    7856.75|        7856.75|         7000.0|       856.75|               0.0|       0.0|                    0.0|              56.5|                4419.65|                                 0|                  1|                  31|               5025|                    8900|             0.0|                   0.0|                 0.0|        0.0|          0.0|                 1.0|             0.0|                      0.0|            0.0|       0.0|                      1.0|          0|\n",
            "| 5715369|  7127521|    12000|      12000|        11925.0|   10.16|     388.11|    110792|14.33|          0|             0|      13|      0|     7810|       21|      0.0|          0.0|13899.96999|        13813.1|        12000.0|      1899.97|               0.0|       0.0|                    0.0|              11.7|                3032.89|                                 0|                  1|                   0|             636493|                   66700|             0.0|                   0.0|                 0.0|        0.0|          3.0|                 0.0|             0.0|                      1.0|            8.0|       0.0|                      0.0|          0|\n",
            "| 1278879|  1521933|    12000|      12000|        12000.0|   18.25|     435.34|     85000| 8.26|          0|             0|       5|      1|     9182|       15|      0.0|          0.0|   13498.48|       13498.48|        12000.0|      1498.48|               0.0|       0.0|                    0.0|              90.9|               10018.46|                                 0|                  1|                   0|              80935|                   23800|             0.0|                   0.0|                 0.0|        3.0|          2.0|                 0.0|             9.0|                      2.0|           14.0|       0.0|                      0.0|          0|\n",
            "|35094304| 37777643|    27500|      27500|        27500.0|    9.49|     577.42|    302000|12.41|          2|             0|      11|      0|    51198|       23| 22592.17|     22592.17|    7477.46|        7477.46|        4907.83|      2569.63|               0.0|       0.0|                    0.0|              96.2|                 577.42|                                 0|                  1|                   0|             458460|                   93200|             0.0|                   0.0|                 0.0|        0.0|          1.0|                 0.0|             0.0|                      0.0|            5.0|       1.0|                      1.0|          0|\n",
            "|19137418| 21340066|    20950|      20950|        20950.0|    24.5|     608.79|     85000| 7.66|          2|             1|       9|      0|    10362|       21|      0.0|          0.0|   26877.94|       26877.94|        20950.0|      5927.94|               0.0|       0.0|                    0.0|              62.8|                 2137.3|                                 0|                  1|                   0|              15510|                   16500|             0.0|                   0.0|                 0.0|        5.0|          1.0|                 1.0|             1.0|                      1.0|           27.0|       1.0|                      0.0|          0|\n",
            "+--------+---------+---------+-----------+---------------+--------+-----------+----------+-----+-----------+--------------+--------+-------+---------+---------+---------+-------------+-----------+---------------+---------------+-------------+------------------+----------+-----------------------+------------------+-----------------------+----------------------------------+-------------------+--------------------+-------------------+------------------------+----------------+----------------------+--------------------+-----------+-------------+--------------------+----------------+-------------------------+---------------+----------+-------------------------+-----------+\n",
            "only showing top 20 rows\n",
            "\n"
          ]
        }
      ]
    },
    {
      "cell_type": "code",
      "source": [
        "print(f\"train: {df_train.count()}, val: {df_val.count()}\")"
      ],
      "metadata": {
        "colab": {
          "base_uri": "https://localhost:8080/"
        },
        "id": "hIHmUaPJ5uWR",
        "outputId": "2255a560-e171-4edd-a746-85affc318a79"
      },
      "execution_count": 17,
      "outputs": [
        {
          "output_type": "stream",
          "name": "stdout",
          "text": [
            "train: 598745, val: 256998\n"
          ]
        }
      ]
    },
    {
      "cell_type": "code",
      "source": [
        "train_dataset = df_train.toPandas()"
      ],
      "metadata": {
        "id": "Q_13fA1E7JMe"
      },
      "execution_count": 18,
      "outputs": []
    },
    {
      "cell_type": "code",
      "source": [
        "test_dataset = df_val.toPandas()"
      ],
      "metadata": {
        "id": "jEsO67EK7JQh"
      },
      "execution_count": 19,
      "outputs": []
    },
    {
      "cell_type": "code",
      "source": [
        "x_train = train_dataset.iloc[:,0:42]\n",
        "y_train = train_dataset.iloc[:,-1]"
      ],
      "metadata": {
        "id": "fNUAvFHj7JVL"
      },
      "execution_count": 20,
      "outputs": []
    },
    {
      "cell_type": "code",
      "source": [
        "x_test = test_dataset.iloc[:,0:42]\n",
        "y_test = test_dataset.iloc[:,-1]"
      ],
      "metadata": {
        "id": "ifLNOaeu7JdS"
      },
      "execution_count": 21,
      "outputs": []
    },
    {
      "cell_type": "code",
      "source": [
        "model = tf.estimator.LinearClassifier(\n",
        "    n_classes = 2,\n",
        "    model_dir=\"ongoing/train\", \n",
        "    feature_columns=x_train)"
      ],
      "metadata": {
        "id": "oD0URzpNtTw8"
      },
      "execution_count": 22,
      "outputs": []
    },
    {
      "cell_type": "code",
      "source": [
        "FEATURES = [\"id\",\"member_id\",\"loan_amnt\",\"funded_amnt\",\"funded_amnt_inv\",\"int_rate\",\"installment\",\"annual_inc\",\n",
        "                             \"dti\",\"delinq_2yrs\",\"inq_last_6mths\",\"open_acc\",\"pub_rec\",\"revol_bal\",\"total_acc\",\"out_prncp\",\"out_prncp_inv\",\n",
        "                             \"total_pymnt\",\"total_pymnt_inv\",\"total_rec_prncp\",\"total_rec_int\",\"total_rec_late_fee\",\"recoveries\",\n",
        "                             \"collection_recovery_fee\",\"revol_util_imputed\",\"last_pymnt_amnt_imputed\",\"collections_12_mths_ex_med_imputed\",\n",
        "                             \"policy_code_imputed\",\"tot_coll_amt_imputed\",\"tot_cur_bal_imputed\",\"total_rev_hi_lim_imputed\",\"pymnt_plan_index\",\n",
        "                             \"application_type_index\",\"acc_now_delinq_index\",\"grade_index\",\"purpose_index\",\"home_ownership_index\",\n",
        "                             \"emp_length_index\",\"verification_status_index\",\"sub_grade_index\",\"term_index\",\"initial_list_status_index\"]\n",
        "LABEL = \"default_ind\"\n",
        "def get_input_fn(x_train,y_train, num_epochs=None, n_batch = 128, shuffle=True):\n",
        "    return tf.compat.v1.estimator.inputs.pandas_input_fn(\n",
        "       x=pd.DataFrame({k: x_train[k].values for k in FEATURES}),\n",
        "       y = pd.Series(y_train.values),\n",
        "       batch_size=n_batch,   \n",
        "       num_epochs=num_epochs,\n",
        "       shuffle=shuffle)"
      ],
      "metadata": {
        "id": "n2exOU7dtTzd"
      },
      "execution_count": 29,
      "outputs": []
    },
    {
      "cell_type": "code",
      "source": [
        "model.train(input_fn=get_input_fn(x_train, y_train, \n",
        "                                      num_epochs=None,\n",
        "                                      n_batch = 128,\n",
        "                                      shuffle=False),\n",
        "                                      steps=1000)"
      ],
      "metadata": {
        "colab": {
          "base_uri": "https://localhost:8080/",
          "height": 532
        },
        "id": "DcGlsK-utT2V",
        "outputId": "c8aec0a2-c285-440c-e857-9f82bfcee5d6"
      },
      "execution_count": 30,
      "outputs": [
        {
          "output_type": "stream",
          "name": "stderr",
          "text": [
            "WARNING:tensorflow:From /usr/local/lib/python3.7/dist-packages/tensorflow/python/training/training_util.py:397: Variable.initialized_value (from tensorflow.python.ops.variables) is deprecated and will be removed in a future version.\n",
            "Instructions for updating:\n",
            "Use Variable.read_value. Variables in 2.X are initialized automatically both in eager and graph (inside tf.defun) contexts.\n",
            "WARNING:tensorflow:From /usr/local/lib/python3.7/dist-packages/tensorflow_estimator/python/estimator/inputs/queues/feeding_queue_runner.py:65: QueueRunner.__init__ (from tensorflow.python.training.queue_runner_impl) is deprecated and will be removed in a future version.\n",
            "Instructions for updating:\n",
            "To construct input pipelines, use the `tf.data` module.\n",
            "WARNING:tensorflow:From /usr/local/lib/python3.7/dist-packages/tensorflow_estimator/python/estimator/inputs/queues/feeding_functions.py:491: add_queue_runner (from tensorflow.python.training.queue_runner_impl) is deprecated and will be removed in a future version.\n",
            "Instructions for updating:\n",
            "To construct input pipelines, use the `tf.data` module.\n"
          ]
        },
        {
          "output_type": "error",
          "ename": "ValueError",
          "evalue": "ignored",
          "traceback": [
            "\u001b[0;31m---------------------------------------------------------------------------\u001b[0m",
            "\u001b[0;31mValueError\u001b[0m                                Traceback (most recent call last)",
            "\u001b[0;32m<ipython-input-30-e684387eebfd>\u001b[0m in \u001b[0;36m<module>\u001b[0;34m\u001b[0m\n\u001b[1;32m      3\u001b[0m                                       \u001b[0mn_batch\u001b[0m \u001b[0;34m=\u001b[0m \u001b[0;36m128\u001b[0m\u001b[0;34m,\u001b[0m\u001b[0;34m\u001b[0m\u001b[0;34m\u001b[0m\u001b[0m\n\u001b[1;32m      4\u001b[0m                                       shuffle=False),\n\u001b[0;32m----> 5\u001b[0;31m                                       steps=1000)\n\u001b[0m",
            "\u001b[0;32m/usr/local/lib/python3.7/dist-packages/tensorflow_estimator/python/estimator/estimator.py\u001b[0m in \u001b[0;36mtrain\u001b[0;34m(self, input_fn, hooks, steps, max_steps, saving_listeners)\u001b[0m\n\u001b[1;32m    358\u001b[0m \u001b[0;34m\u001b[0m\u001b[0m\n\u001b[1;32m    359\u001b[0m       \u001b[0msaving_listeners\u001b[0m \u001b[0;34m=\u001b[0m \u001b[0m_check_listeners_type\u001b[0m\u001b[0;34m(\u001b[0m\u001b[0msaving_listeners\u001b[0m\u001b[0;34m)\u001b[0m\u001b[0;34m\u001b[0m\u001b[0;34m\u001b[0m\u001b[0m\n\u001b[0;32m--> 360\u001b[0;31m       \u001b[0mloss\u001b[0m \u001b[0;34m=\u001b[0m \u001b[0mself\u001b[0m\u001b[0;34m.\u001b[0m\u001b[0m_train_model\u001b[0m\u001b[0;34m(\u001b[0m\u001b[0minput_fn\u001b[0m\u001b[0;34m,\u001b[0m \u001b[0mhooks\u001b[0m\u001b[0;34m,\u001b[0m \u001b[0msaving_listeners\u001b[0m\u001b[0;34m)\u001b[0m\u001b[0;34m\u001b[0m\u001b[0;34m\u001b[0m\u001b[0m\n\u001b[0m\u001b[1;32m    361\u001b[0m       \u001b[0mlogging\u001b[0m\u001b[0;34m.\u001b[0m\u001b[0minfo\u001b[0m\u001b[0;34m(\u001b[0m\u001b[0;34m'Loss for final step: %s.'\u001b[0m\u001b[0;34m,\u001b[0m \u001b[0mloss\u001b[0m\u001b[0;34m)\u001b[0m\u001b[0;34m\u001b[0m\u001b[0;34m\u001b[0m\u001b[0m\n\u001b[1;32m    362\u001b[0m       \u001b[0;32mreturn\u001b[0m \u001b[0mself\u001b[0m\u001b[0;34m\u001b[0m\u001b[0;34m\u001b[0m\u001b[0m\n",
            "\u001b[0;32m/usr/local/lib/python3.7/dist-packages/tensorflow_estimator/python/estimator/estimator.py\u001b[0m in \u001b[0;36m_train_model\u001b[0;34m(self, input_fn, hooks, saving_listeners)\u001b[0m\n\u001b[1;32m   1184\u001b[0m       \u001b[0;32mreturn\u001b[0m \u001b[0mself\u001b[0m\u001b[0;34m.\u001b[0m\u001b[0m_train_model_distributed\u001b[0m\u001b[0;34m(\u001b[0m\u001b[0minput_fn\u001b[0m\u001b[0;34m,\u001b[0m \u001b[0mhooks\u001b[0m\u001b[0;34m,\u001b[0m \u001b[0msaving_listeners\u001b[0m\u001b[0;34m)\u001b[0m\u001b[0;34m\u001b[0m\u001b[0;34m\u001b[0m\u001b[0m\n\u001b[1;32m   1185\u001b[0m     \u001b[0;32melse\u001b[0m\u001b[0;34m:\u001b[0m\u001b[0;34m\u001b[0m\u001b[0;34m\u001b[0m\u001b[0m\n\u001b[0;32m-> 1186\u001b[0;31m       \u001b[0;32mreturn\u001b[0m \u001b[0mself\u001b[0m\u001b[0;34m.\u001b[0m\u001b[0m_train_model_default\u001b[0m\u001b[0;34m(\u001b[0m\u001b[0minput_fn\u001b[0m\u001b[0;34m,\u001b[0m \u001b[0mhooks\u001b[0m\u001b[0;34m,\u001b[0m \u001b[0msaving_listeners\u001b[0m\u001b[0;34m)\u001b[0m\u001b[0;34m\u001b[0m\u001b[0;34m\u001b[0m\u001b[0m\n\u001b[0m\u001b[1;32m   1187\u001b[0m \u001b[0;34m\u001b[0m\u001b[0m\n\u001b[1;32m   1188\u001b[0m   \u001b[0;32mdef\u001b[0m \u001b[0m_train_model_default\u001b[0m\u001b[0;34m(\u001b[0m\u001b[0mself\u001b[0m\u001b[0;34m,\u001b[0m \u001b[0minput_fn\u001b[0m\u001b[0;34m,\u001b[0m \u001b[0mhooks\u001b[0m\u001b[0;34m,\u001b[0m \u001b[0msaving_listeners\u001b[0m\u001b[0;34m)\u001b[0m\u001b[0;34m:\u001b[0m\u001b[0;34m\u001b[0m\u001b[0;34m\u001b[0m\u001b[0m\n",
            "\u001b[0;32m/usr/local/lib/python3.7/dist-packages/tensorflow_estimator/python/estimator/estimator.py\u001b[0m in \u001b[0;36m_train_model_default\u001b[0;34m(self, input_fn, hooks, saving_listeners)\u001b[0m\n\u001b[1;32m   1213\u001b[0m       \u001b[0mworker_hooks\u001b[0m\u001b[0;34m.\u001b[0m\u001b[0mextend\u001b[0m\u001b[0;34m(\u001b[0m\u001b[0minput_hooks\u001b[0m\u001b[0;34m)\u001b[0m\u001b[0;34m\u001b[0m\u001b[0;34m\u001b[0m\u001b[0m\n\u001b[1;32m   1214\u001b[0m       estimator_spec = self._call_model_fn(features, labels, ModeKeys.TRAIN,\n\u001b[0;32m-> 1215\u001b[0;31m                                            self.config)\n\u001b[0m\u001b[1;32m   1216\u001b[0m       \u001b[0mglobal_step_tensor\u001b[0m \u001b[0;34m=\u001b[0m \u001b[0mtf\u001b[0m\u001b[0;34m.\u001b[0m\u001b[0mcompat\u001b[0m\u001b[0;34m.\u001b[0m\u001b[0mv1\u001b[0m\u001b[0;34m.\u001b[0m\u001b[0mtrain\u001b[0m\u001b[0;34m.\u001b[0m\u001b[0mget_global_step\u001b[0m\u001b[0;34m(\u001b[0m\u001b[0mg\u001b[0m\u001b[0;34m)\u001b[0m\u001b[0;34m\u001b[0m\u001b[0;34m\u001b[0m\u001b[0m\n\u001b[1;32m   1217\u001b[0m       return self._train_with_estimator_spec(estimator_spec, worker_hooks,\n",
            "\u001b[0;32m/usr/local/lib/python3.7/dist-packages/tensorflow_estimator/python/estimator/estimator.py\u001b[0m in \u001b[0;36m_call_model_fn\u001b[0;34m(self, features, labels, mode, config)\u001b[0m\n\u001b[1;32m   1172\u001b[0m \u001b[0;34m\u001b[0m\u001b[0m\n\u001b[1;32m   1173\u001b[0m     \u001b[0mlogging\u001b[0m\u001b[0;34m.\u001b[0m\u001b[0minfo\u001b[0m\u001b[0;34m(\u001b[0m\u001b[0;34m'Calling model_fn.'\u001b[0m\u001b[0;34m)\u001b[0m\u001b[0;34m\u001b[0m\u001b[0;34m\u001b[0m\u001b[0m\n\u001b[0;32m-> 1174\u001b[0;31m     \u001b[0mmodel_fn_results\u001b[0m \u001b[0;34m=\u001b[0m \u001b[0mself\u001b[0m\u001b[0;34m.\u001b[0m\u001b[0m_model_fn\u001b[0m\u001b[0;34m(\u001b[0m\u001b[0mfeatures\u001b[0m\u001b[0;34m=\u001b[0m\u001b[0mfeatures\u001b[0m\u001b[0;34m,\u001b[0m \u001b[0;34m**\u001b[0m\u001b[0mkwargs\u001b[0m\u001b[0;34m)\u001b[0m\u001b[0;34m\u001b[0m\u001b[0;34m\u001b[0m\u001b[0m\n\u001b[0m\u001b[1;32m   1175\u001b[0m     \u001b[0mlogging\u001b[0m\u001b[0;34m.\u001b[0m\u001b[0minfo\u001b[0m\u001b[0;34m(\u001b[0m\u001b[0;34m'Done calling model_fn.'\u001b[0m\u001b[0;34m)\u001b[0m\u001b[0;34m\u001b[0m\u001b[0;34m\u001b[0m\u001b[0m\n\u001b[1;32m   1176\u001b[0m \u001b[0;34m\u001b[0m\u001b[0m\n",
            "\u001b[0;32m/usr/local/lib/python3.7/dist-packages/tensorflow_estimator/python/estimator/canned/linear.py\u001b[0m in \u001b[0;36m_model_fn\u001b[0;34m(features, labels, mode, config)\u001b[0m\n\u001b[1;32m    937\u001b[0m           \u001b[0mmode\u001b[0m\u001b[0;34m=\u001b[0m\u001b[0mmode\u001b[0m\u001b[0;34m,\u001b[0m\u001b[0;34m\u001b[0m\u001b[0;34m\u001b[0m\u001b[0m\n\u001b[1;32m    938\u001b[0m           \u001b[0mhead\u001b[0m\u001b[0;34m=\u001b[0m\u001b[0mhead\u001b[0m\u001b[0;34m,\u001b[0m\u001b[0;34m\u001b[0m\u001b[0;34m\u001b[0m\u001b[0m\n\u001b[0;32m--> 939\u001b[0;31m           \u001b[0mfeature_columns\u001b[0m\u001b[0;34m=\u001b[0m\u001b[0mtuple\u001b[0m\u001b[0;34m(\u001b[0m\u001b[0mfeature_columns\u001b[0m \u001b[0;32mor\u001b[0m \u001b[0;34m[\u001b[0m\u001b[0;34m]\u001b[0m\u001b[0;34m)\u001b[0m\u001b[0;34m,\u001b[0m\u001b[0;34m\u001b[0m\u001b[0;34m\u001b[0m\u001b[0m\n\u001b[0m\u001b[1;32m    940\u001b[0m           \u001b[0moptimizer\u001b[0m\u001b[0;34m=\u001b[0m\u001b[0moptimizer\u001b[0m\u001b[0;34m,\u001b[0m\u001b[0;34m\u001b[0m\u001b[0;34m\u001b[0m\u001b[0m\n\u001b[1;32m    941\u001b[0m           \u001b[0mconfig\u001b[0m\u001b[0;34m=\u001b[0m\u001b[0mconfig\u001b[0m\u001b[0;34m,\u001b[0m\u001b[0;34m\u001b[0m\u001b[0;34m\u001b[0m\u001b[0m\n",
            "\u001b[0;32m/usr/local/lib/python3.7/dist-packages/pandas/core/generic.py\u001b[0m in \u001b[0;36m__nonzero__\u001b[0;34m(self)\u001b[0m\n\u001b[1;32m   1536\u001b[0m     \u001b[0;32mdef\u001b[0m \u001b[0m__nonzero__\u001b[0m\u001b[0;34m(\u001b[0m\u001b[0mself\u001b[0m\u001b[0;34m)\u001b[0m\u001b[0;34m:\u001b[0m\u001b[0;34m\u001b[0m\u001b[0;34m\u001b[0m\u001b[0m\n\u001b[1;32m   1537\u001b[0m         raise ValueError(\n\u001b[0;32m-> 1538\u001b[0;31m             \u001b[0;34mf\"The truth value of a {type(self).__name__} is ambiguous. \"\u001b[0m\u001b[0;34m\u001b[0m\u001b[0;34m\u001b[0m\u001b[0m\n\u001b[0m\u001b[1;32m   1539\u001b[0m             \u001b[0;34m\"Use a.empty, a.bool(), a.item(), a.any() or a.all().\"\u001b[0m\u001b[0;34m\u001b[0m\u001b[0;34m\u001b[0m\u001b[0m\n\u001b[1;32m   1540\u001b[0m         )\n",
            "\u001b[0;31mValueError\u001b[0m: The truth value of a DataFrame is ambiguous. Use a.empty, a.bool(), a.item(), a.any() or a.all()."
          ]
        }
      ]
    },
    {
      "cell_type": "code",
      "source": [],
      "metadata": {
        "id": "LZfiqDQdtT4-"
      },
      "execution_count": null,
      "outputs": []
    },
    {
      "cell_type": "code",
      "source": [],
      "metadata": {
        "id": "Pxfl4ZOYtT7_"
      },
      "execution_count": null,
      "outputs": []
    },
    {
      "cell_type": "code",
      "source": [],
      "metadata": {
        "id": "16vB8ZfZtT-x"
      },
      "execution_count": null,
      "outputs": []
    },
    {
      "cell_type": "code",
      "source": [],
      "metadata": {
        "id": "9m24xBMAtUBT"
      },
      "execution_count": null,
      "outputs": []
    },
    {
      "cell_type": "code",
      "source": [],
      "metadata": {
        "id": "AlI7Kl91tUEF"
      },
      "execution_count": null,
      "outputs": []
    },
    {
      "cell_type": "code",
      "source": [],
      "metadata": {
        "id": "8jO9HwMXtUHN"
      },
      "execution_count": null,
      "outputs": []
    }
  ]
}