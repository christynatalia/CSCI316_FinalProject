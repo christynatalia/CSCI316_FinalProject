{
 "cells": [
  {
   "cell_type": "code",
   "execution_count": 1,
   "metadata": {},
   "outputs": [
    {
     "name": "stdout",
     "output_type": "stream",
     "text": [
      "Requirement already satisfied: findspark in /Users/christynatalia/opt/anaconda3/lib/python3.7/site-packages (2.0.1)\n",
      "Note: you may need to restart the kernel to use updated packages.\n"
     ]
    }
   ],
   "source": [
    "%pip install findspark"
   ]
  },
  {
   "cell_type": "code",
   "execution_count": 2,
   "metadata": {},
   "outputs": [],
   "source": [
    "import findspark\n",
    "findspark.init() "
   ]
  },
  {
   "cell_type": "code",
   "execution_count": 14,
   "metadata": {},
   "outputs": [],
   "source": [
    "#Importing the libraries\n",
    "from pyspark.sql import SparkSession, Row\n",
    "from pyspark.ml import Pipeline\n",
    "from pyspark.ml.classification import NaiveBayes\n",
    "from pyspark.ml.feature import VectorAssembler\n",
    "from pyspark.ml.evaluation import MulticlassClassificationEvaluator\n",
    "from pyspark.mllib.util import MLUtils\n",
    "\n"
   ]
  },
  {
   "cell_type": "code",
   "execution_count": 4,
   "metadata": {},
   "outputs": [
    {
     "data": {
      "text/plain": [
       "'3.3.0'"
      ]
     },
     "execution_count": 4,
     "metadata": {},
     "output_type": "execute_result"
    }
   ],
   "source": [
    "spark = SparkSession.builder.getOrCreate()\n",
    "spark.sparkContext.setLogLevel(\"Error\")\n",
    "spark.version"
   ]
  },
  {
   "cell_type": "code",
   "execution_count": 5,
   "metadata": {},
   "outputs": [],
   "source": [
    "#Read the csv file\n",
    "data = spark.read.csv(\"cleanWithHeader.csv\", inferSchema=True, header=True)"
   ]
  },
  {
   "cell_type": "code",
   "execution_count": 6,
   "metadata": {},
   "outputs": [
    {
     "name": "stdout",
     "output_type": "stream",
     "text": [
      "root\n",
      " |-- id: integer (nullable = true)\n",
      " |-- member_id: integer (nullable = true)\n",
      " |-- loan_amnt: integer (nullable = true)\n",
      " |-- funded_amnt: integer (nullable = true)\n",
      " |-- funded_amnt_inv: double (nullable = true)\n",
      " |-- int_rate: double (nullable = true)\n",
      " |-- installment: double (nullable = true)\n",
      " |-- annual_inc: integer (nullable = true)\n",
      " |-- dti: double (nullable = true)\n",
      " |-- delinq_2yrs: integer (nullable = true)\n",
      " |-- inq_last_6mths: integer (nullable = true)\n",
      " |-- open_acc: integer (nullable = true)\n",
      " |-- pub_rec: integer (nullable = true)\n",
      " |-- revol_bal: integer (nullable = true)\n",
      " |-- total_acc: integer (nullable = true)\n",
      " |-- out_prncp: double (nullable = true)\n",
      " |-- out_prncp_inv: double (nullable = true)\n",
      " |-- total_pymnt: double (nullable = true)\n",
      " |-- total_pymnt_inv: double (nullable = true)\n",
      " |-- total_rec_prncp: double (nullable = true)\n",
      " |-- total_rec_int: double (nullable = true)\n",
      " |-- total_rec_late_fee: double (nullable = true)\n",
      " |-- recoveries: double (nullable = true)\n",
      " |-- collection_recovery_fee: double (nullable = true)\n",
      " |-- default_ind: integer (nullable = true)\n",
      " |-- revol_util_imputed: double (nullable = true)\n",
      " |-- last_pymnt_amnt_imputed: double (nullable = true)\n",
      " |-- collections_12_mths_ex_med_imputed: integer (nullable = true)\n",
      " |-- policy_code_imputed: integer (nullable = true)\n",
      " |-- tot_coll_amt_imputed: integer (nullable = true)\n",
      " |-- tot_cur_bal_imputed: integer (nullable = true)\n",
      " |-- total_rev_hi_lim_imputed: integer (nullable = true)\n",
      " |-- pymnt_plan_index: double (nullable = true)\n",
      " |-- application_type_index: double (nullable = true)\n",
      " |-- acc_now_delinq_index: double (nullable = true)\n",
      " |-- grade_index: double (nullable = true)\n",
      " |-- purpose_index: double (nullable = true)\n",
      " |-- home_ownership_index: double (nullable = true)\n",
      " |-- emp_length_index: double (nullable = true)\n",
      " |-- verification_status_index: double (nullable = true)\n",
      " |-- sub_grade_index: double (nullable = true)\n",
      " |-- term_index: double (nullable = true)\n",
      " |-- initial_list_status_index: double (nullable = true)\n",
      "\n"
     ]
    }
   ],
   "source": [
    "data.printSchema()"
   ]
  },
  {
   "cell_type": "code",
   "execution_count": 7,
   "metadata": {},
   "outputs": [],
   "source": [
    "data_reordered = data.select(\"id\",\"member_id\",\"loan_amnt\",\"funded_amnt\",\"funded_amnt_inv\",\"int_rate\",\"installment\",\"annual_inc\",\n",
    "                             \"dti\",\"delinq_2yrs\",\"inq_last_6mths\",\"open_acc\",\"pub_rec\",\"revol_bal\",\"total_acc\",\"out_prncp\",\"out_prncp_inv\",\n",
    "                             \"total_pymnt\",\"total_pymnt_inv\",\"total_rec_prncp\",\"total_rec_int\",\"total_rec_late_fee\",\"recoveries\",\n",
    "                             \"collection_recovery_fee\",\"revol_util_imputed\",\"last_pymnt_amnt_imputed\",\"collections_12_mths_ex_med_imputed\",\n",
    "                             \"policy_code_imputed\",\"tot_coll_amt_imputed\",\"tot_cur_bal_imputed\",\"total_rev_hi_lim_imputed\",\"pymnt_plan_index\",\n",
    "                             \"application_type_index\",\"acc_now_delinq_index\",\"grade_index\",\"purpose_index\",\"home_ownership_index\",\n",
    "                             \"emp_length_index\",\"verification_status_index\",\"sub_grade_index\",\"term_index\",\"initial_list_status_index\", \"default_ind\")"
   ]
  },
  {
   "cell_type": "code",
   "execution_count": 8,
   "metadata": {},
   "outputs": [],
   "source": [
    "features = [\"id\",\"member_id\",\"loan_amnt\",\"funded_amnt\",\"funded_amnt_inv\",\"int_rate\",\"installment\",\"annual_inc\",\n",
    "                             \"dti\",\"delinq_2yrs\",\"inq_last_6mths\",\"open_acc\",\"pub_rec\",\"revol_bal\",\"total_acc\",\"out_prncp\",\"out_prncp_inv\",\n",
    "                             \"total_pymnt\",\"total_pymnt_inv\",\"total_rec_prncp\",\"total_rec_int\",\"total_rec_late_fee\",\"recoveries\",\n",
    "                             \"collection_recovery_fee\",\"revol_util_imputed\",\"last_pymnt_amnt_imputed\",\"collections_12_mths_ex_med_imputed\",\n",
    "                             \"policy_code_imputed\",\"tot_coll_amt_imputed\",\"tot_cur_bal_imputed\",\"total_rev_hi_lim_imputed\",\"pymnt_plan_index\",\n",
    "                             \"application_type_index\",\"acc_now_delinq_index\",\"grade_index\",\"purpose_index\",\"home_ownership_index\",\n",
    "                             \"emp_length_index\",\"verification_status_index\",\"sub_grade_index\",\"term_index\",\"initial_list_status_index\"]"
   ]
  },
  {
   "cell_type": "code",
   "execution_count": 9,
   "metadata": {},
   "outputs": [],
   "source": [
    "# Index labels, adding metadata to the label column.\n",
    "# Fit on whole dataset to include all labels in index.\n",
    "va = VectorAssembler(inputCols =features, outputCol=\"features\")"
   ]
  },
  {
   "cell_type": "code",
   "execution_count": 10,
   "metadata": {},
   "outputs": [],
   "source": [
    "va_df = va.transform(data)"
   ]
  },
  {
   "cell_type": "code",
   "execution_count": 26,
   "metadata": {},
   "outputs": [
    {
     "name": "stdout",
     "output_type": "stream",
     "text": [
      "+--------------------+-----------+\n",
      "|            features|default_ind|\n",
      "+--------------------+-----------+\n",
      "|(42,[0,1,2,3,4,5,...|          0|\n",
      "|[1077430.0,131416...|          1|\n",
      "|[1077175.0,131352...|          0|\n",
      "|[1076863.0,127717...|          0|\n",
      "|[1075358.0,131174...|          0|\n",
      "|[1075269.0,131144...|          0|\n",
      "|[1069639.0,130474...|          0|\n",
      "|[1072053.0,128868...|          0|\n",
      "|[1071795.0,130695...|          1|\n",
      "|[1071570.0,130672...|          1|\n",
      "|[1070078.0,130520...|          0|\n",
      "|(42,[0,1,2,3,4,5,...|          0|\n",
      "|[1064687.0,129871...|          1|\n",
      "|(42,[0,1,2,3,4,5,...|          0|\n",
      "|[1069057.0,130350...|          1|\n",
      "|[1069759.0,130487...|          0|\n",
      "|[1065775.0,129969...|          0|\n",
      "|(42,[0,1,2,3,4,5,...|          0|\n",
      "|(42,[0,1,2,3,4,5,...|          0|\n",
      "|(42,[0,1,2,3,4,5,...|          0|\n",
      "+--------------------+-----------+\n",
      "only showing top 20 rows\n",
      "\n"
     ]
    }
   ],
   "source": [
    "va_df = va_df.select(['features', 'default_ind'])\n",
    "va_df.show()"
   ]
  },
  {
   "cell_type": "code",
   "execution_count": 27,
   "metadata": {},
   "outputs": [],
   "source": [
    "seed = 142\n",
    "train_df, test_df = va_df.randomSplit([0.7,0.3], seed)"
   ]
  },
  {
   "cell_type": "code",
   "execution_count": 30,
   "metadata": {},
   "outputs": [],
   "source": [
    "nb = NaiveBayes(modelType=\"multinomial\", featuresCol=\"features\", labelCol=\"default_ind\")"
   ]
  },
  {
   "cell_type": "code",
   "execution_count": 31,
   "metadata": {},
   "outputs": [],
   "source": [
    "nbmodel = nb.fit(train_df)"
   ]
  },
  {
   "cell_type": "code",
   "execution_count": 33,
   "metadata": {},
   "outputs": [
    {
     "name": "stdout",
     "output_type": "stream",
     "text": [
      "+--------------------+-----------+--------------------+-----------+----------+\n",
      "|            features|default_ind|       rawPrediction|probability|prediction|\n",
      "+--------------------+-----------+--------------------+-----------+----------+\n",
      "|(42,[0,1,2,3,4,5,...|          0|[-1.4445349611352...|  [0.0,1.0]|       1.0|\n",
      "|(42,[0,1,2,3,4,5,...|          0|[-1.2356558794782...|  [0.0,1.0]|       1.0|\n",
      "|(42,[0,1,2,3,4,5,...|          0|[-1.1611025529107...|  [0.0,1.0]|       1.0|\n",
      "+--------------------+-----------+--------------------+-----------+----------+\n",
      "only showing top 3 rows\n",
      "\n"
     ]
    }
   ],
   "source": [
    "pred  = nbmodel.transform(test_df)\n",
    "pred.show(3)"
   ]
  },
  {
   "cell_type": "code",
   "execution_count": 35,
   "metadata": {},
   "outputs": [
    {
     "name": "stdout",
     "output_type": "stream",
     "text": [
      "Prediction Accuracy:  0.7510888137195179\n"
     ]
    }
   ],
   "source": [
    "evaluator= MulticlassClassificationEvaluator(predictionCol=\"prediction\", labelCol=\"default_ind\")\n",
    "accuracy = evaluator.evaluate(pred)\n",
    " \n",
    "print(\"Prediction Accuracy: \", accuracy)\n",
    " \n",
    "y_pred=pred.select(\"prediction\").collect()\n",
    "y_orig=pred.select(\"default_ind\").collect()\n",
    "\n"
   ]
  },
  {
   "cell_type": "code",
   "execution_count": 36,
   "metadata": {},
   "outputs": [
    {
     "name": "stdout",
     "output_type": "stream",
     "text": [
      "Test Error =  0.24891118628048214\n"
     ]
    }
   ],
   "source": [
    "print (\"Test Error = \",  (1.0 - accuracy))"
   ]
  },
  {
   "cell_type": "code",
   "execution_count": null,
   "metadata": {},
   "outputs": [],
   "source": []
  }
 ],
 "metadata": {
  "kernelspec": {
   "display_name": "Python 3",
   "language": "python",
   "name": "python3"
  },
  "language_info": {
   "codemirror_mode": {
    "name": "ipython",
    "version": 3
   },
   "file_extension": ".py",
   "mimetype": "text/x-python",
   "name": "python",
   "nbconvert_exporter": "python",
   "pygments_lexer": "ipython3",
   "version": "3.7.4"
  }
 },
 "nbformat": 4,
 "nbformat_minor": 2
}
