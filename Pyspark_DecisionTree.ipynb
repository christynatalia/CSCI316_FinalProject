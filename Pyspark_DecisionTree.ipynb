{
 "cells": [
  {
   "cell_type": "code",
   "execution_count": 1,
   "metadata": {},
   "outputs": [
    {
     "name": "stdout",
     "output_type": "stream",
     "text": [
      "Requirement already satisfied: findspark in /Users/christynatalia/opt/anaconda3/lib/python3.7/site-packages (2.0.1)\n",
      "\n",
      "\u001b[1m[\u001b[0m\u001b[34;49mnotice\u001b[0m\u001b[1;39;49m]\u001b[0m\u001b[39;49m A new release of pip available: \u001b[0m\u001b[31;49m22.2.2\u001b[0m\u001b[39;49m -> \u001b[0m\u001b[32;49m22.3\u001b[0m\n",
      "\u001b[1m[\u001b[0m\u001b[34;49mnotice\u001b[0m\u001b[1;39;49m]\u001b[0m\u001b[39;49m To update, run: \u001b[0m\u001b[32;49mpip install --upgrade pip\u001b[0m\n",
      "Note: you may need to restart the kernel to use updated packages.\n"
     ]
    }
   ],
   "source": [
    "%pip install findspark"
   ]
  },
  {
   "cell_type": "code",
   "execution_count": 1,
   "metadata": {},
   "outputs": [],
   "source": [
    "import findspark\n",
    "findspark.init() "
   ]
  },
  {
   "cell_type": "code",
   "execution_count": 14,
   "metadata": {},
   "outputs": [],
   "source": [
    "#Importing the libraries\n",
    "from pyspark.sql import SparkSession, Row\n",
    "from pyspark.ml import Pipeline\n",
    "from pyspark.ml.classification import DecisionTreeClassifier\n",
    "from pyspark.ml.feature import VectorAssembler\n",
    "from pyspark.ml.evaluation import MulticlassClassificationEvaluator\n",
    "from pyspark.mllib.util import MLUtils\n"
   ]
  },
  {
   "cell_type": "code",
   "execution_count": 4,
   "metadata": {},
   "outputs": [
    {
     "data": {
      "text/plain": [
       "'3.3.0'"
      ]
     },
     "execution_count": 4,
     "metadata": {},
     "output_type": "execute_result"
    }
   ],
   "source": [
    "spark = SparkSession.builder.getOrCreate()\n",
    "spark.sparkContext.setLogLevel(\"Error\")\n",
    "spark.version"
   ]
  },
  {
   "cell_type": "code",
   "execution_count": 6,
   "metadata": {},
   "outputs": [],
   "source": [
    "#Read the csv file\n",
    "data = spark.read.csv(\"cleanWithHeader.csv\", inferSchema=True, header=True)"
   ]
  },
  {
   "cell_type": "code",
   "execution_count": 9,
   "metadata": {},
   "outputs": [
    {
     "name": "stdout",
     "output_type": "stream",
     "text": [
      "root\n",
      " |-- id: integer (nullable = true)\n",
      " |-- member_id: integer (nullable = true)\n",
      " |-- loan_amnt: integer (nullable = true)\n",
      " |-- funded_amnt: integer (nullable = true)\n",
      " |-- funded_amnt_inv: double (nullable = true)\n",
      " |-- int_rate: double (nullable = true)\n",
      " |-- installment: double (nullable = true)\n",
      " |-- annual_inc: integer (nullable = true)\n",
      " |-- dti: double (nullable = true)\n",
      " |-- delinq_2yrs: integer (nullable = true)\n",
      " |-- inq_last_6mths: integer (nullable = true)\n",
      " |-- open_acc: integer (nullable = true)\n",
      " |-- pub_rec: integer (nullable = true)\n",
      " |-- revol_bal: integer (nullable = true)\n",
      " |-- total_acc: integer (nullable = true)\n",
      " |-- out_prncp: double (nullable = true)\n",
      " |-- out_prncp_inv: double (nullable = true)\n",
      " |-- total_pymnt: double (nullable = true)\n",
      " |-- total_pymnt_inv: double (nullable = true)\n",
      " |-- total_rec_prncp: double (nullable = true)\n",
      " |-- total_rec_int: double (nullable = true)\n",
      " |-- total_rec_late_fee: double (nullable = true)\n",
      " |-- recoveries: double (nullable = true)\n",
      " |-- collection_recovery_fee: double (nullable = true)\n",
      " |-- default_ind: integer (nullable = true)\n",
      " |-- revol_util_imputed: double (nullable = true)\n",
      " |-- last_pymnt_amnt_imputed: double (nullable = true)\n",
      " |-- collections_12_mths_ex_med_imputed: integer (nullable = true)\n",
      " |-- policy_code_imputed: integer (nullable = true)\n",
      " |-- tot_coll_amt_imputed: integer (nullable = true)\n",
      " |-- tot_cur_bal_imputed: integer (nullable = true)\n",
      " |-- total_rev_hi_lim_imputed: integer (nullable = true)\n",
      " |-- pymnt_plan_index: double (nullable = true)\n",
      " |-- application_type_index: double (nullable = true)\n",
      " |-- acc_now_delinq_index: double (nullable = true)\n",
      " |-- grade_index: double (nullable = true)\n",
      " |-- purpose_index: double (nullable = true)\n",
      " |-- home_ownership_index: double (nullable = true)\n",
      " |-- emp_length_index: double (nullable = true)\n",
      " |-- verification_status_index: double (nullable = true)\n",
      " |-- sub_grade_index: double (nullable = true)\n",
      " |-- term_index: double (nullable = true)\n",
      " |-- initial_list_status_index: double (nullable = true)\n",
      "\n"
     ]
    }
   ],
   "source": [
    "data.printSchema()"
   ]
  },
  {
   "cell_type": "code",
   "execution_count": 29,
   "metadata": {},
   "outputs": [
    {
     "name": "stdout",
     "output_type": "stream",
     "text": [
      "+-------+---------+---------+-----------+---------------+--------+-----------+----------+-----+-----------+--------------+--------+-------+---------+---------+---------+-------------+-----------+---------------+---------------+-------------+------------------+----------+-----------------------+------------------+-----------------------+----------------------------------+-------------------+--------------------+-------------------+------------------------+----------------+----------------------+--------------------+-----------+-------------+--------------------+----------------+-------------------------+---------------+----------+-------------------------+-----------+\n",
      "|     id|member_id|loan_amnt|funded_amnt|funded_amnt_inv|int_rate|installment|annual_inc|  dti|delinq_2yrs|inq_last_6mths|open_acc|pub_rec|revol_bal|total_acc|out_prncp|out_prncp_inv|total_pymnt|total_pymnt_inv|total_rec_prncp|total_rec_int|total_rec_late_fee|recoveries|collection_recovery_fee|revol_util_imputed|last_pymnt_amnt_imputed|collections_12_mths_ex_med_imputed|policy_code_imputed|tot_coll_amt_imputed|tot_cur_bal_imputed|total_rev_hi_lim_imputed|pymnt_plan_index|application_type_index|acc_now_delinq_index|grade_index|purpose_index|home_ownership_index|emp_length_index|verification_status_index|sub_grade_index|term_index|initial_list_status_index|default_ind|\n",
      "+-------+---------+---------+-----------+---------------+--------+-----------+----------+-----+-----------+--------------+--------+-------+---------+---------+---------+-------------+-----------+---------------+---------------+-------------+------------------+----------+-----------------------+------------------+-----------------------+----------------------------------+-------------------+--------------------+-------------------+------------------------+----------------+----------------------+--------------------+-----------+-------------+--------------------+----------------+-------------------------+---------------+----------+-------------------------+-----------+\n",
      "|1077501|  1296599|     5000|       5000|         4975.0|   10.65|     162.87|     24000|27.65|          0|             1|       3|      0|    13648|        9|      0.0|          0.0|5861.071414|        5831.78|         5000.0|       861.07|               0.0|       0.0|                    0.0|              83.7|                 171.62|                                 0|                  1|                   0|              80935|                   23800|             0.0|                   0.0|                 0.0|        0.0|          1.0|                 1.0|             0.0|                      1.0|            5.0|       0.0|                      0.0|          0|\n",
      "|1077430|  1314167|     2500|       2500|         2500.0|   15.27|      59.83|     30000|  1.0|          0|             5|       3|      0|     1687|        4|      0.0|          0.0|    1008.71|        1008.71|         456.46|       435.17|               0.0|    117.08|                   1.11|               9.4|                 119.66|                                 0|                  1|                   0|              80935|                   23800|             0.0|                   0.0|                 0.0|        1.0|          6.0|                 1.0|             2.0|                      0.0|            7.0|       1.0|                      0.0|          1|\n",
      "|1077175|  1313524|     2400|       2400|         2400.0|   15.96|      84.33|     12252| 8.72|          0|             2|       2|      0|     2956|       10|      0.0|          0.0|3003.653644|        3003.65|         2400.0|       603.65|               0.0|       0.0|                    0.0|              98.5|                 649.91|                                 0|                  1|                   0|              80935|                   23800|             0.0|                   0.0|                 0.0|        1.0|          5.0|                 1.0|             0.0|                      2.0|           10.0|       0.0|                      0.0|          0|\n",
      "|1076863|  1277178|    10000|      10000|        10000.0|   13.49|     339.31|     49200| 20.0|          0|             1|      10|      0|     5598|       37|      0.0|          0.0|12226.30221|        12226.3|        10000.0|      2209.33|             16.97|       0.0|                    0.0|              21.0|                 357.48|                                 0|                  1|                   0|              80935|                   23800|             0.0|                   0.0|                 0.0|        1.0|          3.0|                 1.0|             0.0|                      0.0|            2.0|       0.0|                      0.0|          0|\n",
      "|1075358|  1311748|     3000|       3000|         3000.0|   12.69|      67.79|     80000|17.94|          0|             0|      15|      0|    27783|       38|    766.9|        766.9|    3242.17|        3242.17|         2233.1|      1009.07|               0.0|       0.0|                    0.0|              53.9|                  67.79|                                 0|                  1|                   0|              80935|                   23800|             0.0|                   0.0|                 0.0|        0.0|          3.0|                 1.0|             4.0|                      0.0|            6.0|       1.0|                      0.0|          0|\n",
      "+-------+---------+---------+-----------+---------------+--------+-----------+----------+-----+-----------+--------------+--------+-------+---------+---------+---------+-------------+-----------+---------------+---------------+-------------+------------------+----------+-----------------------+------------------+-----------------------+----------------------------------+-------------------+--------------------+-------------------+------------------------+----------------+----------------------+--------------------+-----------+-------------+--------------------+----------------+-------------------------+---------------+----------+-------------------------+-----------+\n",
      "only showing top 5 rows\n",
      "\n"
     ]
    }
   ],
   "source": [
    "data_reordered.show(5)"
   ]
  },
  {
   "cell_type": "code",
   "execution_count": 11,
   "metadata": {},
   "outputs": [],
   "source": [
    "data_reordered = data.select(\"id\",\"member_id\",\"loan_amnt\",\"funded_amnt\",\"funded_amnt_inv\",\"int_rate\",\"installment\",\"annual_inc\",\n",
    "                             \"dti\",\"delinq_2yrs\",\"inq_last_6mths\",\"open_acc\",\"pub_rec\",\"revol_bal\",\"total_acc\",\"out_prncp\",\"out_prncp_inv\",\n",
    "                             \"total_pymnt\",\"total_pymnt_inv\",\"total_rec_prncp\",\"total_rec_int\",\"total_rec_late_fee\",\"recoveries\",\n",
    "                             \"collection_recovery_fee\",\"revol_util_imputed\",\"last_pymnt_amnt_imputed\",\"collections_12_mths_ex_med_imputed\",\n",
    "                             \"policy_code_imputed\",\"tot_coll_amt_imputed\",\"tot_cur_bal_imputed\",\"total_rev_hi_lim_imputed\",\"pymnt_plan_index\",\n",
    "                             \"application_type_index\",\"acc_now_delinq_index\",\"grade_index\",\"purpose_index\",\"home_ownership_index\",\n",
    "                             \"emp_length_index\",\"verification_status_index\",\"sub_grade_index\",\"term_index\",\"initial_list_status_index\", \"default_ind\")"
   ]
  },
  {
   "cell_type": "code",
   "execution_count": 19,
   "metadata": {},
   "outputs": [],
   "source": [
    "features = [\"id\",\"member_id\",\"loan_amnt\",\"funded_amnt\",\"funded_amnt_inv\",\"int_rate\",\"installment\",\"annual_inc\",\n",
    "                             \"dti\",\"delinq_2yrs\",\"inq_last_6mths\",\"open_acc\",\"pub_rec\",\"revol_bal\",\"total_acc\",\"out_prncp\",\"out_prncp_inv\",\n",
    "                             \"total_pymnt\",\"total_pymnt_inv\",\"total_rec_prncp\",\"total_rec_int\",\"total_rec_late_fee\",\"recoveries\",\n",
    "                             \"collection_recovery_fee\",\"revol_util_imputed\",\"last_pymnt_amnt_imputed\",\"collections_12_mths_ex_med_imputed\",\n",
    "                             \"policy_code_imputed\",\"tot_coll_amt_imputed\",\"tot_cur_bal_imputed\",\"total_rev_hi_lim_imputed\",\"pymnt_plan_index\",\n",
    "                             \"application_type_index\",\"acc_now_delinq_index\",\"grade_index\",\"purpose_index\",\"home_ownership_index\",\n",
    "                             \"emp_length_index\",\"verification_status_index\",\"sub_grade_index\",\"term_index\",\"initial_list_status_index\"]"
   ]
  },
  {
   "cell_type": "code",
   "execution_count": 21,
   "metadata": {},
   "outputs": [
    {
     "name": "stderr",
     "output_type": "stream",
     "text": [
      "Exception ignored in: <function JavaWrapper.__del__ at 0x7fe650f8d5f0>\n",
      "Traceback (most recent call last):\n",
      "  File \"/usr/local/spark-3.3.0-bin-hadoop3/python/pyspark/ml/wrapper.py\", line 53, in __del__\n",
      "    if SparkContext._active_spark_context and self._java_obj is not None:\n",
      "AttributeError: 'VectorAssembler' object has no attribute '_java_obj'\n",
      "Exception ignored in: <function JavaWrapper.__del__ at 0x7fe650f8d5f0>\n",
      "Traceback (most recent call last):\n",
      "  File \"/usr/local/spark-3.3.0-bin-hadoop3/python/pyspark/ml/wrapper.py\", line 53, in __del__\n",
      "    if SparkContext._active_spark_context and self._java_obj is not None:\n",
      "AttributeError: 'VectorAssembler' object has no attribute '_java_obj'\n",
      "Exception ignored in: <function JavaWrapper.__del__ at 0x7fe650f8d5f0>\n",
      "Traceback (most recent call last):\n",
      "  File \"/usr/local/spark-3.3.0-bin-hadoop3/python/pyspark/ml/wrapper.py\", line 53, in __del__\n",
      "    if SparkContext._active_spark_context and self._java_obj is not None:\n",
      "AttributeError: 'VectorAssembler' object has no attribute '_java_obj'\n"
     ]
    }
   ],
   "source": [
    "# Index labels, adding metadata to the label column.\n",
    "# Fit on whole dataset to include all labels in index.\n",
    "va = VectorAssembler(inputCols =features, outputCol=\"features\")"
   ]
  },
  {
   "cell_type": "code",
   "execution_count": 22,
   "metadata": {},
   "outputs": [],
   "source": [
    "va_df = va.transform(data)"
   ]
  },
  {
   "cell_type": "code",
   "execution_count": 24,
   "metadata": {},
   "outputs": [
    {
     "name": "stdout",
     "output_type": "stream",
     "text": [
      "+--------------------+-----------+\n",
      "|            features|default_ind|\n",
      "+--------------------+-----------+\n",
      "|(42,[0,1,2,3,4,5,...|          0|\n",
      "|[1077430.0,131416...|          1|\n",
      "|[1077175.0,131352...|          0|\n",
      "|[1076863.0,127717...|          0|\n",
      "|[1075358.0,131174...|          0|\n",
      "|[1075269.0,131144...|          0|\n",
      "|[1069639.0,130474...|          0|\n",
      "|[1072053.0,128868...|          0|\n",
      "|[1071795.0,130695...|          1|\n",
      "|[1071570.0,130672...|          1|\n",
      "|[1070078.0,130520...|          0|\n",
      "|(42,[0,1,2,3,4,5,...|          0|\n",
      "|[1064687.0,129871...|          1|\n",
      "|(42,[0,1,2,3,4,5,...|          0|\n",
      "|[1069057.0,130350...|          1|\n",
      "|[1069759.0,130487...|          0|\n",
      "|[1065775.0,129969...|          0|\n",
      "|(42,[0,1,2,3,4,5,...|          0|\n",
      "|(42,[0,1,2,3,4,5,...|          0|\n",
      "|(42,[0,1,2,3,4,5,...|          0|\n",
      "+--------------------+-----------+\n",
      "only showing top 20 rows\n",
      "\n"
     ]
    }
   ],
   "source": [
    "va_df = va_df.select(['features', 'default_ind'])\n",
    "va_df.show()"
   ]
  },
  {
   "cell_type": "code",
   "execution_count": 30,
   "metadata": {},
   "outputs": [],
   "source": [
    "(train, test) = va_df.randomSplit([0.8, 0.2])"
   ]
  },
  {
   "cell_type": "code",
   "execution_count": 50,
   "metadata": {},
   "outputs": [],
   "source": [
    "dtc = DecisionTreeClassifier(featuresCol=\"features\", labelCol=\"default_ind\")\n",
    "dtc = dtc.fit(train)"
   ]
  },
  {
   "cell_type": "code",
   "execution_count": 33,
   "metadata": {},
   "outputs": [
    {
     "name": "stdout",
     "output_type": "stream",
     "text": [
      "+--------------------+-----------+-----------------+--------------------+----------+\n",
      "|            features|default_ind|    rawPrediction|         probability|prediction|\n",
      "+--------------------+-----------+-----------------+--------------------+----------+\n",
      "|(42,[0,1,2,3,4,5,...|          0| [481035.0,967.0]|[0.99799378425815...|       0.0|\n",
      "|(42,[0,1,2,3,4,5,...|          0|[159214.0,6756.0]|[0.95929384828583...|       0.0|\n",
      "|(42,[0,1,2,3,4,5,...|          0|[159214.0,6756.0]|[0.95929384828583...|       0.0|\n",
      "+--------------------+-----------+-----------------+--------------------+----------+\n",
      "only showing top 3 rows\n",
      "\n"
     ]
    }
   ],
   "source": [
    "pred = dtc.transform(test)\n",
    "pred.show(3)"
   ]
  },
  {
   "cell_type": "code",
   "execution_count": null,
   "metadata": {},
   "outputs": [],
   "source": [
    "evaluator= MulticlassClassificationEvaluator(predictionCol=\"prediction\", labelCol=\"default_ind\")\n",
    "accuracy = evaluator.evaluate(pred)\n",
    " \n",
    "print(\"Prediction Accuracy: \", accuracy)\n",
    " \n",
    "y_pred=pred.select(\"prediction\").collect()\n",
    "y_orig=pred.select(\"default_ind\").collect()\n"
   ]
  },
  {
   "cell_type": "code",
   "execution_count": null,
   "metadata": {},
   "outputs": [],
   "source": [
    "print (\"Test Error = \",  (1.0 - accuracy))\n",
    "\n",
    "# treeModel = dtc.stages[2]\n",
    "# print(treeModel) \n",
    "# # summary only"
   ]
  },
  {
   "cell_type": "code",
   "execution_count": null,
   "metadata": {},
   "outputs": [],
   "source": []
  }
 ],
 "metadata": {
  "kernelspec": {
   "display_name": "Python 3",
   "language": "python",
   "name": "python3"
  },
  "language_info": {
   "codemirror_mode": {
    "name": "ipython",
    "version": 3
   },
   "file_extension": ".py",
   "mimetype": "text/x-python",
   "name": "python",
   "nbconvert_exporter": "python",
   "pygments_lexer": "ipython3",
   "version": "3.7.4"
  }
 },
 "nbformat": 4,
 "nbformat_minor": 2
}
