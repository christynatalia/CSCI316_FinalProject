{
  "nbformat": 4,
  "nbformat_minor": 0,
  "metadata": {
    "colab": {
      "provenance": [],
      "collapsed_sections": [],
      "authorship_tag": "ABX9TyO2cn2RcszrBs7JzBwYY9Am",
      "include_colab_link": true
    },
    "kernelspec": {
      "name": "python3",
      "display_name": "Python 3"
    },
    "language_info": {
      "name": "python"
    }
  },
  "cells": [
    {
      "cell_type": "markdown",
      "metadata": {
        "id": "view-in-github",
        "colab_type": "text"
      },
      "source": [
        "<a href=\"https://colab.research.google.com/github/christynatalia/CSCI316_FinalProject/blob/master/Tensorflow_FNN.ipynb\" target=\"_parent\"><img src=\"https://colab.research.google.com/assets/colab-badge.svg\" alt=\"Open In Colab\"/></a>"
      ]
    },
    {
      "cell_type": "code",
      "source": [
        "from google.colab import drive\n",
        "drive.mount('/content/drive')"
      ],
      "metadata": {
        "id": "f5mklFUwLWr5",
        "colab": {
          "base_uri": "https://localhost:8080/"
        },
        "outputId": "19baab7e-4366-417f-ed32-628d17bb0856"
      },
      "execution_count": 3,
      "outputs": [
        {
          "output_type": "stream",
          "name": "stdout",
          "text": [
            "Mounted at /content/drive\n"
          ]
        }
      ]
    },
    {
      "cell_type": "code",
      "source": [
        "#import everything\n",
        "import pandas as pd\n",
        "import numpy as np\n",
        "from sklearn.model_selection import train_test_split\n",
        "import matplotlib.pyplot as plt\n",
        "import tensorflow as tf\n",
        "from tensorflow import keras"
      ],
      "metadata": {
        "id": "bAyhvPzPLXqu"
      },
      "execution_count": 4,
      "outputs": []
    },
    {
      "cell_type": "code",
      "source": [
        "#load the data\n",
        "mydata = pd.read_csv(\"/content/drive/MyDrive/CSCI316FinalProject/cleanWithHeader.csv\")"
      ],
      "metadata": {
        "id": "u0FHFV5ALXzO"
      },
      "execution_count": 5,
      "outputs": []
    },
    {
      "cell_type": "code",
      "source": [
        "mydata.head()"
      ],
      "metadata": {
        "id": "LANKXGx6LklA",
        "colab": {
          "base_uri": "https://localhost:8080/",
          "height": 300
        },
        "outputId": "f012271a-a634-42b5-f748-68659ef33a57"
      },
      "execution_count": 6,
      "outputs": [
        {
          "output_type": "execute_result",
          "data": {
            "text/plain": [
              "        id  member_id  loan_amnt  funded_amnt  funded_amnt_inv  int_rate  \\\n",
              "0  1077501    1296599       5000         5000           4975.0     10.65   \n",
              "1  1077430    1314167       2500         2500           2500.0     15.27   \n",
              "2  1077175    1313524       2400         2400           2400.0     15.96   \n",
              "3  1076863    1277178      10000        10000          10000.0     13.49   \n",
              "4  1075358    1311748       3000         3000           3000.0     12.69   \n",
              "\n",
              "   installment  annual_inc    dti  delinq_2yrs  ...  application_type_index  \\\n",
              "0       162.87       24000  27.65            0  ...                     0.0   \n",
              "1        59.83       30000   1.00            0  ...                     0.0   \n",
              "2        84.33       12252   8.72            0  ...                     0.0   \n",
              "3       339.31       49200  20.00            0  ...                     0.0   \n",
              "4        67.79       80000  17.94            0  ...                     0.0   \n",
              "\n",
              "   acc_now_delinq_index  grade_index  purpose_index  home_ownership_index  \\\n",
              "0                   0.0          0.0            1.0                   1.0   \n",
              "1                   0.0          1.0            6.0                   1.0   \n",
              "2                   0.0          1.0            5.0                   1.0   \n",
              "3                   0.0          1.0            3.0                   1.0   \n",
              "4                   0.0          0.0            3.0                   1.0   \n",
              "\n",
              "   emp_length_index  verification_status_index  sub_grade_index  term_index  \\\n",
              "0               0.0                        1.0              5.0         0.0   \n",
              "1               2.0                        0.0              7.0         1.0   \n",
              "2               0.0                        2.0             10.0         0.0   \n",
              "3               0.0                        0.0              2.0         0.0   \n",
              "4               4.0                        0.0              6.0         1.0   \n",
              "\n",
              "   initial_list_status_index  \n",
              "0                        0.0  \n",
              "1                        0.0  \n",
              "2                        0.0  \n",
              "3                        0.0  \n",
              "4                        0.0  \n",
              "\n",
              "[5 rows x 43 columns]"
            ],
            "text/html": [
              "\n",
              "  <div id=\"df-d47d0922-aa57-466f-a036-e3fb29828d77\">\n",
              "    <div class=\"colab-df-container\">\n",
              "      <div>\n",
              "<style scoped>\n",
              "    .dataframe tbody tr th:only-of-type {\n",
              "        vertical-align: middle;\n",
              "    }\n",
              "\n",
              "    .dataframe tbody tr th {\n",
              "        vertical-align: top;\n",
              "    }\n",
              "\n",
              "    .dataframe thead th {\n",
              "        text-align: right;\n",
              "    }\n",
              "</style>\n",
              "<table border=\"1\" class=\"dataframe\">\n",
              "  <thead>\n",
              "    <tr style=\"text-align: right;\">\n",
              "      <th></th>\n",
              "      <th>id</th>\n",
              "      <th>member_id</th>\n",
              "      <th>loan_amnt</th>\n",
              "      <th>funded_amnt</th>\n",
              "      <th>funded_amnt_inv</th>\n",
              "      <th>int_rate</th>\n",
              "      <th>installment</th>\n",
              "      <th>annual_inc</th>\n",
              "      <th>dti</th>\n",
              "      <th>delinq_2yrs</th>\n",
              "      <th>...</th>\n",
              "      <th>application_type_index</th>\n",
              "      <th>acc_now_delinq_index</th>\n",
              "      <th>grade_index</th>\n",
              "      <th>purpose_index</th>\n",
              "      <th>home_ownership_index</th>\n",
              "      <th>emp_length_index</th>\n",
              "      <th>verification_status_index</th>\n",
              "      <th>sub_grade_index</th>\n",
              "      <th>term_index</th>\n",
              "      <th>initial_list_status_index</th>\n",
              "    </tr>\n",
              "  </thead>\n",
              "  <tbody>\n",
              "    <tr>\n",
              "      <th>0</th>\n",
              "      <td>1077501</td>\n",
              "      <td>1296599</td>\n",
              "      <td>5000</td>\n",
              "      <td>5000</td>\n",
              "      <td>4975.0</td>\n",
              "      <td>10.65</td>\n",
              "      <td>162.87</td>\n",
              "      <td>24000</td>\n",
              "      <td>27.65</td>\n",
              "      <td>0</td>\n",
              "      <td>...</td>\n",
              "      <td>0.0</td>\n",
              "      <td>0.0</td>\n",
              "      <td>0.0</td>\n",
              "      <td>1.0</td>\n",
              "      <td>1.0</td>\n",
              "      <td>0.0</td>\n",
              "      <td>1.0</td>\n",
              "      <td>5.0</td>\n",
              "      <td>0.0</td>\n",
              "      <td>0.0</td>\n",
              "    </tr>\n",
              "    <tr>\n",
              "      <th>1</th>\n",
              "      <td>1077430</td>\n",
              "      <td>1314167</td>\n",
              "      <td>2500</td>\n",
              "      <td>2500</td>\n",
              "      <td>2500.0</td>\n",
              "      <td>15.27</td>\n",
              "      <td>59.83</td>\n",
              "      <td>30000</td>\n",
              "      <td>1.00</td>\n",
              "      <td>0</td>\n",
              "      <td>...</td>\n",
              "      <td>0.0</td>\n",
              "      <td>0.0</td>\n",
              "      <td>1.0</td>\n",
              "      <td>6.0</td>\n",
              "      <td>1.0</td>\n",
              "      <td>2.0</td>\n",
              "      <td>0.0</td>\n",
              "      <td>7.0</td>\n",
              "      <td>1.0</td>\n",
              "      <td>0.0</td>\n",
              "    </tr>\n",
              "    <tr>\n",
              "      <th>2</th>\n",
              "      <td>1077175</td>\n",
              "      <td>1313524</td>\n",
              "      <td>2400</td>\n",
              "      <td>2400</td>\n",
              "      <td>2400.0</td>\n",
              "      <td>15.96</td>\n",
              "      <td>84.33</td>\n",
              "      <td>12252</td>\n",
              "      <td>8.72</td>\n",
              "      <td>0</td>\n",
              "      <td>...</td>\n",
              "      <td>0.0</td>\n",
              "      <td>0.0</td>\n",
              "      <td>1.0</td>\n",
              "      <td>5.0</td>\n",
              "      <td>1.0</td>\n",
              "      <td>0.0</td>\n",
              "      <td>2.0</td>\n",
              "      <td>10.0</td>\n",
              "      <td>0.0</td>\n",
              "      <td>0.0</td>\n",
              "    </tr>\n",
              "    <tr>\n",
              "      <th>3</th>\n",
              "      <td>1076863</td>\n",
              "      <td>1277178</td>\n",
              "      <td>10000</td>\n",
              "      <td>10000</td>\n",
              "      <td>10000.0</td>\n",
              "      <td>13.49</td>\n",
              "      <td>339.31</td>\n",
              "      <td>49200</td>\n",
              "      <td>20.00</td>\n",
              "      <td>0</td>\n",
              "      <td>...</td>\n",
              "      <td>0.0</td>\n",
              "      <td>0.0</td>\n",
              "      <td>1.0</td>\n",
              "      <td>3.0</td>\n",
              "      <td>1.0</td>\n",
              "      <td>0.0</td>\n",
              "      <td>0.0</td>\n",
              "      <td>2.0</td>\n",
              "      <td>0.0</td>\n",
              "      <td>0.0</td>\n",
              "    </tr>\n",
              "    <tr>\n",
              "      <th>4</th>\n",
              "      <td>1075358</td>\n",
              "      <td>1311748</td>\n",
              "      <td>3000</td>\n",
              "      <td>3000</td>\n",
              "      <td>3000.0</td>\n",
              "      <td>12.69</td>\n",
              "      <td>67.79</td>\n",
              "      <td>80000</td>\n",
              "      <td>17.94</td>\n",
              "      <td>0</td>\n",
              "      <td>...</td>\n",
              "      <td>0.0</td>\n",
              "      <td>0.0</td>\n",
              "      <td>0.0</td>\n",
              "      <td>3.0</td>\n",
              "      <td>1.0</td>\n",
              "      <td>4.0</td>\n",
              "      <td>0.0</td>\n",
              "      <td>6.0</td>\n",
              "      <td>1.0</td>\n",
              "      <td>0.0</td>\n",
              "    </tr>\n",
              "  </tbody>\n",
              "</table>\n",
              "<p>5 rows × 43 columns</p>\n",
              "</div>\n",
              "      <button class=\"colab-df-convert\" onclick=\"convertToInteractive('df-d47d0922-aa57-466f-a036-e3fb29828d77')\"\n",
              "              title=\"Convert this dataframe to an interactive table.\"\n",
              "              style=\"display:none;\">\n",
              "        \n",
              "  <svg xmlns=\"http://www.w3.org/2000/svg\" height=\"24px\"viewBox=\"0 0 24 24\"\n",
              "       width=\"24px\">\n",
              "    <path d=\"M0 0h24v24H0V0z\" fill=\"none\"/>\n",
              "    <path d=\"M18.56 5.44l.94 2.06.94-2.06 2.06-.94-2.06-.94-.94-2.06-.94 2.06-2.06.94zm-11 1L8.5 8.5l.94-2.06 2.06-.94-2.06-.94L8.5 2.5l-.94 2.06-2.06.94zm10 10l.94 2.06.94-2.06 2.06-.94-2.06-.94-.94-2.06-.94 2.06-2.06.94z\"/><path d=\"M17.41 7.96l-1.37-1.37c-.4-.4-.92-.59-1.43-.59-.52 0-1.04.2-1.43.59L10.3 9.45l-7.72 7.72c-.78.78-.78 2.05 0 2.83L4 21.41c.39.39.9.59 1.41.59.51 0 1.02-.2 1.41-.59l7.78-7.78 2.81-2.81c.8-.78.8-2.07 0-2.86zM5.41 20L4 18.59l7.72-7.72 1.47 1.35L5.41 20z\"/>\n",
              "  </svg>\n",
              "      </button>\n",
              "      \n",
              "  <style>\n",
              "    .colab-df-container {\n",
              "      display:flex;\n",
              "      flex-wrap:wrap;\n",
              "      gap: 12px;\n",
              "    }\n",
              "\n",
              "    .colab-df-convert {\n",
              "      background-color: #E8F0FE;\n",
              "      border: none;\n",
              "      border-radius: 50%;\n",
              "      cursor: pointer;\n",
              "      display: none;\n",
              "      fill: #1967D2;\n",
              "      height: 32px;\n",
              "      padding: 0 0 0 0;\n",
              "      width: 32px;\n",
              "    }\n",
              "\n",
              "    .colab-df-convert:hover {\n",
              "      background-color: #E2EBFA;\n",
              "      box-shadow: 0px 1px 2px rgba(60, 64, 67, 0.3), 0px 1px 3px 1px rgba(60, 64, 67, 0.15);\n",
              "      fill: #174EA6;\n",
              "    }\n",
              "\n",
              "    [theme=dark] .colab-df-convert {\n",
              "      background-color: #3B4455;\n",
              "      fill: #D2E3FC;\n",
              "    }\n",
              "\n",
              "    [theme=dark] .colab-df-convert:hover {\n",
              "      background-color: #434B5C;\n",
              "      box-shadow: 0px 1px 3px 1px rgba(0, 0, 0, 0.15);\n",
              "      filter: drop-shadow(0px 1px 2px rgba(0, 0, 0, 0.3));\n",
              "      fill: #FFFFFF;\n",
              "    }\n",
              "  </style>\n",
              "\n",
              "      <script>\n",
              "        const buttonEl =\n",
              "          document.querySelector('#df-d47d0922-aa57-466f-a036-e3fb29828d77 button.colab-df-convert');\n",
              "        buttonEl.style.display =\n",
              "          google.colab.kernel.accessAllowed ? 'block' : 'none';\n",
              "\n",
              "        async function convertToInteractive(key) {\n",
              "          const element = document.querySelector('#df-d47d0922-aa57-466f-a036-e3fb29828d77');\n",
              "          const dataTable =\n",
              "            await google.colab.kernel.invokeFunction('convertToInteractive',\n",
              "                                                     [key], {});\n",
              "          if (!dataTable) return;\n",
              "\n",
              "          const docLinkHtml = 'Like what you see? Visit the ' +\n",
              "            '<a target=\"_blank\" href=https://colab.research.google.com/notebooks/data_table.ipynb>data table notebook</a>'\n",
              "            + ' to learn more about interactive tables.';\n",
              "          element.innerHTML = '';\n",
              "          dataTable['output_type'] = 'display_data';\n",
              "          await google.colab.output.renderOutput(dataTable, element);\n",
              "          const docLink = document.createElement('div');\n",
              "          docLink.innerHTML = docLinkHtml;\n",
              "          element.appendChild(docLink);\n",
              "        }\n",
              "      </script>\n",
              "    </div>\n",
              "  </div>\n",
              "  "
            ]
          },
          "metadata": {},
          "execution_count": 6
        }
      ]
    },
    {
      "cell_type": "code",
      "source": [
        "#Re-arrange the dataset\n",
        "data_reordered = mydata[[\"id\",\"member_id\",\"loan_amnt\",\"funded_amnt\",\"funded_amnt_inv\",\"int_rate\",\"installment\",\"annual_inc\",\n",
        "                             \"dti\",\"delinq_2yrs\",\"inq_last_6mths\",\"open_acc\",\"pub_rec\",\"revol_bal\",\"total_acc\",\"out_prncp\",\"out_prncp_inv\",\n",
        "                             \"total_pymnt\",\"total_pymnt_inv\",\"total_rec_prncp\",\"total_rec_int\",\"total_rec_late_fee\",\"recoveries\",\n",
        "                             \"collection_recovery_fee\",\"revol_util_imputed\",\"last_pymnt_amnt_imputed\",\"collections_12_mths_ex_med_imputed\",\n",
        "                             \"policy_code_imputed\",\"tot_coll_amt_imputed\",\"tot_cur_bal_imputed\",\"total_rev_hi_lim_imputed\",\"pymnt_plan_index\",\n",
        "                             \"application_type_index\",\"acc_now_delinq_index\",\"grade_index\",\"purpose_index\",\"home_ownership_index\",\n",
        "                             \"emp_length_index\",\"verification_status_index\",\"sub_grade_index\",\"term_index\",\"initial_list_status_index\", \"default_ind\"]]\n",
        "data_reordered.head()"
      ],
      "metadata": {
        "id": "r0KsdnajLwCQ",
        "colab": {
          "base_uri": "https://localhost:8080/",
          "height": 300
        },
        "outputId": "6d93e816-048d-4866-fa57-87ddab95e85b"
      },
      "execution_count": 7,
      "outputs": [
        {
          "output_type": "execute_result",
          "data": {
            "text/plain": [
              "        id  member_id  loan_amnt  funded_amnt  funded_amnt_inv  int_rate  \\\n",
              "0  1077501    1296599       5000         5000           4975.0     10.65   \n",
              "1  1077430    1314167       2500         2500           2500.0     15.27   \n",
              "2  1077175    1313524       2400         2400           2400.0     15.96   \n",
              "3  1076863    1277178      10000        10000          10000.0     13.49   \n",
              "4  1075358    1311748       3000         3000           3000.0     12.69   \n",
              "\n",
              "   installment  annual_inc    dti  delinq_2yrs  ...  acc_now_delinq_index  \\\n",
              "0       162.87       24000  27.65            0  ...                   0.0   \n",
              "1        59.83       30000   1.00            0  ...                   0.0   \n",
              "2        84.33       12252   8.72            0  ...                   0.0   \n",
              "3       339.31       49200  20.00            0  ...                   0.0   \n",
              "4        67.79       80000  17.94            0  ...                   0.0   \n",
              "\n",
              "   grade_index  purpose_index  home_ownership_index  emp_length_index  \\\n",
              "0          0.0            1.0                   1.0               0.0   \n",
              "1          1.0            6.0                   1.0               2.0   \n",
              "2          1.0            5.0                   1.0               0.0   \n",
              "3          1.0            3.0                   1.0               0.0   \n",
              "4          0.0            3.0                   1.0               4.0   \n",
              "\n",
              "   verification_status_index  sub_grade_index  term_index  \\\n",
              "0                        1.0              5.0         0.0   \n",
              "1                        0.0              7.0         1.0   \n",
              "2                        2.0             10.0         0.0   \n",
              "3                        0.0              2.0         0.0   \n",
              "4                        0.0              6.0         1.0   \n",
              "\n",
              "   initial_list_status_index  default_ind  \n",
              "0                        0.0            0  \n",
              "1                        0.0            1  \n",
              "2                        0.0            0  \n",
              "3                        0.0            0  \n",
              "4                        0.0            0  \n",
              "\n",
              "[5 rows x 43 columns]"
            ],
            "text/html": [
              "\n",
              "  <div id=\"df-09d17b66-5c37-433e-83d8-3753e873d26d\">\n",
              "    <div class=\"colab-df-container\">\n",
              "      <div>\n",
              "<style scoped>\n",
              "    .dataframe tbody tr th:only-of-type {\n",
              "        vertical-align: middle;\n",
              "    }\n",
              "\n",
              "    .dataframe tbody tr th {\n",
              "        vertical-align: top;\n",
              "    }\n",
              "\n",
              "    .dataframe thead th {\n",
              "        text-align: right;\n",
              "    }\n",
              "</style>\n",
              "<table border=\"1\" class=\"dataframe\">\n",
              "  <thead>\n",
              "    <tr style=\"text-align: right;\">\n",
              "      <th></th>\n",
              "      <th>id</th>\n",
              "      <th>member_id</th>\n",
              "      <th>loan_amnt</th>\n",
              "      <th>funded_amnt</th>\n",
              "      <th>funded_amnt_inv</th>\n",
              "      <th>int_rate</th>\n",
              "      <th>installment</th>\n",
              "      <th>annual_inc</th>\n",
              "      <th>dti</th>\n",
              "      <th>delinq_2yrs</th>\n",
              "      <th>...</th>\n",
              "      <th>acc_now_delinq_index</th>\n",
              "      <th>grade_index</th>\n",
              "      <th>purpose_index</th>\n",
              "      <th>home_ownership_index</th>\n",
              "      <th>emp_length_index</th>\n",
              "      <th>verification_status_index</th>\n",
              "      <th>sub_grade_index</th>\n",
              "      <th>term_index</th>\n",
              "      <th>initial_list_status_index</th>\n",
              "      <th>default_ind</th>\n",
              "    </tr>\n",
              "  </thead>\n",
              "  <tbody>\n",
              "    <tr>\n",
              "      <th>0</th>\n",
              "      <td>1077501</td>\n",
              "      <td>1296599</td>\n",
              "      <td>5000</td>\n",
              "      <td>5000</td>\n",
              "      <td>4975.0</td>\n",
              "      <td>10.65</td>\n",
              "      <td>162.87</td>\n",
              "      <td>24000</td>\n",
              "      <td>27.65</td>\n",
              "      <td>0</td>\n",
              "      <td>...</td>\n",
              "      <td>0.0</td>\n",
              "      <td>0.0</td>\n",
              "      <td>1.0</td>\n",
              "      <td>1.0</td>\n",
              "      <td>0.0</td>\n",
              "      <td>1.0</td>\n",
              "      <td>5.0</td>\n",
              "      <td>0.0</td>\n",
              "      <td>0.0</td>\n",
              "      <td>0</td>\n",
              "    </tr>\n",
              "    <tr>\n",
              "      <th>1</th>\n",
              "      <td>1077430</td>\n",
              "      <td>1314167</td>\n",
              "      <td>2500</td>\n",
              "      <td>2500</td>\n",
              "      <td>2500.0</td>\n",
              "      <td>15.27</td>\n",
              "      <td>59.83</td>\n",
              "      <td>30000</td>\n",
              "      <td>1.00</td>\n",
              "      <td>0</td>\n",
              "      <td>...</td>\n",
              "      <td>0.0</td>\n",
              "      <td>1.0</td>\n",
              "      <td>6.0</td>\n",
              "      <td>1.0</td>\n",
              "      <td>2.0</td>\n",
              "      <td>0.0</td>\n",
              "      <td>7.0</td>\n",
              "      <td>1.0</td>\n",
              "      <td>0.0</td>\n",
              "      <td>1</td>\n",
              "    </tr>\n",
              "    <tr>\n",
              "      <th>2</th>\n",
              "      <td>1077175</td>\n",
              "      <td>1313524</td>\n",
              "      <td>2400</td>\n",
              "      <td>2400</td>\n",
              "      <td>2400.0</td>\n",
              "      <td>15.96</td>\n",
              "      <td>84.33</td>\n",
              "      <td>12252</td>\n",
              "      <td>8.72</td>\n",
              "      <td>0</td>\n",
              "      <td>...</td>\n",
              "      <td>0.0</td>\n",
              "      <td>1.0</td>\n",
              "      <td>5.0</td>\n",
              "      <td>1.0</td>\n",
              "      <td>0.0</td>\n",
              "      <td>2.0</td>\n",
              "      <td>10.0</td>\n",
              "      <td>0.0</td>\n",
              "      <td>0.0</td>\n",
              "      <td>0</td>\n",
              "    </tr>\n",
              "    <tr>\n",
              "      <th>3</th>\n",
              "      <td>1076863</td>\n",
              "      <td>1277178</td>\n",
              "      <td>10000</td>\n",
              "      <td>10000</td>\n",
              "      <td>10000.0</td>\n",
              "      <td>13.49</td>\n",
              "      <td>339.31</td>\n",
              "      <td>49200</td>\n",
              "      <td>20.00</td>\n",
              "      <td>0</td>\n",
              "      <td>...</td>\n",
              "      <td>0.0</td>\n",
              "      <td>1.0</td>\n",
              "      <td>3.0</td>\n",
              "      <td>1.0</td>\n",
              "      <td>0.0</td>\n",
              "      <td>0.0</td>\n",
              "      <td>2.0</td>\n",
              "      <td>0.0</td>\n",
              "      <td>0.0</td>\n",
              "      <td>0</td>\n",
              "    </tr>\n",
              "    <tr>\n",
              "      <th>4</th>\n",
              "      <td>1075358</td>\n",
              "      <td>1311748</td>\n",
              "      <td>3000</td>\n",
              "      <td>3000</td>\n",
              "      <td>3000.0</td>\n",
              "      <td>12.69</td>\n",
              "      <td>67.79</td>\n",
              "      <td>80000</td>\n",
              "      <td>17.94</td>\n",
              "      <td>0</td>\n",
              "      <td>...</td>\n",
              "      <td>0.0</td>\n",
              "      <td>0.0</td>\n",
              "      <td>3.0</td>\n",
              "      <td>1.0</td>\n",
              "      <td>4.0</td>\n",
              "      <td>0.0</td>\n",
              "      <td>6.0</td>\n",
              "      <td>1.0</td>\n",
              "      <td>0.0</td>\n",
              "      <td>0</td>\n",
              "    </tr>\n",
              "  </tbody>\n",
              "</table>\n",
              "<p>5 rows × 43 columns</p>\n",
              "</div>\n",
              "      <button class=\"colab-df-convert\" onclick=\"convertToInteractive('df-09d17b66-5c37-433e-83d8-3753e873d26d')\"\n",
              "              title=\"Convert this dataframe to an interactive table.\"\n",
              "              style=\"display:none;\">\n",
              "        \n",
              "  <svg xmlns=\"http://www.w3.org/2000/svg\" height=\"24px\"viewBox=\"0 0 24 24\"\n",
              "       width=\"24px\">\n",
              "    <path d=\"M0 0h24v24H0V0z\" fill=\"none\"/>\n",
              "    <path d=\"M18.56 5.44l.94 2.06.94-2.06 2.06-.94-2.06-.94-.94-2.06-.94 2.06-2.06.94zm-11 1L8.5 8.5l.94-2.06 2.06-.94-2.06-.94L8.5 2.5l-.94 2.06-2.06.94zm10 10l.94 2.06.94-2.06 2.06-.94-2.06-.94-.94-2.06-.94 2.06-2.06.94z\"/><path d=\"M17.41 7.96l-1.37-1.37c-.4-.4-.92-.59-1.43-.59-.52 0-1.04.2-1.43.59L10.3 9.45l-7.72 7.72c-.78.78-.78 2.05 0 2.83L4 21.41c.39.39.9.59 1.41.59.51 0 1.02-.2 1.41-.59l7.78-7.78 2.81-2.81c.8-.78.8-2.07 0-2.86zM5.41 20L4 18.59l7.72-7.72 1.47 1.35L5.41 20z\"/>\n",
              "  </svg>\n",
              "      </button>\n",
              "      \n",
              "  <style>\n",
              "    .colab-df-container {\n",
              "      display:flex;\n",
              "      flex-wrap:wrap;\n",
              "      gap: 12px;\n",
              "    }\n",
              "\n",
              "    .colab-df-convert {\n",
              "      background-color: #E8F0FE;\n",
              "      border: none;\n",
              "      border-radius: 50%;\n",
              "      cursor: pointer;\n",
              "      display: none;\n",
              "      fill: #1967D2;\n",
              "      height: 32px;\n",
              "      padding: 0 0 0 0;\n",
              "      width: 32px;\n",
              "    }\n",
              "\n",
              "    .colab-df-convert:hover {\n",
              "      background-color: #E2EBFA;\n",
              "      box-shadow: 0px 1px 2px rgba(60, 64, 67, 0.3), 0px 1px 3px 1px rgba(60, 64, 67, 0.15);\n",
              "      fill: #174EA6;\n",
              "    }\n",
              "\n",
              "    [theme=dark] .colab-df-convert {\n",
              "      background-color: #3B4455;\n",
              "      fill: #D2E3FC;\n",
              "    }\n",
              "\n",
              "    [theme=dark] .colab-df-convert:hover {\n",
              "      background-color: #434B5C;\n",
              "      box-shadow: 0px 1px 3px 1px rgba(0, 0, 0, 0.15);\n",
              "      filter: drop-shadow(0px 1px 2px rgba(0, 0, 0, 0.3));\n",
              "      fill: #FFFFFF;\n",
              "    }\n",
              "  </style>\n",
              "\n",
              "      <script>\n",
              "        const buttonEl =\n",
              "          document.querySelector('#df-09d17b66-5c37-433e-83d8-3753e873d26d button.colab-df-convert');\n",
              "        buttonEl.style.display =\n",
              "          google.colab.kernel.accessAllowed ? 'block' : 'none';\n",
              "\n",
              "        async function convertToInteractive(key) {\n",
              "          const element = document.querySelector('#df-09d17b66-5c37-433e-83d8-3753e873d26d');\n",
              "          const dataTable =\n",
              "            await google.colab.kernel.invokeFunction('convertToInteractive',\n",
              "                                                     [key], {});\n",
              "          if (!dataTable) return;\n",
              "\n",
              "          const docLinkHtml = 'Like what you see? Visit the ' +\n",
              "            '<a target=\"_blank\" href=https://colab.research.google.com/notebooks/data_table.ipynb>data table notebook</a>'\n",
              "            + ' to learn more about interactive tables.';\n",
              "          element.innerHTML = '';\n",
              "          dataTable['output_type'] = 'display_data';\n",
              "          await google.colab.output.renderOutput(dataTable, element);\n",
              "          const docLink = document.createElement('div');\n",
              "          docLink.innerHTML = docLinkHtml;\n",
              "          element.appendChild(docLink);\n",
              "        }\n",
              "      </script>\n",
              "    </div>\n",
              "  </div>\n",
              "  "
            ]
          },
          "metadata": {},
          "execution_count": 7
        }
      ]
    },
    {
      "cell_type": "code",
      "source": [
        "data_reordered.info()"
      ],
      "metadata": {
        "id": "OntCASxRBa5l",
        "colab": {
          "base_uri": "https://localhost:8080/"
        },
        "outputId": "ce735e96-3464-43df-a992-804beaff7520"
      },
      "execution_count": 8,
      "outputs": [
        {
          "output_type": "stream",
          "name": "stdout",
          "text": [
            "<class 'pandas.core.frame.DataFrame'>\n",
            "RangeIndex: 855743 entries, 0 to 855742\n",
            "Data columns (total 43 columns):\n",
            " #   Column                              Non-Null Count   Dtype  \n",
            "---  ------                              --------------   -----  \n",
            " 0   id                                  855743 non-null  int64  \n",
            " 1   member_id                           855743 non-null  int64  \n",
            " 2   loan_amnt                           855743 non-null  int64  \n",
            " 3   funded_amnt                         855743 non-null  int64  \n",
            " 4   funded_amnt_inv                     855743 non-null  float64\n",
            " 5   int_rate                            855743 non-null  float64\n",
            " 6   installment                         855743 non-null  float64\n",
            " 7   annual_inc                          855743 non-null  int64  \n",
            " 8   dti                                 855743 non-null  float64\n",
            " 9   delinq_2yrs                         855743 non-null  int64  \n",
            " 10  inq_last_6mths                      855743 non-null  int64  \n",
            " 11  open_acc                            855743 non-null  int64  \n",
            " 12  pub_rec                             855743 non-null  int64  \n",
            " 13  revol_bal                           855743 non-null  int64  \n",
            " 14  total_acc                           855743 non-null  int64  \n",
            " 15  out_prncp                           855743 non-null  float64\n",
            " 16  out_prncp_inv                       855743 non-null  float64\n",
            " 17  total_pymnt                         855743 non-null  float64\n",
            " 18  total_pymnt_inv                     855743 non-null  float64\n",
            " 19  total_rec_prncp                     855743 non-null  float64\n",
            " 20  total_rec_int                       855743 non-null  float64\n",
            " 21  total_rec_late_fee                  855743 non-null  float64\n",
            " 22  recoveries                          855743 non-null  float64\n",
            " 23  collection_recovery_fee             855743 non-null  float64\n",
            " 24  revol_util_imputed                  855743 non-null  float64\n",
            " 25  last_pymnt_amnt_imputed             855743 non-null  float64\n",
            " 26  collections_12_mths_ex_med_imputed  855743 non-null  int64  \n",
            " 27  policy_code_imputed                 855743 non-null  int64  \n",
            " 28  tot_coll_amt_imputed                855743 non-null  int64  \n",
            " 29  tot_cur_bal_imputed                 855743 non-null  int64  \n",
            " 30  total_rev_hi_lim_imputed            855743 non-null  int64  \n",
            " 31  pymnt_plan_index                    855743 non-null  float64\n",
            " 32  application_type_index              855743 non-null  float64\n",
            " 33  acc_now_delinq_index                855743 non-null  float64\n",
            " 34  grade_index                         855743 non-null  float64\n",
            " 35  purpose_index                       855743 non-null  float64\n",
            " 36  home_ownership_index                855743 non-null  float64\n",
            " 37  emp_length_index                    855743 non-null  float64\n",
            " 38  verification_status_index           855743 non-null  float64\n",
            " 39  sub_grade_index                     855743 non-null  float64\n",
            " 40  term_index                          855743 non-null  float64\n",
            " 41  initial_list_status_index           855743 non-null  float64\n",
            " 42  default_ind                         855743 non-null  int64  \n",
            "dtypes: float64(26), int64(17)\n",
            "memory usage: 280.7 MB\n"
          ]
        }
      ]
    },
    {
      "cell_type": "code",
      "source": [
        "data_reordered.shape"
      ],
      "metadata": {
        "id": "EIOvMoBXMCiK",
        "colab": {
          "base_uri": "https://localhost:8080/"
        },
        "outputId": "85d0efa1-b166-4c9f-fa99-991d79d79feb"
      },
      "execution_count": 9,
      "outputs": [
        {
          "output_type": "execute_result",
          "data": {
            "text/plain": [
              "(855743, 43)"
            ]
          },
          "metadata": {},
          "execution_count": 9
        }
      ]
    },
    {
      "cell_type": "code",
      "source": [
        "# get the features \n",
        "X = data_reordered.iloc[:,0:42]"
      ],
      "metadata": {
        "id": "E-v-9cfGLzVh"
      },
      "execution_count": 10,
      "outputs": []
    },
    {
      "cell_type": "code",
      "source": [
        "#get only the last coloumn which is default_ind, the coloumn which we want to predict \n",
        "Y = data_reordered.iloc[:,-1]"
      ],
      "metadata": {
        "id": "LEu4hJONL2Iq"
      },
      "execution_count": 11,
      "outputs": []
    },
    {
      "cell_type": "code",
      "source": [
        "Y"
      ],
      "metadata": {
        "id": "K1nInTrLL4Dh",
        "colab": {
          "base_uri": "https://localhost:8080/"
        },
        "outputId": "05a9da98-96f8-44b5-8daf-8ac0e27babc2"
      },
      "execution_count": 12,
      "outputs": [
        {
          "output_type": "execute_result",
          "data": {
            "text/plain": [
              "0         0\n",
              "1         1\n",
              "2         0\n",
              "3         0\n",
              "4         0\n",
              "         ..\n",
              "855738    0\n",
              "855739    0\n",
              "855740    0\n",
              "855741    0\n",
              "855742    0\n",
              "Name: default_ind, Length: 855743, dtype: int64"
            ]
          },
          "metadata": {},
          "execution_count": 12
        }
      ]
    },
    {
      "cell_type": "code",
      "source": [
        "#(1) Randomly separate the data into two subsets: ~70% for training and ~30% for test\n",
        "x_train, x_test, y_train, y_test = train_test_split( X, Y, test_size=0.3, random_state=42)"
      ],
      "metadata": {
        "id": "AEXZOdQPMG2q"
      },
      "execution_count": 13,
      "outputs": []
    },
    {
      "cell_type": "code",
      "source": [
        "#Create the validation data \n",
        "x_train, x_validation, y_train, y_validation = train_test_split(x_train, y_train, test_size=0.3, random_state = 25)"
      ],
      "metadata": {
        "id": "1HCyDNIWMRHd"
      },
      "execution_count": 14,
      "outputs": []
    },
    {
      "cell_type": "code",
      "source": [
        "#Create a Feedforward Neural Network\n",
        "model = keras.models.Sequential()\n",
        " \n",
        "model.add(keras.layers.InputLayer(input_shape=[42,]))\n",
        "model.add(keras.layers.Dense(50, activation=\"relu\", kernel_regularizer=keras.regularizers.L1L2(l1=0.001, l2 = 0.001)))\n",
        "model.add(keras.layers.Dense(50, activation=\"relu\"))\n",
        "# model.add(keras.layers.Dense(40, activation=\"tanh\"))\n",
        "# model.add(keras.layers.Dense(40, activation=\"tanh\"))\n",
        "#this is the output layer\n",
        "#softmax is used because it can calculate the distribution of probabilities\n",
        "model.add(keras.layers.Dense(2, activation=\"softmax\"))"
      ],
      "metadata": {
        "id": "sJq3guqYMVm3"
      },
      "execution_count": 15,
      "outputs": []
    },
    {
      "cell_type": "code",
      "source": [
        "model.summary()"
      ],
      "metadata": {
        "id": "1ggjQ0D1ZSvg",
        "colab": {
          "base_uri": "https://localhost:8080/"
        },
        "outputId": "304e01ef-0134-4848-bca5-9ff4f00c436a"
      },
      "execution_count": 16,
      "outputs": [
        {
          "output_type": "stream",
          "name": "stdout",
          "text": [
            "Model: \"sequential\"\n",
            "_________________________________________________________________\n",
            " Layer (type)                Output Shape              Param #   \n",
            "=================================================================\n",
            " dense (Dense)               (None, 50)                2150      \n",
            "                                                                 \n",
            " dense_1 (Dense)             (None, 50)                2550      \n",
            "                                                                 \n",
            " dense_2 (Dense)             (None, 2)                 102       \n",
            "                                                                 \n",
            "=================================================================\n",
            "Total params: 4,802\n",
            "Trainable params: 4,802\n",
            "Non-trainable params: 0\n",
            "_________________________________________________________________\n"
          ]
        }
      ]
    },
    {
      "cell_type": "code",
      "source": [
        "model.layers"
      ],
      "metadata": {
        "id": "nwm2OTv0ZY-0",
        "colab": {
          "base_uri": "https://localhost:8080/"
        },
        "outputId": "092d89c1-f1c2-4342-878e-45deea25d624"
      },
      "execution_count": 17,
      "outputs": [
        {
          "output_type": "execute_result",
          "data": {
            "text/plain": [
              "[<keras.layers.core.dense.Dense at 0x7ff8a5113a50>,\n",
              " <keras.layers.core.dense.Dense at 0x7ff8a518af50>,\n",
              " <keras.layers.core.dense.Dense at 0x7ff8a518a790>]"
            ]
          },
          "metadata": {},
          "execution_count": 17
        }
      ]
    },
    {
      "cell_type": "code",
      "source": [
        "#compile the model \n",
        "sgd = keras.optimizers.SGD(lr=0.01, clipnorm=1.)\n",
        "model.compile(loss=\"sparse_categorical_crossentropy\",\n",
        "#use the gradient descent as the optimizer (change the weight and learning rate to reduce loss)\n",
        "#set the learning rates\n",
        " optimizer= sgd,\n",
        "#metrics to calculate the performance of the model during training and validation\n",
        " metrics=[\"accuracy\"])"
      ],
      "metadata": {
        "id": "sVGeflS5ZbmZ",
        "colab": {
          "base_uri": "https://localhost:8080/"
        },
        "outputId": "71b8120f-4154-483e-e8d8-4035abf7e0c4"
      },
      "execution_count": 18,
      "outputs": [
        {
          "output_type": "stream",
          "name": "stderr",
          "text": [
            "/usr/local/lib/python3.7/dist-packages/keras/optimizers/optimizer_v2/gradient_descent.py:108: UserWarning: The `lr` argument is deprecated, use `learning_rate` instead.\n",
            "  super(SGD, self).__init__(name, **kwargs)\n"
          ]
        }
      ]
    },
    {
      "cell_type": "code",
      "source": [
        "X.isnull().values.any()"
      ],
      "metadata": {
        "id": "xm09DuyyZlmW",
        "colab": {
          "base_uri": "https://localhost:8080/"
        },
        "outputId": "41441160-b5f1-468b-af1f-c2bf4cfc1f83"
      },
      "execution_count": 19,
      "outputs": [
        {
          "output_type": "execute_result",
          "data": {
            "text/plain": [
              "False"
            ]
          },
          "metadata": {},
          "execution_count": 19
        }
      ]
    },
    {
      "cell_type": "code",
      "source": [
        "#try to fit the training model into the model. \n",
        "n_epochs = 130\n",
        "history_validation = model.fit(x_train, y_train, validation_data=(x_validation, y_validation), epochs=n_epochs)"
      ],
      "metadata": {
        "id": "ZnqksBpaZpc9",
        "colab": {
          "base_uri": "https://localhost:8080/"
        },
        "outputId": "ac342c12-56b3-43e4-bff7-f1c583625d97"
      },
      "execution_count": 20,
      "outputs": [
        {
          "output_type": "stream",
          "name": "stdout",
          "text": [
            "Epoch 1/130\n",
            "13104/13104 [==============================] - 21s 2ms/step - loss: 23627.6406 - accuracy: 0.8641 - val_loss: 0.3574 - val_accuracy: 0.9460\n",
            "Epoch 2/130\n",
            "13104/13104 [==============================] - 20s 1ms/step - loss: 183.0632 - accuracy: 0.9357 - val_loss: 0.2107 - val_accuracy: 0.9462\n",
            "Epoch 3/130\n",
            "13104/13104 [==============================] - 20s 1ms/step - loss: 260.4897 - accuracy: 0.9221 - val_loss: 0.3014 - val_accuracy: 0.9462\n",
            "Epoch 4/130\n",
            "13104/13104 [==============================] - 20s 1ms/step - loss: 294.0093 - accuracy: 0.9229 - val_loss: 0.2102 - val_accuracy: 0.9462\n",
            "Epoch 5/130\n",
            "13104/13104 [==============================] - 20s 1ms/step - loss: 283.2943 - accuracy: 0.9242 - val_loss: 0.2102 - val_accuracy: 0.9462\n",
            "Epoch 6/130\n",
            "13104/13104 [==============================] - 19s 1ms/step - loss: 353.7911 - accuracy: 0.9225 - val_loss: 0.2100 - val_accuracy: 0.9462\n",
            "Epoch 7/130\n",
            "13104/13104 [==============================] - 19s 1ms/step - loss: 299.7356 - accuracy: 0.9266 - val_loss: 0.2119 - val_accuracy: 0.9462\n",
            "Epoch 8/130\n",
            "13104/13104 [==============================] - 20s 2ms/step - loss: 448.3373 - accuracy: 0.9226 - val_loss: 0.2100 - val_accuracy: 0.9462\n",
            "Epoch 9/130\n",
            "13104/13104 [==============================] - 18s 1ms/step - loss: 460.3969 - accuracy: 0.9231 - val_loss: 0.2130 - val_accuracy: 0.9462\n",
            "Epoch 10/130\n",
            "13104/13104 [==============================] - 18s 1ms/step - loss: 491.2823 - accuracy: 0.9246 - val_loss: 0.2123 - val_accuracy: 0.9461\n",
            "Epoch 11/130\n",
            "13104/13104 [==============================] - 18s 1ms/step - loss: 593.9669 - accuracy: 0.9225 - val_loss: 0.7926 - val_accuracy: 0.9437\n",
            "Epoch 12/130\n",
            "13104/13104 [==============================] - 18s 1ms/step - loss: 655.6214 - accuracy: 0.9212 - val_loss: 0.2105 - val_accuracy: 0.9462\n",
            "Epoch 13/130\n",
            "13104/13104 [==============================] - 18s 1ms/step - loss: 701.5768 - accuracy: 0.9214 - val_loss: 0.2129 - val_accuracy: 0.9461\n",
            "Epoch 14/130\n",
            "13104/13104 [==============================] - 19s 1ms/step - loss: 799.1111 - accuracy: 0.9222 - val_loss: 0.2104 - val_accuracy: 0.9462\n",
            "Epoch 15/130\n",
            "13104/13104 [==============================] - 20s 2ms/step - loss: 745.1970 - accuracy: 0.9217 - val_loss: 0.2212 - val_accuracy: 0.9462\n",
            "Epoch 16/130\n",
            "13104/13104 [==============================] - 18s 1ms/step - loss: 801.7708 - accuracy: 0.9217 - val_loss: 0.2145 - val_accuracy: 0.9462\n",
            "Epoch 17/130\n",
            "13104/13104 [==============================] - 20s 1ms/step - loss: 863.5320 - accuracy: 0.9218 - val_loss: 0.2143 - val_accuracy: 0.9462\n",
            "Epoch 18/130\n",
            "13104/13104 [==============================] - 20s 2ms/step - loss: 790.2962 - accuracy: 0.9210 - val_loss: 0.2099 - val_accuracy: 0.9462\n",
            "Epoch 19/130\n",
            "13104/13104 [==============================] - 19s 1ms/step - loss: 731.6842 - accuracy: 0.9228 - val_loss: 0.2136 - val_accuracy: 0.9462\n",
            "Epoch 20/130\n",
            "13104/13104 [==============================] - 19s 1ms/step - loss: 764.4133 - accuracy: 0.9230 - val_loss: 0.2239 - val_accuracy: 0.9462\n",
            "Epoch 21/130\n",
            "13104/13104 [==============================] - 19s 1ms/step - loss: 810.4576 - accuracy: 0.9217 - val_loss: 0.2138 - val_accuracy: 0.9462\n",
            "Epoch 22/130\n",
            "13104/13104 [==============================] - 19s 1ms/step - loss: 786.2213 - accuracy: 0.9215 - val_loss: 0.2126 - val_accuracy: 0.9459\n",
            "Epoch 23/130\n",
            "13104/13104 [==============================] - 19s 1ms/step - loss: 784.6196 - accuracy: 0.9202 - val_loss: 0.2202 - val_accuracy: 0.9462\n",
            "Epoch 24/130\n",
            "13104/13104 [==============================] - 20s 2ms/step - loss: 893.7554 - accuracy: 0.9223 - val_loss: 0.2104 - val_accuracy: 0.9462\n",
            "Epoch 25/130\n",
            "13104/13104 [==============================] - 18s 1ms/step - loss: 985.2667 - accuracy: 0.9183 - val_loss: 0.2100 - val_accuracy: 0.9462\n",
            "Epoch 26/130\n",
            "13104/13104 [==============================] - 20s 2ms/step - loss: 872.5107 - accuracy: 0.9219 - val_loss: 0.2273 - val_accuracy: 0.9453\n",
            "Epoch 27/130\n",
            "13104/13104 [==============================] - 20s 2ms/step - loss: 677.8276 - accuracy: 0.9212 - val_loss: 0.2100 - val_accuracy: 0.9462\n",
            "Epoch 28/130\n",
            "13104/13104 [==============================] - 19s 1ms/step - loss: 906.3434 - accuracy: 0.9193 - val_loss: 0.2638 - val_accuracy: 0.9462\n",
            "Epoch 29/130\n",
            "13104/13104 [==============================] - 19s 1ms/step - loss: 904.4133 - accuracy: 0.9202 - val_loss: 0.2181 - val_accuracy: 0.9462\n",
            "Epoch 30/130\n",
            "13104/13104 [==============================] - 19s 1ms/step - loss: 673.5808 - accuracy: 0.9213 - val_loss: 0.2101 - val_accuracy: 0.9462\n",
            "Epoch 31/130\n",
            "13104/13104 [==============================] - 20s 2ms/step - loss: 946.8060 - accuracy: 0.9200 - val_loss: 0.2725 - val_accuracy: 0.9462\n",
            "Epoch 32/130\n",
            "13104/13104 [==============================] - 20s 1ms/step - loss: 892.2624 - accuracy: 0.9214 - val_loss: 0.2165 - val_accuracy: 0.9462\n",
            "Epoch 33/130\n",
            "13104/13104 [==============================] - 20s 1ms/step - loss: 665.6375 - accuracy: 0.9217 - val_loss: 0.2267 - val_accuracy: 0.9462\n",
            "Epoch 34/130\n",
            "13104/13104 [==============================] - 20s 2ms/step - loss: 808.1474 - accuracy: 0.9202 - val_loss: 0.2119 - val_accuracy: 0.9462\n",
            "Epoch 35/130\n",
            "13104/13104 [==============================] - 20s 1ms/step - loss: 785.0732 - accuracy: 0.9200 - val_loss: 0.4089 - val_accuracy: 0.9450\n",
            "Epoch 36/130\n",
            "13104/13104 [==============================] - 20s 1ms/step - loss: 821.2197 - accuracy: 0.9205 - val_loss: 0.3085 - val_accuracy: 0.9462\n",
            "Epoch 37/130\n",
            "13104/13104 [==============================] - 20s 1ms/step - loss: 639.2641 - accuracy: 0.9216 - val_loss: 8.2437 - val_accuracy: 0.9462\n",
            "Epoch 38/130\n",
            "13104/13104 [==============================] - 21s 2ms/step - loss: 613.1694 - accuracy: 0.9202 - val_loss: 0.2189 - val_accuracy: 0.9462\n",
            "Epoch 39/130\n",
            "13104/13104 [==============================] - 19s 1ms/step - loss: 675.8033 - accuracy: 0.9211 - val_loss: 0.2124 - val_accuracy: 0.9461\n",
            "Epoch 40/130\n",
            "13104/13104 [==============================] - 20s 2ms/step - loss: 771.9125 - accuracy: 0.9199 - val_loss: 0.3258 - val_accuracy: 0.9462\n",
            "Epoch 41/130\n",
            "13104/13104 [==============================] - 19s 1ms/step - loss: 496.8107 - accuracy: 0.9191 - val_loss: 0.2354 - val_accuracy: 0.9462\n",
            "Epoch 42/130\n",
            "13104/13104 [==============================] - 19s 1ms/step - loss: 691.0569 - accuracy: 0.9192 - val_loss: 0.2606 - val_accuracy: 0.9462\n",
            "Epoch 43/130\n",
            "13104/13104 [==============================] - 20s 2ms/step - loss: 677.1627 - accuracy: 0.9213 - val_loss: 0.3245 - val_accuracy: 0.9462\n",
            "Epoch 44/130\n",
            "13104/13104 [==============================] - 19s 1ms/step - loss: 492.0365 - accuracy: 0.9217 - val_loss: 0.2132 - val_accuracy: 0.9461\n",
            "Epoch 45/130\n",
            "13104/13104 [==============================] - 20s 2ms/step - loss: 669.8837 - accuracy: 0.9125 - val_loss: 0.3153 - val_accuracy: 0.9462\n",
            "Epoch 46/130\n",
            "13104/13104 [==============================] - 20s 2ms/step - loss: 1008.3238 - accuracy: 0.9128 - val_loss: 0.2724 - val_accuracy: 0.9462\n",
            "Epoch 47/130\n",
            "13104/13104 [==============================] - 20s 2ms/step - loss: 534.7250 - accuracy: 0.9227 - val_loss: 0.3900 - val_accuracy: 0.9462\n",
            "Epoch 48/130\n",
            "13104/13104 [==============================] - 21s 2ms/step - loss: 566.8704 - accuracy: 0.9213 - val_loss: 0.3050 - val_accuracy: 0.9462\n",
            "Epoch 49/130\n",
            "13104/13104 [==============================] - 19s 1ms/step - loss: 721.8683 - accuracy: 0.9116 - val_loss: 0.2113 - val_accuracy: 0.9462\n",
            "Epoch 50/130\n",
            "13104/13104 [==============================] - 20s 1ms/step - loss: 598.4782 - accuracy: 0.9217 - val_loss: 0.2139 - val_accuracy: 0.9462\n",
            "Epoch 51/130\n",
            "13104/13104 [==============================] - 20s 2ms/step - loss: 638.3982 - accuracy: 0.9211 - val_loss: 0.2122 - val_accuracy: 0.9462\n",
            "Epoch 52/130\n",
            "13104/13104 [==============================] - 20s 2ms/step - loss: 606.1137 - accuracy: 0.9176 - val_loss: 0.2102 - val_accuracy: 0.9462\n",
            "Epoch 53/130\n",
            "13104/13104 [==============================] - 19s 1ms/step - loss: 517.6091 - accuracy: 0.9227 - val_loss: 0.4916 - val_accuracy: 0.9461\n",
            "Epoch 54/130\n",
            "13104/13104 [==============================] - 20s 2ms/step - loss: 587.1149 - accuracy: 0.9186 - val_loss: 0.3195 - val_accuracy: 0.9462\n",
            "Epoch 55/130\n",
            "13104/13104 [==============================] - 20s 2ms/step - loss: 617.2155 - accuracy: 0.9186 - val_loss: 0.2182 - val_accuracy: 0.9462\n",
            "Epoch 56/130\n",
            "13104/13104 [==============================] - 20s 2ms/step - loss: 940.6406 - accuracy: 0.9123 - val_loss: 530299.6250 - val_accuracy: 0.0538\n",
            "Epoch 57/130\n",
            "13104/13104 [==============================] - 19s 1ms/step - loss: 353.1958 - accuracy: 0.9232 - val_loss: 0.2205 - val_accuracy: 0.9460\n",
            "Epoch 58/130\n",
            "13104/13104 [==============================] - 21s 2ms/step - loss: 707.5041 - accuracy: 0.9207 - val_loss: 0.2376 - val_accuracy: 0.9462\n",
            "Epoch 59/130\n",
            "13104/13104 [==============================] - 20s 2ms/step - loss: 376.7388 - accuracy: 0.9190 - val_loss: 0.2115 - val_accuracy: 0.9462\n",
            "Epoch 60/130\n",
            "13104/13104 [==============================] - 19s 1ms/step - loss: 530.8416 - accuracy: 0.9220 - val_loss: 0.2099 - val_accuracy: 0.9462\n",
            "Epoch 61/130\n",
            "13104/13104 [==============================] - 20s 2ms/step - loss: 596.7167 - accuracy: 0.9173 - val_loss: 0.2250 - val_accuracy: 0.9462\n",
            "Epoch 62/130\n",
            "13104/13104 [==============================] - 19s 1ms/step - loss: 491.3732 - accuracy: 0.9209 - val_loss: 6.9824 - val_accuracy: 0.9462\n",
            "Epoch 63/130\n",
            "13104/13104 [==============================] - 19s 1ms/step - loss: 571.3731 - accuracy: 0.9225 - val_loss: 0.2102 - val_accuracy: 0.9462\n",
            "Epoch 64/130\n",
            "13104/13104 [==============================] - 20s 2ms/step - loss: 269.5325 - accuracy: 0.9228 - val_loss: 0.2900 - val_accuracy: 0.9462\n",
            "Epoch 65/130\n",
            "13104/13104 [==============================] - 19s 1ms/step - loss: 466.7218 - accuracy: 0.9211 - val_loss: 0.4009 - val_accuracy: 0.9462\n",
            "Epoch 66/130\n",
            "13104/13104 [==============================] - 20s 2ms/step - loss: 614.9641 - accuracy: 0.9142 - val_loss: 0.2114 - val_accuracy: 0.9462\n",
            "Epoch 67/130\n",
            "13104/13104 [==============================] - 20s 2ms/step - loss: 787.7063 - accuracy: 0.9214 - val_loss: 0.3649 - val_accuracy: 0.9460\n",
            "Epoch 68/130\n",
            "13104/13104 [==============================] - 21s 2ms/step - loss: 508.4109 - accuracy: 0.9181 - val_loss: 0.2132 - val_accuracy: 0.9461\n",
            "Epoch 69/130\n",
            "13104/13104 [==============================] - 19s 1ms/step - loss: 458.2843 - accuracy: 0.9238 - val_loss: 0.2121 - val_accuracy: 0.9462\n",
            "Epoch 70/130\n",
            "13104/13104 [==============================] - 20s 2ms/step - loss: 463.7202 - accuracy: 0.9232 - val_loss: 0.3156 - val_accuracy: 0.9462\n",
            "Epoch 71/130\n",
            "13104/13104 [==============================] - 20s 2ms/step - loss: 487.4725 - accuracy: 0.9165 - val_loss: 0.2130 - val_accuracy: 0.9462\n",
            "Epoch 72/130\n",
            "13104/13104 [==============================] - 19s 1ms/step - loss: 626.9235 - accuracy: 0.9133 - val_loss: 0.2919 - val_accuracy: 0.9462\n",
            "Epoch 73/130\n",
            "13104/13104 [==============================] - 20s 2ms/step - loss: 389.1826 - accuracy: 0.9204 - val_loss: 0.2104 - val_accuracy: 0.9462\n",
            "Epoch 74/130\n",
            "13104/13104 [==============================] - 20s 2ms/step - loss: 480.2208 - accuracy: 0.9175 - val_loss: 0.3841 - val_accuracy: 0.9462\n",
            "Epoch 75/130\n",
            "13104/13104 [==============================] - 19s 1ms/step - loss: 380.1115 - accuracy: 0.9193 - val_loss: 0.3422 - val_accuracy: 0.9462\n",
            "Epoch 76/130\n",
            "13104/13104 [==============================] - 19s 1ms/step - loss: 610.0308 - accuracy: 0.9105 - val_loss: 0.2335 - val_accuracy: 0.9462\n",
            "Epoch 77/130\n",
            "13104/13104 [==============================] - 20s 2ms/step - loss: 420.8389 - accuracy: 0.9189 - val_loss: 0.2191 - val_accuracy: 0.9462\n",
            "Epoch 78/130\n",
            "13104/13104 [==============================] - 20s 2ms/step - loss: 643.3292 - accuracy: 0.9206 - val_loss: 17.1728 - val_accuracy: 0.9462\n",
            "Epoch 79/130\n",
            "13104/13104 [==============================] - 19s 1ms/step - loss: 461.6683 - accuracy: 0.9175 - val_loss: 0.2517 - val_accuracy: 0.9462\n",
            "Epoch 80/130\n",
            "13104/13104 [==============================] - 19s 1ms/step - loss: 365.1208 - accuracy: 0.9222 - val_loss: 0.2434 - val_accuracy: 0.9462\n",
            "Epoch 81/130\n",
            "13104/13104 [==============================] - 20s 2ms/step - loss: 540.0237 - accuracy: 0.9148 - val_loss: 0.2323 - val_accuracy: 0.9461\n",
            "Epoch 82/130\n",
            "13104/13104 [==============================] - 19s 1ms/step - loss: 646.0383 - accuracy: 0.9102 - val_loss: 0.6413 - val_accuracy: 0.9462\n",
            "Epoch 83/130\n",
            "13104/13104 [==============================] - 19s 1ms/step - loss: 416.6601 - accuracy: 0.9146 - val_loss: 0.3845 - val_accuracy: 0.9462\n",
            "Epoch 84/130\n",
            "13104/13104 [==============================] - 20s 1ms/step - loss: 560.4651 - accuracy: 0.9198 - val_loss: 0.3487 - val_accuracy: 0.9462\n",
            "Epoch 85/130\n",
            "13104/13104 [==============================] - 19s 1ms/step - loss: 556.7321 - accuracy: 0.9143 - val_loss: 0.2100 - val_accuracy: 0.9462\n",
            "Epoch 86/130\n",
            "13104/13104 [==============================] - 18s 1ms/step - loss: 715.5139 - accuracy: 0.9189 - val_loss: 0.2119 - val_accuracy: 0.9462\n",
            "Epoch 87/130\n",
            "13104/13104 [==============================] - 19s 1ms/step - loss: 542.1061 - accuracy: 0.8995 - val_loss: 0.4485 - val_accuracy: 0.9461\n",
            "Epoch 88/130\n",
            "13104/13104 [==============================] - 19s 1ms/step - loss: 635.0483 - accuracy: 0.9070 - val_loss: 0.2195 - val_accuracy: 0.9461\n",
            "Epoch 89/130\n",
            "13104/13104 [==============================] - 19s 1ms/step - loss: 427.5309 - accuracy: 0.9214 - val_loss: 0.2127 - val_accuracy: 0.9462\n",
            "Epoch 90/130\n",
            "13104/13104 [==============================] - 18s 1ms/step - loss: 534.2312 - accuracy: 0.9192 - val_loss: 23.3760 - val_accuracy: 0.9462\n",
            "Epoch 91/130\n",
            "13104/13104 [==============================] - 19s 1ms/step - loss: 445.6045 - accuracy: 0.9131 - val_loss: 3603.0244 - val_accuracy: 0.1402\n",
            "Epoch 92/130\n",
            "13104/13104 [==============================] - 18s 1ms/step - loss: 466.7716 - accuracy: 0.9172 - val_loss: 0.5349 - val_accuracy: 0.9462\n",
            "Epoch 93/130\n",
            "13104/13104 [==============================] - 20s 1ms/step - loss: 492.6398 - accuracy: 0.9217 - val_loss: 0.2106 - val_accuracy: 0.9462\n",
            "Epoch 94/130\n",
            "13104/13104 [==============================] - 18s 1ms/step - loss: 510.8564 - accuracy: 0.9200 - val_loss: 0.2956 - val_accuracy: 0.9461\n",
            "Epoch 95/130\n",
            "13104/13104 [==============================] - 18s 1ms/step - loss: 552.5422 - accuracy: 0.9141 - val_loss: 0.2960 - val_accuracy: 0.9462\n",
            "Epoch 96/130\n",
            "13104/13104 [==============================] - 19s 1ms/step - loss: 367.8336 - accuracy: 0.9206 - val_loss: 7.0353 - val_accuracy: 0.2488\n",
            "Epoch 97/130\n",
            "13104/13104 [==============================] - 19s 1ms/step - loss: 356.3242 - accuracy: 0.9212 - val_loss: 4.9547 - val_accuracy: 0.9461\n",
            "Epoch 98/130\n",
            "13104/13104 [==============================] - 20s 1ms/step - loss: 503.8733 - accuracy: 0.9127 - val_loss: 0.3959 - val_accuracy: 0.9462\n",
            "Epoch 99/130\n",
            "13104/13104 [==============================] - 21s 2ms/step - loss: 419.2199 - accuracy: 0.9040 - val_loss: 0.2132 - val_accuracy: 0.9462\n",
            "Epoch 100/130\n",
            "13104/13104 [==============================] - 19s 1ms/step - loss: 573.3065 - accuracy: 0.9130 - val_loss: 582.4856 - val_accuracy: 0.3313\n",
            "Epoch 101/130\n",
            "13104/13104 [==============================] - 20s 1ms/step - loss: 217.3963 - accuracy: 0.7251 - val_loss: 23.7084 - val_accuracy: 0.9462\n",
            "Epoch 102/130\n",
            "13104/13104 [==============================] - 19s 1ms/step - loss: 81.3928 - accuracy: 0.8736 - val_loss: 30.7181 - val_accuracy: 0.9461\n",
            "Epoch 103/130\n",
            "13104/13104 [==============================] - 18s 1ms/step - loss: 31.6208 - accuracy: 0.9448 - val_loss: 29.9766 - val_accuracy: 0.9460\n",
            "Epoch 104/130\n",
            "13104/13104 [==============================] - 20s 1ms/step - loss: 30.5053 - accuracy: 0.9451 - val_loss: 29.3564 - val_accuracy: 0.9462\n",
            "Epoch 105/130\n",
            "13104/13104 [==============================] - 20s 1ms/step - loss: 29.5770 - accuracy: 0.9452 - val_loss: 28.6049 - val_accuracy: 0.9461\n",
            "Epoch 106/130\n",
            "13104/13104 [==============================] - 20s 1ms/step - loss: 28.5903 - accuracy: 0.9455 - val_loss: 27.8678 - val_accuracy: 0.9462\n",
            "Epoch 107/130\n",
            "13104/13104 [==============================] - 19s 1ms/step - loss: 193.6452 - accuracy: 0.9347 - val_loss: 0.2599 - val_accuracy: 0.9461\n",
            "Epoch 108/130\n",
            "13104/13104 [==============================] - 19s 1ms/step - loss: 588.6246 - accuracy: 0.9104 - val_loss: 0.2170 - val_accuracy: 0.9461\n",
            "Epoch 109/130\n",
            "13104/13104 [==============================] - 20s 2ms/step - loss: 439.2320 - accuracy: 0.9181 - val_loss: 102.7497 - val_accuracy: 0.9462\n",
            "Epoch 110/130\n",
            "13104/13104 [==============================] - 19s 1ms/step - loss: 596.4215 - accuracy: 0.9047 - val_loss: 0.4058 - val_accuracy: 0.9461\n",
            "Epoch 111/130\n",
            "13104/13104 [==============================] - 20s 1ms/step - loss: 560.7309 - accuracy: 0.8956 - val_loss: 0.2145 - val_accuracy: 0.9462\n",
            "Epoch 112/130\n",
            "13104/13104 [==============================] - 20s 1ms/step - loss: 615.3991 - accuracy: 0.9052 - val_loss: 27.3311 - val_accuracy: 0.9462\n",
            "Epoch 113/130\n",
            "13104/13104 [==============================] - 20s 1ms/step - loss: 498.3351 - accuracy: 0.8690 - val_loss: 0.2442 - val_accuracy: 0.9462\n",
            "Epoch 114/130\n",
            "13104/13104 [==============================] - 20s 1ms/step - loss: 183.8854 - accuracy: 0.7300 - val_loss: 69.5704 - val_accuracy: 0.7369\n",
            "Epoch 115/130\n",
            "13104/13104 [==============================] - 19s 1ms/step - loss: 149.4252 - accuracy: 0.8133 - val_loss: 18.9107 - val_accuracy: 0.9449\n",
            "Epoch 116/130\n",
            "13104/13104 [==============================] - 19s 1ms/step - loss: 148.3260 - accuracy: 0.8587 - val_loss: 21.2121 - val_accuracy: 0.9461\n",
            "Epoch 117/130\n",
            "13104/13104 [==============================] - 20s 1ms/step - loss: 53.1602 - accuracy: 0.9025 - val_loss: 33.9450 - val_accuracy: 0.9462\n",
            "Epoch 118/130\n",
            "13104/13104 [==============================] - 19s 1ms/step - loss: 34.8154 - accuracy: 0.9451 - val_loss: 33.7413 - val_accuracy: 0.9439\n",
            "Epoch 119/130\n",
            "13104/13104 [==============================] - 20s 2ms/step - loss: 33.7328 - accuracy: 0.9450 - val_loss: 36.6983 - val_accuracy: 0.9406\n",
            "Epoch 120/130\n",
            "13104/13104 [==============================] - 19s 1ms/step - loss: 33.2604 - accuracy: 0.9451 - val_loss: 33.2751 - val_accuracy: 0.9427\n",
            "Epoch 121/130\n",
            "13104/13104 [==============================] - 20s 2ms/step - loss: 33.7024 - accuracy: 0.9449 - val_loss: 30.9902 - val_accuracy: 0.9462\n",
            "Epoch 122/130\n",
            "13104/13104 [==============================] - 18s 1ms/step - loss: 168.2875 - accuracy: 0.9314 - val_loss: 0.2540 - val_accuracy: 0.9461\n",
            "Epoch 123/130\n",
            "13104/13104 [==============================] - 20s 1ms/step - loss: 421.3688 - accuracy: 0.8909 - val_loss: 15555.5303 - val_accuracy: 0.0636\n",
            "Epoch 124/130\n",
            "13104/13104 [==============================] - 19s 1ms/step - loss: 376.2091 - accuracy: 0.8439 - val_loss: 1224.2572 - val_accuracy: 0.1934\n",
            "Epoch 125/130\n",
            "13104/13104 [==============================] - 20s 1ms/step - loss: 622.4460 - accuracy: 0.8652 - val_loss: 27.6815 - val_accuracy: 0.9462\n",
            "Epoch 126/130\n",
            "13104/13104 [==============================] - 20s 1ms/step - loss: 247.0048 - accuracy: 0.7285 - val_loss: 35.3403 - val_accuracy: 0.9459\n",
            "Epoch 127/130\n",
            "13104/13104 [==============================] - 20s 2ms/step - loss: 37.0635 - accuracy: 0.9446 - val_loss: 34.8117 - val_accuracy: 0.9462\n",
            "Epoch 128/130\n",
            "13104/13104 [==============================] - 20s 2ms/step - loss: 36.3534 - accuracy: 0.9449 - val_loss: 34.0504 - val_accuracy: 0.9462\n",
            "Epoch 129/130\n",
            "13104/13104 [==============================] - 20s 2ms/step - loss: 36.6707 - accuracy: 0.9445 - val_loss: 33.3067 - val_accuracy: 0.9462\n",
            "Epoch 130/130\n",
            "13104/13104 [==============================] - 20s 1ms/step - loss: 36.1594 - accuracy: 0.9447 - val_loss: 32.5836 - val_accuracy: 0.9462\n"
          ]
        }
      ]
    },
    {
      "cell_type": "code",
      "source": [
        "pd.DataFrame(history_validation.history).plot(figsize=(8, 5))\n",
        "plt.grid(True)\n",
        "plt.gca().set_ylim(0, 1)"
      ],
      "metadata": {
        "id": "dIMcn1gOXr6K",
        "colab": {
          "base_uri": "https://localhost:8080/",
          "height": 342
        },
        "outputId": "1724bb44-150e-4550-d263-d63f2b4d90ca"
      },
      "execution_count": 21,
      "outputs": [
        {
          "output_type": "execute_result",
          "data": {
            "text/plain": [
              "(0.0, 1.0)"
            ]
          },
          "metadata": {},
          "execution_count": 21
        },
        {
          "output_type": "display_data",
          "data": {
            "text/plain": [
              "<Figure size 576x360 with 1 Axes>"
            ],
            "image/png": "[encoded data removed]"
          },
          "metadata": {
            "needs_background": "light"
          }
        }
      ]
    },
    {
      "cell_type": "code",
      "source": [
        "model.evaluate(x_test, y_test)"
      ],
      "metadata": {
        "id": "OoHNRQLhXv1l",
        "colab": {
          "base_uri": "https://localhost:8080/"
        },
        "outputId": "4c2061a9-ddaf-4890-d2d4-85317ef1b6ba"
      },
      "execution_count": 22,
      "outputs": [
        {
          "output_type": "stream",
          "name": "stdout",
          "text": [
            "8023/8023 [==============================] - 8s 946us/step - loss: 33.0469 - accuracy: 0.9454\n"
          ]
        },
        {
          "output_type": "execute_result",
          "data": {
            "text/plain": [
              "[33.04689407348633, 0.9454197883605957]"
            ]
          },
          "metadata": {},
          "execution_count": 22
        }
      ]
    },
    {
      "cell_type": "code",
      "source": [
        "plt.plot(history_validation.history[\"loss\"])\n",
        "plt.plot(history_validation.history[\"val_loss\"])\n",
        "plt.ylabel(\"loss\")\n",
        "plt.xlabel(\"epochs\")\n",
        "plt.legend([\"training data\", \"testing data\"], loc = \"lower right\")\n",
        "plt.show()"
      ],
      "metadata": {
        "id": "g4AqoZqk1O0C",
        "colab": {
          "base_uri": "https://localhost:8080/",
          "height": 279
        },
        "outputId": "e55e7e73-f7bd-4f89-c6cd-37886263ebf1"
      },
      "execution_count": 25,
      "outputs": [
        {
          "output_type": "display_data",
          "data": {
            "text/plain": [
              "<Figure size 432x288 with 1 Axes>"
            ],
            "image/png": "[encoded data removed]"
          },
          "metadata": {
            "needs_background": "light"
          }
        }
      ]
    }
  ]
}