{
  "cells": [
    {
      "cell_type": "code",
      "execution_count": null,
      "metadata": {
        "id": "c679Vyf4TGrm"
      },
      "outputs": [],
      "source": [
        "!pip install pyspark"
      ]
    },
    {
      "cell_type": "code",
      "execution_count": null,
      "metadata": {
        "id": "UV2RzTiWT5g-"
      },
      "outputs": [],
      "source": [
        "!apt-get install openjdk-8-jdk-headless -qq > /dev/null"
      ]
    },
    {
      "cell_type": "code",
      "execution_count": null,
      "metadata": {
        "id": "m04NuF_QT7PH"
      },
      "outputs": [],
      "source": [
        "!wget https://dlcdn.apache.org/spark/spark-3.3.0/spark-3.3.0-bin-hadoop2.tgz"
      ]
    },
    {
      "cell_type": "code",
      "execution_count": null,
      "metadata": {
        "id": "wGDu83pOT9DQ"
      },
      "outputs": [],
      "source": [
        "!tar xf spark-3.3.0-bin-hadoop2.tgz"
      ]
    },
    {
      "cell_type": "code",
      "execution_count": null,
      "metadata": {
        "id": "k4P6DUcOT-7x"
      },
      "outputs": [],
      "source": [
        "import os\n",
        "os.environ[\"JAVA_HOME\"] = \"/usr/lib/jvm/java-8-openjdk-amd64\"\n",
        "os.environ[\"SPARK_HOME\"] = \"spark-3.3.0-bin-hadoop2\""
      ]
    },
    {
      "cell_type": "code",
      "execution_count": null,
      "metadata": {
        "id": "t7LHX9yFUA0G"
      },
      "outputs": [],
      "source": [
        "!pip install petastorm"
      ]
    },
    {
      "cell_type": "code",
      "execution_count": null,
      "metadata": {
        "id": "1dXVulq7UDOV"
      },
      "outputs": [],
      "source": [
        "!pip install findspark"
      ]
    },
    {
      "cell_type": "code",
      "execution_count": null,
      "metadata": {
        "id": "nhtXK-ktWavH"
      },
      "outputs": [],
      "source": [
        "!pip install tensorflow_decision_forests"
      ]
    },
    {
      "cell_type": "code",
      "execution_count": null,
      "metadata": {
        "id": "t0hY5JdJUFHN"
      },
      "outputs": [],
      "source": [
        "import findspark\n",
        "findspark.init()"
      ]
    },
    {
      "cell_type": "code",
      "execution_count": null,
      "metadata": {
        "id": "T5lVvlfAUHJ3"
      },
      "outputs": [],
      "source": [
        "from google.colab import drive\n",
        "drive.mount('/content/drive')"
      ]
    },
    {
      "cell_type": "code",
      "execution_count": null,
      "metadata": {
        "id": "xguHpxFWUIuY"
      },
      "outputs": [],
      "source": [
        "from pyspark.sql import SparkSession\n",
        "spark = SparkSession \\\n",
        "    .builder \\\n",
        "    .config(\"spark.csci316.pandas.randomforest\", \"false\") \\\n",
        "    .getOrCreate()\n",
        "spark"
      ]
    },
    {
      "cell_type": "code",
      "execution_count": null,
      "metadata": {
        "id": "z0DeMiBFUb-O"
      },
      "outputs": [],
      "source": [
        "#Read the csv file\n",
        "data = spark.read.csv(\"/content/drive/MyDrive/CSCI316/cleanWithHeader.csv\", inferSchema=True, header=True)"
      ]
    },
    {
      "cell_type": "code",
      "execution_count": null,
      "metadata": {
        "id": "jBJGjRo6V0tv"
      },
      "outputs": [],
      "source": [
        "from petastorm.spark import SparkDatasetConverter, make_spark_converter\n",
        "import tensorflow_decision_forests as tfdf\n",
        "import os\n",
        "import numpy as np\n",
        "import pandas as pd\n",
        "import tensorflow as tf\n",
        "from sklearn.metrics import confusion_matrix, classification_report\n",
        "import math"
      ]
    },
    {
      "cell_type": "code",
      "execution_count": null,
      "metadata": {
        "id": "tDZ244AOUyEh"
      },
      "outputs": [],
      "source": [
        "data.show(10)"
      ]
    },
    {
      "cell_type": "code",
      "execution_count": null,
      "metadata": {
        "id": "Pq-4_cdKeoCA"
      },
      "outputs": [],
      "source": [
        "data.printSchema()"
      ]
    },
    {
      "cell_type": "code",
      "execution_count": null,
      "metadata": {
        "id": "IlZJ_TMRVAHe"
      },
      "outputs": [],
      "source": [
        "df_train, df_val = data.randomSplit([0.7, 0.3], seed=135)\n",
        "\n",
        "df_train = df_train.repartition(2)\n",
        "df_val = df_val.repartition(2)"
      ]
    },
    {
      "cell_type": "code",
      "execution_count": null,
      "metadata": {
        "id": "VzNRcyNZVEgc"
      },
      "outputs": [],
      "source": [
        "df_train.show()"
      ]
    },
    {
      "cell_type": "code",
      "execution_count": null,
      "metadata": {
        "id": "St33-fE0Vb7B"
      },
      "outputs": [],
      "source": [
        "print(f\"train: {df_train.count()}, val: {df_val.count()}\")"
      ]
    },
    {
      "cell_type": "markdown",
      "metadata": {
        "id": "sgObxCU7Vd3S"
      },
      "source": [
        "**Convert from PySpark to TensorFlow**"
      ]
    },
    {
      "cell_type": "code",
      "execution_count": null,
      "metadata": {
        "id": "Atw7EmktbwSX"
      },
      "outputs": [],
      "source": [
        "print(f\"train: {df_train.count()}, val: {df_val.count()}\")"
      ]
    },
    {
      "cell_type": "code",
      "execution_count": null,
      "metadata": {
        "id": "-xQks2GbfA6X"
      },
      "outputs": [],
      "source": [
        "train_dataset = df_train.toPandas()"
      ]
    },
    {
      "cell_type": "code",
      "execution_count": null,
      "metadata": {
        "id": "lOujiN0BgxeH"
      },
      "outputs": [],
      "source": [
        "test_dataset = df_val.toPandas()"
      ]
    },
    {
      "cell_type": "code",
      "execution_count": null,
      "metadata": {
        "id": "nPQL3dFpf72p"
      },
      "outputs": [],
      "source": [
        "x_train = train_dataset.iloc[:,0:42]\n",
        "y_train = train_dataset.iloc[:,-1]"
      ]
    },
    {
      "cell_type": "code",
      "execution_count": null,
      "metadata": {
        "id": "JX8PviFPunIA"
      },
      "outputs": [],
      "source": [
        "train_dataset.default_ind.value_counts()"
      ]
    },
    {
      "cell_type": "code",
      "execution_count": null,
      "metadata": {
        "id": "sWYqpBetrvb_"
      },
      "outputs": [],
      "source": [
        "x_test = test_dataset.iloc[:,0:42]\n",
        "y_test = test_dataset.iloc[:,-1]"
      ]
    },
    {
      "cell_type": "code",
      "execution_count": null,
      "metadata": {
        "id": "CiEqRM8TgFGe"
      },
      "outputs": [],
      "source": [
        "x_train.head()"
      ]
    },
    {
      "cell_type": "code",
      "execution_count": null,
      "metadata": {
        "id": "0f54rBm2gXnL"
      },
      "outputs": [],
      "source": [
        "y_train.tail()"
      ]
    },
    {
      "cell_type": "code",
      "execution_count": null,
      "metadata": {
        "id": "cVlGEwL0uX_W"
      },
      "outputs": [],
      "source": [
        "y_train.nunique()"
      ]
    },
    {
      "cell_type": "code",
      "execution_count": null,
      "metadata": {
        "id": "tI1J_hQK1UOn"
      },
      "outputs": [],
      "source": [
        "tf_train = tfdf.keras.pd_dataframe_to_tf_dataset(train_dataset, label=\"default_ind\")\n",
        "tf_test = tfdf.keras.pd_dataframe_to_tf_dataset(test_dataset, label=\"default_ind\")"
      ]
    },
    {
      "cell_type": "code",
      "execution_count": null,
      "metadata": {
        "id": "2aLP3Frx9P5e"
      },
      "outputs": [],
      "source": [
        "\n",
        "print(tf_train.take(1))"
      ]
    },
    {
      "cell_type": "code",
      "execution_count": null,
      "metadata": {
        "id": "rmta2jOg8J0a"
      },
      "outputs": [],
      "source": [
        "type(tf_train)"
      ]
    },
    {
      "cell_type": "code",
      "execution_count": null,
      "metadata": {
        "colab": {
          "background_save": true,
          "base_uri": "https://localhost:8080/"
        },
        "id": "crkExwQzcTB_",
        "outputId": "d7579ecd-9dc5-4b52-96d8-65d25ca09d3b"
      },
      "outputs": [
        {
          "metadata": {
            "tags": null
          },
          "name": "stdout",
          "output_type": "stream",
          "text": [
            "Use /tmp/tmpxpb6jnoi as temporary training directory\n",
            "Reading training dataset...\n",
            "Training dataset read in 0:00:18.506094. Found 598745 examples.\n",
            "Training model...\n"
          ]
        }
      ],
      "source": [
        "model_1 = tfdf.keras.GradientBoostedTreesModel()\n",
        "\n",
        "# Train the model.\n",
        "model_1.fit(tf_train)"
      ]
    },
    {
      "cell_type": "code",
      "execution_count": null,
      "metadata": {
        "colab": {
          "background_save": true
        },
        "id": "Be6-faTJjQ0G"
      },
      "outputs": [],
      "source": [
        "model_1.compile(metrics=[\"accuracy\"])"
      ]
    },
    {
      "cell_type": "code",
      "execution_count": null,
      "metadata": {
        "colab": {
          "background_save": true
        },
        "id": "OBbi6Se4lACC",
        "outputId": "3db47bbe-b2da-4e50-e4d0-99a82a548c67"
      },
      "outputs": [
        {
          "name": "stdout",
          "output_type": "stream",
          "text": [
            "257/257 [==============================] - 9s 35ms/step - loss: 0.0000e+00 - accuracy: 0.9980\n"
          ]
        }
      ],
      "source": [
        "evaluation = model_1.evaluate(tf_test)"
      ]
    },
    {
      "cell_type": "code",
      "execution_count": null,
      "metadata": {
        "colab": {
          "background_save": true
        },
        "id": "7F241HsX44vu",
        "outputId": "34fde9e1-150e-4d30-a9ae-eee3cd745cf6"
      },
      "outputs": [
        {
          "name": "stdout",
          "output_type": "stream",
          "text": [
            "[0.0, 0.9980233311653137]\n"
          ]
        }
      ],
      "source": [
        "print(evaluation)"
      ]
    },
    {
      "cell_type": "code",
      "execution_count": null,
      "metadata": {
        "colab": {
          "background_save": true
        },
        "id": "iNyp_kuLkbwn",
        "outputId": "43a70bf2-13dc-4aae-eb71-1422bc1e1e45"
      },
      "outputs": [
        {
          "data": {
            "text/plain": [
              "Evaluation(num_examples=None, accuracy=0.9982679486274719, loss=0.01549600064754486, rmse=None, ndcg=None, aucs=None, auuc=None, qini=None)"
            ]
          },
          "execution_count": 35,
          "metadata": {},
          "output_type": "execute_result"
        }
      ],
      "source": [
        "model_1.make_inspector().evaluation()"
      ]
    },
    {
      "cell_type": "code",
      "execution_count": null,
      "metadata": {
        "colab": {
          "background_save": true
        },
        "id": "kZxHWBns5xB7",
        "outputId": "6a0e9b32-ee14-44e1-c815-96ecd5157dc8"
      },
      "outputs": [
        {
          "data": {
            "text/plain": [
              "{'SUM_SCORE': [(\"recoveries\" (1; #27), 59427.339578363746),\n",
              "  (\"funded_amnt\" (1; #8), 22917.928952304675),\n",
              "  (\"total_rec_prncp\" (1; #39), 20991.41198645875),\n",
              "  (\"last_pymnt_amnt_imputed\" (1; #17), 2531.328070260977),\n",
              "  (\"id\" (1; #12), 2413.482875532965),\n",
              "  (\"out_prncp_inv\" (1; #22), 2337.1828587343534),\n",
              "  (\"out_prncp\" (1; #21), 1944.550178086155),\n",
              "  (\"total_rec_int\" (1; #37), 192.88649803151094),\n",
              "  (\"total_rec_late_fee\" (1; #38), 161.58042130123394),\n",
              "  (\"funded_amnt_inv\" (1; #9), 116.87479117118316),\n",
              "  (\"installment\" (1; #15), 78.67384391905624),\n",
              "  (\"member_id\" (1; #19), 57.34374533033689),\n",
              "  (\"total_pymnt\" (1; #35), 47.76893257227704),\n",
              "  (\"loan_amnt\" (1; #18), 30.29074888687392),\n",
              "  (\"total_pymnt_inv\" (1; #36), 28.964883640822517),\n",
              "  (\"int_rate\" (1; #16), 13.154074830777331),\n",
              "  (\"term_index\" (1; #31), 10.483681754370306),\n",
              "  (\"total_rev_hi_lim_imputed\" (1; #40), 10.278072235044933),\n",
              "  (\"tot_cur_bal_imputed\" (1; #33), 9.852878550430665),\n",
              "  (\"annual_inc\" (1; #1), 9.406792353179931),\n",
              "  (\"dti\" (1; #6), 7.736561152751656),\n",
              "  (\"revol_util_imputed\" (1; #29), 6.64692965168628),\n",
              "  (\"revol_bal\" (1; #28), 6.1676994889188075),\n",
              "  (\"initial_list_status_index\" (1; #13), 5.254886149950988),\n",
              "  (\"sub_grade_index\" (1; #30), 4.663479276144946),\n",
              "  (\"total_acc\" (1; #34), 4.56596706261603),\n",
              "  (\"open_acc\" (1; #20), 4.409818730883966),\n",
              "  (\"inq_last_6mths\" (1; #14), 3.3075072798117837),\n",
              "  (\"emp_length_index\" (1; #7), 3.193202226131579),\n",
              "  (\"tot_coll_amt_imputed\" (1; #32), 2.1657953994460684),\n",
              "  (\"purpose_index\" (1; #25), 1.6365600535548843),\n",
              "  (\"delinq_2yrs\" (1; #5), 1.561050132367935),\n",
              "  (\"pub_rec\" (1; #24), 0.5087447926264872),\n",
              "  (\"grade_index\" (1; #10), 0.37694351347818156),\n",
              "  (\"verification_status_index\" (1; #41), 0.3204280982116643),\n",
              "  (\"acc_now_delinq_index\" (1; #0), 0.27343476275802914),\n",
              "  (\"home_ownership_index\" (1; #11), 0.07052940372657446),\n",
              "  (\"collections_12_mths_ex_med_imputed\" (1; #4), 0.033143103587462974),\n",
              "  (\"collection_recovery_fee\" (1; #3), 0.017280690522675002)],\n",
              " 'NUM_NODES': [(\"total_rec_prncp\" (1; #39), 887.0),\n",
              "  (\"last_pymnt_amnt_imputed\" (1; #17), 761.0),\n",
              "  (\"id\" (1; #12), 654.0),\n",
              "  (\"installment\" (1; #15), 412.0),\n",
              "  (\"total_rec_int\" (1; #37), 404.0),\n",
              "  (\"total_rec_late_fee\" (1; #38), 401.0),\n",
              "  (\"out_prncp_inv\" (1; #22), 376.0),\n",
              "  (\"out_prncp\" (1; #21), 369.0),\n",
              "  (\"total_pymnt\" (1; #35), 257.0),\n",
              "  (\"funded_amnt\" (1; #8), 249.0),\n",
              "  (\"member_id\" (1; #19), 234.0),\n",
              "  (\"total_pymnt_inv\" (1; #36), 225.0),\n",
              "  (\"int_rate\" (1; #16), 160.0),\n",
              "  (\"annual_inc\" (1; #1), 144.0),\n",
              "  (\"dti\" (1; #6), 129.0),\n",
              "  (\"funded_amnt_inv\" (1; #9), 126.0),\n",
              "  (\"tot_cur_bal_imputed\" (1; #33), 109.0),\n",
              "  (\"revol_util_imputed\" (1; #29), 96.0),\n",
              "  (\"total_rev_hi_lim_imputed\" (1; #40), 89.0),\n",
              "  (\"total_acc\" (1; #34), 85.0),\n",
              "  (\"loan_amnt\" (1; #18), 79.0),\n",
              "  (\"recoveries\" (1; #27), 78.0),\n",
              "  (\"revol_bal\" (1; #28), 76.0),\n",
              "  (\"sub_grade_index\" (1; #30), 69.0),\n",
              "  (\"open_acc\" (1; #20), 60.0),\n",
              "  (\"emp_length_index\" (1; #7), 41.0),\n",
              "  (\"tot_coll_amt_imputed\" (1; #32), 31.0),\n",
              "  (\"purpose_index\" (1; #25), 25.0),\n",
              "  (\"delinq_2yrs\" (1; #5), 24.0),\n",
              "  (\"inq_last_6mths\" (1; #14), 24.0),\n",
              "  (\"term_index\" (1; #31), 16.0),\n",
              "  (\"initial_list_status_index\" (1; #13), 15.0),\n",
              "  (\"pub_rec\" (1; #24), 12.0),\n",
              "  (\"collection_recovery_fee\" (1; #3), 10.0),\n",
              "  (\"acc_now_delinq_index\" (1; #0), 6.0),\n",
              "  (\"collections_12_mths_ex_med_imputed\" (1; #4), 4.0),\n",
              "  (\"home_ownership_index\" (1; #11), 4.0),\n",
              "  (\"verification_status_index\" (1; #41), 4.0),\n",
              "  (\"grade_index\" (1; #10), 2.0)],\n",
              " 'MEAN_MIN_DEPTH': [(\"application_type_index\" (1; #2), 4.744011523908394),\n",
              "  (\"policy_code_imputed\" (1; #23), 4.744011523908394),\n",
              "  (\"pymnt_plan_index\" (1; #26), 4.744011523908394),\n",
              "  (\"__LABEL\" (4; #42), 4.744011523908394),\n",
              "  (\"grade_index\" (1; #10), 4.743452083348955),\n",
              "  (\"verification_status_index\" (1; #41), 4.741583927138693),\n",
              "  (\"home_ownership_index\" (1; #11), 4.741511536864881),\n",
              "  (\"pub_rec\" (1; #24), 4.738905209858553),\n",
              "  (\"acc_now_delinq_index\" (1; #0), 4.737274691934519),\n",
              "  (\"collection_recovery_fee\" (1; #3), 4.735798592590201),\n",
              "  (\"collections_12_mths_ex_med_imputed\" (1; #4), 4.73372580962268),\n",
              "  (\"purpose_index\" (1; #25), 4.72838328225179),\n",
              "  (\"inq_last_6mths\" (1; #14), 4.723738004723785),\n",
              "  (\"delinq_2yrs\" (1; #5), 4.719994710544061),\n",
              "  (\"emp_length_index\" (1; #7), 4.697829333377977),\n",
              "  (\"revol_bal\" (1; #28), 4.683859474676043),\n",
              "  (\"tot_coll_amt_imputed\" (1; #32), 4.679668074504665),\n",
              "  (\"total_acc\" (1; #34), 4.67806950786466),\n",
              "  (\"open_acc\" (1; #20), 4.6768595947674),\n",
              "  (\"initial_list_status_index\" (1; #13), 4.665471539224126),\n",
              "  (\"total_rev_hi_lim_imputed\" (1; #40), 4.651339698532692),\n",
              "  (\"term_index\" (1; #31), 4.641456743661024),\n",
              "  (\"sub_grade_index\" (1; #30), 4.640440865783456),\n",
              "  (\"tot_cur_bal_imputed\" (1; #33), 4.630301045689999),\n",
              "  (\"annual_inc\" (1; #1), 4.608036005285946),\n",
              "  (\"loan_amnt\" (1; #18), 4.587618151896081),\n",
              "  (\"revol_util_imputed\" (1; #29), 4.57222006993968),\n",
              "  (\"dti\" (1; #6), 4.504014398551123),\n",
              "  (\"funded_amnt_inv\" (1; #9), 4.495333861493424),\n",
              "  (\"member_id\" (1; #19), 4.4937138968819985),\n",
              "  (\"int_rate\" (1; #16), 4.460170217219638),\n",
              "  (\"total_pymnt_inv\" (1; #36), 4.443699216552705),\n",
              "  (\"total_pymnt\" (1; #35), 4.333754448687674),\n",
              "  (\"total_rec_int\" (1; #37), 4.256474277011654),\n",
              "  (\"funded_amnt\" (1; #8), 4.222833335978665),\n",
              "  (\"out_prncp\" (1; #21), 4.141173435040545),\n",
              "  (\"out_prncp_inv\" (1; #22), 4.1025859545791015),\n",
              "  (\"total_rec_late_fee\" (1; #38), 4.0899451473906145),\n",
              "  (\"recoveries\" (1; #27), 3.9731488818119636),\n",
              "  (\"id\" (1; #12), 3.910804060545928),\n",
              "  (\"last_pymnt_amnt_imputed\" (1; #17), 3.767718300634813),\n",
              "  (\"total_rec_prncp\" (1; #39), 3.1720603240550527),\n",
              "  (\"installment\" (1; #15), 2.66203608920367)],\n",
              " 'NUM_AS_ROOT': [(\"installment\" (1; #15), 115.0),\n",
              "  (\"recoveries\" (1; #27), 49.0),\n",
              "  (\"total_rec_prncp\" (1; #39), 18.0),\n",
              "  (\"funded_amnt\" (1; #8), 13.0),\n",
              "  (\"total_rec_late_fee\" (1; #38), 13.0),\n",
              "  (\"dti\" (1; #6), 11.0),\n",
              "  (\"out_prncp_inv\" (1; #22), 10.0),\n",
              "  (\"last_pymnt_amnt_imputed\" (1; #17), 7.0),\n",
              "  (\"out_prncp\" (1; #21), 7.0),\n",
              "  (\"funded_amnt_inv\" (1; #9), 6.0),\n",
              "  (\"int_rate\" (1; #16), 6.0),\n",
              "  (\"revol_util_imputed\" (1; #29), 6.0),\n",
              "  (\"id\" (1; #12), 5.0),\n",
              "  (\"term_index\" (1; #31), 4.0),\n",
              "  (\"initial_list_status_index\" (1; #13), 3.0),\n",
              "  (\"member_id\" (1; #19), 3.0),\n",
              "  (\"sub_grade_index\" (1; #30), 3.0),\n",
              "  (\"tot_coll_amt_imputed\" (1; #32), 3.0),\n",
              "  (\"tot_cur_bal_imputed\" (1; #33), 3.0),\n",
              "  (\"total_pymnt\" (1; #35), 3.0),\n",
              "  (\"total_rec_int\" (1; #37), 3.0),\n",
              "  (\"loan_amnt\" (1; #18), 2.0),\n",
              "  (\"open_acc\" (1; #20), 2.0),\n",
              "  (\"total_pymnt_inv\" (1; #36), 2.0),\n",
              "  (\"annual_inc\" (1; #1), 1.0),\n",
              "  (\"emp_length_index\" (1; #7), 1.0),\n",
              "  (\"total_rev_hi_lim_imputed\" (1; #40), 1.0)]}"
            ]
          },
          "execution_count": 36,
          "metadata": {},
          "output_type": "execute_result"
        }
      ],
      "source": [
        "model_1.make_inspector().variable_importances()"
      ]
    },
    {
      "cell_type": "code",
      "execution_count": null,
      "metadata": {
        "colab": {
          "background_save": true
        },
        "id": "O5wtSn2_6eSF",
        "outputId": "2f91adee-974d-4015-ea47-88879dd71ce3"
      },
      "outputs": [
        {
          "name": "stdout",
          "output_type": "stream",
          "text": [
            "257/257 [==============================] - 9s 34ms/step\n"
          ]
        }
      ],
      "source": [
        "probs = (model_1.predict(tf_test))"
      ]
    },
    {
      "cell_type": "code",
      "execution_count": null,
      "metadata": {
        "colab": {
          "background_save": true
        },
        "id": "T18B_OHjsC7Y"
      },
      "outputs": [],
      "source": [
        "y_pred = probs.round(0)"
      ]
    },
    {
      "cell_type": "code",
      "execution_count": null,
      "metadata": {
        "colab": {
          "background_save": true
        },
        "id": "-wag97l167Qc",
        "outputId": "95227231-f86d-4a4b-e9f2-e401cfc16328"
      },
      "outputs": [
        {
          "data": {
            "text/plain": [
              "256998"
            ]
          },
          "execution_count": 39,
          "metadata": {},
          "output_type": "execute_result"
        }
      ],
      "source": [
        "len(y_pred)"
      ]
    },
    {
      "cell_type": "code",
      "execution_count": null,
      "metadata": {
        "colab": {
          "background_save": true
        },
        "id": "1LsYY1CzvwSy",
        "outputId": "9bec000e-c93c-4406-866b-7342524387c5"
      },
      "outputs": [
        {
          "data": {
            "text/plain": [
              "array([0., 1.], dtype=float32)"
            ]
          },
          "execution_count": 40,
          "metadata": {},
          "output_type": "execute_result"
        }
      ],
      "source": [
        "np.unique(y_pred)"
      ]
    },
    {
      "cell_type": "code",
      "execution_count": null,
      "metadata": {
        "colab": {
          "background_save": true
        },
        "id": "rVkxV6tUrg5D",
        "outputId": "b3023212-48ca-416a-e78c-c162b4540857"
      },
      "outputs": [
        {
          "name": "stdout",
          "output_type": "stream",
          "text": [
            "              precision    recall  f1-score   support\n",
            "\n",
            "           0       1.00      1.00      1.00    243145\n",
            "           1       1.00      0.97      0.98     13853\n",
            "\n",
            "    accuracy                           1.00    256998\n",
            "   macro avg       1.00      0.98      0.99    256998\n",
            "weighted avg       1.00      1.00      1.00    256998\n",
            "\n"
          ]
        }
      ],
      "source": [
        "print(classification_report(y_test, y_pred))"
      ]
    }
  ],
  "metadata": {
    "colab": {
      "collapsed_sections": [],
      "provenance": []
    },
    "kernelspec": {
      "display_name": "Python 3",
      "name": "python3"
    },
    "language_info": {
      "name": "python"
    }
  },
  "nbformat": 4,
  "nbformat_minor": 0
}