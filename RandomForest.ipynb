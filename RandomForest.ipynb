{
 "cells": [
  {
   "cell_type": "code",
   "execution_count": 1,
   "id": "98ec75bf",
   "metadata": {},
   "outputs": [],
   "source": [
    "import findspark\n",
    "findspark.init() "
   ]
  },
  {
   "cell_type": "code",
   "execution_count": 18,
   "id": "e5265dad",
   "metadata": {},
   "outputs": [],
   "source": [
    "#Importing the libraries\n",
    "from pyspark.sql import SparkSession, Row\n",
    "from pyspark.ml import Pipeline\n",
    "from pyspark.ml.classification import NaiveBayes\n",
    "from pyspark.ml.feature import VectorAssembler\n",
    "from pyspark.ml.evaluation import MulticlassClassificationEvaluator\n",
    "from pyspark.mllib.util import MLUtils\n",
    "from pyspark.mllib.regression import LabeledPoint\n",
    "from pyspark.mllib.tree import RandomForest\n",
    "from pyspark.ml.classification import RandomForestClassifier"
   ]
  },
  {
   "cell_type": "code",
   "execution_count": 3,
   "id": "ea5dea89",
   "metadata": {},
   "outputs": [
    {
     "data": {
      "text/plain": [
       "'3.3.0'"
      ]
     },
     "execution_count": 3,
     "metadata": {},
     "output_type": "execute_result"
    }
   ],
   "source": [
    "spark = SparkSession.builder.getOrCreate()\n",
    "spark.sparkContext.setLogLevel(\"Error\")\n",
    "spark.version"
   ]
  },
  {
   "cell_type": "code",
   "execution_count": 4,
   "id": "22ceb2b4",
   "metadata": {},
   "outputs": [],
   "source": [
    "#Read the csv file\n",
    "data = spark.read.csv(\"./Desktop/cleanWithHeader.csv\", inferSchema=True, header=True)"
   ]
  },
  {
   "cell_type": "code",
   "execution_count": 7,
   "id": "6c6c2f2b",
   "metadata": {},
   "outputs": [
    {
     "name": "stdout",
     "output_type": "stream",
     "text": [
      "root\n",
      " |-- id: integer (nullable = true)\n",
      " |-- member_id: integer (nullable = true)\n",
      " |-- loan_amnt: integer (nullable = true)\n",
      " |-- funded_amnt: integer (nullable = true)\n",
      " |-- funded_amnt_inv: double (nullable = true)\n",
      " |-- int_rate: double (nullable = true)\n",
      " |-- installment: double (nullable = true)\n",
      " |-- annual_inc: integer (nullable = true)\n",
      " |-- dti: double (nullable = true)\n",
      " |-- delinq_2yrs: integer (nullable = true)\n",
      " |-- inq_last_6mths: integer (nullable = true)\n",
      " |-- open_acc: integer (nullable = true)\n",
      " |-- pub_rec: integer (nullable = true)\n",
      " |-- revol_bal: integer (nullable = true)\n",
      " |-- total_acc: integer (nullable = true)\n",
      " |-- out_prncp: double (nullable = true)\n",
      " |-- out_prncp_inv: double (nullable = true)\n",
      " |-- total_pymnt: double (nullable = true)\n",
      " |-- total_pymnt_inv: double (nullable = true)\n",
      " |-- total_rec_prncp: double (nullable = true)\n",
      " |-- total_rec_int: double (nullable = true)\n",
      " |-- total_rec_late_fee: double (nullable = true)\n",
      " |-- recoveries: double (nullable = true)\n",
      " |-- collection_recovery_fee: double (nullable = true)\n",
      " |-- default_ind: integer (nullable = true)\n",
      " |-- revol_util_imputed: double (nullable = true)\n",
      " |-- last_pymnt_amnt_imputed: double (nullable = true)\n",
      " |-- collections_12_mths_ex_med_imputed: integer (nullable = true)\n",
      " |-- policy_code_imputed: integer (nullable = true)\n",
      " |-- tot_coll_amt_imputed: integer (nullable = true)\n",
      " |-- tot_cur_bal_imputed: integer (nullable = true)\n",
      " |-- total_rev_hi_lim_imputed: integer (nullable = true)\n",
      " |-- pymnt_plan_index: integer (nullable = true)\n",
      " |-- application_type_index: integer (nullable = true)\n",
      " |-- acc_now_delinq_index: integer (nullable = true)\n",
      " |-- grade_index: integer (nullable = true)\n",
      " |-- purpose_index: integer (nullable = true)\n",
      " |-- home_ownership_index: integer (nullable = true)\n",
      " |-- emp_length_index: integer (nullable = true)\n",
      " |-- verification_status_index: integer (nullable = true)\n",
      " |-- sub_grade_index: integer (nullable = true)\n",
      " |-- term_index: integer (nullable = true)\n",
      " |-- initial_list_status_index: integer (nullable = true)\n",
      "\n"
     ]
    }
   ],
   "source": [
    "data.printSchema()"
   ]
  },
  {
   "cell_type": "code",
   "execution_count": 8,
   "id": "69d4d0fa",
   "metadata": {},
   "outputs": [],
   "source": [
    "data_reordered = data.select(\"id\",\"member_id\",\"loan_amnt\",\"funded_amnt\",\"funded_amnt_inv\",\"int_rate\",\"installment\",\"annual_inc\",\n",
    "                             \"dti\",\"delinq_2yrs\",\"inq_last_6mths\",\"open_acc\",\"pub_rec\",\"revol_bal\",\"total_acc\",\"out_prncp\",\"out_prncp_inv\",\n",
    "                             \"total_pymnt\",\"total_pymnt_inv\",\"total_rec_prncp\",\"total_rec_int\",\"total_rec_late_fee\",\"recoveries\",\n",
    "                             \"collection_recovery_fee\",\"revol_util_imputed\",\"last_pymnt_amnt_imputed\",\"collections_12_mths_ex_med_imputed\",\n",
    "                             \"policy_code_imputed\",\"tot_coll_amt_imputed\",\"tot_cur_bal_imputed\",\"total_rev_hi_lim_imputed\",\"pymnt_plan_index\",\n",
    "                             \"application_type_index\",\"acc_now_delinq_index\",\"grade_index\",\"purpose_index\",\"home_ownership_index\",\n",
    "                             \"emp_length_index\",\"verification_status_index\",\"sub_grade_index\",\"term_index\",\"initial_list_status_index\", \"default_ind\")"
   ]
  },
  {
   "cell_type": "code",
   "execution_count": 9,
   "id": "8ee90b0c",
   "metadata": {},
   "outputs": [],
   "source": [
    "features = [\"id\",\"member_id\",\"loan_amnt\",\"funded_amnt\",\"funded_amnt_inv\",\"int_rate\",\"installment\",\"annual_inc\",\n",
    "                             \"dti\",\"delinq_2yrs\",\"inq_last_6mths\",\"open_acc\",\"pub_rec\",\"revol_bal\",\"total_acc\",\"out_prncp\",\"out_prncp_inv\",\n",
    "                             \"total_pymnt\",\"total_pymnt_inv\",\"total_rec_prncp\",\"total_rec_int\",\"total_rec_late_fee\",\"recoveries\",\n",
    "                             \"collection_recovery_fee\",\"revol_util_imputed\",\"last_pymnt_amnt_imputed\",\"collections_12_mths_ex_med_imputed\",\n",
    "                             \"policy_code_imputed\",\"tot_coll_amt_imputed\",\"tot_cur_bal_imputed\",\"total_rev_hi_lim_imputed\",\"pymnt_plan_index\",\n",
    "                             \"application_type_index\",\"acc_now_delinq_index\",\"grade_index\",\"purpose_index\",\"home_ownership_index\",\n",
    "                             \"emp_length_index\",\"verification_status_index\",\"sub_grade_index\",\"term_index\",\"initial_list_status_index\"]\n"
   ]
  },
  {
   "cell_type": "code",
   "execution_count": 10,
   "id": "9b8580a1",
   "metadata": {},
   "outputs": [],
   "source": [
    "# Index labels, adding metadata to the label column.\n",
    "# Fit on whole dataset to include all labels in index.\n",
    "va = VectorAssembler(inputCols =features, outputCol=\"features\")"
   ]
  },
  {
   "cell_type": "code",
   "execution_count": 11,
   "id": "e80a8287",
   "metadata": {},
   "outputs": [],
   "source": [
    "va_df = va.transform(data)\n"
   ]
  },
  {
   "cell_type": "code",
   "execution_count": 12,
   "id": "b78be8e7",
   "metadata": {},
   "outputs": [
    {
     "name": "stdout",
     "output_type": "stream",
     "text": [
      "+--------------------+-----------+\n",
      "|            features|default_ind|\n",
      "+--------------------+-----------+\n",
      "|(42,[0,1,2,3,4,5,...|          0|\n",
      "|[1077430.0,131416...|          1|\n",
      "|[1077175.0,131352...|          0|\n",
      "|[1076863.0,127717...|          0|\n",
      "|[1075358.0,131174...|          0|\n",
      "|[1075269.0,131144...|          0|\n",
      "|[1069639.0,130474...|          0|\n",
      "|[1072053.0,128868...|          0|\n",
      "|[1071795.0,130695...|          1|\n",
      "|[1071570.0,130672...|          1|\n",
      "|[1070078.0,130520...|          0|\n",
      "|(42,[0,1,2,3,4,5,...|          0|\n",
      "|[1064687.0,129871...|          1|\n",
      "|(42,[0,1,2,3,4,5,...|          0|\n",
      "|[1069057.0,130350...|          1|\n",
      "|[1069759.0,130487...|          0|\n",
      "|[1065775.0,129969...|          0|\n",
      "|(42,[0,1,2,3,4,5,...|          0|\n",
      "|(42,[0,1,2,3,4,5,...|          0|\n",
      "|(42,[0,1,2,3,4,5,...|          0|\n",
      "+--------------------+-----------+\n",
      "only showing top 20 rows\n",
      "\n"
     ]
    }
   ],
   "source": [
    "va_df = va_df.select(['features', 'default_ind'])\n",
    "va_df.show()"
   ]
  },
  {
   "cell_type": "code",
   "execution_count": 13,
   "id": "0b9e5536",
   "metadata": {},
   "outputs": [],
   "source": [
    "seed = 142\n",
    "train_df, test_df = va_df.randomSplit([0.7,0.3], seed)"
   ]
  },
  {
   "cell_type": "code",
   "execution_count": 19,
   "id": "44ed01c6",
   "metadata": {},
   "outputs": [],
   "source": [
    "model = RandomForestClassifier(featuresCol = 'features', labelCol = 'default_ind' )"
   ]
  },
  {
   "cell_type": "code",
   "execution_count": 20,
   "id": "3bd56c95",
   "metadata": {},
   "outputs": [],
   "source": [
    "nbmodel = model.fit(train_df)"
   ]
  },
  {
   "cell_type": "code",
   "execution_count": 21,
   "id": "66dcd4ad",
   "metadata": {},
   "outputs": [
    {
     "name": "stdout",
     "output_type": "stream",
     "text": [
      "+--------------------+-----------+--------------------+--------------------+----------+\n",
      "|            features|default_ind|       rawPrediction|         probability|prediction|\n",
      "+--------------------+-----------+--------------------+--------------------+----------+\n",
      "|(42,[0,1,2,3,4,5,...|          0|[18.8776458244775...|[0.94388229122387...|       0.0|\n",
      "|(42,[0,1,2,3,4,5,...|          1|[14.1653291900552...|[0.70826645950276...|       0.0|\n",
      "|(42,[0,1,2,3,4,5,...|          0|[18.7805254825791...|[0.93902627412895...|       0.0|\n",
      "+--------------------+-----------+--------------------+--------------------+----------+\n",
      "only showing top 3 rows\n",
      "\n"
     ]
    }
   ],
   "source": [
    "pred  = nbmodel.transform(test_df)\n",
    "pred.show(3)"
   ]
  },
  {
   "cell_type": "code",
   "execution_count": 22,
   "id": "d6f00e46",
   "metadata": {},
   "outputs": [
    {
     "name": "stdout",
     "output_type": "stream",
     "text": [
      "Prediction Accuracy:  0.9777768322301527\n"
     ]
    }
   ],
   "source": [
    "evaluator= MulticlassClassificationEvaluator(predictionCol=\"prediction\", labelCol=\"default_ind\")\n",
    "accuracy = evaluator.evaluate(pred)\n",
    " \n",
    "print(\"Prediction Accuracy: \", accuracy)\n",
    " \n",
    "y_pred=pred.select(\"prediction\").collect()\n",
    "y_orig=pred.select(\"default_ind\").collect()"
   ]
  },
  {
   "cell_type": "code",
   "execution_count": 23,
   "id": "8e0facaf",
   "metadata": {},
   "outputs": [
    {
     "name": "stdout",
     "output_type": "stream",
     "text": [
      "Test Error =  0.02222316776984734\n"
     ]
    }
   ],
   "source": [
    "print (\"Test Error = \",  (1.0 - accuracy))\n"
   ]
  },
  {
   "cell_type": "code",
   "execution_count": null,
   "id": "77f089a0",
   "metadata": {},
   "outputs": [],
   "source": []
  }
 ],
 "metadata": {
  "kernelspec": {
   "display_name": "Python 3 (ipykernel)",
   "language": "python",
   "name": "python3"
  },
  "language_info": {
   "codemirror_mode": {
    "name": "ipython",
    "version": 3
   },
   "file_extension": ".py",
   "mimetype": "text/x-python",
   "name": "python",
   "nbconvert_exporter": "python",
   "pygments_lexer": "ipython3",
   "version": "3.9.12"
  }
 },
 "nbformat": 4,
 "nbformat_minor": 5
}
