{
  "nbformat": 4,
  "nbformat_minor": 0,
  "metadata": {
    "colab": {
      "provenance": [],
      "collapsed_sections": []
    },
    "kernelspec": {
      "name": "python3",
      "display_name": "Python 3"
    },
    "language_info": {
      "name": "python"
    }
  },
  "cells": [
    {
      "cell_type": "code",
      "execution_count": 1,
      "metadata": {
        "id": "c679Vyf4TGrm",
        "colab": {
          "base_uri": "https://localhost:8080/"
        },
        "outputId": "ca13f846-1d08-403c-d184-0961e552f188"
      },
      "outputs": [
        {
          "output_type": "stream",
          "name": "stdout",
          "text": [
            "Looking in indexes: https://pypi.org/simple, https://us-python.pkg.dev/colab-wheels/public/simple/\n",
            "Collecting pyspark\n",
            "  Downloading pyspark-3.3.0.tar.gz (281.3 MB)\n",
            "\u001b[K     |████████████████████████████████| 281.3 MB 47 kB/s \n",
            "\u001b[?25hCollecting py4j==0.10.9.5\n",
            "  Downloading py4j-0.10.9.5-py2.py3-none-any.whl (199 kB)\n",
            "\u001b[K     |████████████████████████████████| 199 kB 46.5 MB/s \n",
            "\u001b[?25hBuilding wheels for collected packages: pyspark\n",
            "  Building wheel for pyspark (setup.py) ... \u001b[?25l\u001b[?25hdone\n",
            "  Created wheel for pyspark: filename=pyspark-3.3.0-py2.py3-none-any.whl size=281764026 sha256=9a057b33fd174e64e129f18c3687f21186f986abda994ec70b6d41a2cce3b8e3\n",
            "  Stored in directory: /root/.cache/pip/wheels/7a/8e/1b/f73a52650d2e5f337708d9f6a1750d451a7349a867f928b885\n",
            "Successfully built pyspark\n",
            "Installing collected packages: py4j, pyspark\n",
            "Successfully installed py4j-0.10.9.5 pyspark-3.3.0\n"
          ]
        }
      ],
      "source": [
        "!pip install pyspark"
      ]
    },
    {
      "cell_type": "code",
      "source": [
        "!apt-get install openjdk-8-jdk-headless -qq > /dev/null"
      ],
      "metadata": {
        "id": "UV2RzTiWT5g-"
      },
      "execution_count": 2,
      "outputs": []
    },
    {
      "cell_type": "code",
      "source": [
        "!wget https://dlcdn.apache.org/spark/spark-3.3.0/spark-3.3.0-bin-hadoop2.tgz"
      ],
      "metadata": {
        "colab": {
          "base_uri": "https://localhost:8080/"
        },
        "id": "m04NuF_QT7PH",
        "outputId": "f29fd5e9-f46d-447d-9d87-fa3febc807c1"
      },
      "execution_count": 3,
      "outputs": [
        {
          "output_type": "stream",
          "name": "stdout",
          "text": [
            "--2022-10-19 20:20:53--  https://dlcdn.apache.org/spark/spark-3.3.0/spark-3.3.0-bin-hadoop2.tgz\n",
            "Resolving dlcdn.apache.org (dlcdn.apache.org)... 151.101.2.132, 2a04:4e42::644\n",
            "Connecting to dlcdn.apache.org (dlcdn.apache.org)|151.101.2.132|:443... connected.\n",
            "HTTP request sent, awaiting response... 200 OK\n",
            "Length: 274079476 (261M) [application/x-gzip]\n",
            "Saving to: ‘spark-3.3.0-bin-hadoop2.tgz’\n",
            "\n",
            "spark-3.3.0-bin-had 100%[===================>] 261.38M   220MB/s    in 1.2s    \n",
            "\n",
            "2022-10-19 20:20:54 (220 MB/s) - ‘spark-3.3.0-bin-hadoop2.tgz’ saved [274079476/274079476]\n",
            "\n"
          ]
        }
      ]
    },
    {
      "cell_type": "code",
      "source": [
        "!tar xf spark-3.3.0-bin-hadoop2.tgz"
      ],
      "metadata": {
        "id": "wGDu83pOT9DQ"
      },
      "execution_count": 4,
      "outputs": []
    },
    {
      "cell_type": "code",
      "source": [
        "import os\n",
        "os.environ[\"JAVA_HOME\"] = \"/usr/lib/jvm/java-8-openjdk-amd64\"\n",
        "os.environ[\"SPARK_HOME\"] = \"spark-3.3.0-bin-hadoop2\""
      ],
      "metadata": {
        "id": "k4P6DUcOT-7x"
      },
      "execution_count": 5,
      "outputs": []
    },
    {
      "cell_type": "code",
      "source": [
        "!pip install petastorm"
      ],
      "metadata": {
        "colab": {
          "base_uri": "https://localhost:8080/"
        },
        "id": "t7LHX9yFUA0G",
        "outputId": "a17c6c6a-8808-4583-e69a-e53e7613729c"
      },
      "execution_count": 6,
      "outputs": [
        {
          "output_type": "stream",
          "name": "stdout",
          "text": [
            "Looking in indexes: https://pypi.org/simple, https://us-python.pkg.dev/colab-wheels/public/simple/\n",
            "Collecting petastorm\n",
            "  Downloading petastorm-0.12.0-py2.py3-none-any.whl (285 kB)\n",
            "\u001b[K     |████████████████████████████████| 285 kB 4.7 MB/s \n",
            "\u001b[?25hRequirement already satisfied: numpy>=1.13.3 in /usr/local/lib/python3.7/dist-packages (from petastorm) (1.21.6)\n",
            "Requirement already satisfied: pyarrow>=0.17.1 in /usr/local/lib/python3.7/dist-packages (from petastorm) (6.0.1)\n",
            "Requirement already satisfied: psutil>=4.0.0 in /usr/local/lib/python3.7/dist-packages (from petastorm) (5.4.8)\n",
            "Requirement already satisfied: six>=1.5.0 in /usr/local/lib/python3.7/dist-packages (from petastorm) (1.15.0)\n",
            "Collecting diskcache>=3.0.0\n",
            "  Downloading diskcache-5.4.0-py3-none-any.whl (44 kB)\n",
            "\u001b[K     |████████████████████████████████| 44 kB 1.2 MB/s \n",
            "\u001b[?25hRequirement already satisfied: pyspark>=2.1.0 in /usr/local/lib/python3.7/dist-packages (from petastorm) (3.3.0)\n",
            "Requirement already satisfied: dill>=0.2.1 in /usr/local/lib/python3.7/dist-packages (from petastorm) (0.3.5.1)\n",
            "Requirement already satisfied: pandas>=0.19.0 in /usr/local/lib/python3.7/dist-packages (from petastorm) (1.3.5)\n",
            "Requirement already satisfied: fsspec in /usr/local/lib/python3.7/dist-packages (from petastorm) (2022.8.2)\n",
            "Requirement already satisfied: future>=0.10.2 in /usr/local/lib/python3.7/dist-packages (from petastorm) (0.16.0)\n",
            "Requirement already satisfied: pyzmq>=14.0.0 in /usr/local/lib/python3.7/dist-packages (from petastorm) (23.2.1)\n",
            "Requirement already satisfied: packaging>=15.0 in /usr/local/lib/python3.7/dist-packages (from petastorm) (21.3)\n",
            "Requirement already satisfied: pyparsing!=3.0.5,>=2.0.2 in /usr/local/lib/python3.7/dist-packages (from packaging>=15.0->petastorm) (3.0.9)\n",
            "Requirement already satisfied: python-dateutil>=2.7.3 in /usr/local/lib/python3.7/dist-packages (from pandas>=0.19.0->petastorm) (2.8.2)\n",
            "Requirement already satisfied: pytz>=2017.3 in /usr/local/lib/python3.7/dist-packages (from pandas>=0.19.0->petastorm) (2022.4)\n",
            "Requirement already satisfied: py4j==0.10.9.5 in /usr/local/lib/python3.7/dist-packages (from pyspark>=2.1.0->petastorm) (0.10.9.5)\n",
            "Installing collected packages: diskcache, petastorm\n",
            "Successfully installed diskcache-5.4.0 petastorm-0.12.0\n"
          ]
        }
      ]
    },
    {
      "cell_type": "code",
      "source": [
        "!pip install findspark"
      ],
      "metadata": {
        "colab": {
          "base_uri": "https://localhost:8080/"
        },
        "id": "1dXVulq7UDOV",
        "outputId": "d20e624b-ccf3-4080-df1a-f8f55458771d"
      },
      "execution_count": 7,
      "outputs": [
        {
          "output_type": "stream",
          "name": "stdout",
          "text": [
            "Looking in indexes: https://pypi.org/simple, https://us-python.pkg.dev/colab-wheels/public/simple/\n",
            "Collecting findspark\n",
            "  Downloading findspark-2.0.1-py2.py3-none-any.whl (4.4 kB)\n",
            "Installing collected packages: findspark\n",
            "Successfully installed findspark-2.0.1\n"
          ]
        }
      ]
    },
    {
      "cell_type": "code",
      "source": [
        "!pip install tensorflow_decision_forests"
      ],
      "metadata": {
        "colab": {
          "base_uri": "https://localhost:8080/"
        },
        "id": "nhtXK-ktWavH",
        "outputId": "c41f00f9-b0db-4df9-ed74-bc0869a86768"
      },
      "execution_count": 8,
      "outputs": [
        {
          "output_type": "stream",
          "name": "stdout",
          "text": [
            "Looking in indexes: https://pypi.org/simple, https://us-python.pkg.dev/colab-wheels/public/simple/\n",
            "Collecting tensorflow_decision_forests\n",
            "  Downloading tensorflow_decision_forests-1.0.1-cp37-cp37m-manylinux_2_17_x86_64.manylinux2014_x86_64.whl (16.0 MB)\n",
            "\u001b[K     |████████████████████████████████| 16.0 MB 4.8 MB/s \n",
            "\u001b[?25hRequirement already satisfied: wheel in /usr/local/lib/python3.7/dist-packages (from tensorflow_decision_forests) (0.37.1)\n",
            "Collecting wurlitzer\n",
            "  Downloading wurlitzer-3.0.2-py3-none-any.whl (7.3 kB)\n",
            "Requirement already satisfied: numpy in /usr/local/lib/python3.7/dist-packages (from tensorflow_decision_forests) (1.21.6)\n",
            "Requirement already satisfied: absl-py in /usr/local/lib/python3.7/dist-packages (from tensorflow_decision_forests) (1.3.0)\n",
            "Collecting tensorflow~=2.10.0\n",
            "  Downloading tensorflow-2.10.0-cp37-cp37m-manylinux_2_17_x86_64.manylinux2014_x86_64.whl (578.0 MB)\n",
            "\u001b[K     |████████████████████████████████| 578.0 MB 14 kB/s \n",
            "\u001b[?25hRequirement already satisfied: pandas in /usr/local/lib/python3.7/dist-packages (from tensorflow_decision_forests) (1.3.5)\n",
            "Requirement already satisfied: six in /usr/local/lib/python3.7/dist-packages (from tensorflow_decision_forests) (1.15.0)\n",
            "Requirement already satisfied: tensorflow-io-gcs-filesystem>=0.23.1 in /usr/local/lib/python3.7/dist-packages (from tensorflow~=2.10.0->tensorflow_decision_forests) (0.27.0)\n",
            "Requirement already satisfied: astunparse>=1.6.0 in /usr/local/lib/python3.7/dist-packages (from tensorflow~=2.10.0->tensorflow_decision_forests) (1.6.3)\n",
            "Requirement already satisfied: keras-preprocessing>=1.1.1 in /usr/local/lib/python3.7/dist-packages (from tensorflow~=2.10.0->tensorflow_decision_forests) (1.1.2)\n",
            "Requirement already satisfied: protobuf<3.20,>=3.9.2 in /usr/local/lib/python3.7/dist-packages (from tensorflow~=2.10.0->tensorflow_decision_forests) (3.17.3)\n",
            "Requirement already satisfied: h5py>=2.9.0 in /usr/local/lib/python3.7/dist-packages (from tensorflow~=2.10.0->tensorflow_decision_forests) (3.1.0)\n",
            "Requirement already satisfied: wrapt>=1.11.0 in /usr/local/lib/python3.7/dist-packages (from tensorflow~=2.10.0->tensorflow_decision_forests) (1.14.1)\n",
            "Collecting flatbuffers>=2.0\n",
            "  Downloading flatbuffers-22.9.24-py2.py3-none-any.whl (26 kB)\n",
            "Requirement already satisfied: termcolor>=1.1.0 in /usr/local/lib/python3.7/dist-packages (from tensorflow~=2.10.0->tensorflow_decision_forests) (2.0.1)\n",
            "Requirement already satisfied: setuptools in /usr/local/lib/python3.7/dist-packages (from tensorflow~=2.10.0->tensorflow_decision_forests) (57.4.0)\n",
            "Collecting tensorboard<2.11,>=2.10\n",
            "  Downloading tensorboard-2.10.1-py3-none-any.whl (5.9 MB)\n",
            "\u001b[K     |████████████████████████████████| 5.9 MB 45.2 MB/s \n",
            "\u001b[?25hRequirement already satisfied: gast<=0.4.0,>=0.2.1 in /usr/local/lib/python3.7/dist-packages (from tensorflow~=2.10.0->tensorflow_decision_forests) (0.4.0)\n",
            "Requirement already satisfied: google-pasta>=0.1.1 in /usr/local/lib/python3.7/dist-packages (from tensorflow~=2.10.0->tensorflow_decision_forests) (0.2.0)\n",
            "Collecting tensorflow-estimator<2.11,>=2.10.0\n",
            "  Downloading tensorflow_estimator-2.10.0-py2.py3-none-any.whl (438 kB)\n",
            "\u001b[K     |████████████████████████████████| 438 kB 67.2 MB/s \n",
            "\u001b[?25hRequirement already satisfied: packaging in /usr/local/lib/python3.7/dist-packages (from tensorflow~=2.10.0->tensorflow_decision_forests) (21.3)\n",
            "Collecting keras<2.11,>=2.10.0\n",
            "  Downloading keras-2.10.0-py2.py3-none-any.whl (1.7 MB)\n",
            "\u001b[K     |████████████████████████████████| 1.7 MB 53.5 MB/s \n",
            "\u001b[?25hRequirement already satisfied: opt-einsum>=2.3.2 in /usr/local/lib/python3.7/dist-packages (from tensorflow~=2.10.0->tensorflow_decision_forests) (3.3.0)\n",
            "Requirement already satisfied: typing-extensions>=3.6.6 in /usr/local/lib/python3.7/dist-packages (from tensorflow~=2.10.0->tensorflow_decision_forests) (4.1.1)\n",
            "Requirement already satisfied: grpcio<2.0,>=1.24.3 in /usr/local/lib/python3.7/dist-packages (from tensorflow~=2.10.0->tensorflow_decision_forests) (1.49.1)\n",
            "Requirement already satisfied: libclang>=13.0.0 in /usr/local/lib/python3.7/dist-packages (from tensorflow~=2.10.0->tensorflow_decision_forests) (14.0.6)\n",
            "Requirement already satisfied: cached-property in /usr/local/lib/python3.7/dist-packages (from h5py>=2.9.0->tensorflow~=2.10.0->tensorflow_decision_forests) (1.5.2)\n",
            "Requirement already satisfied: tensorboard-data-server<0.7.0,>=0.6.0 in /usr/local/lib/python3.7/dist-packages (from tensorboard<2.11,>=2.10->tensorflow~=2.10.0->tensorflow_decision_forests) (0.6.1)\n",
            "Requirement already satisfied: markdown>=2.6.8 in /usr/local/lib/python3.7/dist-packages (from tensorboard<2.11,>=2.10->tensorflow~=2.10.0->tensorflow_decision_forests) (3.4.1)\n",
            "Requirement already satisfied: google-auth<3,>=1.6.3 in /usr/local/lib/python3.7/dist-packages (from tensorboard<2.11,>=2.10->tensorflow~=2.10.0->tensorflow_decision_forests) (1.35.0)\n",
            "Requirement already satisfied: tensorboard-plugin-wit>=1.6.0 in /usr/local/lib/python3.7/dist-packages (from tensorboard<2.11,>=2.10->tensorflow~=2.10.0->tensorflow_decision_forests) (1.8.1)\n",
            "Requirement already satisfied: werkzeug>=1.0.1 in /usr/local/lib/python3.7/dist-packages (from tensorboard<2.11,>=2.10->tensorflow~=2.10.0->tensorflow_decision_forests) (1.0.1)\n",
            "Requirement already satisfied: requests<3,>=2.21.0 in /usr/local/lib/python3.7/dist-packages (from tensorboard<2.11,>=2.10->tensorflow~=2.10.0->tensorflow_decision_forests) (2.23.0)\n",
            "Requirement already satisfied: google-auth-oauthlib<0.5,>=0.4.1 in /usr/local/lib/python3.7/dist-packages (from tensorboard<2.11,>=2.10->tensorflow~=2.10.0->tensorflow_decision_forests) (0.4.6)\n",
            "Requirement already satisfied: cachetools<5.0,>=2.0.0 in /usr/local/lib/python3.7/dist-packages (from google-auth<3,>=1.6.3->tensorboard<2.11,>=2.10->tensorflow~=2.10.0->tensorflow_decision_forests) (4.2.4)\n",
            "Requirement already satisfied: pyasn1-modules>=0.2.1 in /usr/local/lib/python3.7/dist-packages (from google-auth<3,>=1.6.3->tensorboard<2.11,>=2.10->tensorflow~=2.10.0->tensorflow_decision_forests) (0.2.8)\n",
            "Requirement already satisfied: rsa<5,>=3.1.4 in /usr/local/lib/python3.7/dist-packages (from google-auth<3,>=1.6.3->tensorboard<2.11,>=2.10->tensorflow~=2.10.0->tensorflow_decision_forests) (4.9)\n",
            "Requirement already satisfied: requests-oauthlib>=0.7.0 in /usr/local/lib/python3.7/dist-packages (from google-auth-oauthlib<0.5,>=0.4.1->tensorboard<2.11,>=2.10->tensorflow~=2.10.0->tensorflow_decision_forests) (1.3.1)\n",
            "Requirement already satisfied: importlib-metadata>=4.4 in /usr/local/lib/python3.7/dist-packages (from markdown>=2.6.8->tensorboard<2.11,>=2.10->tensorflow~=2.10.0->tensorflow_decision_forests) (4.13.0)\n",
            "Requirement already satisfied: zipp>=0.5 in /usr/local/lib/python3.7/dist-packages (from importlib-metadata>=4.4->markdown>=2.6.8->tensorboard<2.11,>=2.10->tensorflow~=2.10.0->tensorflow_decision_forests) (3.9.0)\n",
            "Requirement already satisfied: pyasn1<0.5.0,>=0.4.6 in /usr/local/lib/python3.7/dist-packages (from pyasn1-modules>=0.2.1->google-auth<3,>=1.6.3->tensorboard<2.11,>=2.10->tensorflow~=2.10.0->tensorflow_decision_forests) (0.4.8)\n",
            "Requirement already satisfied: certifi>=2017.4.17 in /usr/local/lib/python3.7/dist-packages (from requests<3,>=2.21.0->tensorboard<2.11,>=2.10->tensorflow~=2.10.0->tensorflow_decision_forests) (2022.9.24)\n",
            "Requirement already satisfied: chardet<4,>=3.0.2 in /usr/local/lib/python3.7/dist-packages (from requests<3,>=2.21.0->tensorboard<2.11,>=2.10->tensorflow~=2.10.0->tensorflow_decision_forests) (3.0.4)\n",
            "Requirement already satisfied: idna<3,>=2.5 in /usr/local/lib/python3.7/dist-packages (from requests<3,>=2.21.0->tensorboard<2.11,>=2.10->tensorflow~=2.10.0->tensorflow_decision_forests) (2.10)\n",
            "Requirement already satisfied: urllib3!=1.25.0,!=1.25.1,<1.26,>=1.21.1 in /usr/local/lib/python3.7/dist-packages (from requests<3,>=2.21.0->tensorboard<2.11,>=2.10->tensorflow~=2.10.0->tensorflow_decision_forests) (1.24.3)\n",
            "Requirement already satisfied: oauthlib>=3.0.0 in /usr/local/lib/python3.7/dist-packages (from requests-oauthlib>=0.7.0->google-auth-oauthlib<0.5,>=0.4.1->tensorboard<2.11,>=2.10->tensorflow~=2.10.0->tensorflow_decision_forests) (3.2.1)\n",
            "Requirement already satisfied: pyparsing!=3.0.5,>=2.0.2 in /usr/local/lib/python3.7/dist-packages (from packaging->tensorflow~=2.10.0->tensorflow_decision_forests) (3.0.9)\n",
            "Requirement already satisfied: python-dateutil>=2.7.3 in /usr/local/lib/python3.7/dist-packages (from pandas->tensorflow_decision_forests) (2.8.2)\n",
            "Requirement already satisfied: pytz>=2017.3 in /usr/local/lib/python3.7/dist-packages (from pandas->tensorflow_decision_forests) (2022.4)\n",
            "Installing collected packages: tensorflow-estimator, tensorboard, keras, flatbuffers, wurlitzer, tensorflow, tensorflow-decision-forests\n",
            "  Attempting uninstall: tensorflow-estimator\n",
            "    Found existing installation: tensorflow-estimator 2.9.0\n",
            "    Uninstalling tensorflow-estimator-2.9.0:\n",
            "      Successfully uninstalled tensorflow-estimator-2.9.0\n",
            "  Attempting uninstall: tensorboard\n",
            "    Found existing installation: tensorboard 2.9.1\n",
            "    Uninstalling tensorboard-2.9.1:\n",
            "      Successfully uninstalled tensorboard-2.9.1\n",
            "  Attempting uninstall: keras\n",
            "    Found existing installation: keras 2.9.0\n",
            "    Uninstalling keras-2.9.0:\n",
            "      Successfully uninstalled keras-2.9.0\n",
            "  Attempting uninstall: flatbuffers\n",
            "    Found existing installation: flatbuffers 1.12\n",
            "    Uninstalling flatbuffers-1.12:\n",
            "      Successfully uninstalled flatbuffers-1.12\n",
            "  Attempting uninstall: tensorflow\n",
            "    Found existing installation: tensorflow 2.9.2\n",
            "    Uninstalling tensorflow-2.9.2:\n",
            "      Successfully uninstalled tensorflow-2.9.2\n",
            "Successfully installed flatbuffers-22.9.24 keras-2.10.0 tensorboard-2.10.1 tensorflow-2.10.0 tensorflow-decision-forests-1.0.1 tensorflow-estimator-2.10.0 wurlitzer-3.0.2\n"
          ]
        }
      ]
    },
    {
      "cell_type": "code",
      "source": [
        "import findspark\n",
        "findspark.init()"
      ],
      "metadata": {
        "id": "t0hY5JdJUFHN"
      },
      "execution_count": 9,
      "outputs": []
    },
    {
      "cell_type": "code",
      "source": [
        "from google.colab import drive\n",
        "drive.mount('/content/drive')"
      ],
      "metadata": {
        "id": "T5lVvlfAUHJ3",
        "colab": {
          "base_uri": "https://localhost:8080/"
        },
        "outputId": "3976ec8e-1fbf-422f-f319-a1421941541d"
      },
      "execution_count": 10,
      "outputs": [
        {
          "output_type": "stream",
          "name": "stdout",
          "text": [
            "Mounted at /content/drive\n"
          ]
        }
      ]
    },
    {
      "cell_type": "code",
      "source": [
        "from pyspark.sql import SparkSession\n",
        "spark = SparkSession \\\n",
        "    .builder \\\n",
        "    .config(\"spark.csci316.pandas.randomforest\", \"false\") \\\n",
        "    .getOrCreate()\n",
        "spark"
      ],
      "metadata": {
        "id": "xguHpxFWUIuY",
        "colab": {
          "base_uri": "https://localhost:8080/",
          "height": 216
        },
        "outputId": "1685bf64-c176-4135-f3b9-60f046eb6357"
      },
      "execution_count": 14,
      "outputs": [
        {
          "output_type": "execute_result",
          "data": {
            "text/plain": [
              "<pyspark.sql.session.SparkSession at 0x7f034204fb90>"
            ],
            "text/html": [
              "\n",
              "            <div>\n",
              "                <p><b>SparkSession - in-memory</b></p>\n",
              "                \n",
              "        <div>\n",
              "            <p><b>SparkContext</b></p>\n",
              "\n",
              "            <p><a href=\"http://c1cd6c2d7eb7:4040\">Spark UI</a></p>\n",
              "\n",
              "            <dl>\n",
              "              <dt>Version</dt>\n",
              "                <dd><code>v3.3.0</code></dd>\n",
              "              <dt>Master</dt>\n",
              "                <dd><code>local[*]</code></dd>\n",
              "              <dt>AppName</dt>\n",
              "                <dd><code>pyspark-shell</code></dd>\n",
              "            </dl>\n",
              "        </div>\n",
              "        \n",
              "            </div>\n",
              "        "
            ]
          },
          "metadata": {},
          "execution_count": 14
        }
      ]
    },
    {
      "cell_type": "code",
      "source": [
        "#Read the csv file\n",
        "data = spark.read.csv(\"/content/drive/MyDrive/CSCI316/cleanWithHeader.csv\", inferSchema=True, header=True)"
      ],
      "metadata": {
        "id": "z0DeMiBFUb-O"
      },
      "execution_count": 15,
      "outputs": []
    },
    {
      "cell_type": "code",
      "source": [
        "from petastorm.spark import SparkDatasetConverter, make_spark_converter\n",
        "import tensorflow_decision_forests as tfdf\n",
        "import os\n",
        "import numpy as np\n",
        "import pandas as pd\n",
        "import tensorflow as tf\n",
        "from sklearn.metrics import confusion_matrix, classification_report\n",
        "import math"
      ],
      "metadata": {
        "id": "jBJGjRo6V0tv",
        "colab": {
          "base_uri": "https://localhost:8080/"
        },
        "outputId": "98395959-9695-47b6-f276-9b560a6fa9ca"
      },
      "execution_count": 11,
      "outputs": [
        {
          "output_type": "stream",
          "name": "stderr",
          "text": [
            "/usr/local/lib/python3.7/dist-packages/petastorm/spark/spark_dataset_converter.py:28: FutureWarning: pyarrow.LocalFileSystem is deprecated as of 2.0.0, please use pyarrow.fs.LocalFileSystem instead.\n",
            "  from pyarrow import LocalFileSystem\n"
          ]
        }
      ]
    },
    {
      "cell_type": "code",
      "source": [
        "data.show(10)"
      ],
      "metadata": {
        "id": "tDZ244AOUyEh",
        "colab": {
          "base_uri": "https://localhost:8080/"
        },
        "outputId": "e81caf18-3268-4696-da4e-b7431d4c1e42"
      },
      "execution_count": 16,
      "outputs": [
        {
          "output_type": "stream",
          "name": "stdout",
          "text": [
            "+-------+---------+---------+-----------+---------------+--------+-----------+----------+-----+-----------+--------------+--------+-------+---------+---------+---------+-------------+-----------+---------------+---------------+-------------+------------------+----------+-----------------------+------------------+-----------------------+----------------------------------+-------------------+--------------------+-------------------+------------------------+----------------+----------------------+--------------------+-----------+-------------+--------------------+----------------+-------------------------+---------------+----------+-------------------------+-----------+\n",
            "|     id|member_id|loan_amnt|funded_amnt|funded_amnt_inv|int_rate|installment|annual_inc|  dti|delinq_2yrs|inq_last_6mths|open_acc|pub_rec|revol_bal|total_acc|out_prncp|out_prncp_inv|total_pymnt|total_pymnt_inv|total_rec_prncp|total_rec_int|total_rec_late_fee|recoveries|collection_recovery_fee|revol_util_imputed|last_pymnt_amnt_imputed|collections_12_mths_ex_med_imputed|policy_code_imputed|tot_coll_amt_imputed|tot_cur_bal_imputed|total_rev_hi_lim_imputed|pymnt_plan_index|application_type_index|acc_now_delinq_index|grade_index|purpose_index|home_ownership_index|emp_length_index|verification_status_index|sub_grade_index|term_index|initial_list_status_index|default_ind|\n",
            "+-------+---------+---------+-----------+---------------+--------+-----------+----------+-----+-----------+--------------+--------+-------+---------+---------+---------+-------------+-----------+---------------+---------------+-------------+------------------+----------+-----------------------+------------------+-----------------------+----------------------------------+-------------------+--------------------+-------------------+------------------------+----------------+----------------------+--------------------+-----------+-------------+--------------------+----------------+-------------------------+---------------+----------+-------------------------+-----------+\n",
            "|1077501|  1296599|     5000|       5000|         4975.0|   10.65|     162.87|     24000|27.65|          0|             1|       3|      0|    13648|        9|      0.0|          0.0|5861.071414|        5831.78|         5000.0|       861.07|               0.0|       0.0|                    0.0|              83.7|                 171.62|                                 0|                  1|                   0|              80935|                   23800|             0.0|                   0.0|                 0.0|        0.0|          1.0|                 1.0|             0.0|                      1.0|            5.0|       0.0|                      0.0|          0|\n",
            "|1077430|  1314167|     2500|       2500|         2500.0|   15.27|      59.83|     30000|  1.0|          0|             5|       3|      0|     1687|        4|      0.0|          0.0|    1008.71|        1008.71|         456.46|       435.17|               0.0|    117.08|                   1.11|               9.4|                 119.66|                                 0|                  1|                   0|              80935|                   23800|             0.0|                   0.0|                 0.0|        1.0|          6.0|                 1.0|             2.0|                      0.0|            7.0|       1.0|                      0.0|          1|\n",
            "|1077175|  1313524|     2400|       2400|         2400.0|   15.96|      84.33|     12252| 8.72|          0|             2|       2|      0|     2956|       10|      0.0|          0.0|3003.653644|        3003.65|         2400.0|       603.65|               0.0|       0.0|                    0.0|              98.5|                 649.91|                                 0|                  1|                   0|              80935|                   23800|             0.0|                   0.0|                 0.0|        1.0|          5.0|                 1.0|             0.0|                      2.0|           10.0|       0.0|                      0.0|          0|\n",
            "|1076863|  1277178|    10000|      10000|        10000.0|   13.49|     339.31|     49200| 20.0|          0|             1|      10|      0|     5598|       37|      0.0|          0.0|12226.30221|        12226.3|        10000.0|      2209.33|             16.97|       0.0|                    0.0|              21.0|                 357.48|                                 0|                  1|                   0|              80935|                   23800|             0.0|                   0.0|                 0.0|        1.0|          3.0|                 1.0|             0.0|                      0.0|            2.0|       0.0|                      0.0|          0|\n",
            "|1075358|  1311748|     3000|       3000|         3000.0|   12.69|      67.79|     80000|17.94|          0|             0|      15|      0|    27783|       38|    766.9|        766.9|    3242.17|        3242.17|         2233.1|      1009.07|               0.0|       0.0|                    0.0|              53.9|                  67.79|                                 0|                  1|                   0|              80935|                   23800|             0.0|                   0.0|                 0.0|        0.0|          3.0|                 1.0|             4.0|                      0.0|            6.0|       1.0|                      0.0|          0|\n",
            "|1075269|  1311441|     5000|       5000|         5000.0|     7.9|     156.46|     36000| 11.2|          0|             3|       9|      0|     7963|       12|      0.0|          0.0|5631.377753|        5631.38|         5000.0|       631.38|               0.0|       0.0|                    0.0|              28.3|                 161.03|                                 0|                  1|                   0|              80935|                   23800|             0.0|                   0.0|                 0.0|        2.0|         11.0|                 1.0|             3.0|                      0.0|           12.0|       0.0|                      0.0|          0|\n",
            "|1069639|  1304742|     7000|       7000|         7000.0|   15.96|     170.08|     47004|23.51|          0|             1|       7|      0|    17726|       11|  1889.15|      1889.15|    8136.84|        8136.84|        5110.85|      3025.99|               0.0|       0.0|                    0.0|              85.6|                 170.08|                                 0|                  1|                   0|              80935|                   23800|             0.0|                   0.0|                 0.0|        1.0|          0.0|                 1.0|             9.0|                      2.0|           10.0|       1.0|                      0.0|          0|\n",
            "|1072053|  1288686|     3000|       3000|         3000.0|   18.64|     109.43|     48000| 5.35|          0|             2|       4|      0|     8221|        4|      0.0|          0.0|3938.144334|        3938.14|         3000.0|       938.14|               0.0|       0.0|                    0.0|              87.5|                 111.34|                                 0|                  1|                   0|              80935|                   23800|             0.0|                   0.0|                 0.0|        4.0|          6.0|                 1.0|            11.0|                      0.0|           20.0|       0.0|                      0.0|          0|\n",
            "|1071795|  1306957|     5600|       5600|         5600.0|   21.28|     152.39|     40000| 5.55|          0|             2|      11|      0|     5210|       13|      0.0|          0.0|     646.02|         646.02|         162.02|       294.94|               0.0|    189.06|                   2.09|              32.6|                 152.39|                                 0|                  1|                   0|              80935|                   23800|             0.0|                   0.0|                 0.0|        5.0|          5.0|                 2.0|             6.0|                      0.0|           26.0|       1.0|                      0.0|          1|\n",
            "|1071570|  1306721|     5375|       5375|         5350.0|   12.69|     121.45|     15000|18.08|          0|             0|       2|      0|     9279|        3|      0.0|          0.0|    1476.19|        1469.34|         673.48|       533.42|               0.0|    269.29|                   2.52|              36.5|                 121.45|                                 0|                  1|                   0|              80935|                   23800|             0.0|                   0.0|                 0.0|        0.0|          3.0|                 1.0|             2.0|                      1.0|            6.0|       1.0|                      0.0|          1|\n",
            "+-------+---------+---------+-----------+---------------+--------+-----------+----------+-----+-----------+--------------+--------+-------+---------+---------+---------+-------------+-----------+---------------+---------------+-------------+------------------+----------+-----------------------+------------------+-----------------------+----------------------------------+-------------------+--------------------+-------------------+------------------------+----------------+----------------------+--------------------+-----------+-------------+--------------------+----------------+-------------------------+---------------+----------+-------------------------+-----------+\n",
            "only showing top 10 rows\n",
            "\n"
          ]
        }
      ]
    },
    {
      "cell_type": "code",
      "source": [
        "data.printSchema()"
      ],
      "metadata": {
        "id": "Pq-4_cdKeoCA",
        "colab": {
          "base_uri": "https://localhost:8080/"
        },
        "outputId": "1ac5bdc3-27b8-469a-9659-56d4defe4752"
      },
      "execution_count": 17,
      "outputs": [
        {
          "output_type": "stream",
          "name": "stdout",
          "text": [
            "root\n",
            " |-- id: integer (nullable = true)\n",
            " |-- member_id: integer (nullable = true)\n",
            " |-- loan_amnt: integer (nullable = true)\n",
            " |-- funded_amnt: integer (nullable = true)\n",
            " |-- funded_amnt_inv: double (nullable = true)\n",
            " |-- int_rate: double (nullable = true)\n",
            " |-- installment: double (nullable = true)\n",
            " |-- annual_inc: integer (nullable = true)\n",
            " |-- dti: double (nullable = true)\n",
            " |-- delinq_2yrs: integer (nullable = true)\n",
            " |-- inq_last_6mths: integer (nullable = true)\n",
            " |-- open_acc: integer (nullable = true)\n",
            " |-- pub_rec: integer (nullable = true)\n",
            " |-- revol_bal: integer (nullable = true)\n",
            " |-- total_acc: integer (nullable = true)\n",
            " |-- out_prncp: double (nullable = true)\n",
            " |-- out_prncp_inv: double (nullable = true)\n",
            " |-- total_pymnt: double (nullable = true)\n",
            " |-- total_pymnt_inv: double (nullable = true)\n",
            " |-- total_rec_prncp: double (nullable = true)\n",
            " |-- total_rec_int: double (nullable = true)\n",
            " |-- total_rec_late_fee: double (nullable = true)\n",
            " |-- recoveries: double (nullable = true)\n",
            " |-- collection_recovery_fee: double (nullable = true)\n",
            " |-- revol_util_imputed: double (nullable = true)\n",
            " |-- last_pymnt_amnt_imputed: double (nullable = true)\n",
            " |-- collections_12_mths_ex_med_imputed: integer (nullable = true)\n",
            " |-- policy_code_imputed: integer (nullable = true)\n",
            " |-- tot_coll_amt_imputed: integer (nullable = true)\n",
            " |-- tot_cur_bal_imputed: integer (nullable = true)\n",
            " |-- total_rev_hi_lim_imputed: integer (nullable = true)\n",
            " |-- pymnt_plan_index: double (nullable = true)\n",
            " |-- application_type_index: double (nullable = true)\n",
            " |-- acc_now_delinq_index: double (nullable = true)\n",
            " |-- grade_index: double (nullable = true)\n",
            " |-- purpose_index: double (nullable = true)\n",
            " |-- home_ownership_index: double (nullable = true)\n",
            " |-- emp_length_index: double (nullable = true)\n",
            " |-- verification_status_index: double (nullable = true)\n",
            " |-- sub_grade_index: double (nullable = true)\n",
            " |-- term_index: double (nullable = true)\n",
            " |-- initial_list_status_index: double (nullable = true)\n",
            " |-- default_ind: integer (nullable = true)\n",
            "\n"
          ]
        }
      ]
    },
    {
      "cell_type": "code",
      "source": [
        "df_train, df_val = data.randomSplit([0.7, 0.3], seed=135)\n",
        "\n",
        "df_train = df_train.repartition(2)\n",
        "df_val = df_val.repartition(2)"
      ],
      "metadata": {
        "id": "IlZJ_TMRVAHe"
      },
      "execution_count": 18,
      "outputs": []
    },
    {
      "cell_type": "code",
      "source": [
        "df_train.show()"
      ],
      "metadata": {
        "id": "VzNRcyNZVEgc",
        "colab": {
          "base_uri": "https://localhost:8080/"
        },
        "outputId": "1525f9b7-7cf3-480e-a263-2ac953c9b315"
      },
      "execution_count": 19,
      "outputs": [
        {
          "output_type": "stream",
          "name": "stdout",
          "text": [
            "+--------+---------+---------+-----------+---------------+--------+-----------+----------+-----+-----------+--------------+--------+-------+---------+---------+---------+-------------+-----------+---------------+---------------+-------------+------------------+----------+-----------------------+------------------+-----------------------+----------------------------------+-------------------+--------------------+-------------------+------------------------+----------------+----------------------+--------------------+-----------+-------------+--------------------+----------------+-------------------------+---------------+----------+-------------------------+-----------+\n",
            "|      id|member_id|loan_amnt|funded_amnt|funded_amnt_inv|int_rate|installment|annual_inc|  dti|delinq_2yrs|inq_last_6mths|open_acc|pub_rec|revol_bal|total_acc|out_prncp|out_prncp_inv|total_pymnt|total_pymnt_inv|total_rec_prncp|total_rec_int|total_rec_late_fee|recoveries|collection_recovery_fee|revol_util_imputed|last_pymnt_amnt_imputed|collections_12_mths_ex_med_imputed|policy_code_imputed|tot_coll_amt_imputed|tot_cur_bal_imputed|total_rev_hi_lim_imputed|pymnt_plan_index|application_type_index|acc_now_delinq_index|grade_index|purpose_index|home_ownership_index|emp_length_index|verification_status_index|sub_grade_index|term_index|initial_list_status_index|default_ind|\n",
            "+--------+---------+---------+-----------+---------------+--------+-----------+----------+-----+-----------+--------------+--------+-------+---------+---------+---------+-------------+-----------+---------------+---------------+-------------+------------------+----------+-----------------------+------------------+-----------------------+----------------------------------+-------------------+--------------------+-------------------+------------------------+----------------+----------------------+--------------------+-----------+-------------+--------------------+----------------+-------------------------+---------------+----------+-------------------------+-----------+\n",
            "|36178144| 38879659|    29400|      29400|        29400.0|    8.19|     598.81|     65000| 9.29|          0|             0|      10|      0|    27133|       18| 24006.63|     24006.63|    7771.15|        7771.15|        5393.37|      2377.78|               0.0|       0.0|                    0.0|              54.3|                 598.81|                                 0|                  1|                   0|             316156|                   50000|             0.0|                   0.0|                 0.0|        2.0|          1.0|                 0.0|            10.0|                      0.0|            9.0|       1.0|                      1.0|          0|\n",
            "| 7345138|  9007271|    16000|      16000|        16000.0|    19.2|     588.12|     85000|13.17|          0|             2|       9|      2|     6320|       20|      0.0|          0.0|   20832.41|       20832.41|        16000.0|      4832.41|               0.0|       0.0|                    0.0|              33.1|                5541.29|                                 0|                  1|                   0|              37141|                   19100|             0.0|                   0.0|                 0.0|        3.0|          1.0|                 2.0|             0.0|                      1.0|           14.0|       0.0|                      0.0|          0|\n",
            "| 2375049|  2837232|    35000|      35000|        35000.0|   14.33|    1201.84|    200000|15.51|          0|             0|      12|      0|    18701|       30|      0.0|          0.0|40744.88349|       40744.88|        35000.0|      5744.88|               0.0|       0.0|                    0.0|             100.3|               21542.74|                                 0|                  1|                   0|             121889|                   18700|             0.0|                   0.0|                 0.0|        1.0|          1.0|                 1.0|             1.0|                      1.0|            2.0|       0.0|                      0.0|          0|\n",
            "|32119501| 34722789|    15000|      15000|        15000.0|   11.67|     331.18|     55000| 9.73|          0|             0|       7|      0|    16545|       20| 12235.19|     12235.19|    4617.07|        4617.07|        2764.81|      1852.26|               0.0|       0.0|                    0.0|              69.8|                 331.18|                                 0|                  1|                   0|              16545|                   23700|             0.0|                   0.0|                 0.0|        0.0|          0.0|                 1.0|             0.0|                      1.0|            1.0|       1.0|                      0.0|          0|\n",
            "|16742417| 18854944|    18000|      18000|        18000.0|   13.35|     412.79|     80000|13.85|          0|             0|      12|      0|    26331|       21| 13530.75|     13530.75|    7843.01|        7843.01|        4469.25|      3373.76|               0.0|       0.0|                    0.0|              86.3|                 412.79|                                 0|                  1|                   0|              37812|                   30500|             0.0|                   0.0|                 0.0|        1.0|          1.0|                 1.0|             9.0|                      0.0|            3.0|       1.0|                      1.0|          0|\n",
            "|28784095| 31307297|     5000|       5000|         5000.0|   15.61|     174.83|     45000|13.28|          0|             1|       6|      1|     3276|       11|      0.0|          0.0|    5512.36|        5512.36|         5000.0|       512.36|               0.0|       0.0|                    0.0|              52.0|                4288.55|                                 0|                  1|                   0|              22883|                    6300|             0.0|                   0.0|                 0.0|        3.0|          0.0|                 1.0|             0.0|                      0.0|           11.0|       0.0|                      0.0|          0|\n",
            "| 3810854|  4854843|    16000|      16000|        16000.0|   15.31|     383.25|     75000| 7.12|          0|             1|       9|      0|    15073|       23|  8718.64|      8718.64|   12623.85|       12623.85|        7281.36|      5342.49|               0.0|       0.0|                    0.0|              65.6|                 383.25|                                 0|                  1|                   0|             159971|                   22981|             0.0|                   0.0|                 0.0|        1.0|          1.0|                 0.0|             9.0|                      1.0|            3.0|       1.0|                      0.0|          0|\n",
            "| 7055759|  8717898|    20000|      20000|        20000.0|   18.85|     517.17|     45000| 30.4|          0|             0|      12|      0|    29388|       23|      0.0|          0.0|25510.30177|        25510.3|        20000.0|       5510.3|               0.0|       0.0|                    0.0|              63.6|                 138.51|                                 0|                  1|                   0|              32164|                   46200|             0.0|                   0.0|                 0.0|        3.0|          0.0|                 2.0|             0.0|                      1.0|           14.0|       1.0|                      0.0|          0|\n",
            "| 5176601|  6498926|    10000|      10000|        10000.0|   11.14|     328.06|     50000|19.08|          0|             0|      11|      1|    12414|       25|  1595.38|      1595.38|   10169.62|       10169.62|        8404.62|       1765.0|               0.0|       0.0|                    0.0|              54.9|                 328.06|                                 0|                  1|                   0|             103956|                   22600|             0.0|                   0.0|                 0.0|        0.0|          1.0|                 0.0|             1.0|                      2.0|            5.0|       0.0|                      0.0|          0|\n",
            "|13437734| 15490021|     4000|       4000|         4000.0|   14.16|     137.03|     18000| 18.6|          0|             0|       3|      0|      883|       29|   1987.0|       1987.0|     2740.6|         2740.6|         2013.0|        727.6|               0.0|       0.0|                    0.0|              29.4|                 137.03|                                 0|                  1|                   0|                883|                    3000|             0.0|                   0.0|                 0.0|        1.0|          5.0|                 1.0|             2.0|                      1.0|            3.0|       0.0|                      1.0|          0|\n",
            "| 6927926|  8569879|     6000|       6000|         6000.0|   12.35|      200.3|     32000|21.21|          0|             0|       9|      1|     6436|       33|      0.0|          0.0|6885.980975|        6885.98|         6000.0|       885.98|               0.0|       0.0|                    0.0|              51.5|                3482.68|                                 0|                  1|                   0|              21333|                   12500|             0.0|                   0.0|                 0.0|        0.0|          1.0|                 1.0|             7.0|                      1.0|            1.0|       0.0|                      0.0|          0|\n",
            "|34273263| 36936616|     3600|       3600|         3600.0|   12.39|     120.25|     28000|25.42|          0|             0|      14|      1|     7309|       34|      0.0|          0.0|    3881.91|        3881.91|         3600.0|       281.91|               0.0|       0.0|                    0.0|              58.5|                3045.12|                                 0|                  1|                   0|             121641|                   12500|             0.0|                   0.0|                 0.0|        1.0|          0.0|                 0.0|             0.0|                      2.0|            2.0|       0.0|                      0.0|          0|\n",
            "| 2225254|  2637451|    15000|      15000|        15000.0|    7.62|     467.43|     55400|23.98|          0|             0|      16|      0|    20588|       40|      0.0|          0.0|   15277.68|       15277.68|        15000.0|       277.68|               0.0|       0.0|                    0.0|              40.0|               14352.79|                                 0|                  1|                   0|              85456|                   51500|             0.0|                   0.0|                 0.0|        2.0|          0.0|                 0.0|             9.0|                      2.0|           16.0|       0.0|                      0.0|          0|\n",
            "|27370505| 29863589|    35000|      35000|        35000.0|   15.61|    1223.77|    120000| 8.52|          0|             0|       4|      0|     9029|       26| 20965.53|     20965.53|    20000.0|        20000.0|       14034.47|      5965.53|               0.0|       0.0|                    0.0|              53.7|                 1250.0|                                 0|                  1|                   0|              25770|                   16800|             0.0|                   0.0|                 0.0|        3.0|          0.0|                 1.0|             0.0|                      1.0|           11.0|       0.0|                      0.0|          0|\n",
            "|14649057| 16711378|    13500|      13500|        13500.0|   17.57|     339.67|     30000|19.07|          1|             0|      12|      0|    15415|       15| 10037.91|     10037.91|    7133.07|        7133.07|        3462.09|      3670.98|               0.0|       0.0|                    0.0|              19.1|                 339.67|                                 0|                  1|                   0|              28025|                   80700|             0.0|                   0.0|                 0.0|        3.0|          0.0|                 1.0|             4.0|                      0.0|           13.0|       1.0|                      1.0|          0|\n",
            "|19085535| 21288279|     7000|       7000|         7000.0|   10.99|     229.14|     50000| 4.84|          0|             0|       9|      1|     5025|       32|      0.0|          0.0|    7856.75|        7856.75|         7000.0|       856.75|               0.0|       0.0|                    0.0|              56.5|                4419.65|                                 0|                  1|                  31|               5025|                    8900|             0.0|                   0.0|                 0.0|        0.0|          0.0|                 1.0|             0.0|                      0.0|            0.0|       0.0|                      1.0|          0|\n",
            "| 5715369|  7127521|    12000|      12000|        11925.0|   10.16|     388.11|    110792|14.33|          0|             0|      13|      0|     7810|       21|      0.0|          0.0|13899.96999|        13813.1|        12000.0|      1899.97|               0.0|       0.0|                    0.0|              11.7|                3032.89|                                 0|                  1|                   0|             636493|                   66700|             0.0|                   0.0|                 0.0|        0.0|          3.0|                 0.0|             0.0|                      1.0|            8.0|       0.0|                      0.0|          0|\n",
            "| 1278879|  1521933|    12000|      12000|        12000.0|   18.25|     435.34|     85000| 8.26|          0|             0|       5|      1|     9182|       15|      0.0|          0.0|   13498.48|       13498.48|        12000.0|      1498.48|               0.0|       0.0|                    0.0|              90.9|               10018.46|                                 0|                  1|                   0|              80935|                   23800|             0.0|                   0.0|                 0.0|        3.0|          2.0|                 0.0|             9.0|                      2.0|           14.0|       0.0|                      0.0|          0|\n",
            "|35094304| 37777643|    27500|      27500|        27500.0|    9.49|     577.42|    302000|12.41|          2|             0|      11|      0|    51198|       23| 22592.17|     22592.17|    7477.46|        7477.46|        4907.83|      2569.63|               0.0|       0.0|                    0.0|              96.2|                 577.42|                                 0|                  1|                   0|             458460|                   93200|             0.0|                   0.0|                 0.0|        0.0|          1.0|                 0.0|             0.0|                      0.0|            5.0|       1.0|                      1.0|          0|\n",
            "|19137418| 21340066|    20950|      20950|        20950.0|    24.5|     608.79|     85000| 7.66|          2|             1|       9|      0|    10362|       21|      0.0|          0.0|   26877.94|       26877.94|        20950.0|      5927.94|               0.0|       0.0|                    0.0|              62.8|                 2137.3|                                 0|                  1|                   0|              15510|                   16500|             0.0|                   0.0|                 0.0|        5.0|          1.0|                 1.0|             1.0|                      1.0|           27.0|       1.0|                      0.0|          0|\n",
            "+--------+---------+---------+-----------+---------------+--------+-----------+----------+-----+-----------+--------------+--------+-------+---------+---------+---------+-------------+-----------+---------------+---------------+-------------+------------------+----------+-----------------------+------------------+-----------------------+----------------------------------+-------------------+--------------------+-------------------+------------------------+----------------+----------------------+--------------------+-----------+-------------+--------------------+----------------+-------------------------+---------------+----------+-------------------------+-----------+\n",
            "only showing top 20 rows\n",
            "\n"
          ]
        }
      ]
    },
    {
      "cell_type": "code",
      "source": [
        "print(f\"train: {df_train.count()}, val: {df_val.count()}\")"
      ],
      "metadata": {
        "id": "St33-fE0Vb7B",
        "colab": {
          "base_uri": "https://localhost:8080/"
        },
        "outputId": "a9ef604c-cb6d-4bf8-81a9-3d64a7d4786b"
      },
      "execution_count": 20,
      "outputs": [
        {
          "output_type": "stream",
          "name": "stdout",
          "text": [
            "train: 598745, val: 256998\n"
          ]
        }
      ]
    },
    {
      "cell_type": "markdown",
      "source": [
        "**Convert from PySpark to TensorFlow**"
      ],
      "metadata": {
        "id": "sgObxCU7Vd3S"
      }
    },
    {
      "cell_type": "code",
      "source": [
        "print(f\"train: {df_train.count()}, val: {df_val.count()}\")"
      ],
      "metadata": {
        "id": "Atw7EmktbwSX",
        "colab": {
          "base_uri": "https://localhost:8080/"
        },
        "outputId": "789c18e0-3c05-459e-bd01-289d97ca32bc"
      },
      "execution_count": 21,
      "outputs": [
        {
          "output_type": "stream",
          "name": "stdout",
          "text": [
            "train: 598745, val: 256998\n"
          ]
        }
      ]
    },
    {
      "cell_type": "code",
      "source": [
        "train_dataset = df_train.toPandas()"
      ],
      "metadata": {
        "id": "-xQks2GbfA6X"
      },
      "execution_count": 22,
      "outputs": []
    },
    {
      "cell_type": "code",
      "source": [
        "test_dataset = df_val.toPandas()"
      ],
      "metadata": {
        "id": "lOujiN0BgxeH"
      },
      "execution_count": 23,
      "outputs": []
    },
    {
      "cell_type": "code",
      "source": [
        "x_train = train_dataset.iloc[:,0:42]\n",
        "y_train = train_dataset.iloc[:,-1]"
      ],
      "metadata": {
        "id": "nPQL3dFpf72p"
      },
      "execution_count": 24,
      "outputs": []
    },
    {
      "cell_type": "code",
      "source": [
        "train_dataset.default_ind.value_counts()"
      ],
      "metadata": {
        "colab": {
          "base_uri": "https://localhost:8080/"
        },
        "id": "JX8PviFPunIA",
        "outputId": "044e9734-ddc0-45ec-94dc-05f29589912c"
      },
      "execution_count": 25,
      "outputs": [
        {
          "output_type": "execute_result",
          "data": {
            "text/plain": [
              "0    566164\n",
              "1     32581\n",
              "Name: default_ind, dtype: int64"
            ]
          },
          "metadata": {},
          "execution_count": 25
        }
      ]
    },
    {
      "cell_type": "code",
      "source": [
        "x_test = test_dataset.iloc[:,0:42]\n",
        "y_test = test_dataset.iloc[:,-1]"
      ],
      "metadata": {
        "id": "sWYqpBetrvb_"
      },
      "execution_count": 26,
      "outputs": []
    },
    {
      "cell_type": "code",
      "source": [
        "x_train.head()"
      ],
      "metadata": {
        "id": "CiEqRM8TgFGe",
        "colab": {
          "base_uri": "https://localhost:8080/",
          "height": 297
        },
        "outputId": "8ea30828-8f7c-4237-dfd9-dbc1ece3b44d"
      },
      "execution_count": 27,
      "outputs": [
        {
          "output_type": "execute_result",
          "data": {
            "text/plain": [
              "         id  member_id  loan_amnt  funded_amnt  funded_amnt_inv  int_rate  \\\n",
              "0  36178144   38879659      29400        29400          29400.0      8.19   \n",
              "1   7345138    9007271      16000        16000          16000.0     19.20   \n",
              "2   2375049    2837232      35000        35000          35000.0     14.33   \n",
              "3  32119501   34722789      15000        15000          15000.0     11.67   \n",
              "4  16742417   18854944      18000        18000          18000.0     13.35   \n",
              "\n",
              "   installment  annual_inc    dti  delinq_2yrs  ...  application_type_index  \\\n",
              "0       598.81       65000   9.29            0  ...                     0.0   \n",
              "1       588.12       85000  13.17            0  ...                     0.0   \n",
              "2      1201.84      200000  15.51            0  ...                     0.0   \n",
              "3       331.18       55000   9.73            0  ...                     0.0   \n",
              "4       412.79       80000  13.85            0  ...                     0.0   \n",
              "\n",
              "   acc_now_delinq_index  grade_index  purpose_index  home_ownership_index  \\\n",
              "0                   0.0          2.0            1.0                   0.0   \n",
              "1                   0.0          3.0            1.0                   2.0   \n",
              "2                   0.0          1.0            1.0                   1.0   \n",
              "3                   0.0          0.0            0.0                   1.0   \n",
              "4                   0.0          1.0            1.0                   1.0   \n",
              "\n",
              "   emp_length_index  verification_status_index  sub_grade_index  term_index  \\\n",
              "0              10.0                        0.0              9.0         1.0   \n",
              "1               0.0                        1.0             14.0         0.0   \n",
              "2               1.0                        1.0              2.0         0.0   \n",
              "3               0.0                        1.0              1.0         1.0   \n",
              "4               9.0                        0.0              3.0         1.0   \n",
              "\n",
              "   initial_list_status_index  \n",
              "0                        1.0  \n",
              "1                        0.0  \n",
              "2                        0.0  \n",
              "3                        0.0  \n",
              "4                        1.0  \n",
              "\n",
              "[5 rows x 42 columns]"
            ],
            "text/html": [
              "\n",
              "  <div id=\"df-4a11de4e-0639-444c-9ff7-4fbcc8aed87b\">\n",
              "    <div class=\"colab-df-container\">\n",
              "      <div>\n",
              "<style scoped>\n",
              "    .dataframe tbody tr th:only-of-type {\n",
              "        vertical-align: middle;\n",
              "    }\n",
              "\n",
              "    .dataframe tbody tr th {\n",
              "        vertical-align: top;\n",
              "    }\n",
              "\n",
              "    .dataframe thead th {\n",
              "        text-align: right;\n",
              "    }\n",
              "</style>\n",
              "<table border=\"1\" class=\"dataframe\">\n",
              "  <thead>\n",
              "    <tr style=\"text-align: right;\">\n",
              "      <th></th>\n",
              "      <th>id</th>\n",
              "      <th>member_id</th>\n",
              "      <th>loan_amnt</th>\n",
              "      <th>funded_amnt</th>\n",
              "      <th>funded_amnt_inv</th>\n",
              "      <th>int_rate</th>\n",
              "      <th>installment</th>\n",
              "      <th>annual_inc</th>\n",
              "      <th>dti</th>\n",
              "      <th>delinq_2yrs</th>\n",
              "      <th>...</th>\n",
              "      <th>application_type_index</th>\n",
              "      <th>acc_now_delinq_index</th>\n",
              "      <th>grade_index</th>\n",
              "      <th>purpose_index</th>\n",
              "      <th>home_ownership_index</th>\n",
              "      <th>emp_length_index</th>\n",
              "      <th>verification_status_index</th>\n",
              "      <th>sub_grade_index</th>\n",
              "      <th>term_index</th>\n",
              "      <th>initial_list_status_index</th>\n",
              "    </tr>\n",
              "  </thead>\n",
              "  <tbody>\n",
              "    <tr>\n",
              "      <th>0</th>\n",
              "      <td>36178144</td>\n",
              "      <td>38879659</td>\n",
              "      <td>29400</td>\n",
              "      <td>29400</td>\n",
              "      <td>29400.0</td>\n",
              "      <td>8.19</td>\n",
              "      <td>598.81</td>\n",
              "      <td>65000</td>\n",
              "      <td>9.29</td>\n",
              "      <td>0</td>\n",
              "      <td>...</td>\n",
              "      <td>0.0</td>\n",
              "      <td>0.0</td>\n",
              "      <td>2.0</td>\n",
              "      <td>1.0</td>\n",
              "      <td>0.0</td>\n",
              "      <td>10.0</td>\n",
              "      <td>0.0</td>\n",
              "      <td>9.0</td>\n",
              "      <td>1.0</td>\n",
              "      <td>1.0</td>\n",
              "    </tr>\n",
              "    <tr>\n",
              "      <th>1</th>\n",
              "      <td>7345138</td>\n",
              "      <td>9007271</td>\n",
              "      <td>16000</td>\n",
              "      <td>16000</td>\n",
              "      <td>16000.0</td>\n",
              "      <td>19.20</td>\n",
              "      <td>588.12</td>\n",
              "      <td>85000</td>\n",
              "      <td>13.17</td>\n",
              "      <td>0</td>\n",
              "      <td>...</td>\n",
              "      <td>0.0</td>\n",
              "      <td>0.0</td>\n",
              "      <td>3.0</td>\n",
              "      <td>1.0</td>\n",
              "      <td>2.0</td>\n",
              "      <td>0.0</td>\n",
              "      <td>1.0</td>\n",
              "      <td>14.0</td>\n",
              "      <td>0.0</td>\n",
              "      <td>0.0</td>\n",
              "    </tr>\n",
              "    <tr>\n",
              "      <th>2</th>\n",
              "      <td>2375049</td>\n",
              "      <td>2837232</td>\n",
              "      <td>35000</td>\n",
              "      <td>35000</td>\n",
              "      <td>35000.0</td>\n",
              "      <td>14.33</td>\n",
              "      <td>1201.84</td>\n",
              "      <td>200000</td>\n",
              "      <td>15.51</td>\n",
              "      <td>0</td>\n",
              "      <td>...</td>\n",
              "      <td>0.0</td>\n",
              "      <td>0.0</td>\n",
              "      <td>1.0</td>\n",
              "      <td>1.0</td>\n",
              "      <td>1.0</td>\n",
              "      <td>1.0</td>\n",
              "      <td>1.0</td>\n",
              "      <td>2.0</td>\n",
              "      <td>0.0</td>\n",
              "      <td>0.0</td>\n",
              "    </tr>\n",
              "    <tr>\n",
              "      <th>3</th>\n",
              "      <td>32119501</td>\n",
              "      <td>34722789</td>\n",
              "      <td>15000</td>\n",
              "      <td>15000</td>\n",
              "      <td>15000.0</td>\n",
              "      <td>11.67</td>\n",
              "      <td>331.18</td>\n",
              "      <td>55000</td>\n",
              "      <td>9.73</td>\n",
              "      <td>0</td>\n",
              "      <td>...</td>\n",
              "      <td>0.0</td>\n",
              "      <td>0.0</td>\n",
              "      <td>0.0</td>\n",
              "      <td>0.0</td>\n",
              "      <td>1.0</td>\n",
              "      <td>0.0</td>\n",
              "      <td>1.0</td>\n",
              "      <td>1.0</td>\n",
              "      <td>1.0</td>\n",
              "      <td>0.0</td>\n",
              "    </tr>\n",
              "    <tr>\n",
              "      <th>4</th>\n",
              "      <td>16742417</td>\n",
              "      <td>18854944</td>\n",
              "      <td>18000</td>\n",
              "      <td>18000</td>\n",
              "      <td>18000.0</td>\n",
              "      <td>13.35</td>\n",
              "      <td>412.79</td>\n",
              "      <td>80000</td>\n",
              "      <td>13.85</td>\n",
              "      <td>0</td>\n",
              "      <td>...</td>\n",
              "      <td>0.0</td>\n",
              "      <td>0.0</td>\n",
              "      <td>1.0</td>\n",
              "      <td>1.0</td>\n",
              "      <td>1.0</td>\n",
              "      <td>9.0</td>\n",
              "      <td>0.0</td>\n",
              "      <td>3.0</td>\n",
              "      <td>1.0</td>\n",
              "      <td>1.0</td>\n",
              "    </tr>\n",
              "  </tbody>\n",
              "</table>\n",
              "<p>5 rows × 42 columns</p>\n",
              "</div>\n",
              "      <button class=\"colab-df-convert\" onclick=\"convertToInteractive('df-4a11de4e-0639-444c-9ff7-4fbcc8aed87b')\"\n",
              "              title=\"Convert this dataframe to an interactive table.\"\n",
              "              style=\"display:none;\">\n",
              "        \n",
              "  <svg xmlns=\"http://www.w3.org/2000/svg\" height=\"24px\"viewBox=\"0 0 24 24\"\n",
              "       width=\"24px\">\n",
              "    <path d=\"M0 0h24v24H0V0z\" fill=\"none\"/>\n",
              "    <path d=\"M18.56 5.44l.94 2.06.94-2.06 2.06-.94-2.06-.94-.94-2.06-.94 2.06-2.06.94zm-11 1L8.5 8.5l.94-2.06 2.06-.94-2.06-.94L8.5 2.5l-.94 2.06-2.06.94zm10 10l.94 2.06.94-2.06 2.06-.94-2.06-.94-.94-2.06-.94 2.06-2.06.94z\"/><path d=\"M17.41 7.96l-1.37-1.37c-.4-.4-.92-.59-1.43-.59-.52 0-1.04.2-1.43.59L10.3 9.45l-7.72 7.72c-.78.78-.78 2.05 0 2.83L4 21.41c.39.39.9.59 1.41.59.51 0 1.02-.2 1.41-.59l7.78-7.78 2.81-2.81c.8-.78.8-2.07 0-2.86zM5.41 20L4 18.59l7.72-7.72 1.47 1.35L5.41 20z\"/>\n",
              "  </svg>\n",
              "      </button>\n",
              "      \n",
              "  <style>\n",
              "    .colab-df-container {\n",
              "      display:flex;\n",
              "      flex-wrap:wrap;\n",
              "      gap: 12px;\n",
              "    }\n",
              "\n",
              "    .colab-df-convert {\n",
              "      background-color: #E8F0FE;\n",
              "      border: none;\n",
              "      border-radius: 50%;\n",
              "      cursor: pointer;\n",
              "      display: none;\n",
              "      fill: #1967D2;\n",
              "      height: 32px;\n",
              "      padding: 0 0 0 0;\n",
              "      width: 32px;\n",
              "    }\n",
              "\n",
              "    .colab-df-convert:hover {\n",
              "      background-color: #E2EBFA;\n",
              "      box-shadow: 0px 1px 2px rgba(60, 64, 67, 0.3), 0px 1px 3px 1px rgba(60, 64, 67, 0.15);\n",
              "      fill: #174EA6;\n",
              "    }\n",
              "\n",
              "    [theme=dark] .colab-df-convert {\n",
              "      background-color: #3B4455;\n",
              "      fill: #D2E3FC;\n",
              "    }\n",
              "\n",
              "    [theme=dark] .colab-df-convert:hover {\n",
              "      background-color: #434B5C;\n",
              "      box-shadow: 0px 1px 3px 1px rgba(0, 0, 0, 0.15);\n",
              "      filter: drop-shadow(0px 1px 2px rgba(0, 0, 0, 0.3));\n",
              "      fill: #FFFFFF;\n",
              "    }\n",
              "  </style>\n",
              "\n",
              "      <script>\n",
              "        const buttonEl =\n",
              "          document.querySelector('#df-4a11de4e-0639-444c-9ff7-4fbcc8aed87b button.colab-df-convert');\n",
              "        buttonEl.style.display =\n",
              "          google.colab.kernel.accessAllowed ? 'block' : 'none';\n",
              "\n",
              "        async function convertToInteractive(key) {\n",
              "          const element = document.querySelector('#df-4a11de4e-0639-444c-9ff7-4fbcc8aed87b');\n",
              "          const dataTable =\n",
              "            await google.colab.kernel.invokeFunction('convertToInteractive',\n",
              "                                                     [key], {});\n",
              "          if (!dataTable) return;\n",
              "\n",
              "          const docLinkHtml = 'Like what you see? Visit the ' +\n",
              "            '<a target=\"_blank\" href=https://colab.research.google.com/notebooks/data_table.ipynb>data table notebook</a>'\n",
              "            + ' to learn more about interactive tables.';\n",
              "          element.innerHTML = '';\n",
              "          dataTable['output_type'] = 'display_data';\n",
              "          await google.colab.output.renderOutput(dataTable, element);\n",
              "          const docLink = document.createElement('div');\n",
              "          docLink.innerHTML = docLinkHtml;\n",
              "          element.appendChild(docLink);\n",
              "        }\n",
              "      </script>\n",
              "    </div>\n",
              "  </div>\n",
              "  "
            ]
          },
          "metadata": {},
          "execution_count": 27
        }
      ]
    },
    {
      "cell_type": "code",
      "source": [
        "y_train.tail()"
      ],
      "metadata": {
        "id": "0f54rBm2gXnL",
        "colab": {
          "base_uri": "https://localhost:8080/"
        },
        "outputId": "7554a6a5-fef0-4932-b84b-a693db8332fc"
      },
      "execution_count": 28,
      "outputs": [
        {
          "output_type": "execute_result",
          "data": {
            "text/plain": [
              "598740    0\n",
              "598741    0\n",
              "598742    0\n",
              "598743    0\n",
              "598744    0\n",
              "Name: default_ind, dtype: int32"
            ]
          },
          "metadata": {},
          "execution_count": 28
        }
      ]
    },
    {
      "cell_type": "code",
      "source": [
        "y_train.nunique()"
      ],
      "metadata": {
        "colab": {
          "base_uri": "https://localhost:8080/"
        },
        "id": "cVlGEwL0uX_W",
        "outputId": "fb367d07-7d22-4d96-8217-e1859e8a676e"
      },
      "execution_count": 29,
      "outputs": [
        {
          "output_type": "execute_result",
          "data": {
            "text/plain": [
              "2"
            ]
          },
          "metadata": {},
          "execution_count": 29
        }
      ]
    },
    {
      "cell_type": "code",
      "source": [
        "tf_train = tfdf.keras.pd_dataframe_to_tf_dataset(train_dataset, label=\"default_ind\")\n",
        "tf_test = tfdf.keras.pd_dataframe_to_tf_dataset(test_dataset, label=\"default_ind\")"
      ],
      "metadata": {
        "id": "tI1J_hQK1UOn",
        "colab": {
          "base_uri": "https://localhost:8080/"
        },
        "outputId": "f1534dc4-618b-422c-d1e1-f1b064c11a53"
      },
      "execution_count": 30,
      "outputs": [
        {
          "output_type": "stream",
          "name": "stderr",
          "text": [
            "/usr/local/lib/python3.7/dist-packages/tensorflow_decision_forests/keras/core_inference.py:873: FutureWarning: In a future version of pandas all arguments of DataFrame.drop except for the argument 'labels' will be keyword-only\n",
            "  features_dataframe = dataframe.drop(label, 1)\n"
          ]
        }
      ]
    },
    {
      "cell_type": "code",
      "source": [
        "\n",
        "print(tf_train.take(1))"
      ],
      "metadata": {
        "id": "2aLP3Frx9P5e",
        "colab": {
          "base_uri": "https://localhost:8080/"
        },
        "outputId": "78c418d1-b10c-4532-a0e6-6077d0cdc3ac"
      },
      "execution_count": 31,
      "outputs": [
        {
          "output_type": "stream",
          "name": "stdout",
          "text": [
            "<TakeDataset element_spec=({'id': TensorSpec(shape=(None,), dtype=tf.int32, name=None), 'member_id': TensorSpec(shape=(None,), dtype=tf.int32, name=None), 'loan_amnt': TensorSpec(shape=(None,), dtype=tf.int32, name=None), 'funded_amnt': TensorSpec(shape=(None,), dtype=tf.int32, name=None), 'funded_amnt_inv': TensorSpec(shape=(None,), dtype=tf.float64, name=None), 'int_rate': TensorSpec(shape=(None,), dtype=tf.float64, name=None), 'installment': TensorSpec(shape=(None,), dtype=tf.float64, name=None), 'annual_inc': TensorSpec(shape=(None,), dtype=tf.int32, name=None), 'dti': TensorSpec(shape=(None,), dtype=tf.float64, name=None), 'delinq_2yrs': TensorSpec(shape=(None,), dtype=tf.int32, name=None), 'inq_last_6mths': TensorSpec(shape=(None,), dtype=tf.int32, name=None), 'open_acc': TensorSpec(shape=(None,), dtype=tf.int32, name=None), 'pub_rec': TensorSpec(shape=(None,), dtype=tf.int32, name=None), 'revol_bal': TensorSpec(shape=(None,), dtype=tf.int32, name=None), 'total_acc': TensorSpec(shape=(None,), dtype=tf.int32, name=None), 'out_prncp': TensorSpec(shape=(None,), dtype=tf.float64, name=None), 'out_prncp_inv': TensorSpec(shape=(None,), dtype=tf.float64, name=None), 'total_pymnt': TensorSpec(shape=(None,), dtype=tf.float64, name=None), 'total_pymnt_inv': TensorSpec(shape=(None,), dtype=tf.float64, name=None), 'total_rec_prncp': TensorSpec(shape=(None,), dtype=tf.float64, name=None), 'total_rec_int': TensorSpec(shape=(None,), dtype=tf.float64, name=None), 'total_rec_late_fee': TensorSpec(shape=(None,), dtype=tf.float64, name=None), 'recoveries': TensorSpec(shape=(None,), dtype=tf.float64, name=None), 'collection_recovery_fee': TensorSpec(shape=(None,), dtype=tf.float64, name=None), 'revol_util_imputed': TensorSpec(shape=(None,), dtype=tf.float64, name=None), 'last_pymnt_amnt_imputed': TensorSpec(shape=(None,), dtype=tf.float64, name=None), 'collections_12_mths_ex_med_imputed': TensorSpec(shape=(None,), dtype=tf.int32, name=None), 'policy_code_imputed': TensorSpec(shape=(None,), dtype=tf.int32, name=None), 'tot_coll_amt_imputed': TensorSpec(shape=(None,), dtype=tf.int32, name=None), 'tot_cur_bal_imputed': TensorSpec(shape=(None,), dtype=tf.int32, name=None), 'total_rev_hi_lim_imputed': TensorSpec(shape=(None,), dtype=tf.int32, name=None), 'pymnt_plan_index': TensorSpec(shape=(None,), dtype=tf.float64, name=None), 'application_type_index': TensorSpec(shape=(None,), dtype=tf.float64, name=None), 'acc_now_delinq_index': TensorSpec(shape=(None,), dtype=tf.float64, name=None), 'grade_index': TensorSpec(shape=(None,), dtype=tf.float64, name=None), 'purpose_index': TensorSpec(shape=(None,), dtype=tf.float64, name=None), 'home_ownership_index': TensorSpec(shape=(None,), dtype=tf.float64, name=None), 'emp_length_index': TensorSpec(shape=(None,), dtype=tf.float64, name=None), 'verification_status_index': TensorSpec(shape=(None,), dtype=tf.float64, name=None), 'sub_grade_index': TensorSpec(shape=(None,), dtype=tf.float64, name=None), 'term_index': TensorSpec(shape=(None,), dtype=tf.float64, name=None), 'initial_list_status_index': TensorSpec(shape=(None,), dtype=tf.float64, name=None)}, TensorSpec(shape=(None,), dtype=tf.int32, name=None))>\n"
          ]
        }
      ]
    },
    {
      "cell_type": "code",
      "source": [
        "type(tf_train)"
      ],
      "metadata": {
        "id": "rmta2jOg8J0a",
        "colab": {
          "base_uri": "https://localhost:8080/"
        },
        "outputId": "f370fa35-151d-4f31-ee93-8f6eeed355fd"
      },
      "execution_count": 32,
      "outputs": [
        {
          "output_type": "execute_result",
          "data": {
            "text/plain": [
              "tensorflow.python.data.ops.dataset_ops.PrefetchDataset"
            ]
          },
          "metadata": {},
          "execution_count": 32
        }
      ]
    },
    {
      "cell_type": "code",
      "source": [
        "model_1 = tfdf.keras.RandomForestModel(verbose=2, num_trees = 1, max_depth=500)\n",
        "\n",
        "# Train the model.\n",
        "model_1.fit(tf_train)"
      ],
      "metadata": {
        "id": "crkExwQzcTB_",
        "colab": {
          "base_uri": "https://localhost:8080/"
        },
        "outputId": "15af7ff3-8e1e-46ae-b665-00400a9220b2"
      },
      "execution_count": 39,
      "outputs": [
        {
          "output_type": "stream",
          "name": "stdout",
          "text": [
            "Use 2 thread(s) for training\n",
            "Use /tmp/tmp4hwtmmde as temporary training directory\n",
            "Reading training dataset...\n",
            "Training tensor examples:\n",
            "Features: {'id': <tf.Tensor 'data_12:0' shape=(None,) dtype=int32>, 'member_id': <tf.Tensor 'data_19:0' shape=(None,) dtype=int32>, 'loan_amnt': <tf.Tensor 'data_18:0' shape=(None,) dtype=int32>, 'funded_amnt': <tf.Tensor 'data_8:0' shape=(None,) dtype=int32>, 'funded_amnt_inv': <tf.Tensor 'data_9:0' shape=(None,) dtype=float64>, 'int_rate': <tf.Tensor 'data_16:0' shape=(None,) dtype=float64>, 'installment': <tf.Tensor 'data_15:0' shape=(None,) dtype=float64>, 'annual_inc': <tf.Tensor 'data_1:0' shape=(None,) dtype=int32>, 'dti': <tf.Tensor 'data_6:0' shape=(None,) dtype=float64>, 'delinq_2yrs': <tf.Tensor 'data_5:0' shape=(None,) dtype=int32>, 'inq_last_6mths': <tf.Tensor 'data_14:0' shape=(None,) dtype=int32>, 'open_acc': <tf.Tensor 'data_20:0' shape=(None,) dtype=int32>, 'pub_rec': <tf.Tensor 'data_24:0' shape=(None,) dtype=int32>, 'revol_bal': <tf.Tensor 'data_28:0' shape=(None,) dtype=int32>, 'total_acc': <tf.Tensor 'data_34:0' shape=(None,) dtype=int32>, 'out_prncp': <tf.Tensor 'data_21:0' shape=(None,) dtype=float64>, 'out_prncp_inv': <tf.Tensor 'data_22:0' shape=(None,) dtype=float64>, 'total_pymnt': <tf.Tensor 'data_35:0' shape=(None,) dtype=float64>, 'total_pymnt_inv': <tf.Tensor 'data_36:0' shape=(None,) dtype=float64>, 'total_rec_prncp': <tf.Tensor 'data_39:0' shape=(None,) dtype=float64>, 'total_rec_int': <tf.Tensor 'data_37:0' shape=(None,) dtype=float64>, 'total_rec_late_fee': <tf.Tensor 'data_38:0' shape=(None,) dtype=float64>, 'recoveries': <tf.Tensor 'data_27:0' shape=(None,) dtype=float64>, 'collection_recovery_fee': <tf.Tensor 'data_3:0' shape=(None,) dtype=float64>, 'revol_util_imputed': <tf.Tensor 'data_29:0' shape=(None,) dtype=float64>, 'last_pymnt_amnt_imputed': <tf.Tensor 'data_17:0' shape=(None,) dtype=float64>, 'collections_12_mths_ex_med_imputed': <tf.Tensor 'data_4:0' shape=(None,) dtype=int32>, 'policy_code_imputed': <tf.Tensor 'data_23:0' shape=(None,) dtype=int32>, 'tot_coll_amt_imputed': <tf.Tensor 'data_32:0' shape=(None,) dtype=int32>, 'tot_cur_bal_imputed': <tf.Tensor 'data_33:0' shape=(None,) dtype=int32>, 'total_rev_hi_lim_imputed': <tf.Tensor 'data_40:0' shape=(None,) dtype=int32>, 'pymnt_plan_index': <tf.Tensor 'data_26:0' shape=(None,) dtype=float64>, 'application_type_index': <tf.Tensor 'data_2:0' shape=(None,) dtype=float64>, 'acc_now_delinq_index': <tf.Tensor 'data:0' shape=(None,) dtype=float64>, 'grade_index': <tf.Tensor 'data_10:0' shape=(None,) dtype=float64>, 'purpose_index': <tf.Tensor 'data_25:0' shape=(None,) dtype=float64>, 'home_ownership_index': <tf.Tensor 'data_11:0' shape=(None,) dtype=float64>, 'emp_length_index': <tf.Tensor 'data_7:0' shape=(None,) dtype=float64>, 'verification_status_index': <tf.Tensor 'data_41:0' shape=(None,) dtype=float64>, 'sub_grade_index': <tf.Tensor 'data_30:0' shape=(None,) dtype=float64>, 'term_index': <tf.Tensor 'data_31:0' shape=(None,) dtype=float64>, 'initial_list_status_index': <tf.Tensor 'data_13:0' shape=(None,) dtype=float64>}\n",
            "Label: Tensor(\"data_42:0\", shape=(None,), dtype=int32)\n",
            "Weights: None\n",
            "Normalized tensor features:\n",
            " {'id': SemanticTensor(semantic=<Semantic.NUMERICAL: 1>, tensor=<tf.Tensor 'Cast:0' shape=(None,) dtype=float32>), 'member_id': SemanticTensor(semantic=<Semantic.NUMERICAL: 1>, tensor=<tf.Tensor 'Cast_1:0' shape=(None,) dtype=float32>), 'loan_amnt': SemanticTensor(semantic=<Semantic.NUMERICAL: 1>, tensor=<tf.Tensor 'Cast_2:0' shape=(None,) dtype=float32>), 'funded_amnt': SemanticTensor(semantic=<Semantic.NUMERICAL: 1>, tensor=<tf.Tensor 'Cast_3:0' shape=(None,) dtype=float32>), 'funded_amnt_inv': SemanticTensor(semantic=<Semantic.NUMERICAL: 1>, tensor=<tf.Tensor 'Cast_4:0' shape=(None,) dtype=float32>), 'int_rate': SemanticTensor(semantic=<Semantic.NUMERICAL: 1>, tensor=<tf.Tensor 'Cast_5:0' shape=(None,) dtype=float32>), 'installment': SemanticTensor(semantic=<Semantic.NUMERICAL: 1>, tensor=<tf.Tensor 'Cast_6:0' shape=(None,) dtype=float32>), 'annual_inc': SemanticTensor(semantic=<Semantic.NUMERICAL: 1>, tensor=<tf.Tensor 'Cast_7:0' shape=(None,) dtype=float32>), 'dti': SemanticTensor(semantic=<Semantic.NUMERICAL: 1>, tensor=<tf.Tensor 'Cast_8:0' shape=(None,) dtype=float32>), 'delinq_2yrs': SemanticTensor(semantic=<Semantic.NUMERICAL: 1>, tensor=<tf.Tensor 'Cast_9:0' shape=(None,) dtype=float32>), 'inq_last_6mths': SemanticTensor(semantic=<Semantic.NUMERICAL: 1>, tensor=<tf.Tensor 'Cast_10:0' shape=(None,) dtype=float32>), 'open_acc': SemanticTensor(semantic=<Semantic.NUMERICAL: 1>, tensor=<tf.Tensor 'Cast_11:0' shape=(None,) dtype=float32>), 'pub_rec': SemanticTensor(semantic=<Semantic.NUMERICAL: 1>, tensor=<tf.Tensor 'Cast_12:0' shape=(None,) dtype=float32>), 'revol_bal': SemanticTensor(semantic=<Semantic.NUMERICAL: 1>, tensor=<tf.Tensor 'Cast_13:0' shape=(None,) dtype=float32>), 'total_acc': SemanticTensor(semantic=<Semantic.NUMERICAL: 1>, tensor=<tf.Tensor 'Cast_14:0' shape=(None,) dtype=float32>), 'out_prncp': SemanticTensor(semantic=<Semantic.NUMERICAL: 1>, tensor=<tf.Tensor 'Cast_15:0' shape=(None,) dtype=float32>), 'out_prncp_inv': SemanticTensor(semantic=<Semantic.NUMERICAL: 1>, tensor=<tf.Tensor 'Cast_16:0' shape=(None,) dtype=float32>), 'total_pymnt': SemanticTensor(semantic=<Semantic.NUMERICAL: 1>, tensor=<tf.Tensor 'Cast_17:0' shape=(None,) dtype=float32>), 'total_pymnt_inv': SemanticTensor(semantic=<Semantic.NUMERICAL: 1>, tensor=<tf.Tensor 'Cast_18:0' shape=(None,) dtype=float32>), 'total_rec_prncp': SemanticTensor(semantic=<Semantic.NUMERICAL: 1>, tensor=<tf.Tensor 'Cast_19:0' shape=(None,) dtype=float32>), 'total_rec_int': SemanticTensor(semantic=<Semantic.NUMERICAL: 1>, tensor=<tf.Tensor 'Cast_20:0' shape=(None,) dtype=float32>), 'total_rec_late_fee': SemanticTensor(semantic=<Semantic.NUMERICAL: 1>, tensor=<tf.Tensor 'Cast_21:0' shape=(None,) dtype=float32>), 'recoveries': SemanticTensor(semantic=<Semantic.NUMERICAL: 1>, tensor=<tf.Tensor 'Cast_22:0' shape=(None,) dtype=float32>), 'collection_recovery_fee': SemanticTensor(semantic=<Semantic.NUMERICAL: 1>, tensor=<tf.Tensor 'Cast_23:0' shape=(None,) dtype=float32>), 'revol_util_imputed': SemanticTensor(semantic=<Semantic.NUMERICAL: 1>, tensor=<tf.Tensor 'Cast_24:0' shape=(None,) dtype=float32>), 'last_pymnt_amnt_imputed': SemanticTensor(semantic=<Semantic.NUMERICAL: 1>, tensor=<tf.Tensor 'Cast_25:0' shape=(None,) dtype=float32>), 'collections_12_mths_ex_med_imputed': SemanticTensor(semantic=<Semantic.NUMERICAL: 1>, tensor=<tf.Tensor 'Cast_26:0' shape=(None,) dtype=float32>), 'policy_code_imputed': SemanticTensor(semantic=<Semantic.NUMERICAL: 1>, tensor=<tf.Tensor 'Cast_27:0' shape=(None,) dtype=float32>), 'tot_coll_amt_imputed': SemanticTensor(semantic=<Semantic.NUMERICAL: 1>, tensor=<tf.Tensor 'Cast_28:0' shape=(None,) dtype=float32>), 'tot_cur_bal_imputed': SemanticTensor(semantic=<Semantic.NUMERICAL: 1>, tensor=<tf.Tensor 'Cast_29:0' shape=(None,) dtype=float32>), 'total_rev_hi_lim_imputed': SemanticTensor(semantic=<Semantic.NUMERICAL: 1>, tensor=<tf.Tensor 'Cast_30:0' shape=(None,) dtype=float32>), 'pymnt_plan_index': SemanticTensor(semantic=<Semantic.NUMERICAL: 1>, tensor=<tf.Tensor 'Cast_31:0' shape=(None,) dtype=float32>), 'application_type_index': SemanticTensor(semantic=<Semantic.NUMERICAL: 1>, tensor=<tf.Tensor 'Cast_32:0' shape=(None,) dtype=float32>), 'acc_now_delinq_index': SemanticTensor(semantic=<Semantic.NUMERICAL: 1>, tensor=<tf.Tensor 'Cast_33:0' shape=(None,) dtype=float32>), 'grade_index': SemanticTensor(semantic=<Semantic.NUMERICAL: 1>, tensor=<tf.Tensor 'Cast_34:0' shape=(None,) dtype=float32>), 'purpose_index': SemanticTensor(semantic=<Semantic.NUMERICAL: 1>, tensor=<tf.Tensor 'Cast_35:0' shape=(None,) dtype=float32>), 'home_ownership_index': SemanticTensor(semantic=<Semantic.NUMERICAL: 1>, tensor=<tf.Tensor 'Cast_36:0' shape=(None,) dtype=float32>), 'emp_length_index': SemanticTensor(semantic=<Semantic.NUMERICAL: 1>, tensor=<tf.Tensor 'Cast_37:0' shape=(None,) dtype=float32>), 'verification_status_index': SemanticTensor(semantic=<Semantic.NUMERICAL: 1>, tensor=<tf.Tensor 'Cast_38:0' shape=(None,) dtype=float32>), 'sub_grade_index': SemanticTensor(semantic=<Semantic.NUMERICAL: 1>, tensor=<tf.Tensor 'Cast_39:0' shape=(None,) dtype=float32>), 'term_index': SemanticTensor(semantic=<Semantic.NUMERICAL: 1>, tensor=<tf.Tensor 'Cast_40:0' shape=(None,) dtype=float32>), 'initial_list_status_index': SemanticTensor(semantic=<Semantic.NUMERICAL: 1>, tensor=<tf.Tensor 'Cast_41:0' shape=(None,) dtype=float32>)}\n",
            "Training dataset read in 0:00:19.147340. Found 598745 examples.\n",
            "Training model...\n"
          ]
        },
        {
          "output_type": "stream",
          "name": "stderr",
          "text": [
            "[INFO kernel.cc:813] Start Yggdrasil model training\n",
            "[INFO kernel.cc:814] Collect training examples\n",
            "[INFO kernel.cc:422] Number of batches: 599\n",
            "[INFO kernel.cc:423] Number of examples: 598745\n",
            "[INFO kernel.cc:836] Training dataset:\n",
            "Number of records: 598745\n",
            "Number of columns: 43\n",
            "\n",
            "Number of columns by type:\n",
            "\tNUMERICAL: 42 (97.6744%)\n",
            "\tCATEGORICAL: 1 (2.32558%)\n",
            "\n",
            "Columns:\n",
            "\n",
            "NUMERICAL: 42 (97.6744%)\n",
            "\t0: \"acc_now_delinq_index\" NUMERICAL mean:0.00495035 min:0 max:9 sd:0.0775336\n",
            "\t1: \"annual_inc\" NUMERICAL mean:75027.9 min:0 max:9e+06 sd:63925.1\n",
            "\t2: \"application_type_index\" NUMERICAL mean:0.000537792 min:0 max:1 sd:0.0231841\n",
            "\t3: \"collection_recovery_fee\" NUMERICAL mean:4.9161 min:0 max:5694.09 sd:61.232\n",
            "\t4: \"collections_12_mths_ex_med_imputed\" NUMERICAL mean:0.0142765 min:0 max:16 sd:0.133118\n",
            "\t5: \"delinq_2yrs\" NUMERICAL mean:0.311861 min:0 max:39 sd:0.857336\n",
            "\t6: \"dti\" NUMERICAL mean:18.119 min:0 max:9999 sd:15.4077\n",
            "\t7: \"emp_length_index\" NUMERICAL mean:3.5233 min:0 max:11 sd:3.56217\n",
            "\t8: \"funded_amnt\" NUMERICAL mean:14731 min:500 max:35000 sd:8428.06\n",
            "\t9: \"funded_amnt_inv\" NUMERICAL mean:14699 min:0 max:35000 sd:8434.28\n",
            "\t10: \"grade_index\" NUMERICAL mean:1.55317 min:0 max:6 sd:1.42068\n",
            "\t11: \"home_ownership_index\" NUMERICAL mean:0.59752 min:0 max:5 sd:0.662623\n",
            "\t12: \"id\" NUMERICAL mean:3.22225e+07 min:54734 max:6.86169e+07 sd:2.27141e+07\n",
            "\t13: \"initial_list_status_index\" NUMERICAL mean:0.482675 min:0 max:1 sd:0.4997\n",
            "\t14: \"inq_last_6mths\" NUMERICAL mean:0.681374 min:0 max:8 sd:0.964317\n",
            "\t15: \"installment\" NUMERICAL mean:436.233 min:15.69 max:1445.46 sd:243.982\n",
            "\t16: \"int_rate\" NUMERICAL mean:13.2007 min:5.32 max:28.99 sd:4.36997\n",
            "\t17: \"last_pymnt_amnt_imputed\" NUMERICAL mean:2227.08 min:0 max:36347.1 sd:4873.18\n",
            "\t18: \"loan_amnt\" NUMERICAL mean:14744.2 min:500 max:35000 sd:8434.1\n",
            "\t19: \"member_id\" NUMERICAL mean:3.47435e+07 min:70699 max:7.35197e+07 sd:2.39887e+07\n",
            "\t20: \"open_acc\" NUMERICAL mean:11.5407 min:0 max:79 sd:5.30819\n",
            "\t21: \"out_prncp\" NUMERICAL mean:8281.08 min:0 max:35000 sd:8464.87\n",
            "\t22: \"out_prncp_inv\" NUMERICAL mean:8277.68 min:0 max:35000 sd:8461.44\n",
            "\t23: \"policy_code_imputed\" NUMERICAL mean:1 min:1 max:1 sd:0\n",
            "\t24: \"pub_rec\" NUMERICAL mean:0.194769 min:0 max:63 sd:0.581739\n",
            "\t25: \"purpose_index\" NUMERICAL mean:0.935911 min:0 max:13 sd:1.7783\n",
            "\t26: \"pymnt_plan_index\" NUMERICAL mean:6.68064e-06 min:0 max:1 sd:0.00258468\n",
            "\t27: \"recoveries\" NUMERICAL mean:46.9909 min:0 max:31900.5 sd:407.517\n",
            "\t28: \"revol_bal\" NUMERICAL mean:16907.4 min:0 max:2.90484e+06 sd:22038.7\n",
            "\t29: \"revol_util_imputed\" NUMERICAL mean:55.0278 min:0 max:193 sd:23.7707\n",
            "\t30: \"sub_grade_index\" NUMERICAL mean:9.42633 min:0 max:34 sd:7.12365\n",
            "\t31: \"term_index\" NUMERICAL mean:0.298798 min:0 max:1 sd:0.457731\n",
            "\t32: \"tot_coll_amt_imputed\" NUMERICAL mean:213.707 min:0 max:9.15254e+06 sd:11976.2\n",
            "\t33: \"tot_cur_bal_imputed\" NUMERICAL mean:135149 min:0 max:4.77255e+06 sd:148213\n",
            "\t34: \"total_acc\" NUMERICAL mean:25.2633 min:2 max:169 sd:11.8196\n",
            "\t35: \"total_pymnt\" NUMERICAL mean:7655.12 min:0 max:57777.6 sd:7917.24\n",
            "\t36: \"total_pymnt_inv\" NUMERICAL mean:7624.38 min:0 max:57777.6 sd:7893.1\n",
            "\t37: \"total_rec_int\" NUMERICAL mean:1755.91 min:0 max:24205.6 sd:2080.73\n",
            "\t38: \"total_rec_late_fee\" NUMERICAL mean:0.320078 min:0 max:294.68 sd:3.5918\n",
            "\t39: \"total_rec_prncp\" NUMERICAL mean:5851.91 min:0 max:35000 sd:6683.15\n",
            "\t40: \"total_rev_hi_lim_imputed\" NUMERICAL mean:31488.8 min:0 max:1e+07 sd:35875.5\n",
            "\t41: \"verification_status_index\" NUMERICAL mean:0.928657 min:0 max:2 sd:0.816735\n",
            "\n",
            "CATEGORICAL: 1 (2.32558%)\n",
            "\t42: \"__LABEL\" CATEGORICAL integerized vocab-size:3 no-ood-item\n",
            "\n",
            "Terminology:\n",
            "\tnas: Number of non-available (i.e. missing) values.\n",
            "\tood: Out of dictionary.\n",
            "\tmanually-defined: Attribute which type is manually defined by the user i.e. the type was not automatically inferred.\n",
            "\ttokenized: The attribute value is obtained through tokenization.\n",
            "\thas-dict: The attribute is attached to a string dictionary e.g. a categorical attribute stored as a string.\n",
            "\tvocab-size: Number of unique values.\n",
            "\n",
            "[INFO kernel.cc:882] Configure learner\n",
            "[INFO kernel.cc:912] Training config:\n",
            "learner: \"RANDOM_FOREST\"\n",
            "features: \"acc_now_delinq_index\"\n",
            "features: \"annual_inc\"\n",
            "features: \"application_type_index\"\n",
            "features: \"collection_recovery_fee\"\n",
            "features: \"collections_12_mths_ex_med_imputed\"\n",
            "features: \"delinq_2yrs\"\n",
            "features: \"dti\"\n",
            "features: \"emp_length_index\"\n",
            "features: \"funded_amnt\"\n",
            "features: \"funded_amnt_inv\"\n",
            "features: \"grade_index\"\n",
            "features: \"home_ownership_index\"\n",
            "features: \"id\"\n",
            "features: \"initial_list_status_index\"\n",
            "features: \"inq_last_6mths\"\n",
            "features: \"installment\"\n",
            "features: \"int_rate\"\n",
            "features: \"last_pymnt_amnt_imputed\"\n",
            "features: \"loan_amnt\"\n",
            "features: \"member_id\"\n",
            "features: \"open_acc\"\n",
            "features: \"out_prncp\"\n",
            "features: \"out_prncp_inv\"\n",
            "features: \"policy_code_imputed\"\n",
            "features: \"pub_rec\"\n",
            "features: \"purpose_index\"\n",
            "features: \"pymnt_plan_index\"\n",
            "features: \"recoveries\"\n",
            "features: \"revol_bal\"\n",
            "features: \"revol_util_imputed\"\n",
            "features: \"sub_grade_index\"\n",
            "features: \"term_index\"\n",
            "features: \"tot_coll_amt_imputed\"\n",
            "features: \"tot_cur_bal_imputed\"\n",
            "features: \"total_acc\"\n",
            "features: \"total_pymnt\"\n",
            "features: \"total_pymnt_inv\"\n",
            "features: \"total_rec_int\"\n",
            "features: \"total_rec_late_fee\"\n",
            "features: \"total_rec_prncp\"\n",
            "features: \"total_rev_hi_lim_imputed\"\n",
            "features: \"verification_status_index\"\n",
            "label: \"__LABEL\"\n",
            "task: CLASSIFICATION\n",
            "random_seed: 123456\n",
            "metadata {\n",
            "  framework: \"TF Keras\"\n",
            "}\n",
            "pure_serving_model: false\n",
            "[yggdrasil_decision_forests.model.random_forest.proto.random_forest_config] {\n",
            "  num_trees: 1\n",
            "  decision_tree {\n",
            "    max_depth: 500\n",
            "    min_examples: 5\n",
            "    in_split_min_examples_check: true\n",
            "    keep_non_leaf_label_distribution: true\n",
            "    num_candidate_attributes: 0\n",
            "    missing_value_policy: GLOBAL_IMPUTATION\n",
            "    allow_na_conditions: false\n",
            "    categorical_set_greedy_forward {\n",
            "      sampling: 0.1\n",
            "      max_num_items: -1\n",
            "      min_item_frequency: 1\n",
            "    }\n",
            "    growing_strategy_local {\n",
            "    }\n",
            "    categorical {\n",
            "      cart {\n",
            "      }\n",
            "    }\n",
            "    axis_aligned_split {\n",
            "    }\n",
            "    internal {\n",
            "      sorting_strategy: PRESORTED\n",
            "    }\n",
            "    uplift {\n",
            "      min_examples_in_treatment: 5\n",
            "      split_score: KULLBACK_LEIBLER\n",
            "    }\n",
            "  }\n",
            "  winner_take_all_inference: true\n",
            "  compute_oob_performances: true\n",
            "  compute_oob_variable_importances: false\n",
            "  num_oob_variable_importances_permutations: 1\n",
            "  bootstrap_training_dataset: true\n",
            "  bootstrap_size_ratio: 1\n",
            "  adapt_bootstrap_size_ratio_for_maximum_training_duration: false\n",
            "  sampling_with_replacement: true\n",
            "}\n",
            "\n",
            "[INFO kernel.cc:915] Deployment config:\n",
            "cache_path: \"/tmp/tmp4hwtmmde/working_cache\"\n",
            "num_threads: 2\n",
            "try_resume_training: true\n",
            "\n",
            "[INFO kernel.cc:944] Train model\n",
            "[INFO random_forest.cc:407] Training random forest on 598745 example(s) and 42 feature(s).\n",
            "[INFO random_forest.cc:796] Training of tree  1/1 (tree index:0) done accuracy:0.997253 logloss:0.09903\n",
            "[INFO random_forest.cc:876] Final OOB metrics: accuracy:0.997253 logloss:0.09903\n",
            "[INFO kernel.cc:961] Export model in log directory: /tmp/tmp4hwtmmde with prefix a869633bee364d0f\n",
            "[INFO kernel.cc:978] Save model in resources\n",
            "[INFO kernel.cc:1176] Loading model from path /tmp/tmp4hwtmmde/model/ with prefix a869633bee364d0f\n",
            "[INFO decision_forest.cc:639] Model loaded with 1 root(s), 1903 node(s), and 36 input feature(s).\n",
            "[INFO abstract_model.cc:1248] Engine \"RandomForestOptPred\" built\n",
            "[INFO kernel.cc:1022] Use fast generic engine\n"
          ]
        },
        {
          "output_type": "stream",
          "name": "stdout",
          "text": [
            "Model trained in 0:00:05.517713\n",
            "Compiling model...\n",
            "Model compiled.\n"
          ]
        },
        {
          "output_type": "execute_result",
          "data": {
            "text/plain": [
              "<keras.callbacks.History at 0x7f0312ac7c10>"
            ]
          },
          "metadata": {},
          "execution_count": 39
        }
      ]
    },
    {
      "cell_type": "code",
      "source": [
        "model_1.compile(metrics=[\"accuracy\"])"
      ],
      "metadata": {
        "id": "Be6-faTJjQ0G"
      },
      "execution_count": 40,
      "outputs": []
    },
    {
      "cell_type": "code",
      "source": [
        "evaluation = model_1.evaluate(tf_test)"
      ],
      "metadata": {
        "id": "OBbi6Se4lACC",
        "colab": {
          "base_uri": "https://localhost:8080/"
        },
        "outputId": "d65fcb5b-19ea-43bb-c7d8-e2351a3380df"
      },
      "execution_count": 41,
      "outputs": [
        {
          "output_type": "stream",
          "name": "stdout",
          "text": [
            "257/257 [==============================] - 10s 39ms/step - loss: 0.0000e+00 - accuracy: 0.9971\n"
          ]
        }
      ]
    },
    {
      "cell_type": "code",
      "source": [
        "print(evaluation)"
      ],
      "metadata": {
        "id": "7F241HsX44vu",
        "colab": {
          "base_uri": "https://localhost:8080/"
        },
        "outputId": "d2ba8d56-f70b-493a-c7d1-cc71d6498218"
      },
      "execution_count": 42,
      "outputs": [
        {
          "output_type": "stream",
          "name": "stdout",
          "text": [
            "[0.0, 0.9971400499343872]\n"
          ]
        }
      ]
    },
    {
      "cell_type": "code",
      "source": [
        "model_1.make_inspector().evaluation()"
      ],
      "metadata": {
        "id": "iNyp_kuLkbwn",
        "colab": {
          "base_uri": "https://localhost:8080/"
        },
        "outputId": "4aecd134-d701-48cf-ee17-2afa549d0849"
      },
      "execution_count": 43,
      "outputs": [
        {
          "output_type": "execute_result",
          "data": {
            "text/plain": [
              "Evaluation(num_examples=220564, accuracy=0.9972524981411292, loss=0.09902999971877184, rmse=None, ndcg=None, aucs=None, auuc=None, qini=None)"
            ]
          },
          "metadata": {},
          "execution_count": 43
        }
      ]
    },
    {
      "cell_type": "code",
      "source": [
        "model_1.make_inspector().variable_importances()"
      ],
      "metadata": {
        "id": "kZxHWBns5xB7",
        "colab": {
          "base_uri": "https://localhost:8080/"
        },
        "outputId": "8ef124e7-c6c4-44f2-9f15-36bd400820b8"
      },
      "execution_count": 44,
      "outputs": [
        {
          "output_type": "execute_result",
          "data": {
            "text/plain": [
              "{'SUM_SCORE': [(\"recoveries\" (1; #27), 55415.62644768506),\n",
              "  (\"total_rec_prncp\" (1; #39), 18530.06597763265),\n",
              "  (\"out_prncp_inv\" (1; #22), 16668.339879446088),\n",
              "  (\"last_pymnt_amnt_imputed\" (1; #17), 6990.676578428538),\n",
              "  (\"funded_amnt_inv\" (1; #9), 6511.295684827986),\n",
              "  (\"total_pymnt\" (1; #35), 6302.004287074407),\n",
              "  (\"loan_amnt\" (1; #18), 4216.866992201569),\n",
              "  (\"term_index\" (1; #31), 2920.5626275986433),\n",
              "  (\"funded_amnt\" (1; #8), 1379.950293531816),\n",
              "  (\"id\" (1; #12), 1082.7244730419625),\n",
              "  (\"installment\" (1; #15), 766.4359293325688),\n",
              "  (\"total_rec_int\" (1; #37), 766.1573973451159),\n",
              "  (\"total_pymnt_inv\" (1; #36), 746.2393646642449),\n",
              "  (\"member_id\" (1; #19), 671.0634713568143),\n",
              "  (\"out_prncp\" (1; #21), 384.9949079003527),\n",
              "  (\"purpose_index\" (1; #25), 304.18044222623575),\n",
              "  (\"int_rate\" (1; #16), 200.90311619125714),\n",
              "  (\"total_rec_late_fee\" (1; #38), 161.5540843824856),\n",
              "  (\"annual_inc\" (1; #1), 153.39556974323932),\n",
              "  (\"grade_index\" (1; #10), 149.49854276448605),\n",
              "  (\"dti\" (1; #6), 132.152906728792),\n",
              "  (\"revol_bal\" (1; #28), 113.89492089228588),\n",
              "  (\"total_rev_hi_lim_imputed\" (1; #40), 112.32369411058608),\n",
              "  (\"tot_cur_bal_imputed\" (1; #33), 100.23066665726947),\n",
              "  (\"revol_util_imputed\" (1; #29), 97.82976910678553),\n",
              "  (\"sub_grade_index\" (1; #30), 89.97870747167326),\n",
              "  (\"total_acc\" (1; #34), 77.63663843915856),\n",
              "  (\"open_acc\" (1; #20), 74.81343803694472),\n",
              "  (\"emp_length_index\" (1; #7), 44.86781965068076),\n",
              "  (\"initial_list_status_index\" (1; #13), 30.518817167176167),\n",
              "  (\"tot_coll_amt_imputed\" (1; #32), 28.69186312146485),\n",
              "  (\"inq_last_6mths\" (1; #14), 28.02809574789717),\n",
              "  (\"verification_status_index\" (1; #41), 27.91684771317523),\n",
              "  (\"delinq_2yrs\" (1; #5), 25.84854240133427),\n",
              "  (\"pub_rec\" (1; #24), 8.85371428495273),\n",
              "  (\"home_ownership_index\" (1; #11), 8.421479612588882)],\n",
              " 'MEAN_MIN_DEPTH': [(\"acc_now_delinq_index\" (1; #0), 16.125),\n",
              "  (\"application_type_index\" (1; #2), 16.125),\n",
              "  (\"collection_recovery_fee\" (1; #3), 16.125),\n",
              "  (\"collections_12_mths_ex_med_imputed\" (1; #4), 16.125),\n",
              "  (\"policy_code_imputed\" (1; #23), 16.125),\n",
              "  (\"pymnt_plan_index\" (1; #26), 16.125),\n",
              "  (\"__LABEL\" (4; #42), 16.125),\n",
              "  (\"home_ownership_index\" (1; #11), 16.11764705882353),\n",
              "  (\"pub_rec\" (1; #24), 16.096638655462186),\n",
              "  (\"initial_list_status_index\" (1; #13), 16.081932773109244),\n",
              "  (\"verification_status_index\" (1; #41), 16.047268907563026),\n",
              "  (\"tot_coll_amt_imputed\" (1; #32), 15.993697478991596),\n",
              "  (\"emp_length_index\" (1; #7), 15.970588235294118),\n",
              "  (\"inq_last_6mths\" (1; #14), 15.967436974789916),\n",
              "  (\"revol_util_imputed\" (1; #29), 15.885504201680673),\n",
              "  (\"purpose_index\" (1; #25), 15.850840336134453),\n",
              "  (\"total_acc\" (1; #34), 15.730042016806722),\n",
              "  (\"open_acc\" (1; #20), 15.694327731092438),\n",
              "  (\"revol_bal\" (1; #28), 15.61344537815126),\n",
              "  (\"tot_cur_bal_imputed\" (1; #33), 15.60189075630252),\n",
              "  (\"sub_grade_index\" (1; #30), 15.4390756302521),\n",
              "  (\"dti\" (1; #6), 15.058823529411764),\n",
              "  (\"term_index\" (1; #31), 15.006302521008404),\n",
              "  (\"annual_inc\" (1; #1), 14.961134453781513),\n",
              "  (\"installment\" (1; #15), 14.923319327731093),\n",
              "  (\"loan_amnt\" (1; #18), 14.543067226890756),\n",
              "  (\"funded_amnt_inv\" (1; #9), 13.643907563025211),\n",
              "  (\"total_rev_hi_lim_imputed\" (1; #40), 13.59873949579832),\n",
              "  (\"total_rec_int\" (1; #37), 13.446428571428571),\n",
              "  (\"delinq_2yrs\" (1; #5), 13.015756302521009),\n",
              "  (\"last_pymnt_amnt_imputed\" (1; #17), 12.972689075630251),\n",
              "  (\"member_id\" (1; #19), 11.850840336134453),\n",
              "  (\"total_pymnt_inv\" (1; #36), 11.009453781512605),\n",
              "  (\"funded_amnt\" (1; #8), 10.817226890756302),\n",
              "  (\"total_rec_late_fee\" (1; #38), 10.503151260504202),\n",
              "  (\"out_prncp\" (1; #21), 10.163865546218487),\n",
              "  (\"int_rate\" (1; #16), 9.327731092436975),\n",
              "  (\"total_rec_prncp\" (1; #39), 8.53781512605042),\n",
              "  (\"total_pymnt\" (1; #35), 8.040966386554622),\n",
              "  (\"id\" (1; #12), 6.794117647058823),\n",
              "  (\"grade_index\" (1; #10), 5.029411764705882),\n",
              "  (\"out_prncp_inv\" (1; #22), 1.0),\n",
              "  (\"recoveries\" (1; #27), 0.0)],\n",
              " 'NUM_NODES': [(\"total_rec_prncp\" (1; #39), 81.0),\n",
              "  (\"id\" (1; #12), 80.0),\n",
              "  (\"member_id\" (1; #19), 60.0),\n",
              "  (\"last_pymnt_amnt_imputed\" (1; #17), 53.0),\n",
              "  (\"total_pymnt\" (1; #35), 53.0),\n",
              "  (\"total_pymnt_inv\" (1; #36), 53.0),\n",
              "  (\"installment\" (1; #15), 43.0),\n",
              "  (\"out_prncp\" (1; #21), 42.0),\n",
              "  (\"total_rec_int\" (1; #37), 40.0),\n",
              "  (\"funded_amnt\" (1; #8), 37.0),\n",
              "  (\"annual_inc\" (1; #1), 35.0),\n",
              "  (\"out_prncp_inv\" (1; #22), 32.0),\n",
              "  (\"revol_bal\" (1; #28), 28.0),\n",
              "  (\"revol_util_imputed\" (1; #29), 28.0),\n",
              "  (\"int_rate\" (1; #16), 27.0),\n",
              "  (\"funded_amnt_inv\" (1; #9), 25.0),\n",
              "  (\"loan_amnt\" (1; #18), 24.0),\n",
              "  (\"open_acc\" (1; #20), 24.0),\n",
              "  (\"dti\" (1; #6), 23.0),\n",
              "  (\"tot_cur_bal_imputed\" (1; #33), 23.0),\n",
              "  (\"total_acc\" (1; #34), 23.0),\n",
              "  (\"total_rev_hi_lim_imputed\" (1; #40), 23.0),\n",
              "  (\"sub_grade_index\" (1; #30), 13.0),\n",
              "  (\"total_rec_late_fee\" (1; #38), 12.0),\n",
              "  (\"emp_length_index\" (1; #7), 11.0),\n",
              "  (\"purpose_index\" (1; #25), 9.0),\n",
              "  (\"tot_coll_amt_imputed\" (1; #32), 9.0),\n",
              "  (\"verification_status_index\" (1; #41), 9.0),\n",
              "  (\"grade_index\" (1; #10), 7.0),\n",
              "  (\"inq_last_6mths\" (1; #14), 7.0),\n",
              "  (\"term_index\" (1; #31), 5.0),\n",
              "  (\"delinq_2yrs\" (1; #5), 3.0),\n",
              "  (\"initial_list_status_index\" (1; #13), 3.0),\n",
              "  (\"pub_rec\" (1; #24), 3.0),\n",
              "  (\"home_ownership_index\" (1; #11), 2.0),\n",
              "  (\"recoveries\" (1; #27), 1.0)],\n",
              " 'NUM_AS_ROOT': [(\"recoveries\" (1; #27), 1.0)]}"
            ]
          },
          "metadata": {},
          "execution_count": 44
        }
      ]
    },
    {
      "cell_type": "code",
      "source": [
        "probs = (model_1.predict(tf_test))"
      ],
      "metadata": {
        "id": "O5wtSn2_6eSF",
        "colab": {
          "base_uri": "https://localhost:8080/"
        },
        "outputId": "a8c2be5c-f0ec-4ac1-9d64-c89459707edf"
      },
      "execution_count": 45,
      "outputs": [
        {
          "output_type": "stream",
          "name": "stdout",
          "text": [
            "257/257 [==============================] - 10s 37ms/step\n"
          ]
        }
      ]
    },
    {
      "cell_type": "code",
      "source": [
        "y_pred = probs.round(0)"
      ],
      "metadata": {
        "id": "T18B_OHjsC7Y"
      },
      "execution_count": 46,
      "outputs": []
    },
    {
      "cell_type": "code",
      "source": [
        "len(y_pred)"
      ],
      "metadata": {
        "id": "-wag97l167Qc",
        "colab": {
          "base_uri": "https://localhost:8080/"
        },
        "outputId": "1645e0af-2901-4459-dc47-278c0b537375"
      },
      "execution_count": 47,
      "outputs": [
        {
          "output_type": "execute_result",
          "data": {
            "text/plain": [
              "256998"
            ]
          },
          "metadata": {},
          "execution_count": 47
        }
      ]
    },
    {
      "cell_type": "code",
      "source": [
        "np.unique(y_pred)"
      ],
      "metadata": {
        "colab": {
          "base_uri": "https://localhost:8080/"
        },
        "id": "1LsYY1CzvwSy",
        "outputId": "fbdca1bb-2704-4b73-cfcd-8094478c6933"
      },
      "execution_count": 48,
      "outputs": [
        {
          "output_type": "execute_result",
          "data": {
            "text/plain": [
              "array([0., 1.], dtype=float32)"
            ]
          },
          "metadata": {},
          "execution_count": 48
        }
      ]
    },
    {
      "cell_type": "code",
      "source": [
        "print(classification_report(y_test, y_pred))"
      ],
      "metadata": {
        "colab": {
          "base_uri": "https://localhost:8080/"
        },
        "id": "rVkxV6tUrg5D",
        "outputId": "864f70ef-b68a-42db-8b35-11fd09ae097d"
      },
      "execution_count": 49,
      "outputs": [
        {
          "output_type": "stream",
          "name": "stdout",
          "text": [
            "              precision    recall  f1-score   support\n",
            "\n",
            "           0       1.00      1.00      1.00    243145\n",
            "           1       0.98      0.97      0.97     13853\n",
            "\n",
            "    accuracy                           1.00    256998\n",
            "   macro avg       0.99      0.98      0.99    256998\n",
            "weighted avg       1.00      1.00      1.00    256998\n",
            "\n"
          ]
        }
      ]
    }
  ]
}